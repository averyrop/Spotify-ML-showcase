{
  "nbformat": 4,
  "nbformat_minor": 0,
  "metadata": {
    "colab": {
      "name": "Avery Rich's technical assessment",
      "provenance": [],
      "collapsed_sections": [],
      "toc_visible": true,
      "include_colab_link": true
    },
    "kernelspec": {
      "name": "python3",
      "display_name": "Python 3"
    }
  },
  "cells": [
    {
      "cell_type": "markdown",
      "metadata": {
        "id": "view-in-github",
        "colab_type": "text"
      },
      "source": [
        "<a href=\"https://colab.research.google.com/github/averyrop/Spotify-ML-showcase/blob/main/Avery_Rich's_technical_assessment.ipynb\" target=\"_parent\"><img src=\"https://colab.research.google.com/assets/colab-badge.svg\" alt=\"Open In Colab\"/></a>"
      ]
    },
    {
      "cell_type": "markdown",
      "metadata": {
        "id": "yPsyJayRo_uE"
      },
      "source": [
        "# <img src=\"https://www.richs.com/wp-content/uploads/2019/07/logo.png\" alt=\"RPC\" title=\"RPC\" width=\"30%\" height=\"100%\"/>\r\n",
        "#**Technical Assessment**"
      ]
    },
    {
      "cell_type": "markdown",
      "metadata": {
        "id": "dEj146T_Zl4B",
        "colab_type": "toc"
      },
      "source": [
        ">[](#scrollTo=yPsyJayRo_uE)\n",
        "\n",
        ">[Welcome!](#scrollTo=e2pnVwxqDl7b)\n",
        "\n",
        ">>[Instructions](#scrollTo=Mn-pAU_2Fbab)\n",
        "\n",
        ">>[Data](#scrollTo=G3IOsNqmV7Zx)\n",
        "\n",
        ">>[Dependencies](#scrollTo=LCVN4ikGGdqt)\n",
        "\n",
        ">>[Part 1: Exploratory Data Analysis](#scrollTo=swZ97WzCHWgb)\n",
        "\n",
        ">>[Part 2: Data Preparation & Modeling](#scrollTo=ZHolP1FUmv2d)\n",
        "\n",
        ">>[Part 3: Application](#scrollTo=wlOl3XZOY9xK)\n",
        "\n",
        ">>[Wrap Up](#scrollTo=ddURXPpvZfeb)\n",
        "\n"
      ]
    },
    {
      "cell_type": "markdown",
      "metadata": {
        "id": "e2pnVwxqDl7b"
      },
      "source": [
        "\n",
        "# Welcome!\n",
        "\n",
        "Welcome to the Technical Assessment portion of your interview for the Assoicate Data Scientist role. The goal of this assessment is to present you with a sample problem and evaluate your approach to solving it.  While we will give you a couple of days (2-3) to complete, it should not take more than a few hours.\n",
        "\n",
        "Feel free to leverage this cloud environment or your own preferred environment to complete the assessment.\n",
        "\n",
        "**Notes, if using Google Colab**: \n",
        "- If you decide to use Google Colab you will need to create a Google Account.\n",
        "- You will need to save a copy of this notebook as you will not be able to edit this version directly.\n",
        "- Google Colab Jupyter notebooks runs on the cloud and will reset every 12 hours. Your work will be automatically saved but you may have to run your code again when you return.\n",
        "\n",
        "*This work will not give Rich Products any competitive advantage as this is a fake problem with fake data. This is truly an assessment to evaluate your technical and problem solving skills.*\n",
        "\n",
        "---"
      ]
    },
    {
      "cell_type": "markdown",
      "metadata": {
        "id": "Mn-pAU_2Fbab"
      },
      "source": [
        "## Instructions"
      ]
    },
    {
      "cell_type": "markdown",
      "metadata": {
        "id": "Q1dKjo0v9RmP"
      },
      "source": [
        "**Business Problem**: Earlier in the year, we hired an external consulting partner to provide us with *loyalty scores* for our retail customers. Just so you are aware, the loyalty score measures the percentage of grocery spend that a customer allocates to our grocery store vs our competitors.\n",
        "\n",
        "Unfortunately, the consultancy was only able to match around half of our customers to their loyalty database - so while we now have loyalty scores for those customers, we're missing scores for the other half.\n",
        "\n",
        "We have a hypothesis that this loyalty score could be related to some customer metrics that we have in our database - but we don't know for sure. If we could find a way to predict the missing loyalty scores this would add huge value to our business as it would enable us to target all of our customers with specific orders and discounts based on their loyalty.\n",
        "\n",
        "------\n",
        "\n",
        "Be sure to explain your thought process as it pertains to your solution approach. Be *clear*, *concise* and, most importantly, ***creative***!\n"
      ]
    },
    {
      "cell_type": "markdown",
      "metadata": {
        "id": "G3IOsNqmV7Zx"
      },
      "source": [
        "## Data\n",
        "\n",
        "The data for this sample problem can be accessed [here](https://drive.google.com/file/d/1mQMIwMIxB-zfE75k2RRGf57BUbs_BxvG/view?usp=sharing). Please let us know if you have any issues accessing the data file."
      ]
    },
    {
      "cell_type": "markdown",
      "metadata": {
        "id": "LCVN4ikGGdqt"
      },
      "source": [
        "## Dependencies\n",
        "\n",
        "Add all your dependencies here so anyone can run your code later."
      ]
    },
    {
      "cell_type": "markdown",
      "metadata": {
        "id": "Y93XlTxflZo2"
      },
      "source": [
        "The details of this section don't really matter too much from a story telling standpoint, but here we import every function we'll need for later.  We have to upgrade one so it's capable of doing what we need and import others for manipulation, exploration, cleaning, and analysis of the data."
      ]
    },
    {
      "cell_type": "code",
      "metadata": {
        "colab": {
          "base_uri": "https://localhost:8080/"
        },
        "id": "ShDbgXFlTzuu",
        "outputId": "cba7fbb2-83d0-4186-b29e-f643b468a3b5"
      },
      "source": [
        "pip install openpyxl --upgrade --pre #Updated to use a function\r\n"
      ],
      "execution_count": 1,
      "outputs": [
        {
          "output_type": "stream",
          "text": [
            "Requirement already up-to-date: openpyxl in /usr/local/lib/python3.6/dist-packages (3.0.6)\n",
            "Requirement already satisfied, skipping upgrade: et-xmlfile in /usr/local/lib/python3.6/dist-packages (from openpyxl) (1.0.1)\n",
            "Requirement already satisfied, skipping upgrade: jdcal in /usr/local/lib/python3.6/dist-packages (from openpyxl) (1.4.1)\n"
          ],
          "name": "stdout"
        }
      ]
    },
    {
      "cell_type": "code",
      "metadata": {
        "id": "RWSJpsyKqHjH"
      },
      "source": [
        "from google.colab import drive"
      ],
      "execution_count": 2,
      "outputs": []
    },
    {
      "cell_type": "code",
      "metadata": {
        "id": "2_GXIaRoQNxF"
      },
      "source": [
        "from openpyxl import load_workbook\r\n",
        "import numpy as np\r\n",
        "import pandas as pd\r\n",
        "import plotly.express as px\r\n",
        "import plotly.graph_objects as go\r\n",
        "import datetime as dt"
      ],
      "execution_count": 3,
      "outputs": []
    },
    {
      "cell_type": "code",
      "metadata": {
        "id": "qkTfZoE9UTv9"
      },
      "source": [
        "from sklearn import linear_model\r\n",
        "from sklearn.cluster import KMeans\r\n",
        "from sklearn.model_selection import train_test_split\r\n",
        "from sklearn.preprocessing import StandardScaler, OneHotEncoder\r\n",
        "from sklearn.metrics import mean_squared_error"
      ],
      "execution_count": 4,
      "outputs": []
    },
    {
      "cell_type": "markdown",
      "metadata": {
        "id": "2BJDuAhUjKFq"
      },
      "source": [
        "###Importing and organizing Data"
      ]
    },
    {
      "cell_type": "markdown",
      "metadata": {
        "id": "rWCdKntPlv4J"
      },
      "source": [
        "In this section we need to import the actual data so we can work with it. I choose to do it by mounting my google drive so I can access the data directly from there, but this doesn't allow anyone running this to get it, since it would link to their drive, which may not have the data or have it in the same place. Mounting the drive requires copying an access code so it can work, so don't be alarmed by the link that may pop up."
      ]
    },
    {
      "cell_type": "code",
      "metadata": {
        "colab": {
          "base_uri": "https://localhost:8080/"
        },
        "id": "ueAUk3B7jSAS",
        "outputId": "f05082b6-c9c1-4f0f-ef5d-d5817801643d"
      },
      "source": [
        "drive.mount('/content/drive')"
      ],
      "execution_count": 5,
      "outputs": [
        {
          "output_type": "stream",
          "text": [
            "Drive already mounted at /content/drive; to attempt to forcibly remount, call drive.mount(\"/content/drive\", force_remount=True).\n"
          ],
          "name": "stdout"
        }
      ]
    },
    {
      "cell_type": "markdown",
      "metadata": {
        "id": "FLfu_PZpmWOZ"
      },
      "source": [
        "Now we use the load_workbook function we imported to easily work with .xlsl files. I create a \"workbook\" from the excel file and take all the data out, transferring it to a python dictionary. It is a convenient way of maintaining all the relationships in the data while also allowing me to easily create pandas dataframes from the data later."
      ]
    },
    {
      "cell_type": "markdown",
      "metadata": {
        "id": "p3gcicnx4B2_"
      },
      "source": [
        "In order for this notebook to work the file Copy of tech_assessment_data.xlsx needs to be in your google drive. If it's not the data will not be there to use."
      ]
    },
    {
      "cell_type": "code",
      "metadata": {
        "id": "Q3d_szWSTidy"
      },
      "source": [
        "tech_data_book = load_workbook(filename = './drive/MyDrive/Copy of tech_assessment_data.xlsx') "
      ],
      "execution_count": 6,
      "outputs": []
    },
    {
      "cell_type": "code",
      "metadata": {
        "id": "B5TuVl7mZNey"
      },
      "source": [
        "tech_data_dict = {}   #Empty ditionary to fill\r\n",
        "\r\n",
        "for sheet in tech_data_book.sheetnames:     #Going through every sheet in the excel file\r\n",
        "  tech_data_dict[sheet] = {}                #Creating a separate spot for each sheet in the dictionary\r\n",
        "  header = True\r\n",
        "\r\n",
        "  for row in tech_data_book[sheet].iter_rows(values_only=True):   #Going through every row of data in every sheet\r\n",
        "\r\n",
        "    if header:                                                    #Taking the first row values as the column titles\r\n",
        "      for val in row:\r\n",
        "        tech_data_dict[sheet][val] = []                           #Creating a separate spot in every sheet for every column title\r\n",
        "        header=False\r\n",
        "\r\n",
        "    else:\r\n",
        "      for i,key in enumerate(tech_data_dict[sheet].keys()):       #Preparing to input something into every space in the new spots for every column title\r\n",
        "        if row[i] == None or row[i] == 'nan':\r\n",
        "          tech_data_dict[sheet][key].append(np.nan)               #If we don't have data let python know by filling with \"nan\"\r\n",
        "        else:\r\n",
        "          tech_data_dict[sheet][key].append(row[i])               #If we do have data put it in\r\n",
        "\r\n"
      ],
      "execution_count": 7,
      "outputs": []
    },
    {
      "cell_type": "code",
      "metadata": {
        "id": "pfzAyPbofV-h"
      },
      "source": [
        "tech_frame_dict = {}    #Now I take the data from the dictionaries from each sheet and turn them into dataframes\r\n",
        "                        # These dataframes are stored in a dictionary\r\n",
        "for sheet in tech_data_dict.keys():\r\n",
        "\r\n",
        "  tech_frame_dict[sheet] = pd.DataFrame(tech_data_dict[sheet])      #pandas (one of the libraries imported) makes it easy to turn dictionaries into dataframes\r\n",
        "                                                                    #easily readable table like structures for data"
      ],
      "execution_count": 8,
      "outputs": []
    },
    {
      "cell_type": "code",
      "metadata": {
        "id": "e3aDeEfZa69U"
      },
      "source": [
        "database_info = tech_frame_dict.pop('database_info')        #One of the sheets didn't really have info for analysis, it was for reading, so I pull it from the rest of the data"
      ],
      "execution_count": 9,
      "outputs": []
    },
    {
      "cell_type": "markdown",
      "metadata": {
        "id": "mMLBPboznv7A"
      },
      "source": [
        "**Note**: The following structure has been provided to assist you. However, feel free to leverage your own structure for tackling the problem above."
      ]
    },
    {
      "cell_type": "markdown",
      "metadata": {
        "id": "swZ97WzCHWgb"
      },
      "source": [
        "## Part 1: Exploratory Data Analysis\n",
        "\n",
        "Use this section to do an in-depth analysis of the data. "
      ]
    },
    {
      "cell_type": "markdown",
      "metadata": {
        "id": "QAVV-ueWoscS"
      },
      "source": [
        "In this section I take a look at the data to figure out some stuff about it, like how big each dataframe is, which values are continuous and which are categorical, and what I should do about empty values where we didn't have data about something"
      ]
    },
    {
      "cell_type": "markdown",
      "metadata": {
        "id": "9xkUXD8Eo-si"
      },
      "source": [
        "Below we see that we have 5 dataframes full of data, all with relatively few attributes, or column headers. The biggest one by far has around 38000 rows, so this will probably be where a lot of important info can be pulled from. We don't have to worry about high dimensionality that could mess up algorithms, because we have for more rows of data then columns in most of these cases. One has only 5 rows, but upon inspection later we'll see that this isn't really a problem."
      ]
    },
    {
      "cell_type": "code",
      "metadata": {
        "colab": {
          "base_uri": "https://localhost:8080/"
        },
        "id": "EJRXEDVPjf8R",
        "outputId": "66e74b49-5fe1-4467-ce0d-0cebc88449a4"
      },
      "source": [
        "for df in tech_frame_dict:\r\n",
        "  print(tech_frame_dict[df].shape)"
      ],
      "execution_count": 10,
      "outputs": [
        {
          "output_type": "stream",
          "text": [
            "(870, 6)\n",
            "(38506, 7)\n",
            "(5, 3)\n",
            "(870, 5)\n",
            "(400, 2)\n"
          ],
          "name": "stdout"
        }
      ]
    },
    {
      "cell_type": "markdown",
      "metadata": {
        "id": "EWLI6ORpqMoA"
      },
      "source": [
        "Here I see which columns are categorical and continuous, because they'll need slightly different data preprocessing. I decide this based on how many unique values there are in each category. For example out of 900 customers if you see how many unique values for gender there are answered you'll only find M, F, or none. However if you were to check how many different \"distance from stores\" there are you'll find a lot, as 5 miles and 5.1 miles won't be identified as the same, and therefore every slightly different distance value will be counted and clue us in that it's continuous.\r\n",
        "\r\n",
        "This method isn't foolproof, as a categorical value with a ton of different options can exist (e.g. a column for written in occupation could have a slightly different answer for everyone such as teacher, spanish teacher, music teacher, etc.) but it catches a lot and the ones that aren't caught will show their faces eventually. The sensitivity of this can also be tuned based on the fraction of unique values to total values that we call the cutoff threshold between categorical and continuous"
      ]
    },
    {
      "cell_type": "code",
      "metadata": {
        "id": "Ns7gHgIWldmw"
      },
      "source": [
        "diverse_dict = {}       #Create a dictionary to fill to organize the info\r\n",
        "cat_list = []           #Start a list for categorical values\r\n",
        "con_list = []           #start a list for continuous values\r\n",
        "\r\n",
        "for df in tech_frame_dict:    #Go through every dataframe\r\n",
        "  diverse_dict[df]={}         \r\n",
        "  for col in tech_frame_dict[df]:   #Go through every attribute in every table\r\n",
        "\r\n",
        "    val = (len(set(tech_frame_dict[df][col]))/len(tech_frame_dict[df][col]))    #Calculate the fraction of unique values to number of responses\r\n",
        "\r\n",
        "    diverse_dict[df][col] = val                                                 #Input fraction into dictionary in proper spot\r\n",
        "\r\n",
        "    if val < .01:\r\n",
        "      cat_list.append(col)                                                      #Decide it's categorical if this fraction is under one percent\r\n",
        "    else:\r\n",
        "      con_list.append(col)                                                      #Decide it's continuous if this fraction is over one percent"
      ],
      "execution_count": 11,
      "outputs": []
    },
    {
      "cell_type": "markdown",
      "metadata": {
        "id": "p91OHmltsppr"
      },
      "source": [
        "Next we see which values are empty in our tables. We need to know this because a lot of ML algorithms don't like null values, so we need to either fill them or remove them, depending on what's appropriate. If the fraction of empty values to total values is low we can fill them, but if it's too high we may need to get rid of the column all together."
      ]
    },
    {
      "cell_type": "code",
      "metadata": {
        "id": "L1bdfD19d2x2"
      },
      "source": [
        "nan_dict = {}             #create empty dict for filling with the data on what percentage of null values every column of every table has\r\n",
        "\r\n",
        "for df in tech_frame_dict:    #Going through every table\r\n",
        "  nan_dict[df]=tech_frame_dict[df].isna().apply(lambda col: sum(col)/len(col))   #Using a lambda and pandas convenient isna to calculate the fraction of null values  "
      ],
      "execution_count": 12,
      "outputs": []
    },
    {
      "cell_type": "markdown",
      "metadata": {
        "id": "mk3Djb01vx8f"
      },
      "source": [
        "Below I print out the fractions of null values for every column. A lot of them have 0 null values, but distance from store, gender, and credit score have a few, though it's a very small fraction, less than 1 percent. We can see that email and phone have 100% null values so these are useless columns to us and will be dropped. We also have an empty one called NaN, but this was a mistake anyway, so this column will be dropped regardless."
      ]
    },
    {
      "cell_type": "code",
      "metadata": {
        "colab": {
          "base_uri": "https://localhost:8080/"
        },
        "id": "TOzhzDtZirTV",
        "outputId": "5e1d5cdb-c1ec-4629-b456-b049768e37bb"
      },
      "source": [
        "for key in nan_dict:\r\n",
        "  print(nan_dict[key])"
      ],
      "execution_count": 13,
      "outputs": [
        {
          "output_type": "stream",
          "text": [
            "customer_id            0.000000\n",
            "distance_from_store    0.005747\n",
            "gender                 0.005747\n",
            "credit_score           0.009195\n",
            "email                  1.000000\n",
            "phone                  1.000000\n",
            "dtype: float64\n",
            "customer_id         0.0\n",
            "transaction_date    0.0\n",
            "transaction_id      0.0\n",
            "product_area_id     0.0\n",
            "num_items           0.0\n",
            "sales_cost          0.0\n",
            "NaN                 1.0\n",
            "dtype: float64\n",
            "product_area_id      0.0\n",
            "product_area_name    0.0\n",
            "profit_margin        0.0\n",
            "dtype: float64\n",
            "customer_id      0.0\n",
            "campaign_name    0.0\n",
            "campaign_date    0.0\n",
            "mailer_type      0.0\n",
            "signup_flag      0.0\n",
            "dtype: float64\n",
            "customer_id               0.0\n",
            "customer_loyalty_score    0.0\n",
            "dtype: float64\n"
          ],
          "name": "stdout"
        }
      ]
    },
    {
      "cell_type": "markdown",
      "metadata": {
        "id": "EJRP7Pa7wpie"
      },
      "source": [
        "Below I start plotting histograms of the values that have some nulls to see how to fill them. Based on the distribution we'll decide how to fill. "
      ]
    },
    {
      "cell_type": "code",
      "metadata": {
        "colab": {
          "base_uri": "https://localhost:8080/",
          "height": 542
        },
        "id": "lKCHZhUoljUU",
        "outputId": "c8486702-ac5d-469f-d229-2b0aaea9e094"
      },
      "source": [
        "px.histogram(tech_frame_dict['customer_details'],x='distance_from_store',title='Distance from store count histogram') #Plotting a histogram of the distances from store"
      ],
      "execution_count": 14,
      "outputs": [
        {
          "output_type": "display_data",
          "data": {
            "text/html": [
              "<html>\n",
              "<head><meta charset=\"utf-8\" /></head>\n",
              "<body>\n",
              "    <div>\n",
              "            <script src=\"https://cdnjs.cloudflare.com/ajax/libs/mathjax/2.7.5/MathJax.js?config=TeX-AMS-MML_SVG\"></script><script type=\"text/javascript\">if (window.MathJax) {MathJax.Hub.Config({SVG: {font: \"STIX-Web\"}});}</script>\n",
              "                <script type=\"text/javascript\">window.PlotlyConfig = {MathJaxConfig: 'local'};</script>\n",
              "        <script src=\"https://cdn.plot.ly/plotly-latest.min.js\"></script>    \n",
              "            <div id=\"ecff9730-224e-4cfa-908f-0b172b33e162\" class=\"plotly-graph-div\" style=\"height:525px; width:100%;\"></div>\n",
              "            <script type=\"text/javascript\">\n",
              "                \n",
              "                    window.PLOTLYENV=window.PLOTLYENV || {};\n",
              "                    \n",
              "                if (document.getElementById(\"ecff9730-224e-4cfa-908f-0b172b33e162\")) {\n",
              "                    Plotly.newPlot(\n",
              "                        'ecff9730-224e-4cfa-908f-0b172b33e162',\n",
              "                        [{\"alignmentgroup\": \"True\", \"bingroup\": \"x\", \"hoverlabel\": {\"namelength\": 0}, \"hovertemplate\": \"distance_from_store=%{x}<br>count=%{y}\", \"legendgroup\": \"\", \"marker\": {\"color\": \"#636efa\"}, \"name\": \"\", \"offsetgroup\": \"\", \"orientation\": \"v\", \"showlegend\": false, \"type\": \"histogram\", \"x\": [3.38, 4.76, 4.45, 0.91, 3.02, 1.02, 4.78, 3.49, 14.91, 0.02, 0.25, 2.74, 4.74, 2.02, 3.18, 0.22, 0.05, 1.17, 4.84, 1.74, 4.38, 1.59, 2.04, 1.41, 4.47, 4.97, 1.1, 3.83, 2.57, 0.87, 2.94, 3.97, 2.76, 2.38, 3.79, 44.37, 2.46, 0.86, 3.8, 2.36, 4.5, 2.52, 4.93, 1.12, 3.39, 0.75, 0.62, 2.88, 4.75, 2.41, 3.49, 0.87, 3.2, 1.32, 3.41, 3.8, 2.07, 0.41, 2.18, 2.52, 3.07, 2.76, 0.92, 2.9, 0.8, 0.74, 1.82, 3.71, 3.68, 3.54, 2.28, 0.07, 1.33, 3.38, 1.59, 3.35, 1.51, 1.52, 0.32, 3.99, 2.81, 0.79, 2.31, 1.37, 2.44, 0.85, 2.6, 0.32, 1.44, 0.15, 3.07, 2.84, 0.0, 2.18, 3.89, 0.8, 0.02, 0.73, 3.41, 0.95, 3.0, 1.87, 2.6, 0.87, 3.71, 0.3, 1.96, 2.91, 2.92, 1.49, 2.88, 3.92, 3.25, 3.3, 1.89, 0.43, 2.78, 1.53, 0.56, 2.09, 0.56, 1.66, 3.54, 0.1, 1.57, 1.51, 0.83, 1.31, 2.32, 2.23, 1.2, 0.0, 0.41, 1.23, 2.04, 2.56, 3.0, 0.11, 3.44, 0.17, 1.8, 3.77, 2.16, 1.35, 2.06, 1.57, 1.34, 0.25, 2.17, 3.09, 2.52, 3.85, 2.67, 1.7, 0.95, 2.65, 1.85, 0.3, 1.72, 3.74, 2.73, 2.3, 2.32, 1.11, 1.84, 0.34, 3.58, 2.46, 3.76, null, 2.75, 3.25, 2.26, 2.42, 2.0, 1.26, 2.73, 2.87, 0.31, 0.28, 2.17, 3.48, 2.34, 2.35, 2.07, 2.49, 3.54, 3.55, 0.36, 0.78, 3.64, 1.62, 2.84, 0.21, 3.3, 3.09, 3.27, 113.89, 1.14, 1.13, 0.63, 0.28, 2.49, 0.37, 1.54, 4.62, 4.53, 0.14, 0.11, 4.18, 4.43, 4.42, 2.69, 3.46, 0.67, 0.07, 4.04, 4.24, 1.34, 3.91, 4.49, 3.85, 1.77, 3.77, 1.74, 3.42, 1.85, 0.01, 2.92, 1.1, 3.92, 1.08, 2.95, 4.77, 0.18, 1.01, 0.31, 3.84, 1.63, 2.62, 0.72, 1.8, 0.97, 4.71, 3.04, 2.66, 4.52, 0.12, 0.56, 2.06, 1.26, 3.81, 1.19, 2.84, 2.09, 1.04, 0.92, 0.14, 0.07, 0.76, 2.73, 1.85, 1.88, 0.28, 0.95, 2.87, 3.51, 1.27, 3.45, 0.81, 1.59, 1.34, 0.06, 2.72, 3.68, 0.07, 0.87, 1.5, 2.74, 1.93, 0.94, 2.72, 1.8, 1.17, 3.19, 2.54, 1.19, 2.08, 1.98, 2.13, 2.69, 2.67, 3.42, 2.78, 2.48, 0.57, 2.87, 1.88, 2.6, 0.46, 0.57, 0.37, 2.51, 3.47, 1.26, 2.24, 1.12, 3.12, 3.36, 1.38, 2.76, 3.48, 2.89, 2.63, null, 3.99, 3.49, 2.2, 2.47, 3.9, 3.53, 3.66, 3.92, 2.02, 2.62, 3.23, 0.17, 2.22, 1.17, 1.93, 0.4, 2.34, 0.54, 0.58, 2.83, 3.96, 1.99, 2.58, 1.81, 1.89, 3.3, 0.23, 3.35, 3.25, 2.34, 0.09, 3.12, 2.27, 2.4, 1.15, 0.04, 0.05, 1.39, 0.41, 2.8, 0.14, 1.06, 1.08, 0.71, 0.39, 0.48, 3.11, 1.39, 3.49, 3.39, 0.92, 3.7, 1.48, 2.53, 2.85, 1.44, 2.61, 3.44, 2.19, 2.82, 1.06, 2.27, 0.4, 1.35, 0.35, 1.32, 3.92, 1.36, 3.37, 3.78, 3.37, 2.3, 0.52, 1.66, 0.21, 2.7, 2.4, 3.51, 0.85, 3.29, 2.65, 1.22, 2.05, 3.15, 0.5, 0.75, 0.7, 0.82, 0.99, 0.06, 0.59, 0.68, 0.77, 0.23, 0.46, 0.86, 0.79, 0.93, 0.08, 0.37, 0.27, 0.91, 0.2, 0.99, 0.38, 0.81, 0.66, 0.1, 0.81, 0.81, 0.38, 0.71, 0.54, 0.51, 0.5, 0.9, 0.48, 0.9, 0.13, 0.98, 0.71, 0.91, 0.06, 0.79, 0.18, 0.28, 0.96, 0.54, 0.17, 0.57, 0.82, 0.43, 0.5, 0.99, 0.46, 0.43, 0.53, 0.07, 0.89, 0.39, 0.28, 0.16, 0.39, 0.0, 0.18, 0.77, 0.62, 0.09, 0.23, 0.63, 0.12, null, 0.48, 0.75, 0.49, 0.59, 0.97, 0.56, 0.41, 0.13, 0.2, 0.5, 0.5, 0.31, 0.41, 1.0, 0.54, 0.22, 0.44, 0.59, 0.87, 0.17, 0.53, 0.04, 0.39, 1.0, 0.16, 0.48, 0.22, 0.53, 0.73, 0.65, 0.03, 0.65, 0.78, 1.97, 1.35, 0.44, 0.99, 1.22, 1.36, 0.31, 1.43, 1.0, 1.81, 1.69, 0.91, 1.1, 0.23, 0.06, 1.92, 1.22, 0.32, 1.95, 1.94, 0.33, 0.19, 1.12, 0.94, 0.72, 1.09, 0.64, 0.68, 0.07, 0.76, 0.45, 0.76, 1.96, 0.16, 1.16, 1.1, 0.13, 1.97, 1.22, 1.84, 0.48, 1.93, 0.26, 0.99, 1.49, 0.25, 1.84, 1.03, 0.12, 1.51, 0.4, 1.67, 0.54, 1.87, 1.63, 0.05, 1.2, 0.27, 1.5, 1.96, 1.81, 1.78, 0.04, 1.85, 1.09, 0.97, 1.58, 1.26, 1.5, 1.31, 1.93, 0.2, 0.68, 1.93, 0.37, 0.24, null, 0.44, 1.6, 0.51, 0.72, 1.59, 1.04, 0.59, 0.95, 0.24, 0.53, 0.41, 1.53, 0.18, 0.61, 0.5, 0.19, 1.36, 1.48, 0.47, 1.53, 1.4, 1.54, 1.18, 2.53, 3.2, 0.83, 2.05, 0.88, 0.88, 3.77, 1.2, 2.74, 1.58, 4.55, 0.95, 2.49, 18.09, 2.78, 1.08, 4.38, 2.68, 1.13, 1.66, 1.1, 2.58, 4.99, 4.58, 3.91, 1.64, 1.07, 2.17, 3.19, 3.36, 3.9, 1.0, 2.35, 0.09, 0.65, 2.08, 2.33, 2.82, 4.85, 4.63, 1.12, 1.61, 2.62, 3.57, 2.36, 4.06, 3.6, 1.4, 2.41, 0.9, 4.66, 1.71, 0.06, 4.01, 4.8, 2.74, 4.66, 3.23, 3.89, 4.02, 2.69, 0.07, 0.37, 0.66, 4.19, 3.1, 3.31, 3.78, 0.7, 0.11, 2.03, 4.08, 1.34, 4.34, 1.25, 0.89, 4.05, 0.36, 0.27, 3.55, 3.59, 0.67, 1.55, 0.01, 4.28, 1.06, 2.83, 3.06, 2.24, 1.64, 2.53, 1.13, 3.5, 2.58, 4.13, 4.53, 3.69, 1.53, 2.86, 0.07, 1.48, 1.04, 3.63, 4.16, 2.06, 2.41, 0.72, 1.94, 3.12, 3.5, 0.9, 4.17, 3.56, 0.81, 0.64, 1.44, 1.32, 1.64, 0.2, 4.12, 0.73, 4.5, 1.84, 2.9, 0.75, 8.48, 3.03, 2.4, 1.42, 1.33, 4.26, 2.66, 1.06, 7.84, 4.17, 0.83, 2.98, 2.26, 3.95, 1.77, 3.7, 2.53, 0.37, 4.38, 0.64, 4.0, 4.78, 1.29, 3.97, 3.97, 2.15, 2.43, 2.24, 1.38, 1.96, 3.53, 1.96, 1.35, 0.87, 4.8, 0.98, 1.36, 2.66, 1.42, 3.56, 0.05, 0.39, 2.11, 1.25, 1.04, 4.04, 2.28, 4.41, 3.16, 1.61, 2.57, 3.19, 1.83, 4.74, 2.83, 3.77, 6.28, 3.83, 6.59, 0.87, 6.51, 2.91, 3.21, 6.12, 5.85, 3.65, 0.51, 2.49, 3.66, 0.71, 6.33, 0.57, 5.38, 5.88, 3.43, 2.5, 1.46, 7.93, 6.41, 3.73, 2.68, 0.93, 1.34, 0.22, 1.65, 6.28, 1.71, 5.95, 3.73, 4.22, 1.13, 3.81, 1.94, 2.46, 1.51, 1.83, 1.69, 3.22, 1.88, 0.23, 3.36, 4.64, 0.88, 1.12, 0.12, 1.17, 1.6, 0.74, 2.6, 1.08, 0.61, 0.97, 3.9, 1.69, 0.03, 4.44, 1.76, 3.41, 0.19, 3.18, null, 1.5, 2.93, 0.66, 2.07, 4.23, 4.65, 3.56, 0.78, 0.33, 2.35, 4.55, 1.79, 0.45, 2.59, 400.97, 0.32, 2.14, 1.62, 4.36, 4.38, 2.36, 1.87, 0.21, 0.07], \"xaxis\": \"x\", \"yaxis\": \"y\"}],\n",
              "                        {\"barmode\": \"relative\", \"legend\": {\"tracegroupgap\": 0}, \"template\": {\"data\": {\"bar\": [{\"error_x\": {\"color\": \"#2a3f5f\"}, \"error_y\": {\"color\": \"#2a3f5f\"}, \"marker\": {\"line\": {\"color\": \"#E5ECF6\", \"width\": 0.5}}, \"type\": \"bar\"}], \"barpolar\": [{\"marker\": {\"line\": {\"color\": \"#E5ECF6\", \"width\": 0.5}}, \"type\": \"barpolar\"}], \"carpet\": [{\"aaxis\": {\"endlinecolor\": \"#2a3f5f\", \"gridcolor\": \"white\", \"linecolor\": \"white\", \"minorgridcolor\": \"white\", \"startlinecolor\": \"#2a3f5f\"}, \"baxis\": {\"endlinecolor\": \"#2a3f5f\", \"gridcolor\": \"white\", \"linecolor\": \"white\", \"minorgridcolor\": \"white\", \"startlinecolor\": \"#2a3f5f\"}, \"type\": \"carpet\"}], \"choropleth\": [{\"colorbar\": {\"outlinewidth\": 0, \"ticks\": \"\"}, \"type\": \"choropleth\"}], \"contour\": [{\"colorbar\": {\"outlinewidth\": 0, \"ticks\": \"\"}, \"colorscale\": [[0.0, \"#0d0887\"], [0.1111111111111111, \"#46039f\"], [0.2222222222222222, \"#7201a8\"], [0.3333333333333333, \"#9c179e\"], [0.4444444444444444, \"#bd3786\"], [0.5555555555555556, \"#d8576b\"], [0.6666666666666666, \"#ed7953\"], [0.7777777777777778, \"#fb9f3a\"], [0.8888888888888888, \"#fdca26\"], [1.0, \"#f0f921\"]], \"type\": \"contour\"}], \"contourcarpet\": [{\"colorbar\": {\"outlinewidth\": 0, \"ticks\": \"\"}, \"type\": \"contourcarpet\"}], \"heatmap\": [{\"colorbar\": {\"outlinewidth\": 0, \"ticks\": \"\"}, \"colorscale\": [[0.0, \"#0d0887\"], [0.1111111111111111, \"#46039f\"], [0.2222222222222222, \"#7201a8\"], [0.3333333333333333, \"#9c179e\"], [0.4444444444444444, \"#bd3786\"], [0.5555555555555556, \"#d8576b\"], [0.6666666666666666, \"#ed7953\"], [0.7777777777777778, \"#fb9f3a\"], [0.8888888888888888, \"#fdca26\"], [1.0, \"#f0f921\"]], \"type\": \"heatmap\"}], \"heatmapgl\": [{\"colorbar\": {\"outlinewidth\": 0, \"ticks\": \"\"}, \"colorscale\": [[0.0, \"#0d0887\"], [0.1111111111111111, \"#46039f\"], [0.2222222222222222, \"#7201a8\"], [0.3333333333333333, \"#9c179e\"], [0.4444444444444444, \"#bd3786\"], [0.5555555555555556, \"#d8576b\"], [0.6666666666666666, \"#ed7953\"], [0.7777777777777778, \"#fb9f3a\"], [0.8888888888888888, \"#fdca26\"], [1.0, \"#f0f921\"]], \"type\": \"heatmapgl\"}], \"histogram\": [{\"marker\": {\"colorbar\": {\"outlinewidth\": 0, \"ticks\": \"\"}}, \"type\": \"histogram\"}], \"histogram2d\": [{\"colorbar\": {\"outlinewidth\": 0, \"ticks\": \"\"}, \"colorscale\": [[0.0, \"#0d0887\"], [0.1111111111111111, \"#46039f\"], [0.2222222222222222, \"#7201a8\"], [0.3333333333333333, \"#9c179e\"], [0.4444444444444444, \"#bd3786\"], [0.5555555555555556, \"#d8576b\"], [0.6666666666666666, \"#ed7953\"], [0.7777777777777778, \"#fb9f3a\"], [0.8888888888888888, \"#fdca26\"], [1.0, \"#f0f921\"]], \"type\": \"histogram2d\"}], \"histogram2dcontour\": [{\"colorbar\": {\"outlinewidth\": 0, \"ticks\": \"\"}, \"colorscale\": [[0.0, \"#0d0887\"], [0.1111111111111111, \"#46039f\"], [0.2222222222222222, \"#7201a8\"], [0.3333333333333333, \"#9c179e\"], [0.4444444444444444, \"#bd3786\"], [0.5555555555555556, \"#d8576b\"], [0.6666666666666666, \"#ed7953\"], [0.7777777777777778, \"#fb9f3a\"], [0.8888888888888888, \"#fdca26\"], [1.0, \"#f0f921\"]], \"type\": \"histogram2dcontour\"}], \"mesh3d\": [{\"colorbar\": {\"outlinewidth\": 0, \"ticks\": \"\"}, \"type\": \"mesh3d\"}], \"parcoords\": [{\"line\": {\"colorbar\": {\"outlinewidth\": 0, \"ticks\": \"\"}}, \"type\": \"parcoords\"}], \"pie\": [{\"automargin\": true, \"type\": \"pie\"}], \"scatter\": [{\"marker\": {\"colorbar\": {\"outlinewidth\": 0, \"ticks\": \"\"}}, \"type\": \"scatter\"}], \"scatter3d\": [{\"line\": {\"colorbar\": {\"outlinewidth\": 0, \"ticks\": \"\"}}, \"marker\": {\"colorbar\": {\"outlinewidth\": 0, \"ticks\": \"\"}}, \"type\": \"scatter3d\"}], \"scattercarpet\": [{\"marker\": {\"colorbar\": {\"outlinewidth\": 0, \"ticks\": \"\"}}, \"type\": \"scattercarpet\"}], \"scattergeo\": [{\"marker\": {\"colorbar\": {\"outlinewidth\": 0, \"ticks\": \"\"}}, \"type\": \"scattergeo\"}], \"scattergl\": [{\"marker\": {\"colorbar\": {\"outlinewidth\": 0, \"ticks\": \"\"}}, \"type\": \"scattergl\"}], \"scattermapbox\": [{\"marker\": {\"colorbar\": {\"outlinewidth\": 0, \"ticks\": \"\"}}, \"type\": \"scattermapbox\"}], \"scatterpolar\": [{\"marker\": {\"colorbar\": {\"outlinewidth\": 0, \"ticks\": \"\"}}, \"type\": \"scatterpolar\"}], \"scatterpolargl\": [{\"marker\": {\"colorbar\": {\"outlinewidth\": 0, \"ticks\": \"\"}}, \"type\": \"scatterpolargl\"}], \"scatterternary\": [{\"marker\": {\"colorbar\": {\"outlinewidth\": 0, \"ticks\": \"\"}}, \"type\": \"scatterternary\"}], \"surface\": [{\"colorbar\": {\"outlinewidth\": 0, \"ticks\": \"\"}, \"colorscale\": [[0.0, \"#0d0887\"], [0.1111111111111111, \"#46039f\"], [0.2222222222222222, \"#7201a8\"], [0.3333333333333333, \"#9c179e\"], [0.4444444444444444, \"#bd3786\"], [0.5555555555555556, \"#d8576b\"], [0.6666666666666666, \"#ed7953\"], [0.7777777777777778, \"#fb9f3a\"], [0.8888888888888888, \"#fdca26\"], [1.0, \"#f0f921\"]], \"type\": \"surface\"}], \"table\": [{\"cells\": {\"fill\": {\"color\": \"#EBF0F8\"}, \"line\": {\"color\": \"white\"}}, \"header\": {\"fill\": {\"color\": \"#C8D4E3\"}, \"line\": {\"color\": \"white\"}}, \"type\": \"table\"}]}, \"layout\": {\"annotationdefaults\": {\"arrowcolor\": \"#2a3f5f\", \"arrowhead\": 0, \"arrowwidth\": 1}, \"coloraxis\": {\"colorbar\": {\"outlinewidth\": 0, \"ticks\": \"\"}}, \"colorscale\": {\"diverging\": [[0, \"#8e0152\"], [0.1, \"#c51b7d\"], [0.2, \"#de77ae\"], [0.3, \"#f1b6da\"], [0.4, \"#fde0ef\"], [0.5, \"#f7f7f7\"], [0.6, \"#e6f5d0\"], [0.7, \"#b8e186\"], [0.8, \"#7fbc41\"], [0.9, \"#4d9221\"], [1, \"#276419\"]], \"sequential\": [[0.0, \"#0d0887\"], [0.1111111111111111, \"#46039f\"], [0.2222222222222222, \"#7201a8\"], [0.3333333333333333, \"#9c179e\"], [0.4444444444444444, \"#bd3786\"], [0.5555555555555556, \"#d8576b\"], [0.6666666666666666, \"#ed7953\"], [0.7777777777777778, \"#fb9f3a\"], [0.8888888888888888, \"#fdca26\"], [1.0, \"#f0f921\"]], \"sequentialminus\": [[0.0, \"#0d0887\"], [0.1111111111111111, \"#46039f\"], [0.2222222222222222, \"#7201a8\"], [0.3333333333333333, \"#9c179e\"], [0.4444444444444444, \"#bd3786\"], [0.5555555555555556, \"#d8576b\"], [0.6666666666666666, \"#ed7953\"], [0.7777777777777778, \"#fb9f3a\"], [0.8888888888888888, \"#fdca26\"], [1.0, \"#f0f921\"]]}, \"colorway\": [\"#636efa\", \"#EF553B\", \"#00cc96\", \"#ab63fa\", \"#FFA15A\", \"#19d3f3\", \"#FF6692\", \"#B6E880\", \"#FF97FF\", \"#FECB52\"], \"font\": {\"color\": \"#2a3f5f\"}, \"geo\": {\"bgcolor\": \"white\", \"lakecolor\": \"white\", \"landcolor\": \"#E5ECF6\", \"showlakes\": true, \"showland\": true, \"subunitcolor\": \"white\"}, \"hoverlabel\": {\"align\": \"left\"}, \"hovermode\": \"closest\", \"mapbox\": {\"style\": \"light\"}, \"paper_bgcolor\": \"white\", \"plot_bgcolor\": \"#E5ECF6\", \"polar\": {\"angularaxis\": {\"gridcolor\": \"white\", \"linecolor\": \"white\", \"ticks\": \"\"}, \"bgcolor\": \"#E5ECF6\", \"radialaxis\": {\"gridcolor\": \"white\", \"linecolor\": \"white\", \"ticks\": \"\"}}, \"scene\": {\"xaxis\": {\"backgroundcolor\": \"#E5ECF6\", \"gridcolor\": \"white\", \"gridwidth\": 2, \"linecolor\": \"white\", \"showbackground\": true, \"ticks\": \"\", \"zerolinecolor\": \"white\"}, \"yaxis\": {\"backgroundcolor\": \"#E5ECF6\", \"gridcolor\": \"white\", \"gridwidth\": 2, \"linecolor\": \"white\", \"showbackground\": true, \"ticks\": \"\", \"zerolinecolor\": \"white\"}, \"zaxis\": {\"backgroundcolor\": \"#E5ECF6\", \"gridcolor\": \"white\", \"gridwidth\": 2, \"linecolor\": \"white\", \"showbackground\": true, \"ticks\": \"\", \"zerolinecolor\": \"white\"}}, \"shapedefaults\": {\"line\": {\"color\": \"#2a3f5f\"}}, \"ternary\": {\"aaxis\": {\"gridcolor\": \"white\", \"linecolor\": \"white\", \"ticks\": \"\"}, \"baxis\": {\"gridcolor\": \"white\", \"linecolor\": \"white\", \"ticks\": \"\"}, \"bgcolor\": \"#E5ECF6\", \"caxis\": {\"gridcolor\": \"white\", \"linecolor\": \"white\", \"ticks\": \"\"}}, \"title\": {\"x\": 0.05}, \"xaxis\": {\"automargin\": true, \"gridcolor\": \"white\", \"linecolor\": \"white\", \"ticks\": \"\", \"title\": {\"standoff\": 15}, \"zerolinecolor\": \"white\", \"zerolinewidth\": 2}, \"yaxis\": {\"automargin\": true, \"gridcolor\": \"white\", \"linecolor\": \"white\", \"ticks\": \"\", \"title\": {\"standoff\": 15}, \"zerolinecolor\": \"white\", \"zerolinewidth\": 2}}}, \"title\": {\"text\": \"Distance from store count histogram\"}, \"xaxis\": {\"anchor\": \"y\", \"domain\": [0.0, 1.0], \"title\": {\"text\": \"distance_from_store\"}}, \"yaxis\": {\"anchor\": \"x\", \"domain\": [0.0, 1.0], \"title\": {\"text\": \"count\"}}},\n",
              "                        {\"responsive\": true}\n",
              "                    ).then(function(){\n",
              "                            \n",
              "var gd = document.getElementById('ecff9730-224e-4cfa-908f-0b172b33e162');\n",
              "var x = new MutationObserver(function (mutations, observer) {{\n",
              "        var display = window.getComputedStyle(gd).display;\n",
              "        if (!display || display === 'none') {{\n",
              "            console.log([gd, 'removed!']);\n",
              "            Plotly.purge(gd);\n",
              "            observer.disconnect();\n",
              "        }}\n",
              "}});\n",
              "\n",
              "// Listen for the removal of the full notebook cells\n",
              "var notebookContainer = gd.closest('#notebook-container');\n",
              "if (notebookContainer) {{\n",
              "    x.observe(notebookContainer, {childList: true});\n",
              "}}\n",
              "\n",
              "// Listen for the clearing of the current output cell\n",
              "var outputEl = gd.closest('.output');\n",
              "if (outputEl) {{\n",
              "    x.observe(outputEl, {childList: true});\n",
              "}}\n",
              "\n",
              "                        })\n",
              "                };\n",
              "                \n",
              "            </script>\n",
              "        </div>\n",
              "</body>\n",
              "</html>"
            ]
          },
          "metadata": {
            "tags": []
          }
        }
      ]
    },
    {
      "cell_type": "markdown",
      "metadata": {
        "id": "isoV6EPaw3NT"
      },
      "source": [
        "The distance from store histogram mostly has people living under 25 miles or whatever metric is being used from the store. There are some massive, but I will not remove the customers that are outliers in this sense. I make this choice because The lasso method I plan to implement is good at dealing with outliers, so it should be unaffected. Intuitively I'm saying that while the circumstances of people who live over 25 miles from the store are different from those within range, they may have other important info to gather from the other categories. (e.g. it might show that someone with a low credit score is super likely to be loyal, even if they live 400 miles away).\r\n",
        "\r\n",
        "In terms of null values though, we can fill this them with the median, which will be where most people are."
      ]
    },
    {
      "cell_type": "markdown",
      "metadata": {
        "id": "TNT_pbUI0Awz"
      },
      "source": [
        "In the interest of showing the data on a reasonable scale I will remove the outliers just to plot it, but the outliers will remain in the analysis. I said 25 miles above, but that was just an estimate. While I should technically be using interquartile ranges by convention, I will just show where the 99th percentile of this data for simplicity."
      ]
    },
    {
      "cell_type": "code",
      "metadata": {
        "id": "q-6fBUlqzfvU"
      },
      "source": [
        "np.percentile(tech_frame_dict['customer_details']['distance_from_store'],99)\r\n",
        "out_remove = tech_frame_dict['customer_details']['distance_from_store'][tech_frame_dict['customer_details']['distance_from_store']<6.53]"
      ],
      "execution_count": 15,
      "outputs": []
    },
    {
      "cell_type": "markdown",
      "metadata": {
        "id": "-HeTo1Y82B_O"
      },
      "source": [
        "The 99th percentile of customers live 6.5 miles away, so all people under that distance will be shown"
      ]
    },
    {
      "cell_type": "code",
      "metadata": {
        "colab": {
          "base_uri": "https://localhost:8080/",
          "height": 542
        },
        "id": "OaYNEl1HzEyP",
        "outputId": "12316a2c-76c4-4ef7-feb0-e8202cc24155"
      },
      "source": [
        "px.histogram(out_remove,x='distance_from_store',title='Distance from store count histogram minus outliers') #Plotting a histogram of the distances from store with outliers cut out"
      ],
      "execution_count": 16,
      "outputs": [
        {
          "output_type": "display_data",
          "data": {
            "text/html": [
              "<html>\n",
              "<head><meta charset=\"utf-8\" /></head>\n",
              "<body>\n",
              "    <div>\n",
              "            <script src=\"https://cdnjs.cloudflare.com/ajax/libs/mathjax/2.7.5/MathJax.js?config=TeX-AMS-MML_SVG\"></script><script type=\"text/javascript\">if (window.MathJax) {MathJax.Hub.Config({SVG: {font: \"STIX-Web\"}});}</script>\n",
              "                <script type=\"text/javascript\">window.PlotlyConfig = {MathJaxConfig: 'local'};</script>\n",
              "        <script src=\"https://cdn.plot.ly/plotly-latest.min.js\"></script>    \n",
              "            <div id=\"c1c17aa7-41e5-4ad7-9126-e3669bed008f\" class=\"plotly-graph-div\" style=\"height:525px; width:100%;\"></div>\n",
              "            <script type=\"text/javascript\">\n",
              "                \n",
              "                    window.PLOTLYENV=window.PLOTLYENV || {};\n",
              "                    \n",
              "                if (document.getElementById(\"c1c17aa7-41e5-4ad7-9126-e3669bed008f\")) {\n",
              "                    Plotly.newPlot(\n",
              "                        'c1c17aa7-41e5-4ad7-9126-e3669bed008f',\n",
              "                        [{\"alignmentgroup\": \"True\", \"bingroup\": \"x\", \"hoverlabel\": {\"namelength\": 0}, \"hovertemplate\": \"distance_from_store=%{x}<br>count=%{y}\", \"legendgroup\": \"\", \"marker\": {\"color\": \"#636efa\"}, \"name\": \"\", \"offsetgroup\": \"\", \"orientation\": \"v\", \"showlegend\": false, \"type\": \"histogram\", \"x\": [3.38, 4.76, 4.45, 0.91, 3.02, 1.02, 4.78, 3.49, 0.02, 0.25, 2.74, 4.74, 2.02, 3.18, 0.22, 0.05, 1.17, 4.84, 1.74, 4.38, 1.59, 2.04, 1.41, 4.47, 4.97, 1.1, 3.83, 2.57, 0.87, 2.94, 3.97, 2.76, 2.38, 3.79, 2.46, 0.86, 3.8, 2.36, 4.5, 2.52, 4.93, 1.12, 3.39, 0.75, 0.62, 2.88, 4.75, 2.41, 3.49, 0.87, 3.2, 1.32, 3.41, 3.8, 2.07, 0.41, 2.18, 2.52, 3.07, 2.76, 0.92, 2.9, 0.8, 0.74, 1.82, 3.71, 3.68, 3.54, 2.28, 0.07, 1.33, 3.38, 1.59, 3.35, 1.51, 1.52, 0.32, 3.99, 2.81, 0.79, 2.31, 1.37, 2.44, 0.85, 2.6, 0.32, 1.44, 0.15, 3.07, 2.84, 0.0, 2.18, 3.89, 0.8, 0.02, 0.73, 3.41, 0.95, 3.0, 1.87, 2.6, 0.87, 3.71, 0.3, 1.96, 2.91, 2.92, 1.49, 2.88, 3.92, 3.25, 3.3, 1.89, 0.43, 2.78, 1.53, 0.56, 2.09, 0.56, 1.66, 3.54, 0.1, 1.57, 1.51, 0.83, 1.31, 2.32, 2.23, 1.2, 0.0, 0.41, 1.23, 2.04, 2.56, 3.0, 0.11, 3.44, 0.17, 1.8, 3.77, 2.16, 1.35, 2.06, 1.57, 1.34, 0.25, 2.17, 3.09, 2.52, 3.85, 2.67, 1.7, 0.95, 2.65, 1.85, 0.3, 1.72, 3.74, 2.73, 2.3, 2.32, 1.11, 1.84, 0.34, 3.58, 2.46, 3.76, 2.75, 3.25, 2.26, 2.42, 2.0, 1.26, 2.73, 2.87, 0.31, 0.28, 2.17, 3.48, 2.34, 2.35, 2.07, 2.49, 3.54, 3.55, 0.36, 0.78, 3.64, 1.62, 2.84, 0.21, 3.3, 3.09, 3.27, 1.14, 1.13, 0.63, 0.28, 2.49, 0.37, 1.54, 4.62, 4.53, 0.14, 0.11, 4.18, 4.43, 4.42, 2.69, 3.46, 0.67, 0.07, 4.04, 4.24, 1.34, 3.91, 4.49, 3.85, 1.77, 3.77, 1.74, 3.42, 1.85, 0.01, 2.92, 1.1, 3.92, 1.08, 2.95, 4.77, 0.18, 1.01, 0.31, 3.84, 1.63, 2.62, 0.72, 1.8, 0.97, 4.71, 3.04, 2.66, 4.52, 0.12, 0.56, 2.06, 1.26, 3.81, 1.19, 2.84, 2.09, 1.04, 0.92, 0.14, 0.07, 0.76, 2.73, 1.85, 1.88, 0.28, 0.95, 2.87, 3.51, 1.27, 3.45, 0.81, 1.59, 1.34, 0.06, 2.72, 3.68, 0.07, 0.87, 1.5, 2.74, 1.93, 0.94, 2.72, 1.8, 1.17, 3.19, 2.54, 1.19, 2.08, 1.98, 2.13, 2.69, 2.67, 3.42, 2.78, 2.48, 0.57, 2.87, 1.88, 2.6, 0.46, 0.57, 0.37, 2.51, 3.47, 1.26, 2.24, 1.12, 3.12, 3.36, 1.38, 2.76, 3.48, 2.89, 2.63, 3.99, 3.49, 2.2, 2.47, 3.9, 3.53, 3.66, 3.92, 2.02, 2.62, 3.23, 0.17, 2.22, 1.17, 1.93, 0.4, 2.34, 0.54, 0.58, 2.83, 3.96, 1.99, 2.58, 1.81, 1.89, 3.3, 0.23, 3.35, 3.25, 2.34, 0.09, 3.12, 2.27, 2.4, 1.15, 0.04, 0.05, 1.39, 0.41, 2.8, 0.14, 1.06, 1.08, 0.71, 0.39, 0.48, 3.11, 1.39, 3.49, 3.39, 0.92, 3.7, 1.48, 2.53, 2.85, 1.44, 2.61, 3.44, 2.19, 2.82, 1.06, 2.27, 0.4, 1.35, 0.35, 1.32, 3.92, 1.36, 3.37, 3.78, 3.37, 2.3, 0.52, 1.66, 0.21, 2.7, 2.4, 3.51, 0.85, 3.29, 2.65, 1.22, 2.05, 3.15, 0.5, 0.75, 0.7, 0.82, 0.99, 0.06, 0.59, 0.68, 0.77, 0.23, 0.46, 0.86, 0.79, 0.93, 0.08, 0.37, 0.27, 0.91, 0.2, 0.99, 0.38, 0.81, 0.66, 0.1, 0.81, 0.81, 0.38, 0.71, 0.54, 0.51, 0.5, 0.9, 0.48, 0.9, 0.13, 0.98, 0.71, 0.91, 0.06, 0.79, 0.18, 0.28, 0.96, 0.54, 0.17, 0.57, 0.82, 0.43, 0.5, 0.99, 0.46, 0.43, 0.53, 0.07, 0.89, 0.39, 0.28, 0.16, 0.39, 0.0, 0.18, 0.77, 0.62, 0.09, 0.23, 0.63, 0.12, 0.48, 0.75, 0.49, 0.59, 0.97, 0.56, 0.41, 0.13, 0.2, 0.5, 0.5, 0.31, 0.41, 1.0, 0.54, 0.22, 0.44, 0.59, 0.87, 0.17, 0.53, 0.04, 0.39, 1.0, 0.16, 0.48, 0.22, 0.53, 0.73, 0.65, 0.03, 0.65, 0.78, 1.97, 1.35, 0.44, 0.99, 1.22, 1.36, 0.31, 1.43, 1.0, 1.81, 1.69, 0.91, 1.1, 0.23, 0.06, 1.92, 1.22, 0.32, 1.95, 1.94, 0.33, 0.19, 1.12, 0.94, 0.72, 1.09, 0.64, 0.68, 0.07, 0.76, 0.45, 0.76, 1.96, 0.16, 1.16, 1.1, 0.13, 1.97, 1.22, 1.84, 0.48, 1.93, 0.26, 0.99, 1.49, 0.25, 1.84, 1.03, 0.12, 1.51, 0.4, 1.67, 0.54, 1.87, 1.63, 0.05, 1.2, 0.27, 1.5, 1.96, 1.81, 1.78, 0.04, 1.85, 1.09, 0.97, 1.58, 1.26, 1.5, 1.31, 1.93, 0.2, 0.68, 1.93, 0.37, 0.24, 0.44, 1.6, 0.51, 0.72, 1.59, 1.04, 0.59, 0.95, 0.24, 0.53, 0.41, 1.53, 0.18, 0.61, 0.5, 0.19, 1.36, 1.48, 0.47, 1.53, 1.4, 1.54, 1.18, 2.53, 3.2, 0.83, 2.05, 0.88, 0.88, 3.77, 1.2, 2.74, 1.58, 4.55, 0.95, 2.49, 2.78, 1.08, 4.38, 2.68, 1.13, 1.66, 1.1, 2.58, 4.99, 4.58, 3.91, 1.64, 1.07, 2.17, 3.19, 3.36, 3.9, 1.0, 2.35, 0.09, 0.65, 2.08, 2.33, 2.82, 4.85, 4.63, 1.12, 1.61, 2.62, 3.57, 2.36, 4.06, 3.6, 1.4, 2.41, 0.9, 4.66, 1.71, 0.06, 4.01, 4.8, 2.74, 4.66, 3.23, 3.89, 4.02, 2.69, 0.07, 0.37, 0.66, 4.19, 3.1, 3.31, 3.78, 0.7, 0.11, 2.03, 4.08, 1.34, 4.34, 1.25, 0.89, 4.05, 0.36, 0.27, 3.55, 3.59, 0.67, 1.55, 0.01, 4.28, 1.06, 2.83, 3.06, 2.24, 1.64, 2.53, 1.13, 3.5, 2.58, 4.13, 4.53, 3.69, 1.53, 2.86, 0.07, 1.48, 1.04, 3.63, 4.16, 2.06, 2.41, 0.72, 1.94, 3.12, 3.5, 0.9, 4.17, 3.56, 0.81, 0.64, 1.44, 1.32, 1.64, 0.2, 4.12, 0.73, 4.5, 1.84, 2.9, 0.75, 3.03, 2.4, 1.42, 1.33, 4.26, 2.66, 1.06, 4.17, 0.83, 2.98, 2.26, 3.95, 1.77, 3.7, 2.53, 0.37, 4.38, 0.64, 4.0, 4.78, 1.29, 3.97, 3.97, 2.15, 2.43, 2.24, 1.38, 1.96, 3.53, 1.96, 1.35, 0.87, 4.8, 0.98, 1.36, 2.66, 1.42, 3.56, 0.05, 0.39, 2.11, 1.25, 1.04, 4.04, 2.28, 4.41, 3.16, 1.61, 2.57, 3.19, 1.83, 4.74, 2.83, 3.77, 6.28, 3.83, 0.87, 6.51, 2.91, 3.21, 6.12, 5.85, 3.65, 0.51, 2.49, 3.66, 0.71, 6.33, 0.57, 5.38, 5.88, 3.43, 2.5, 1.46, 6.41, 3.73, 2.68, 0.93, 1.34, 0.22, 1.65, 6.28, 1.71, 5.95, 3.73, 4.22, 1.13, 3.81, 1.94, 2.46, 1.51, 1.83, 1.69, 3.22, 1.88, 0.23, 3.36, 4.64, 0.88, 1.12, 0.12, 1.17, 1.6, 0.74, 2.6, 1.08, 0.61, 0.97, 3.9, 1.69, 0.03, 4.44, 1.76, 3.41, 0.19, 3.18, 1.5, 2.93, 0.66, 2.07, 4.23, 4.65, 3.56, 0.78, 0.33, 2.35, 4.55, 1.79, 0.45, 2.59, 0.32, 2.14, 1.62, 4.36, 4.38, 2.36, 1.87, 0.21, 0.07], \"xaxis\": \"x\", \"yaxis\": \"y\"}],\n",
              "                        {\"barmode\": \"relative\", \"legend\": {\"tracegroupgap\": 0}, \"template\": {\"data\": {\"bar\": [{\"error_x\": {\"color\": \"#2a3f5f\"}, \"error_y\": {\"color\": \"#2a3f5f\"}, \"marker\": {\"line\": {\"color\": \"#E5ECF6\", \"width\": 0.5}}, \"type\": \"bar\"}], \"barpolar\": [{\"marker\": {\"line\": {\"color\": \"#E5ECF6\", \"width\": 0.5}}, \"type\": \"barpolar\"}], \"carpet\": [{\"aaxis\": {\"endlinecolor\": \"#2a3f5f\", \"gridcolor\": \"white\", \"linecolor\": \"white\", \"minorgridcolor\": \"white\", \"startlinecolor\": \"#2a3f5f\"}, \"baxis\": {\"endlinecolor\": \"#2a3f5f\", \"gridcolor\": \"white\", \"linecolor\": \"white\", \"minorgridcolor\": \"white\", \"startlinecolor\": \"#2a3f5f\"}, \"type\": \"carpet\"}], \"choropleth\": [{\"colorbar\": {\"outlinewidth\": 0, \"ticks\": \"\"}, \"type\": \"choropleth\"}], \"contour\": [{\"colorbar\": {\"outlinewidth\": 0, \"ticks\": \"\"}, \"colorscale\": [[0.0, \"#0d0887\"], [0.1111111111111111, \"#46039f\"], [0.2222222222222222, \"#7201a8\"], [0.3333333333333333, \"#9c179e\"], [0.4444444444444444, \"#bd3786\"], [0.5555555555555556, \"#d8576b\"], [0.6666666666666666, \"#ed7953\"], [0.7777777777777778, \"#fb9f3a\"], [0.8888888888888888, \"#fdca26\"], [1.0, \"#f0f921\"]], \"type\": \"contour\"}], \"contourcarpet\": [{\"colorbar\": {\"outlinewidth\": 0, \"ticks\": \"\"}, \"type\": \"contourcarpet\"}], \"heatmap\": [{\"colorbar\": {\"outlinewidth\": 0, \"ticks\": \"\"}, \"colorscale\": [[0.0, \"#0d0887\"], [0.1111111111111111, \"#46039f\"], [0.2222222222222222, \"#7201a8\"], [0.3333333333333333, \"#9c179e\"], [0.4444444444444444, \"#bd3786\"], [0.5555555555555556, \"#d8576b\"], [0.6666666666666666, \"#ed7953\"], [0.7777777777777778, \"#fb9f3a\"], [0.8888888888888888, \"#fdca26\"], [1.0, \"#f0f921\"]], \"type\": \"heatmap\"}], \"heatmapgl\": [{\"colorbar\": {\"outlinewidth\": 0, \"ticks\": \"\"}, \"colorscale\": [[0.0, \"#0d0887\"], [0.1111111111111111, \"#46039f\"], [0.2222222222222222, \"#7201a8\"], [0.3333333333333333, \"#9c179e\"], [0.4444444444444444, \"#bd3786\"], [0.5555555555555556, \"#d8576b\"], [0.6666666666666666, \"#ed7953\"], [0.7777777777777778, \"#fb9f3a\"], [0.8888888888888888, \"#fdca26\"], [1.0, \"#f0f921\"]], \"type\": \"heatmapgl\"}], \"histogram\": [{\"marker\": {\"colorbar\": {\"outlinewidth\": 0, \"ticks\": \"\"}}, \"type\": \"histogram\"}], \"histogram2d\": [{\"colorbar\": {\"outlinewidth\": 0, \"ticks\": \"\"}, \"colorscale\": [[0.0, \"#0d0887\"], [0.1111111111111111, \"#46039f\"], [0.2222222222222222, \"#7201a8\"], [0.3333333333333333, \"#9c179e\"], [0.4444444444444444, \"#bd3786\"], [0.5555555555555556, \"#d8576b\"], [0.6666666666666666, \"#ed7953\"], [0.7777777777777778, \"#fb9f3a\"], [0.8888888888888888, \"#fdca26\"], [1.0, \"#f0f921\"]], \"type\": \"histogram2d\"}], \"histogram2dcontour\": [{\"colorbar\": {\"outlinewidth\": 0, \"ticks\": \"\"}, \"colorscale\": [[0.0, \"#0d0887\"], [0.1111111111111111, \"#46039f\"], [0.2222222222222222, \"#7201a8\"], [0.3333333333333333, \"#9c179e\"], [0.4444444444444444, \"#bd3786\"], [0.5555555555555556, \"#d8576b\"], [0.6666666666666666, \"#ed7953\"], [0.7777777777777778, \"#fb9f3a\"], [0.8888888888888888, \"#fdca26\"], [1.0, \"#f0f921\"]], \"type\": \"histogram2dcontour\"}], \"mesh3d\": [{\"colorbar\": {\"outlinewidth\": 0, \"ticks\": \"\"}, \"type\": \"mesh3d\"}], \"parcoords\": [{\"line\": {\"colorbar\": {\"outlinewidth\": 0, \"ticks\": \"\"}}, \"type\": \"parcoords\"}], \"pie\": [{\"automargin\": true, \"type\": \"pie\"}], \"scatter\": [{\"marker\": {\"colorbar\": {\"outlinewidth\": 0, \"ticks\": \"\"}}, \"type\": \"scatter\"}], \"scatter3d\": [{\"line\": {\"colorbar\": {\"outlinewidth\": 0, \"ticks\": \"\"}}, \"marker\": {\"colorbar\": {\"outlinewidth\": 0, \"ticks\": \"\"}}, \"type\": \"scatter3d\"}], \"scattercarpet\": [{\"marker\": {\"colorbar\": {\"outlinewidth\": 0, \"ticks\": \"\"}}, \"type\": \"scattercarpet\"}], \"scattergeo\": [{\"marker\": {\"colorbar\": {\"outlinewidth\": 0, \"ticks\": \"\"}}, \"type\": \"scattergeo\"}], \"scattergl\": [{\"marker\": {\"colorbar\": {\"outlinewidth\": 0, \"ticks\": \"\"}}, \"type\": \"scattergl\"}], \"scattermapbox\": [{\"marker\": {\"colorbar\": {\"outlinewidth\": 0, \"ticks\": \"\"}}, \"type\": \"scattermapbox\"}], \"scatterpolar\": [{\"marker\": {\"colorbar\": {\"outlinewidth\": 0, \"ticks\": \"\"}}, \"type\": \"scatterpolar\"}], \"scatterpolargl\": [{\"marker\": {\"colorbar\": {\"outlinewidth\": 0, \"ticks\": \"\"}}, \"type\": \"scatterpolargl\"}], \"scatterternary\": [{\"marker\": {\"colorbar\": {\"outlinewidth\": 0, \"ticks\": \"\"}}, \"type\": \"scatterternary\"}], \"surface\": [{\"colorbar\": {\"outlinewidth\": 0, \"ticks\": \"\"}, \"colorscale\": [[0.0, \"#0d0887\"], [0.1111111111111111, \"#46039f\"], [0.2222222222222222, \"#7201a8\"], [0.3333333333333333, \"#9c179e\"], [0.4444444444444444, \"#bd3786\"], [0.5555555555555556, \"#d8576b\"], [0.6666666666666666, \"#ed7953\"], [0.7777777777777778, \"#fb9f3a\"], [0.8888888888888888, \"#fdca26\"], [1.0, \"#f0f921\"]], \"type\": \"surface\"}], \"table\": [{\"cells\": {\"fill\": {\"color\": \"#EBF0F8\"}, \"line\": {\"color\": \"white\"}}, \"header\": {\"fill\": {\"color\": \"#C8D4E3\"}, \"line\": {\"color\": \"white\"}}, \"type\": \"table\"}]}, \"layout\": {\"annotationdefaults\": {\"arrowcolor\": \"#2a3f5f\", \"arrowhead\": 0, \"arrowwidth\": 1}, \"coloraxis\": {\"colorbar\": {\"outlinewidth\": 0, \"ticks\": \"\"}}, \"colorscale\": {\"diverging\": [[0, \"#8e0152\"], [0.1, \"#c51b7d\"], [0.2, \"#de77ae\"], [0.3, \"#f1b6da\"], [0.4, \"#fde0ef\"], [0.5, \"#f7f7f7\"], [0.6, \"#e6f5d0\"], [0.7, \"#b8e186\"], [0.8, \"#7fbc41\"], [0.9, \"#4d9221\"], [1, \"#276419\"]], \"sequential\": [[0.0, \"#0d0887\"], [0.1111111111111111, \"#46039f\"], [0.2222222222222222, \"#7201a8\"], [0.3333333333333333, \"#9c179e\"], [0.4444444444444444, \"#bd3786\"], [0.5555555555555556, \"#d8576b\"], [0.6666666666666666, \"#ed7953\"], [0.7777777777777778, \"#fb9f3a\"], [0.8888888888888888, \"#fdca26\"], [1.0, \"#f0f921\"]], \"sequentialminus\": [[0.0, \"#0d0887\"], [0.1111111111111111, \"#46039f\"], [0.2222222222222222, \"#7201a8\"], [0.3333333333333333, \"#9c179e\"], [0.4444444444444444, \"#bd3786\"], [0.5555555555555556, \"#d8576b\"], [0.6666666666666666, \"#ed7953\"], [0.7777777777777778, \"#fb9f3a\"], [0.8888888888888888, \"#fdca26\"], [1.0, \"#f0f921\"]]}, \"colorway\": [\"#636efa\", \"#EF553B\", \"#00cc96\", \"#ab63fa\", \"#FFA15A\", \"#19d3f3\", \"#FF6692\", \"#B6E880\", \"#FF97FF\", \"#FECB52\"], \"font\": {\"color\": \"#2a3f5f\"}, \"geo\": {\"bgcolor\": \"white\", \"lakecolor\": \"white\", \"landcolor\": \"#E5ECF6\", \"showlakes\": true, \"showland\": true, \"subunitcolor\": \"white\"}, \"hoverlabel\": {\"align\": \"left\"}, \"hovermode\": \"closest\", \"mapbox\": {\"style\": \"light\"}, \"paper_bgcolor\": \"white\", \"plot_bgcolor\": \"#E5ECF6\", \"polar\": {\"angularaxis\": {\"gridcolor\": \"white\", \"linecolor\": \"white\", \"ticks\": \"\"}, \"bgcolor\": \"#E5ECF6\", \"radialaxis\": {\"gridcolor\": \"white\", \"linecolor\": \"white\", \"ticks\": \"\"}}, \"scene\": {\"xaxis\": {\"backgroundcolor\": \"#E5ECF6\", \"gridcolor\": \"white\", \"gridwidth\": 2, \"linecolor\": \"white\", \"showbackground\": true, \"ticks\": \"\", \"zerolinecolor\": \"white\"}, \"yaxis\": {\"backgroundcolor\": \"#E5ECF6\", \"gridcolor\": \"white\", \"gridwidth\": 2, \"linecolor\": \"white\", \"showbackground\": true, \"ticks\": \"\", \"zerolinecolor\": \"white\"}, \"zaxis\": {\"backgroundcolor\": \"#E5ECF6\", \"gridcolor\": \"white\", \"gridwidth\": 2, \"linecolor\": \"white\", \"showbackground\": true, \"ticks\": \"\", \"zerolinecolor\": \"white\"}}, \"shapedefaults\": {\"line\": {\"color\": \"#2a3f5f\"}}, \"ternary\": {\"aaxis\": {\"gridcolor\": \"white\", \"linecolor\": \"white\", \"ticks\": \"\"}, \"baxis\": {\"gridcolor\": \"white\", \"linecolor\": \"white\", \"ticks\": \"\"}, \"bgcolor\": \"#E5ECF6\", \"caxis\": {\"gridcolor\": \"white\", \"linecolor\": \"white\", \"ticks\": \"\"}}, \"title\": {\"x\": 0.05}, \"xaxis\": {\"automargin\": true, \"gridcolor\": \"white\", \"linecolor\": \"white\", \"ticks\": \"\", \"title\": {\"standoff\": 15}, \"zerolinecolor\": \"white\", \"zerolinewidth\": 2}, \"yaxis\": {\"automargin\": true, \"gridcolor\": \"white\", \"linecolor\": \"white\", \"ticks\": \"\", \"title\": {\"standoff\": 15}, \"zerolinecolor\": \"white\", \"zerolinewidth\": 2}}}, \"title\": {\"text\": \"Distance from store count histogram minus outliers\"}, \"xaxis\": {\"anchor\": \"y\", \"domain\": [0.0, 1.0], \"title\": {\"text\": \"distance_from_store\"}}, \"yaxis\": {\"anchor\": \"x\", \"domain\": [0.0, 1.0], \"title\": {\"text\": \"count\"}}},\n",
              "                        {\"responsive\": true}\n",
              "                    ).then(function(){\n",
              "                            \n",
              "var gd = document.getElementById('c1c17aa7-41e5-4ad7-9126-e3669bed008f');\n",
              "var x = new MutationObserver(function (mutations, observer) {{\n",
              "        var display = window.getComputedStyle(gd).display;\n",
              "        if (!display || display === 'none') {{\n",
              "            console.log([gd, 'removed!']);\n",
              "            Plotly.purge(gd);\n",
              "            observer.disconnect();\n",
              "        }}\n",
              "}});\n",
              "\n",
              "// Listen for the removal of the full notebook cells\n",
              "var notebookContainer = gd.closest('#notebook-container');\n",
              "if (notebookContainer) {{\n",
              "    x.observe(notebookContainer, {childList: true});\n",
              "}}\n",
              "\n",
              "// Listen for the clearing of the current output cell\n",
              "var outputEl = gd.closest('.output');\n",
              "if (outputEl) {{\n",
              "    x.observe(outputEl, {childList: true});\n",
              "}}\n",
              "\n",
              "                        })\n",
              "                };\n",
              "                \n",
              "            </script>\n",
              "        </div>\n",
              "</body>\n",
              "</html>"
            ]
          },
          "metadata": {
            "tags": []
          }
        }
      ]
    },
    {
      "cell_type": "markdown",
      "metadata": {
        "id": "PUglfuLY2nFU"
      },
      "source": [
        "This new framing shows the distribution a bit better. We're still going to use median."
      ]
    },
    {
      "cell_type": "code",
      "metadata": {
        "colab": {
          "base_uri": "https://localhost:8080/",
          "height": 542
        },
        "id": "qfwL2nxBlcKs",
        "outputId": "03d8713c-300b-4504-cea5-7f9f50e7863e"
      },
      "source": [
        "px.histogram(tech_frame_dict['customer_details'],x='gender',title='Gender distribution') #plotting gender distibution"
      ],
      "execution_count": 17,
      "outputs": [
        {
          "output_type": "display_data",
          "data": {
            "text/html": [
              "<html>\n",
              "<head><meta charset=\"utf-8\" /></head>\n",
              "<body>\n",
              "    <div>\n",
              "            <script src=\"https://cdnjs.cloudflare.com/ajax/libs/mathjax/2.7.5/MathJax.js?config=TeX-AMS-MML_SVG\"></script><script type=\"text/javascript\">if (window.MathJax) {MathJax.Hub.Config({SVG: {font: \"STIX-Web\"}});}</script>\n",
              "                <script type=\"text/javascript\">window.PlotlyConfig = {MathJaxConfig: 'local'};</script>\n",
              "        <script src=\"https://cdn.plot.ly/plotly-latest.min.js\"></script>    \n",
              "            <div id=\"20be08d9-9f44-4ed6-84c7-13ea8e39d114\" class=\"plotly-graph-div\" style=\"height:525px; width:100%;\"></div>\n",
              "            <script type=\"text/javascript\">\n",
              "                \n",
              "                    window.PLOTLYENV=window.PLOTLYENV || {};\n",
              "                    \n",
              "                if (document.getElementById(\"20be08d9-9f44-4ed6-84c7-13ea8e39d114\")) {\n",
              "                    Plotly.newPlot(\n",
              "                        '20be08d9-9f44-4ed6-84c7-13ea8e39d114',\n",
              "                        [{\"alignmentgroup\": \"True\", \"bingroup\": \"x\", \"hoverlabel\": {\"namelength\": 0}, \"hovertemplate\": \"gender=%{x}<br>count=%{y}\", \"legendgroup\": \"\", \"marker\": {\"color\": \"#636efa\"}, \"name\": \"\", \"offsetgroup\": \"\", \"orientation\": \"v\", \"showlegend\": false, \"type\": \"histogram\", \"x\": [\"F\", \"F\", \"F\", \"M\", \"F\", \"M\", \"F\", \"F\", \"F\", \"M\", \"M\", \"F\", \"F\", \"M\", \"F\", \"M\", \"M\", \"M\", \"F\", \"M\", \"F\", \"M\", \"M\", \"M\", \"F\", \"F\", \"M\", \"F\", \"F\", \"M\", \"F\", \"F\", \"F\", \"F\", \"F\", \"F\", \"F\", \"M\", \"F\", \"F\", \"F\", \"F\", \"F\", \"M\", \"F\", \"M\", \"M\", \"F\", \"F\", \"F\", \"F\", \"M\", \"F\", \"M\", \"F\", \"F\", \"F\", \"M\", \"F\", \"F\", \"F\", \"F\", \"M\", \"F\", \"M\", \"M\", \"F\", \"F\", \"F\", \"F\", \"F\", \"M\", \"M\", \"F\", \"M\", \"F\", \"M\", \"M\", \"M\", \"F\", \"F\", \"M\", \"F\", \"M\", \"F\", \"M\", \"F\", \"M\", \"M\", \"M\", \"F\", \"F\", \"M\", \"F\", \"F\", \"M\", \"M\", \"M\", \"F\", \"M\", \"F\", \"F\", \"F\", \"M\", \"F\", \"M\", \"F\", \"F\", \"F\", \"M\", \"F\", \"F\", \"F\", \"F\", \"F\", \"M\", \"F\", \"M\", \"M\", \"F\", \"M\", \"M\", \"F\", \"M\", \"M\", \"M\", \"M\", \"M\", \"F\", \"F\", \"M\", \"M\", \"M\", \"M\", \"F\", \"F\", \"F\", \"M\", \"F\", \"M\", \"M\", \"F\", \"F\", \"M\", \"F\", \"M\", \"M\", \"M\", \"F\", \"F\", \"F\", \"F\", \"F\", \"M\", \"M\", \"F\", \"F\", \"M\", \"M\", \"F\", \"F\", \"F\", \"F\", \"M\", \"F\", \"M\", \"F\", \"F\", \"F\", null, \"F\", \"F\", \"F\", \"F\", \"F\", \"M\", \"F\", \"F\", \"M\", \"M\", \"F\", \"F\", \"F\", \"F\", \"F\", \"F\", \"F\", \"F\", \"M\", \"M\", \"F\", \"M\", \"F\", \"M\", \"F\", \"F\", \"F\", \"F\", \"M\", \"M\", \"M\", \"M\", \"F\", \"M\", \"M\", \"F\", \"F\", \"M\", \"M\", \"F\", \"F\", \"F\", \"F\", \"F\", \"M\", \"M\", \"F\", \"F\", \"M\", \"F\", \"F\", \"F\", \"M\", \"F\", \"M\", \"F\", \"M\", \"M\", \"F\", \"M\", \"F\", \"M\", \"F\", null, \"M\", \"M\", \"M\", \"F\", \"M\", \"F\", \"M\", \"M\", \"M\", \"F\", \"F\", \"F\", \"F\", \"M\", \"M\", \"M\", \"M\", \"F\", \"M\", \"F\", \"F\", \"M\", \"M\", \"M\", \"M\", \"M\", \"F\", \"F\", \"F\", \"M\", \"M\", \"F\", \"F\", \"M\", \"F\", \"M\", \"M\", \"M\", \"M\", \"F\", \"F\", \"M\", \"M\", \"M\", \"F\", \"F\", \"M\", \"F\", \"F\", \"M\", \"F\", \"F\", \"M\", \"F\", \"F\", \"F\", \"F\", \"F\", \"F\", \"F\", \"F\", \"M\", \"F\", \"F\", \"F\", \"M\", \"M\", \"M\", \"F\", \"F\", \"M\", \"F\", \"M\", \"F\", \"F\", \"M\", \"F\", \"F\", \"F\", \"F\", \"F\", \"F\", \"F\", \"F\", \"F\", \"F\", \"F\", \"F\", \"F\", \"F\", \"F\", \"F\", \"M\", \"F\", \"M\", \"F\", \"M\", \"F\", \"M\", \"M\", \"F\", \"F\", \"F\", \"F\", \"F\", \"F\", \"F\", \"M\", \"F\", \"F\", \"F\", \"M\", \"F\", \"F\", \"F\", \"M\", \"M\", \"M\", \"M\", \"M\", \"F\", \"M\", \"M\", \"M\", \"M\", \"M\", \"M\", \"F\", \"M\", \"F\", \"F\", \"M\", \"F\", \"M\", \"F\", \"F\", \"M\", \"F\", \"F\", \"F\", \"F\", \"M\", \"F\", \"M\", \"M\", \"M\", \"M\", \"F\", \"M\", \"F\", \"F\", \"F\", \"F\", \"M\", \"M\", \"M\", \"F\", \"F\", \"F\", \"M\", \"F\", \"F\", \"M\", \"F\", \"F\", \"M\", \"F\", \"F\", \"F\", \"F\", \"M\", \"F\", \"F\", \"F\", \"M\", \"F\", \"F\", \"F\", \"F\", \"M\", \"M\", \"M\", \"F\", \"M\", \"F\", \"M\", \"F\", \"F\", \"M\", \"F\", \"F\", \"M\", \"F\", \"F\", \"F\", \"F\", \"F\", \"F\", \"F\", \"M\", \"F\", \"F\", \"F\", \"M\", \"F\", \"M\", \"M\", \"F\", \"F\", \"M\", \"F\", \"F\", \"M\", \"F\", \"F\", \"F\", \"M\", \"F\", \"M\", \"F\", \"M\", \"M\", \"M\", \"M\", \"M\", \"M\", \"F\", \"F\", \"M\", \"M\", \"F\", \"M\", \"M\", \"F\", \"F\", \"F\", \"F\", \"F\", \"F\", \"M\", \"M\", \"M\", \"F\", \"F\", \"M\", \"M\", \"F\", \"F\", \"M\", \"M\", \"F\", \"F\", \"M\", \"F\", \"M\", \"M\", \"F\", \"M\", \"F\", \"M\", \"F\", \"F\", \"F\", \"M\", \"F\", \"F\", \"F\", \"F\", \"M\", \"F\", \"F\", \"F\", \"M\", \"F\", \"F\", \"F\", \"F\", \"F\", \"F\", \"M\", \"M\", \"F\", \"F\", \"M\", \"F\", \"F\", \"M\", \"M\", \"F\", \"F\", \"M\", \"F\", \"M\", \"M\", \"M\", \"M\", \"M\", \"M\", \"F\", \"M\", \"F\", \"F\", \"M\", \"F\", \"F\", \"F\", \"M\", \"F\", \"M\", \"F\", \"F\", \"M\", \"F\", \"F\", \"M\", \"F\", \"M\", \"F\", \"M\", \"F\", \"F\", \"M\", \"F\", \"M\", \"F\", \"F\", \"F\", \"F\", \"M\", \"F\", \"F\", \"F\", \"F\", \"F\", \"F\", \"F\", \"F\", \"M\", \"M\", \"F\", \"M\", \"M\", null, \"M\", \"F\", \"M\", \"M\", \"F\", \"F\", \"M\", \"F\", \"M\", \"M\", \"M\", \"F\", \"M\", \"M\", \"M\", \"M\", \"F\", \"F\", \"M\", \"F\", \"F\", \"F\", \"F\", \"F\", \"F\", \"M\", \"M\", \"M\", \"M\", \"F\", \"M\", \"F\", \"M\", \"F\", \"M\", \"F\", \"F\", \"F\", \"M\", \"F\", \"F\", \"M\", \"M\", \"M\", \"F\", \"F\", \"F\", \"F\", \"M\", \"M\", \"M\", \"F\", \"F\", \"F\", \"M\", \"F\", \"M\", \"M\", \"M\", \"F\", \"F\", \"F\", \"F\", \"M\", \"M\", \"F\", \"F\", \"F\", \"F\", \"F\", \"M\", \"F\", \"M\", \"F\", \"M\", \"M\", \"F\", \"F\", \"F\", \"F\", \"F\", \"F\", \"F\", \"F\", \"M\", \"M\", \"M\", \"F\", \"F\", \"F\", \"F\", \"M\", \"M\", \"M\", \"F\", \"M\", \"F\", \"M\", \"M\", \"F\", \"M\", \"M\", \"F\", \"F\", \"M\", \"M\", \"M\", \"F\", \"M\", \"F\", \"F\", \"M\", \"M\", \"F\", \"M\", \"F\", \"F\", \"F\", \"F\", \"F\", \"M\", \"F\", \"M\", \"M\", \"M\", \"F\", \"F\", \"M\", \"F\", \"M\", null, \"F\", \"F\", \"M\", \"F\", \"F\", \"M\", \"M\", \"M\", \"M\", \"M\", \"M\", \"F\", \"M\", \"F\", \"M\", \"F\", \"M\", \"F\", \"F\", \"F\", \"M\", \"M\", \"F\", \"F\", \"M\", \"F\", \"F\", \"M\", \"F\", \"F\", \"F\", \"M\", \"F\", \"F\", \"M\", \"F\", \"M\", \"F\", \"F\", \"M\", \"F\", \"F\", \"M\", \"F\", \"M\", \"M\", \"M\", \"F\", \"M\", \"M\", \"M\", \"F\", \"M\", \"M\", \"F\", \"M\", \"F\", \"M\", \"M\", \"M\", \"M\", \"M\", \"F\", \"F\", \"F\", \"F\", \"M\", \"F\", \"F\", \"M\", \"F\", \"F\", \"F\", \"F\", \"F\", \"F\", \"M\", \"F\", \"M\", \"M\", \"F\", \"F\", \"F\", \"M\", \"M\", \"F\", \"M\", \"F\", \"M\", \"F\", \"F\", \"M\", \"M\", \"M\", \"F\", \"F\", \"F\", \"M\", \"M\", \"M\", \"M\", \"M\", \"F\", \"M\", \"F\", \"F\", \"F\", \"M\", \"F\", \"M\", \"M\", \"M\", \"M\", \"M\", \"F\", \"M\", \"M\", \"F\", \"F\", \"M\", \"M\", \"M\", \"M\", \"M\", \"M\", \"F\", \"M\", \"M\", \"M\", \"F\", \"M\", \"M\", \"F\", \"M\", \"F\", \"M\", \"F\", null, \"M\", \"F\", \"M\", \"M\", \"F\", \"F\", \"F\", \"M\", \"M\", \"F\", \"F\", \"M\", \"M\", \"F\", \"F\", \"M\", \"M\", \"M\", \"F\", \"F\", \"F\", \"M\", \"M\", \"M\"], \"xaxis\": \"x\", \"yaxis\": \"y\"}],\n",
              "                        {\"barmode\": \"relative\", \"legend\": {\"tracegroupgap\": 0}, \"template\": {\"data\": {\"bar\": [{\"error_x\": {\"color\": \"#2a3f5f\"}, \"error_y\": {\"color\": \"#2a3f5f\"}, \"marker\": {\"line\": {\"color\": \"#E5ECF6\", \"width\": 0.5}}, \"type\": \"bar\"}], \"barpolar\": [{\"marker\": {\"line\": {\"color\": \"#E5ECF6\", \"width\": 0.5}}, \"type\": \"barpolar\"}], \"carpet\": [{\"aaxis\": {\"endlinecolor\": \"#2a3f5f\", \"gridcolor\": \"white\", \"linecolor\": \"white\", \"minorgridcolor\": \"white\", \"startlinecolor\": \"#2a3f5f\"}, \"baxis\": {\"endlinecolor\": \"#2a3f5f\", \"gridcolor\": \"white\", \"linecolor\": \"white\", \"minorgridcolor\": \"white\", \"startlinecolor\": \"#2a3f5f\"}, \"type\": \"carpet\"}], \"choropleth\": [{\"colorbar\": {\"outlinewidth\": 0, \"ticks\": \"\"}, \"type\": \"choropleth\"}], \"contour\": [{\"colorbar\": {\"outlinewidth\": 0, \"ticks\": \"\"}, \"colorscale\": [[0.0, \"#0d0887\"], [0.1111111111111111, \"#46039f\"], [0.2222222222222222, \"#7201a8\"], [0.3333333333333333, \"#9c179e\"], [0.4444444444444444, \"#bd3786\"], [0.5555555555555556, \"#d8576b\"], [0.6666666666666666, \"#ed7953\"], [0.7777777777777778, \"#fb9f3a\"], [0.8888888888888888, \"#fdca26\"], [1.0, \"#f0f921\"]], \"type\": \"contour\"}], \"contourcarpet\": [{\"colorbar\": {\"outlinewidth\": 0, \"ticks\": \"\"}, \"type\": \"contourcarpet\"}], \"heatmap\": [{\"colorbar\": {\"outlinewidth\": 0, \"ticks\": \"\"}, \"colorscale\": [[0.0, \"#0d0887\"], [0.1111111111111111, \"#46039f\"], [0.2222222222222222, \"#7201a8\"], [0.3333333333333333, \"#9c179e\"], [0.4444444444444444, \"#bd3786\"], [0.5555555555555556, \"#d8576b\"], [0.6666666666666666, \"#ed7953\"], [0.7777777777777778, \"#fb9f3a\"], [0.8888888888888888, \"#fdca26\"], [1.0, \"#f0f921\"]], \"type\": \"heatmap\"}], \"heatmapgl\": [{\"colorbar\": {\"outlinewidth\": 0, \"ticks\": \"\"}, \"colorscale\": [[0.0, \"#0d0887\"], [0.1111111111111111, \"#46039f\"], [0.2222222222222222, \"#7201a8\"], [0.3333333333333333, \"#9c179e\"], [0.4444444444444444, \"#bd3786\"], [0.5555555555555556, \"#d8576b\"], [0.6666666666666666, \"#ed7953\"], [0.7777777777777778, \"#fb9f3a\"], [0.8888888888888888, \"#fdca26\"], [1.0, \"#f0f921\"]], \"type\": \"heatmapgl\"}], \"histogram\": [{\"marker\": {\"colorbar\": {\"outlinewidth\": 0, \"ticks\": \"\"}}, \"type\": \"histogram\"}], \"histogram2d\": [{\"colorbar\": {\"outlinewidth\": 0, \"ticks\": \"\"}, \"colorscale\": [[0.0, \"#0d0887\"], [0.1111111111111111, \"#46039f\"], [0.2222222222222222, \"#7201a8\"], [0.3333333333333333, \"#9c179e\"], [0.4444444444444444, \"#bd3786\"], [0.5555555555555556, \"#d8576b\"], [0.6666666666666666, \"#ed7953\"], [0.7777777777777778, \"#fb9f3a\"], [0.8888888888888888, \"#fdca26\"], [1.0, \"#f0f921\"]], \"type\": \"histogram2d\"}], \"histogram2dcontour\": [{\"colorbar\": {\"outlinewidth\": 0, \"ticks\": \"\"}, \"colorscale\": [[0.0, \"#0d0887\"], [0.1111111111111111, \"#46039f\"], [0.2222222222222222, \"#7201a8\"], [0.3333333333333333, \"#9c179e\"], [0.4444444444444444, \"#bd3786\"], [0.5555555555555556, \"#d8576b\"], [0.6666666666666666, \"#ed7953\"], [0.7777777777777778, \"#fb9f3a\"], [0.8888888888888888, \"#fdca26\"], [1.0, \"#f0f921\"]], \"type\": \"histogram2dcontour\"}], \"mesh3d\": [{\"colorbar\": {\"outlinewidth\": 0, \"ticks\": \"\"}, \"type\": \"mesh3d\"}], \"parcoords\": [{\"line\": {\"colorbar\": {\"outlinewidth\": 0, \"ticks\": \"\"}}, \"type\": \"parcoords\"}], \"pie\": [{\"automargin\": true, \"type\": \"pie\"}], \"scatter\": [{\"marker\": {\"colorbar\": {\"outlinewidth\": 0, \"ticks\": \"\"}}, \"type\": \"scatter\"}], \"scatter3d\": [{\"line\": {\"colorbar\": {\"outlinewidth\": 0, \"ticks\": \"\"}}, \"marker\": {\"colorbar\": {\"outlinewidth\": 0, \"ticks\": \"\"}}, \"type\": \"scatter3d\"}], \"scattercarpet\": [{\"marker\": {\"colorbar\": {\"outlinewidth\": 0, \"ticks\": \"\"}}, \"type\": \"scattercarpet\"}], \"scattergeo\": [{\"marker\": {\"colorbar\": {\"outlinewidth\": 0, \"ticks\": \"\"}}, \"type\": \"scattergeo\"}], \"scattergl\": [{\"marker\": {\"colorbar\": {\"outlinewidth\": 0, \"ticks\": \"\"}}, \"type\": \"scattergl\"}], \"scattermapbox\": [{\"marker\": {\"colorbar\": {\"outlinewidth\": 0, \"ticks\": \"\"}}, \"type\": \"scattermapbox\"}], \"scatterpolar\": [{\"marker\": {\"colorbar\": {\"outlinewidth\": 0, \"ticks\": \"\"}}, \"type\": \"scatterpolar\"}], \"scatterpolargl\": [{\"marker\": {\"colorbar\": {\"outlinewidth\": 0, \"ticks\": \"\"}}, \"type\": \"scatterpolargl\"}], \"scatterternary\": [{\"marker\": {\"colorbar\": {\"outlinewidth\": 0, \"ticks\": \"\"}}, \"type\": \"scatterternary\"}], \"surface\": [{\"colorbar\": {\"outlinewidth\": 0, \"ticks\": \"\"}, \"colorscale\": [[0.0, \"#0d0887\"], [0.1111111111111111, \"#46039f\"], [0.2222222222222222, \"#7201a8\"], [0.3333333333333333, \"#9c179e\"], [0.4444444444444444, \"#bd3786\"], [0.5555555555555556, \"#d8576b\"], [0.6666666666666666, \"#ed7953\"], [0.7777777777777778, \"#fb9f3a\"], [0.8888888888888888, \"#fdca26\"], [1.0, \"#f0f921\"]], \"type\": \"surface\"}], \"table\": [{\"cells\": {\"fill\": {\"color\": \"#EBF0F8\"}, \"line\": {\"color\": \"white\"}}, \"header\": {\"fill\": {\"color\": \"#C8D4E3\"}, \"line\": {\"color\": \"white\"}}, \"type\": \"table\"}]}, \"layout\": {\"annotationdefaults\": {\"arrowcolor\": \"#2a3f5f\", \"arrowhead\": 0, \"arrowwidth\": 1}, \"coloraxis\": {\"colorbar\": {\"outlinewidth\": 0, \"ticks\": \"\"}}, \"colorscale\": {\"diverging\": [[0, \"#8e0152\"], [0.1, \"#c51b7d\"], [0.2, \"#de77ae\"], [0.3, \"#f1b6da\"], [0.4, \"#fde0ef\"], [0.5, \"#f7f7f7\"], [0.6, \"#e6f5d0\"], [0.7, \"#b8e186\"], [0.8, \"#7fbc41\"], [0.9, \"#4d9221\"], [1, \"#276419\"]], \"sequential\": [[0.0, \"#0d0887\"], [0.1111111111111111, \"#46039f\"], [0.2222222222222222, \"#7201a8\"], [0.3333333333333333, \"#9c179e\"], [0.4444444444444444, \"#bd3786\"], [0.5555555555555556, \"#d8576b\"], [0.6666666666666666, \"#ed7953\"], [0.7777777777777778, \"#fb9f3a\"], [0.8888888888888888, \"#fdca26\"], [1.0, \"#f0f921\"]], \"sequentialminus\": [[0.0, \"#0d0887\"], [0.1111111111111111, \"#46039f\"], [0.2222222222222222, \"#7201a8\"], [0.3333333333333333, \"#9c179e\"], [0.4444444444444444, \"#bd3786\"], [0.5555555555555556, \"#d8576b\"], [0.6666666666666666, \"#ed7953\"], [0.7777777777777778, \"#fb9f3a\"], [0.8888888888888888, \"#fdca26\"], [1.0, \"#f0f921\"]]}, \"colorway\": [\"#636efa\", \"#EF553B\", \"#00cc96\", \"#ab63fa\", \"#FFA15A\", \"#19d3f3\", \"#FF6692\", \"#B6E880\", \"#FF97FF\", \"#FECB52\"], \"font\": {\"color\": \"#2a3f5f\"}, \"geo\": {\"bgcolor\": \"white\", \"lakecolor\": \"white\", \"landcolor\": \"#E5ECF6\", \"showlakes\": true, \"showland\": true, \"subunitcolor\": \"white\"}, \"hoverlabel\": {\"align\": \"left\"}, \"hovermode\": \"closest\", \"mapbox\": {\"style\": \"light\"}, \"paper_bgcolor\": \"white\", \"plot_bgcolor\": \"#E5ECF6\", \"polar\": {\"angularaxis\": {\"gridcolor\": \"white\", \"linecolor\": \"white\", \"ticks\": \"\"}, \"bgcolor\": \"#E5ECF6\", \"radialaxis\": {\"gridcolor\": \"white\", \"linecolor\": \"white\", \"ticks\": \"\"}}, \"scene\": {\"xaxis\": {\"backgroundcolor\": \"#E5ECF6\", \"gridcolor\": \"white\", \"gridwidth\": 2, \"linecolor\": \"white\", \"showbackground\": true, \"ticks\": \"\", \"zerolinecolor\": \"white\"}, \"yaxis\": {\"backgroundcolor\": \"#E5ECF6\", \"gridcolor\": \"white\", \"gridwidth\": 2, \"linecolor\": \"white\", \"showbackground\": true, \"ticks\": \"\", \"zerolinecolor\": \"white\"}, \"zaxis\": {\"backgroundcolor\": \"#E5ECF6\", \"gridcolor\": \"white\", \"gridwidth\": 2, \"linecolor\": \"white\", \"showbackground\": true, \"ticks\": \"\", \"zerolinecolor\": \"white\"}}, \"shapedefaults\": {\"line\": {\"color\": \"#2a3f5f\"}}, \"ternary\": {\"aaxis\": {\"gridcolor\": \"white\", \"linecolor\": \"white\", \"ticks\": \"\"}, \"baxis\": {\"gridcolor\": \"white\", \"linecolor\": \"white\", \"ticks\": \"\"}, \"bgcolor\": \"#E5ECF6\", \"caxis\": {\"gridcolor\": \"white\", \"linecolor\": \"white\", \"ticks\": \"\"}}, \"title\": {\"x\": 0.05}, \"xaxis\": {\"automargin\": true, \"gridcolor\": \"white\", \"linecolor\": \"white\", \"ticks\": \"\", \"title\": {\"standoff\": 15}, \"zerolinecolor\": \"white\", \"zerolinewidth\": 2}, \"yaxis\": {\"automargin\": true, \"gridcolor\": \"white\", \"linecolor\": \"white\", \"ticks\": \"\", \"title\": {\"standoff\": 15}, \"zerolinecolor\": \"white\", \"zerolinewidth\": 2}}}, \"title\": {\"text\": \"Gender distribution\"}, \"xaxis\": {\"anchor\": \"y\", \"domain\": [0.0, 1.0], \"title\": {\"text\": \"gender\"}}, \"yaxis\": {\"anchor\": \"x\", \"domain\": [0.0, 1.0], \"title\": {\"text\": \"count\"}}},\n",
              "                        {\"responsive\": true}\n",
              "                    ).then(function(){\n",
              "                            \n",
              "var gd = document.getElementById('20be08d9-9f44-4ed6-84c7-13ea8e39d114');\n",
              "var x = new MutationObserver(function (mutations, observer) {{\n",
              "        var display = window.getComputedStyle(gd).display;\n",
              "        if (!display || display === 'none') {{\n",
              "            console.log([gd, 'removed!']);\n",
              "            Plotly.purge(gd);\n",
              "            observer.disconnect();\n",
              "        }}\n",
              "}});\n",
              "\n",
              "// Listen for the removal of the full notebook cells\n",
              "var notebookContainer = gd.closest('#notebook-container');\n",
              "if (notebookContainer) {{\n",
              "    x.observe(notebookContainer, {childList: true});\n",
              "}}\n",
              "\n",
              "// Listen for the clearing of the current output cell\n",
              "var outputEl = gd.closest('.output');\n",
              "if (outputEl) {{\n",
              "    x.observe(outputEl, {childList: true});\n",
              "}}\n",
              "\n",
              "                        })\n",
              "                };\n",
              "                \n",
              "            </script>\n",
              "        </div>\n",
              "</body>\n",
              "</html>"
            ]
          },
          "metadata": {
            "tags": []
          }
        }
      ]
    },
    {
      "cell_type": "markdown",
      "metadata": {
        "id": "PaO3t5UPx-0Z"
      },
      "source": [
        "This one's up for debate as to whether or not I should fill it, but since there are more females than males it's a fine assumption that the few that are unlabeled are female. It shouldn't hurt much."
      ]
    },
    {
      "cell_type": "code",
      "metadata": {
        "colab": {
          "base_uri": "https://localhost:8080/",
          "height": 542
        },
        "id": "b5LOQp77kgSL",
        "outputId": "707f74d4-2cfd-4a42-cd53-7e5bccbecc7a"
      },
      "source": [
        "px.histogram(tech_frame_dict['customer_details'],x='credit_score',title='credit score distribution') #plotting credit score distribution"
      ],
      "execution_count": 18,
      "outputs": [
        {
          "output_type": "display_data",
          "data": {
            "text/html": [
              "<html>\n",
              "<head><meta charset=\"utf-8\" /></head>\n",
              "<body>\n",
              "    <div>\n",
              "            <script src=\"https://cdnjs.cloudflare.com/ajax/libs/mathjax/2.7.5/MathJax.js?config=TeX-AMS-MML_SVG\"></script><script type=\"text/javascript\">if (window.MathJax) {MathJax.Hub.Config({SVG: {font: \"STIX-Web\"}});}</script>\n",
              "                <script type=\"text/javascript\">window.PlotlyConfig = {MathJaxConfig: 'local'};</script>\n",
              "        <script src=\"https://cdn.plot.ly/plotly-latest.min.js\"></script>    \n",
              "            <div id=\"2f87710e-614e-4d35-b856-665ea859f3b6\" class=\"plotly-graph-div\" style=\"height:525px; width:100%;\"></div>\n",
              "            <script type=\"text/javascript\">\n",
              "                \n",
              "                    window.PLOTLYENV=window.PLOTLYENV || {};\n",
              "                    \n",
              "                if (document.getElementById(\"2f87710e-614e-4d35-b856-665ea859f3b6\")) {\n",
              "                    Plotly.newPlot(\n",
              "                        '2f87710e-614e-4d35-b856-665ea859f3b6',\n",
              "                        [{\"alignmentgroup\": \"True\", \"bingroup\": \"x\", \"hoverlabel\": {\"namelength\": 0}, \"hovertemplate\": \"credit_score=%{x}<br>count=%{y}\", \"legendgroup\": \"\", \"marker\": {\"color\": \"#636efa\"}, \"name\": \"\", \"offsetgroup\": \"\", \"orientation\": \"v\", \"showlegend\": false, \"type\": \"histogram\", \"x\": [0.59, 0.52, 0.49, 0.54, 0.63, 0.64, 0.66, 0.38, 0.68, 0.61, 0.62, 0.66, 0.58, 0.66, 0.52, 0.53, 0.57, 0.75, null, 0.65, 0.57, 0.54, 0.57, 0.61, 0.74, 0.59, 0.6, 0.71, 0.52, 0.54, 0.62, 0.72, 0.71, 0.61, 0.53, 0.55, 0.59, 0.56, 0.54, 0.6, 0.75, 0.59, 0.64, 0.56, 0.62, 0.51, 0.87, 0.65, 0.74, 0.79, 0.64, 0.6, 0.55, 0.79, 0.58, 0.69, 0.67, 0.52, 0.69, 0.5, 0.59, 0.46, 0.67, 0.49, 0.8, 0.69, 0.62, 0.44, 0.58, 0.51, 0.71, 0.57, 0.71, 0.71, 0.5, 0.52, 0.67, 0.56, 0.64, 0.74, 0.61, 0.53, 0.53, 0.65, 0.69, 0.61, 0.65, 0.7, 0.55, 0.57, 0.53, 0.55, 0.52, 0.65, 0.62, 0.78, 0.61, 0.49, 0.36, 0.65, 0.5, 0.83, 0.48, 0.52, 0.71, 0.53, 0.6, 0.69, 0.47, 0.49, 0.69, 0.87, 0.73, 0.53, 0.67, 0.55, 0.67, 0.6, 0.64, 0.45, 0.62, 0.64, 0.66, 0.7, 0.64, 0.63, 0.62, 0.75, 0.42, 0.55, 0.7, 0.71, 0.58, 0.79, 0.64, 0.66, 0.71, 0.68, 0.51, 0.55, 0.49, 0.65, 0.74, 0.64, 0.57, 0.69, 0.57, 0.66, 0.41, 0.58, 0.65, 0.58, 0.38, 0.69, 0.53, 0.66, 0.55, 0.56, 0.59, 0.78, 0.6, 0.59, 0.51, 0.5, 0.75, 0.7, 0.61, 0.56, 0.57, null, 0.69, 0.69, 0.48, 0.48, 0.64, 0.5, 0.36, 0.64, 0.45, 0.74, 0.45, 0.69, 0.5, 0.54, 0.51, 0.66, 0.62, 0.55, 0.45, 0.67, 0.62, 0.72, 0.46, 0.67, 0.67, 0.68, 0.67, 0.57, 0.54, 0.69, 0.68, 0.52, 0.51, 0.54, 0.55, 0.47, 0.57, 0.55, 0.58, 0.7, 0.78, 0.74, 0.65, 0.58, 0.55, 0.53, 0.72, 0.73, 0.49, 0.58, 0.43, 0.58, 0.63, 0.51, 0.64, 0.62, 0.63, 0.54, 0.62, 0.79, 0.57, 0.69, 0.53, 0.47, 0.48, 0.58, 0.72, 0.6, 0.54, 0.54, 0.59, 0.53, 0.63, 0.55, 0.43, 0.79, 0.59, 0.57, 0.65, 0.54, 0.61, 0.76, 0.54, 0.5, 0.56, 0.65, 0.43, 0.54, 0.46, 0.55, 0.63, 0.5, 0.51, 0.55, 0.8, 0.58, 0.52, 0.46, 0.65, 0.69, 0.5, 0.73, 0.45, 0.55, 0.59, 0.52, 0.61, 0.54, 0.61, 0.46, 0.67, 0.57, 0.53, 0.42, 0.5, 0.58, 0.61, 0.38, 0.54, 0.5, 0.52, 0.49, 0.79, 0.66, 0.64, 0.61, 0.54, 0.74, 0.46, 0.71, 0.44, 0.61, 0.67, 0.72, 0.59, 0.63, 0.51, 0.77, 0.48, 0.44, 0.51, 0.48, 0.56, 0.33, 0.71, 0.62, 0.59, 0.72, 0.81, 0.77, 0.45, null, 0.51, 0.58, 0.56, 0.48, 0.47, 0.56, 0.59, 0.76, 0.46, 0.84, 0.56, 0.74, 0.64, 0.59, 0.55, 0.56, 0.54, 0.73, 0.57, 0.61, 0.41, 0.56, 0.65, 0.44, 0.72, 0.75, 0.74, 0.48, 0.33, 0.46, 0.53, 0.53, 0.41, 0.59, 0.83, 0.5, 0.75, 0.69, 0.39, 0.59, 0.68, 0.55, 0.84, 0.46, 0.67, 0.48, 0.67, 0.43, 0.69, 0.61, 0.48, 0.72, 0.63, 0.66, 0.49, 0.72, 0.39, 0.49, 0.36, 0.68, 0.52, 0.67, 0.71, 0.57, 0.49, 0.52, 0.44, 0.64, 0.69, 0.67, 0.79, 0.78, 0.48, 0.55, 0.74, 0.72, 0.73, 0.62, 0.56, 0.57, 0.62, 0.63, 0.66, 0.57, 0.59, 0.67, 0.7, 0.64, 0.75, 0.44, 0.65, 0.52, 0.51, 0.52, 0.4, 0.57, 0.6, 0.72, 0.54, 0.55, 0.66, 0.63, 0.56, 0.58, 0.71, 0.5, 0.56, 0.59, 0.65, 0.6, 0.63, 0.56, 0.54, 0.54, 0.56, 0.68, 0.54, 0.78, 0.39, 0.69, 0.67, 0.66, 0.5, 0.72, 0.55, 0.7, 0.57, 0.6, 0.52, 0.58, 0.59, 0.81, 0.42, 0.81, 0.56, 0.43, 0.68, 0.61, 0.56, 0.56, 0.6, 0.58, 0.59, 0.64, 0.37, 0.51, 0.74, 0.59, 0.71, 0.58, 0.58, 0.61, 0.53, 0.6, 0.71, 0.56, 0.6, 0.66, 0.67, 0.6, 0.76, 0.63, 0.67, 0.67, 0.46, 0.64, 0.53, 0.72, null, 0.45, 0.68, 0.6, 0.58, 0.35, 0.47, 0.46, 0.55, 0.66, null, 0.41, 0.68, 0.41, 0.52, 0.61, 0.65, 0.58, 0.5, 0.57, 0.57, 0.53, 0.46, 0.74, 0.27, 0.64, 0.6, 0.78, 0.45, 0.52, 0.53, 0.57, 0.49, 0.56, 0.55, 0.46, 0.43, 0.66, 0.62, 0.77, 0.56, 0.54, 0.36, 0.5, 0.72, 0.6, 0.55, 0.57, 0.58, 0.51, 0.51, 0.38, 0.58, 0.67, 0.66, 0.69, 0.71, 0.85, 0.61, 0.59, 0.56, 0.5, 0.55, 0.58, 0.75, 0.54, 0.66, 0.64, 0.62, 0.6, 0.71, 0.73, 0.67, 0.78, 0.4, 0.52, 0.69, 0.69, 0.55, 0.6, 0.76, 0.64, 0.44, 0.48, 0.68, 0.53, 0.56, 0.6, 0.55, 0.56, 0.72, 0.74, 0.59, 0.64, 0.45, 0.64, 0.68, 0.57, 0.54, 0.26, 0.67, 0.68, 0.68, 0.59, 0.7, 0.61, 0.53, 0.66, 0.63, 0.7, 0.51, 0.6, 0.49, 0.57, 0.56, 0.63, 0.43, 0.68, 0.63, 0.48, 0.62, 0.51, 0.64, 0.67, 0.79, 0.5, 0.47, 0.52, 0.44, 0.5, 0.59, 0.58, 0.47, 0.63, 0.57, 0.62, 0.56, 0.51, 0.75, 0.7, 0.72, 0.69, 0.53, 0.58, 0.65, 0.54, 0.57, 0.58, 0.5, 0.63, 0.54, 0.54, 0.54, 0.61, 0.77, 0.64, 0.47, 0.6, 0.47, 0.56, 0.58, 0.54, 0.61, 0.58, 0.56, 0.5, 0.65, null, 0.5, 0.48, 0.64, 0.64, 0.54, 0.85, 0.57, 0.59, 0.63, 0.59, 0.59, 0.57, 0.69, 0.61, 0.68, 0.56, 0.51, 0.41, 0.69, 0.87, 0.43, 0.73, 0.72, 0.51, 0.83, 0.53, 0.72, 0.48, 0.66, 0.7, 0.7, 0.54, 0.64, 0.63, 0.77, 0.73, 0.65, 0.63, 0.54, 0.6, 0.77, 0.61, 0.6, 0.66, 0.44, 0.32, 0.48, 0.66, 0.65, 0.66, 0.81, 0.67, 0.51, 0.72, 0.83, 0.66, 0.8, 0.36, 0.62, 0.58, 0.64, 0.58, 0.5, 0.58, 0.68, 0.56, 0.68, 0.46, 0.68, 0.78, 0.51, 0.5, 0.65, 0.61, 0.55, 0.67, 0.7, 0.53, 0.43, 0.42, 0.81, 0.66, 0.4, 0.64, 0.57, 0.44, 0.54, 0.52, 0.62, 0.8, 0.37, 0.42, 0.66, 0.58, 0.46, 0.65, 0.54, 0.59, 0.65, 0.71, 0.68, 0.54, 0.49, 0.88, 0.46, 0.61, 0.65, 0.57, 0.51, 0.66, 0.58, 0.4, 0.66, 0.45, 0.73, 0.66, 0.51, 0.6, 0.55, 0.63, 0.51, 0.46, 0.72, 0.67, 0.7, 0.56, 0.38, 0.68, 0.57, 0.67, 0.52, 0.6, 0.59, 0.47, 0.72, 0.63, 0.6, 0.74, 0.63, 0.64, 0.6, 0.62, 0.49, 0.55, 0.59, 0.56, 0.46, 0.46, 0.68, 0.44, 0.69, 0.61, 0.54, 0.59, 0.81, 0.63, 0.73, 0.55, 0.58, 0.65, 0.57, 0.55, null, 0.62, 0.69, 0.66, 0.59, 0.57, 0.75, 0.58, 0.81, 0.64, 0.65, 0.67, 0.64, 0.67, 0.69, 0.63, 0.79, 0.71, 0.58, 0.67, 0.66, 0.78, 0.72, 0.75, 0.67, null, 0.55, 0.82, 0.45, 0.73, 0.53, 0.59, 0.8, 0.45, 0.61, 0.63, 0.63, 0.39, 0.61, 0.62, 0.54, 0.38, 0.64, 0.63, 0.54, 0.5, 0.63, 0.59, 0.47, 0.7], \"xaxis\": \"x\", \"yaxis\": \"y\"}],\n",
              "                        {\"barmode\": \"relative\", \"legend\": {\"tracegroupgap\": 0}, \"template\": {\"data\": {\"bar\": [{\"error_x\": {\"color\": \"#2a3f5f\"}, \"error_y\": {\"color\": \"#2a3f5f\"}, \"marker\": {\"line\": {\"color\": \"#E5ECF6\", \"width\": 0.5}}, \"type\": \"bar\"}], \"barpolar\": [{\"marker\": {\"line\": {\"color\": \"#E5ECF6\", \"width\": 0.5}}, \"type\": \"barpolar\"}], \"carpet\": [{\"aaxis\": {\"endlinecolor\": \"#2a3f5f\", \"gridcolor\": \"white\", \"linecolor\": \"white\", \"minorgridcolor\": \"white\", \"startlinecolor\": \"#2a3f5f\"}, \"baxis\": {\"endlinecolor\": \"#2a3f5f\", \"gridcolor\": \"white\", \"linecolor\": \"white\", \"minorgridcolor\": \"white\", \"startlinecolor\": \"#2a3f5f\"}, \"type\": \"carpet\"}], \"choropleth\": [{\"colorbar\": {\"outlinewidth\": 0, \"ticks\": \"\"}, \"type\": \"choropleth\"}], \"contour\": [{\"colorbar\": {\"outlinewidth\": 0, \"ticks\": \"\"}, \"colorscale\": [[0.0, \"#0d0887\"], [0.1111111111111111, \"#46039f\"], [0.2222222222222222, \"#7201a8\"], [0.3333333333333333, \"#9c179e\"], [0.4444444444444444, \"#bd3786\"], [0.5555555555555556, \"#d8576b\"], [0.6666666666666666, \"#ed7953\"], [0.7777777777777778, \"#fb9f3a\"], [0.8888888888888888, \"#fdca26\"], [1.0, \"#f0f921\"]], \"type\": \"contour\"}], \"contourcarpet\": [{\"colorbar\": {\"outlinewidth\": 0, \"ticks\": \"\"}, \"type\": \"contourcarpet\"}], \"heatmap\": [{\"colorbar\": {\"outlinewidth\": 0, \"ticks\": \"\"}, \"colorscale\": [[0.0, \"#0d0887\"], [0.1111111111111111, \"#46039f\"], [0.2222222222222222, \"#7201a8\"], [0.3333333333333333, \"#9c179e\"], [0.4444444444444444, \"#bd3786\"], [0.5555555555555556, \"#d8576b\"], [0.6666666666666666, \"#ed7953\"], [0.7777777777777778, \"#fb9f3a\"], [0.8888888888888888, \"#fdca26\"], [1.0, \"#f0f921\"]], \"type\": \"heatmap\"}], \"heatmapgl\": [{\"colorbar\": {\"outlinewidth\": 0, \"ticks\": \"\"}, \"colorscale\": [[0.0, \"#0d0887\"], [0.1111111111111111, \"#46039f\"], [0.2222222222222222, \"#7201a8\"], [0.3333333333333333, \"#9c179e\"], [0.4444444444444444, \"#bd3786\"], [0.5555555555555556, \"#d8576b\"], [0.6666666666666666, \"#ed7953\"], [0.7777777777777778, \"#fb9f3a\"], [0.8888888888888888, \"#fdca26\"], [1.0, \"#f0f921\"]], \"type\": \"heatmapgl\"}], \"histogram\": [{\"marker\": {\"colorbar\": {\"outlinewidth\": 0, \"ticks\": \"\"}}, \"type\": \"histogram\"}], \"histogram2d\": [{\"colorbar\": {\"outlinewidth\": 0, \"ticks\": \"\"}, \"colorscale\": [[0.0, \"#0d0887\"], [0.1111111111111111, \"#46039f\"], [0.2222222222222222, \"#7201a8\"], [0.3333333333333333, \"#9c179e\"], [0.4444444444444444, \"#bd3786\"], [0.5555555555555556, \"#d8576b\"], [0.6666666666666666, \"#ed7953\"], [0.7777777777777778, \"#fb9f3a\"], [0.8888888888888888, \"#fdca26\"], [1.0, \"#f0f921\"]], \"type\": \"histogram2d\"}], \"histogram2dcontour\": [{\"colorbar\": {\"outlinewidth\": 0, \"ticks\": \"\"}, \"colorscale\": [[0.0, \"#0d0887\"], [0.1111111111111111, \"#46039f\"], [0.2222222222222222, \"#7201a8\"], [0.3333333333333333, \"#9c179e\"], [0.4444444444444444, \"#bd3786\"], [0.5555555555555556, \"#d8576b\"], [0.6666666666666666, \"#ed7953\"], [0.7777777777777778, \"#fb9f3a\"], [0.8888888888888888, \"#fdca26\"], [1.0, \"#f0f921\"]], \"type\": \"histogram2dcontour\"}], \"mesh3d\": [{\"colorbar\": {\"outlinewidth\": 0, \"ticks\": \"\"}, \"type\": \"mesh3d\"}], \"parcoords\": [{\"line\": {\"colorbar\": {\"outlinewidth\": 0, \"ticks\": \"\"}}, \"type\": \"parcoords\"}], \"pie\": [{\"automargin\": true, \"type\": \"pie\"}], \"scatter\": [{\"marker\": {\"colorbar\": {\"outlinewidth\": 0, \"ticks\": \"\"}}, \"type\": \"scatter\"}], \"scatter3d\": [{\"line\": {\"colorbar\": {\"outlinewidth\": 0, \"ticks\": \"\"}}, \"marker\": {\"colorbar\": {\"outlinewidth\": 0, \"ticks\": \"\"}}, \"type\": \"scatter3d\"}], \"scattercarpet\": [{\"marker\": {\"colorbar\": {\"outlinewidth\": 0, \"ticks\": \"\"}}, \"type\": \"scattercarpet\"}], \"scattergeo\": [{\"marker\": {\"colorbar\": {\"outlinewidth\": 0, \"ticks\": \"\"}}, \"type\": \"scattergeo\"}], \"scattergl\": [{\"marker\": {\"colorbar\": {\"outlinewidth\": 0, \"ticks\": \"\"}}, \"type\": \"scattergl\"}], \"scattermapbox\": [{\"marker\": {\"colorbar\": {\"outlinewidth\": 0, \"ticks\": \"\"}}, \"type\": \"scattermapbox\"}], \"scatterpolar\": [{\"marker\": {\"colorbar\": {\"outlinewidth\": 0, \"ticks\": \"\"}}, \"type\": \"scatterpolar\"}], \"scatterpolargl\": [{\"marker\": {\"colorbar\": {\"outlinewidth\": 0, \"ticks\": \"\"}}, \"type\": \"scatterpolargl\"}], \"scatterternary\": [{\"marker\": {\"colorbar\": {\"outlinewidth\": 0, \"ticks\": \"\"}}, \"type\": \"scatterternary\"}], \"surface\": [{\"colorbar\": {\"outlinewidth\": 0, \"ticks\": \"\"}, \"colorscale\": [[0.0, \"#0d0887\"], [0.1111111111111111, \"#46039f\"], [0.2222222222222222, \"#7201a8\"], [0.3333333333333333, \"#9c179e\"], [0.4444444444444444, \"#bd3786\"], [0.5555555555555556, \"#d8576b\"], [0.6666666666666666, \"#ed7953\"], [0.7777777777777778, \"#fb9f3a\"], [0.8888888888888888, \"#fdca26\"], [1.0, \"#f0f921\"]], \"type\": \"surface\"}], \"table\": [{\"cells\": {\"fill\": {\"color\": \"#EBF0F8\"}, \"line\": {\"color\": \"white\"}}, \"header\": {\"fill\": {\"color\": \"#C8D4E3\"}, \"line\": {\"color\": \"white\"}}, \"type\": \"table\"}]}, \"layout\": {\"annotationdefaults\": {\"arrowcolor\": \"#2a3f5f\", \"arrowhead\": 0, \"arrowwidth\": 1}, \"coloraxis\": {\"colorbar\": {\"outlinewidth\": 0, \"ticks\": \"\"}}, \"colorscale\": {\"diverging\": [[0, \"#8e0152\"], [0.1, \"#c51b7d\"], [0.2, \"#de77ae\"], [0.3, \"#f1b6da\"], [0.4, \"#fde0ef\"], [0.5, \"#f7f7f7\"], [0.6, \"#e6f5d0\"], [0.7, \"#b8e186\"], [0.8, \"#7fbc41\"], [0.9, \"#4d9221\"], [1, \"#276419\"]], \"sequential\": [[0.0, \"#0d0887\"], [0.1111111111111111, \"#46039f\"], [0.2222222222222222, \"#7201a8\"], [0.3333333333333333, \"#9c179e\"], [0.4444444444444444, \"#bd3786\"], [0.5555555555555556, \"#d8576b\"], [0.6666666666666666, \"#ed7953\"], [0.7777777777777778, \"#fb9f3a\"], [0.8888888888888888, \"#fdca26\"], [1.0, \"#f0f921\"]], \"sequentialminus\": [[0.0, \"#0d0887\"], [0.1111111111111111, \"#46039f\"], [0.2222222222222222, \"#7201a8\"], [0.3333333333333333, \"#9c179e\"], [0.4444444444444444, \"#bd3786\"], [0.5555555555555556, \"#d8576b\"], [0.6666666666666666, \"#ed7953\"], [0.7777777777777778, \"#fb9f3a\"], [0.8888888888888888, \"#fdca26\"], [1.0, \"#f0f921\"]]}, \"colorway\": [\"#636efa\", \"#EF553B\", \"#00cc96\", \"#ab63fa\", \"#FFA15A\", \"#19d3f3\", \"#FF6692\", \"#B6E880\", \"#FF97FF\", \"#FECB52\"], \"font\": {\"color\": \"#2a3f5f\"}, \"geo\": {\"bgcolor\": \"white\", \"lakecolor\": \"white\", \"landcolor\": \"#E5ECF6\", \"showlakes\": true, \"showland\": true, \"subunitcolor\": \"white\"}, \"hoverlabel\": {\"align\": \"left\"}, \"hovermode\": \"closest\", \"mapbox\": {\"style\": \"light\"}, \"paper_bgcolor\": \"white\", \"plot_bgcolor\": \"#E5ECF6\", \"polar\": {\"angularaxis\": {\"gridcolor\": \"white\", \"linecolor\": \"white\", \"ticks\": \"\"}, \"bgcolor\": \"#E5ECF6\", \"radialaxis\": {\"gridcolor\": \"white\", \"linecolor\": \"white\", \"ticks\": \"\"}}, \"scene\": {\"xaxis\": {\"backgroundcolor\": \"#E5ECF6\", \"gridcolor\": \"white\", \"gridwidth\": 2, \"linecolor\": \"white\", \"showbackground\": true, \"ticks\": \"\", \"zerolinecolor\": \"white\"}, \"yaxis\": {\"backgroundcolor\": \"#E5ECF6\", \"gridcolor\": \"white\", \"gridwidth\": 2, \"linecolor\": \"white\", \"showbackground\": true, \"ticks\": \"\", \"zerolinecolor\": \"white\"}, \"zaxis\": {\"backgroundcolor\": \"#E5ECF6\", \"gridcolor\": \"white\", \"gridwidth\": 2, \"linecolor\": \"white\", \"showbackground\": true, \"ticks\": \"\", \"zerolinecolor\": \"white\"}}, \"shapedefaults\": {\"line\": {\"color\": \"#2a3f5f\"}}, \"ternary\": {\"aaxis\": {\"gridcolor\": \"white\", \"linecolor\": \"white\", \"ticks\": \"\"}, \"baxis\": {\"gridcolor\": \"white\", \"linecolor\": \"white\", \"ticks\": \"\"}, \"bgcolor\": \"#E5ECF6\", \"caxis\": {\"gridcolor\": \"white\", \"linecolor\": \"white\", \"ticks\": \"\"}}, \"title\": {\"x\": 0.05}, \"xaxis\": {\"automargin\": true, \"gridcolor\": \"white\", \"linecolor\": \"white\", \"ticks\": \"\", \"title\": {\"standoff\": 15}, \"zerolinecolor\": \"white\", \"zerolinewidth\": 2}, \"yaxis\": {\"automargin\": true, \"gridcolor\": \"white\", \"linecolor\": \"white\", \"ticks\": \"\", \"title\": {\"standoff\": 15}, \"zerolinecolor\": \"white\", \"zerolinewidth\": 2}}}, \"title\": {\"text\": \"credit score distribution\"}, \"xaxis\": {\"anchor\": \"y\", \"domain\": [0.0, 1.0], \"title\": {\"text\": \"credit_score\"}}, \"yaxis\": {\"anchor\": \"x\", \"domain\": [0.0, 1.0], \"title\": {\"text\": \"count\"}}},\n",
              "                        {\"responsive\": true}\n",
              "                    ).then(function(){\n",
              "                            \n",
              "var gd = document.getElementById('2f87710e-614e-4d35-b856-665ea859f3b6');\n",
              "var x = new MutationObserver(function (mutations, observer) {{\n",
              "        var display = window.getComputedStyle(gd).display;\n",
              "        if (!display || display === 'none') {{\n",
              "            console.log([gd, 'removed!']);\n",
              "            Plotly.purge(gd);\n",
              "            observer.disconnect();\n",
              "        }}\n",
              "}});\n",
              "\n",
              "// Listen for the removal of the full notebook cells\n",
              "var notebookContainer = gd.closest('#notebook-container');\n",
              "if (notebookContainer) {{\n",
              "    x.observe(notebookContainer, {childList: true});\n",
              "}}\n",
              "\n",
              "// Listen for the clearing of the current output cell\n",
              "var outputEl = gd.closest('.output');\n",
              "if (outputEl) {{\n",
              "    x.observe(outputEl, {childList: true});\n",
              "}}\n",
              "\n",
              "                        })\n",
              "                };\n",
              "                \n",
              "            </script>\n",
              "        </div>\n",
              "</body>\n",
              "</html>"
            ]
          },
          "metadata": {
            "tags": []
          }
        }
      ]
    },
    {
      "cell_type": "markdown",
      "metadata": {
        "id": "ohDwkPsOyqns"
      },
      "source": [
        "This credit score distribution shows a normal distribution. As such the mean of the scores can safely be used to fill the values, but I choose to use the median in the code below. This is fine too, because there does not appear to be much skew in the data, so the median should be about equal to the mean. This is done so the code can be a bit more general."
      ]
    },
    {
      "cell_type": "code",
      "metadata": {
        "id": "Hb4rzJ_5oFru"
      },
      "source": [
        "omit = []   # I fill this empty list with the columns that I mentino will be omitted above, but I don't use, but I suppose it's still good to have for refence\r\n",
        "\r\n",
        "for key in nan_dict:              #For all the dataframes\r\n",
        "  for col in nan_dict[key].index: #For all of the columns\r\n",
        "    \r\n",
        "    val = nan_dict[key][col]      #take the fraction of null values\r\n",
        "\r\n",
        "    if  val == 0:                 #if none are null we don't need to do anything\r\n",
        "      continue\r\n",
        "\r\n",
        "    elif val < .5:                #If there are a few null values, less than 50% of them, go into filling them\r\n",
        "\r\n",
        "      if col in cat_list:\r\n",
        "        tech_frame_dict[key][col].fillna(value=tech_frame_dict[key][col].mode()[0],inplace =True)   #If it's categorical we'll use the mode, Female as discussed above\r\n",
        "\r\n",
        "      else:\r\n",
        "\r\n",
        "        tech_frame_dict[key][col] = tech_frame_dict[key][col].apply(pd.to_numeric, errors='coerce') #There was a weird error with the datatypes, so I had to change the values to numeric with help from online\r\n",
        "        tech_frame_dict[key][col].fillna(tech_frame_dict[key][col].median(),inplace =True)          #If it's continuous we'll fill it with the median as discussed above\r\n",
        "\r\n",
        "    else:\r\n",
        "      omit.append(col)        #Add to my list to omit if there are too many null values, more than 50%"
      ],
      "execution_count": 19,
      "outputs": []
    },
    {
      "cell_type": "markdown",
      "metadata": {
        "id": "ZHolP1FUmv2d"
      },
      "source": [
        "## Part 2: Data Preparation & Modeling\n",
        "\n",
        "Use this section to prepare the data and build your model for the task."
      ]
    },
    {
      "cell_type": "markdown",
      "metadata": {
        "id": "2XaIV4frEvlN"
      },
      "source": [
        "### Preprocessing\r\n"
      ]
    },
    {
      "cell_type": "markdown",
      "metadata": {
        "id": "61WEe3O_3v3X"
      },
      "source": [
        "Now In this section I start combining the dataframes in preparation for splitting into training and testing data. The transaction dataframe also gets summary values pulled from it here, as I can not feed the data in as is. "
      ]
    },
    {
      "cell_type": "code",
      "metadata": {
        "id": "ljzDONKfmumC"
      },
      "source": [
        "#merge the transaction data with the product area data, because those profit margins are useful. This is why it's fine that the product area data is \"high dimensional\", it's not actually being used as is\r\n",
        "full_transactions = tech_frame_dict['transactions'].merge(tech_frame_dict['product_areas'], on = 'product_area_id').dropna(axis='columns')"
      ],
      "execution_count": 20,
      "outputs": []
    },
    {
      "cell_type": "code",
      "metadata": {
        "id": "14i1or0Kx7ib"
      },
      "source": [
        "#merge current customer data together, not transactions yet, since there are multiple for each customer\r\n",
        "full_cust = tech_frame_dict['customer_details'].merge(tech_frame_dict['campaign_data'], on = 'customer_id',sort=True).dropna(axis='columns')"
      ],
      "execution_count": 21,
      "outputs": []
    },
    {
      "cell_type": "markdown",
      "metadata": {
        "id": "Vmd10IOZ4j5B"
      },
      "source": [
        "Here is probably the trickiest part of the whole project. The transaction data in it's current form is unsuitable for feeding into a lasso regression.\r\n",
        "\r\n",
        "The issues are:\r\n",
        "\r\n",
        "* Multiple inputs for each customer\r\n",
        "  *   Since the mutiple rows for each customer would have different info in them\r\n",
        "  lasso would end up predicting different scores for the same customer, which wouldn't make sense.\r\n",
        "\r\n",
        "* Date data won't be interpreted properly\r\n",
        " *   By the end of all the processing every individual date would be seen as a different column, so info on what happened in the same month might be lost, though same day would be fine. All of the data is from the same year, so that doesn't really matter\r\n",
        "\r\n",
        " The ways to solve these problems are to summarize all of the transactions about every customer into one set of values for each customer, then to also summarize data from different months for every customer and add those as new columns.\r\n",
        "\r\n",
        " In the below code, through intuition, I decide to summarize the transaction data for each customer into these values:\r\n",
        "\r\n",
        "\r\n",
        "*   Total amount spent by customer\r\n",
        "*   Total amount that store has profited off customer\r\n",
        "*   Total number of visits customer has made to store\r\n",
        "*   Monthly amount spent by customer\r\n",
        "*   Monthly number of visits\r\n",
        "*   avg number of days between visits\r\n",
        "\r\n",
        "While there are more summary values that could be pulled out for each customer (e.g. what percentage of visits they're buying fruits, average months between visits, etc.) I believe these paint a good picture of the transaction habits of the customers."
      ]
    },
    {
      "cell_type": "code",
      "metadata": {
        "id": "po1ZHxVizOvS"
      },
      "source": [
        "#Make some preparations for dealing with transaction data\r\n",
        "months = ['Jan','Feb','Mar','Apr','May','Jun','Jul','Aug','Sep','Oct','Nov','Dec']\r\n",
        "date_dict = dict(zip(range(1,13),months))\r\n",
        "cust_groups = full_transactions.groupby(['customer_id'])    #Here we group the transaction data by customer id. Now there a bunch of dataframes with only one customers transaction info in them each."
      ],
      "execution_count": 22,
      "outputs": []
    },
    {
      "cell_type": "code",
      "metadata": {
        "id": "cPUHKYdg6fGt"
      },
      "source": [
        "transaction_summaries_dict = {} #Create dictionary to fill, associating summary values with customer\r\n",
        "\r\n",
        "for name,cust in cust_groups:       #Going through every customers transaction dataframe\r\n",
        "\r\n",
        "  transaction_summaries_dict[name]={}     #Creating a slot for every customer in our dictionary we're creating\r\n",
        "  \r\n",
        "  cust_copy = cust                                                      #Copying the customers transaction dataframe so we can make changes without changing the original\r\n",
        "  cust['profits'] = cust_copy['sales_cost']*cust_copy['profit_margin']  #Calculate how much store has profited in each transaction, creating a new column for it in the created data frame\r\n",
        "\r\n",
        "  total_items_sales_profits = tuple(cust_copy.agg({'num_items':[sum],'sales_cost':[sum], 'profits':[sum]}).values[0])    #Gather total number of items bought, total money spent, total profits for a single customer in a tuple\r\n",
        "  total_visits = len(cust)      #Calculate total number of visits for a single customer\r\n",
        "\r\n",
        "  transaction_summaries_dict[name]['total' + ' ' +'num_items' ] = total_items_sales_profits[0]    #Put total items bought data for customer into dictionary\r\n",
        "  transaction_summaries_dict[name]['total' + ' ' +'sales' ] = total_items_sales_profits[1]        #Put total sales data for customer into dictionary\r\n",
        "  transaction_summaries_dict[name]['total' + ' ' +'visits' ] = total_visits                       #Put total number of visits data for customer into dictionary\r\n",
        "\r\n",
        "  transaction_summaries_dict[name]['total' + ' ' +'profits' ] = total_items_sales_profits[2]      #Put total profit data for customer into dictionary\r\n",
        "\r\n",
        "  transaction_summaries_dict[name]['avg days between visits'] = np.mean((cust.shift()['transaction_date'].dt.day-cust['transaction_date'].dt.day).abs())  #Calculate average days between visits for each customer and plug into dictionary\r\n",
        "\r\n",
        "\r\n",
        "  cust_month =cust.groupby(cust['transaction_date'].dt.month)    #Create a frame grouping just by months\r\n",
        "\r\n",
        "  month_items_sales_visits_df = cust_month.agg({'num_items':[sum], 'sales_cost':[sum,len]}) #Gather monthly sums of number of items bought and sales costs\r\n",
        "\r\n",
        "  for i,row in month_items_sales_visits_df.iterrows(): #Go through all summary values for customer by month\r\n",
        "\r\n",
        "    mon = date_dict[i]            #Figure out what month this transaction took place\r\n",
        "\r\n",
        "    items = row['num_items']['sum']   #Find total items bought in month\r\n",
        "    cost = row['sales_cost']['sum']    #Find total costs bought in month\r\n",
        "    visits = row['sales_cost']['len']   #Find total visits in month\r\n",
        "\r\n",
        "    transaction_summaries_dict[name][mon + ' ' +'num_items' ] = items   #Put number of items for month into dictionary\r\n",
        "    transaction_summaries_dict[name][mon + ' ' +'sales' ] = cost        #Put sales for month into dictionary\r\n",
        "    transaction_summaries_dict[name][mon + ' ' +'visits' ] = visits     #Put number of visits for month into dictionary"
      ],
      "execution_count": 23,
      "outputs": []
    },
    {
      "cell_type": "markdown",
      "metadata": {
        "id": "s0KUVry5_nU-"
      },
      "source": [
        "Now that we have found the summary metrics and plugged them into a dictionary, pandas lets us easily turn this into a dataframe, which is done below. Since some customers didn't visit certain months the values for thise months are filled with 0s in the created dataframe"
      ]
    },
    {
      "cell_type": "code",
      "metadata": {
        "id": "GgkpTby6Z56W"
      },
      "source": [
        "transaction_summaries = pd.DataFrame(transaction_summaries_dict).transpose().fillna(value=0) # A dataframe of summary transaction data for each customer to merge with other customer data"
      ],
      "execution_count": 24,
      "outputs": []
    },
    {
      "cell_type": "markdown",
      "metadata": {
        "id": "iBhAH6RR_-qD"
      },
      "source": [
        "Now that we have all of the data in a useable form we can combine everything into one big dataframe"
      ]
    },
    {
      "cell_type": "code",
      "metadata": {
        "id": "_o-h6I1Kfakl"
      },
      "source": [
        "All_data = full_cust.merge(transaction_summaries,left_on = 'customer_id', right_index=True) #Merge all data that will be used for prediction now"
      ],
      "execution_count": 25,
      "outputs": []
    },
    {
      "cell_type": "code",
      "metadata": {
        "id": "Y6IVeEIwgZch"
      },
      "source": [
        "new_cat_list = list(filter(lambda col: col in All_data.columns,cat_list)) #There was some sort of issue after going back and editing stuff, but this fixed it"
      ],
      "execution_count": 26,
      "outputs": []
    },
    {
      "cell_type": "markdown",
      "metadata": {
        "id": "3OJOCVD5AQVP"
      },
      "source": [
        "Now we need to separate the data for preprocessing. Categorical values need to be encoded, since the lasso regression needs numbers to work with."
      ]
    },
    {
      "cell_type": "code",
      "metadata": {
        "id": "r2VinntGfq3N"
      },
      "source": [
        "categ = All_data[new_cat_list]\r\n",
        "contin = All_data.drop(new_cat_list,axis=1) #Separating categorical and continuous for preprocessing"
      ],
      "execution_count": 27,
      "outputs": []
    },
    {
      "cell_type": "code",
      "metadata": {
        "id": "SPbSqVaZiRv9"
      },
      "source": [
        " #Can't one hot encode with the current datatypes so turning everything into strings and integers\r\n",
        "categ = categ.convert_dtypes()"
      ],
      "execution_count": 28,
      "outputs": []
    },
    {
      "cell_type": "code",
      "metadata": {
        "colab": {
          "base_uri": "https://localhost:8080/"
        },
        "id": "8NQN7bUwsXSJ",
        "outputId": "ef7891cc-b3c7-433f-946d-5f53d1474dcb"
      },
      "source": [
        "categ.dtypes"
      ],
      "execution_count": 29,
      "outputs": [
        {
          "output_type": "execute_result",
          "data": {
            "text/plain": [
              "gender                   string\n",
              "campaign_name            string\n",
              "campaign_date    datetime64[ns]\n",
              "mailer_type              string\n",
              "signup_flag               Int64\n",
              "dtype: object"
            ]
          },
          "metadata": {
            "tags": []
          },
          "execution_count": 29
        }
      ]
    },
    {
      "cell_type": "markdown",
      "metadata": {
        "id": "kLDHi3BCAi0m"
      },
      "source": [
        "Now all of the categorical values are encoded"
      ]
    },
    {
      "cell_type": "code",
      "metadata": {
        "id": "ztIIrEs6hcG7"
      },
      "source": [
        "enc = OneHotEncoder().fit(categ) #Create encoder\r\n",
        "enc_names = enc.get_feature_names() #Find column names encoder will give\r\n",
        "cat_encoded = pd.DataFrame(enc.transform(categ).toarray(),columns = enc_names)  #Create an new dataframe from the categorical values, now encoded, with column names"
      ],
      "execution_count": 30,
      "outputs": []
    },
    {
      "cell_type": "markdown",
      "metadata": {
        "id": "710gz_2EAxsH"
      },
      "source": [
        "Now we recombine the newly encoded values with the ones that didn't need it"
      ]
    },
    {
      "cell_type": "code",
      "metadata": {
        "id": "W6naHarktJSX"
      },
      "source": [
        "encoded_all = contin.merge(cat_encoded,left_index=True,right_index=True).convert_dtypes() #Combining dataframes and converting data types so there are no issues."
      ],
      "execution_count": 31,
      "outputs": []
    },
    {
      "cell_type": "code",
      "metadata": {
        "colab": {
          "base_uri": "https://localhost:8080/"
        },
        "id": "WguhGkR3uB7d",
        "outputId": "9a16d7f1-7bf6-4c97-f74a-72b785f2f435"
      },
      "source": [
        "encoded_all.dtypes #Just looking to see all datatypes are right"
      ],
      "execution_count": 32,
      "outputs": [
        {
          "output_type": "execute_result",
          "data": {
            "text/plain": [
              "customer_id                           Int64\n",
              "distance_from_store                 float64\n",
              "credit_score                        float64\n",
              "total num_items                       Int64\n",
              "total sales                         float64\n",
              "total visits                          Int64\n",
              "total profits                       float64\n",
              "avg days between visits             float64\n",
              "Apr num_items                         Int64\n",
              "Apr sales                           float64\n",
              "Apr visits                            Int64\n",
              "Jun num_items                         Int64\n",
              "Jun sales                           float64\n",
              "Jun visits                            Int64\n",
              "Jul num_items                         Int64\n",
              "Jul sales                           float64\n",
              "Jul visits                            Int64\n",
              "Aug num_items                         Int64\n",
              "Aug sales                           float64\n",
              "Aug visits                            Int64\n",
              "Sep num_items                         Int64\n",
              "Sep sales                           float64\n",
              "Sep visits                            Int64\n",
              "May num_items                         Int64\n",
              "May sales                           float64\n",
              "May visits                            Int64\n",
              "x0_F                                  Int64\n",
              "x0_M                                  Int64\n",
              "x1_delivery_club                      Int64\n",
              "x2_2020-07-01T00:00:00.000000000      Int64\n",
              "x3_Control                            Int64\n",
              "x3_Mailer1                            Int64\n",
              "x3_Mailer2                            Int64\n",
              "x4_0                                  Int64\n",
              "x4_1                                  Int64\n",
              "dtype: object"
            ]
          },
          "metadata": {
            "tags": []
          },
          "execution_count": 32
        }
      ]
    },
    {
      "cell_type": "markdown",
      "metadata": {
        "id": "I1g1Nn-JBPkP"
      },
      "source": [
        "Now we scale down the values. The average of every column is taken, then that number is subtracted away from every value, and every value is divided by standard deviation. Essentially every value is replaced with it's z score. This is necessary because the different columns are on different scale (e.g. the credit scores are between 0 and 1, while the distance from stores go all the way up to 400, but mostly between 1 and 7). Because of this difference in scale, the bigger numbers may be seen as \"more important\" even though what we're really interested in is the variance of the values. Scaling the data combats this, and is done easily with scikitlearns scaler."
      ]
    },
    {
      "cell_type": "code",
      "metadata": {
        "id": "KbT4fnLFxJAZ"
      },
      "source": [
        "pre_scale = encoded_all.drop('customer_id',axis=1) #pull out ids, because those shouldn't be scaled"
      ],
      "execution_count": 33,
      "outputs": []
    },
    {
      "cell_type": "code",
      "metadata": {
        "id": "MW-7kKsPruvS"
      },
      "source": [
        "scaler = StandardScaler().fit(pre_scale)  #Create scaler\r\n",
        "all_scaled = pd.DataFrame(scaler.transform(pre_scale),columns=pre_scale.columns)  #Create a dataframe scaling the old dataframe"
      ],
      "execution_count": 34,
      "outputs": []
    },
    {
      "cell_type": "code",
      "metadata": {
        "id": "i5FkRRkAxlJE"
      },
      "source": [
        "all_scaled_ids = pd.DataFrame(encoded_all['customer_id']).merge(all_scaled,left_index=True,right_index=True) #Put the ids back on so they're identifiable"
      ],
      "execution_count": 35,
      "outputs": []
    },
    {
      "cell_type": "markdown",
      "metadata": {
        "id": "AodSjlc6DBWy"
      },
      "source": [
        "This data set has labels (loyalty scores) for half of the customers, so these are the only ones we'll be able to do supervised learning with. Because of this we need to separate out these labeled customers into a separate dataframe for ML modeling."
      ]
    },
    {
      "cell_type": "code",
      "metadata": {
        "id": "z0WA-Up5yW6Q"
      },
      "source": [
        "tech_frame_dict['loyalty_scores']['customer_id']=tech_frame_dict['loyalty_scores']['customer_id'].astype(int) #Can't merge frames between int and float, so switching to int"
      ],
      "execution_count": 36,
      "outputs": []
    },
    {
      "cell_type": "code",
      "metadata": {
        "id": "SsaNiyaTyDey"
      },
      "source": [
        "All_labeled = all_scaled_ids.merge(tech_frame_dict['loyalty_scores'],how='right',on='customer_id',sort=True)  #All labeled customers"
      ],
      "execution_count": 37,
      "outputs": []
    },
    {
      "cell_type": "markdown",
      "metadata": {
        "id": "CEaY1wKEDjl8"
      },
      "source": [
        "Now we pull the labels off of these customers, so models can be trained. If the models were able to see the labels it would be a no brainer because the model would just say \"oh, so this is the answer\" and spit it right back. We seek to predict the desired value when the computer can not see it, so we need to pull it off. The customer id is also pulled off, because that should not be used to predict, as it's an arbitrary value assigned to a person and should have nothing to do with their loyalty. We set aside the labels for the computer to compare how good it's predictions were and for the computer to know what it's striving for during training."
      ]
    },
    {
      "cell_type": "code",
      "metadata": {
        "id": "KIrT3hWvzUJZ"
      },
      "source": [
        "All_X=All_labeled.drop(['customer_loyalty_score','customer_id'],axis=1)\r\n",
        "All_y=All_labeled['customer_loyalty_score']"
      ],
      "execution_count": 38,
      "outputs": []
    },
    {
      "cell_type": "markdown",
      "metadata": {
        "id": "OH3Ae0goE2un"
      },
      "source": [
        "### Test train split"
      ]
    },
    {
      "cell_type": "markdown",
      "metadata": {
        "id": "6FqEvebEESAY"
      },
      "source": [
        "Now we split the labeled data into test and training sets. The training set will be used to try to figure out what values can be used to predict the outcome and how, and the test is used to see how good our model is."
      ]
    },
    {
      "cell_type": "code",
      "metadata": {
        "id": "YOAc4xghwhUV"
      },
      "source": [
        "X_train,X_test,y_train,y_test = train_test_split(All_X,All_y,test_size=.2,random_state=987) #Split data into test and training"
      ],
      "execution_count": 39,
      "outputs": []
    },
    {
      "cell_type": "markdown",
      "metadata": {
        "id": "kje5HeEzE7H7"
      },
      "source": [
        "### Model training and prediction"
      ]
    },
    {
      "cell_type": "markdown",
      "metadata": {
        "id": "YKsOvJLGElVr"
      },
      "source": [
        "Now we fit our actual model\r\n",
        "\r\n",
        "The model I choose to use is Lasso regression. The resons for this are as follows:\r\n",
        "\r\n",
        "*   This is a regression task\r\n",
        "  *  Regression is when we seek to predict a specific number based on inputs. Certain models are good for this, and this is one of them.\r\n",
        "\r\n",
        "*   We are not sure if all of our features are important\r\n",
        "  *  Some regression models just assume that all of the features are required and use them as such. Their are other methods for choosing important features, but they can be computationally expensive. Lasso combines regression and feature selection in an easy and explainable way.\r\n",
        "\r\n",
        "  In general lasso works by adding a penalty to something called \"ordinary least squares regression\" or ols. ols just seeks to fit a line through the data as close as possible to all of the data points (loyalty scores). The \"penalty\" that lasso is based on how many features the model is using to make predictions. So lasso then tries to fit the line as close as possible without using as much data to get it. The tradeoff of how many features should be used to how good the estimate is is optimized mathematically. A sepaate model called ridge regression also does this, but lasso is slightly different in that features get completely eliminated when they're unimportant, while ridge keeps them and just says they're very weak.\r\n",
        "\r\n",
        "  In this case specifically I use a special version of lasso that uses cross validation to find the result. Lasso needs to be told a value, alpha, for how much to penalize. In order to determine this, cross validation does  all of the math multiple times, using different alphas and different combinations of data, then optimizes mathematically and chooses which alpha is best for producing the most accuracy"
      ]
    },
    {
      "cell_type": "code",
      "metadata": {
        "id": "EpaUnnqZzvTH"
      },
      "source": [
        "reg = linear_model.LassoCV(cv=5,random_state=654,max_iter=10000).fit(X_train,y_train) #Fitting lasso model"
      ],
      "execution_count": 40,
      "outputs": []
    },
    {
      "cell_type": "code",
      "metadata": {
        "id": "mIrv3WwZ72_I"
      },
      "source": [
        "alphas,coefs,dual_gaps=linear_model.lasso_path(X_train,y_train)   #Pulling some data to show how features were chosen"
      ],
      "execution_count": 41,
      "outputs": []
    },
    {
      "cell_type": "markdown",
      "metadata": {
        "id": "bzAf5GMJFBbZ"
      },
      "source": [
        "### Evaluation/ Results"
      ]
    },
    {
      "cell_type": "markdown",
      "metadata": {
        "id": "luMt6W1wUtfH"
      },
      "source": [
        "Now that the modeling has been done we will explore the results and see how accurate it was."
      ]
    },
    {
      "cell_type": "markdown",
      "metadata": {
        "id": "ktqhgTM9U8zn"
      },
      "source": [
        "Here I plot the Lasso's process in eliminating features. As mentioned earlier it iterates through penalization/ alpha values, and sets the coefficient for the feature equal to 0 when it's unimportant. Higher alphas penalize more, so all of the coefficients are at 0, then as alpha is decreased more values are considered. The higher the absolute value of the coefficient the more important the feature is."
      ]
    },
    {
      "cell_type": "code",
      "metadata": {
        "colab": {
          "base_uri": "https://localhost:8080/",
          "height": 542
        },
        "id": "-uri3zNENksH",
        "outputId": "c4067c18-fdc8-4157-a321-ad8a727eafe1"
      },
      "source": [
        "fig = go.Figure() #Create an empty figure\r\n",
        "\r\n",
        "for i in range(len(coefs)):\r\n",
        "  fig.add_scatter(x=alphas,y=coefs[i],name=X_train.columns[i])      #Add in the values for the other features\r\n",
        "\r\n",
        "fig.update_layout(    \r\n",
        "    title= 'Feature elimination over iterations of alpha',\r\n",
        "    xaxis_title=\"Alpha value\",                                  #Add axis labels\r\n",
        "    yaxis_title=\"coefficient value\")"
      ],
      "execution_count": 42,
      "outputs": [
        {
          "output_type": "display_data",
          "data": {
            "text/html": [
              "<html>\n",
              "<head><meta charset=\"utf-8\" /></head>\n",
              "<body>\n",
              "    <div>\n",
              "            <script src=\"https://cdnjs.cloudflare.com/ajax/libs/mathjax/2.7.5/MathJax.js?config=TeX-AMS-MML_SVG\"></script><script type=\"text/javascript\">if (window.MathJax) {MathJax.Hub.Config({SVG: {font: \"STIX-Web\"}});}</script>\n",
              "                <script type=\"text/javascript\">window.PlotlyConfig = {MathJaxConfig: 'local'};</script>\n",
              "        <script src=\"https://cdn.plot.ly/plotly-latest.min.js\"></script>    \n",
              "            <div id=\"fb973b28-3184-4956-9e6f-66785b085c87\" class=\"plotly-graph-div\" style=\"height:525px; width:100%;\"></div>\n",
              "            <script type=\"text/javascript\">\n",
              "                \n",
              "                    window.PLOTLYENV=window.PLOTLYENV || {};\n",
              "                    \n",
              "                if (document.getElementById(\"fb973b28-3184-4956-9e6f-66785b085c87\")) {\n",
              "                    Plotly.newPlot(\n",
              "                        'fb973b28-3184-4956-9e6f-66785b085c87',\n",
              "                        [{\"name\": \"distance_from_store\", \"type\": \"scatter\", \"x\": [0.18477915103417428, 0.1723256546887108, 0.16071148231653376, 0.1498800662909628, 0.13977865145403076, 0.13035803816885216, 0.12157234268940205, 0.1133787736805701, 0.1057374238000148, 0.09861107532670324, 0.09196501888943676, 0.08576688441246726, 0.07998648345481314, 0.07459566217537804, 0.06956816420772757, 0.06487950277664817, 0.060506841433621235, 0.05642888283032745, 0.05262576498844444, 0.04907896456051306, 0.045771206610697425, 0.042686380476019775, 0.039809461298266575, 0.037126436844381425, 0.03462423925891861, 0.03229068141615287, 0.030114397561843958, 0.028084787955547526, 0.026191967243849167, 0.024426716313069398, 0.022780437386935467, 0.02124511215051965, 0.019813262696483987, 0.018477915103417418, 0.017232565468871083, 0.016071148231653374, 0.014988006629096278, 0.013977865145403078, 0.013035803816885214, 0.012157234268940205, 0.011337877368057005, 0.010573742380001475, 0.009861107532670324, 0.009196501888943675, 0.008576688441246726, 0.007998648345481323, 0.0074595662175378115, 0.006956816420772757, 0.006487950277664816, 0.006050684143362124, 0.005642888283032745, 0.005262576498844445, 0.004907896456051306, 0.004577120661069742, 0.004268638047601978, 0.003980946129826658, 0.003712643684438139, 0.003462423925891857, 0.003229068141615284, 0.0030114397561843927, 0.0028084787955547524, 0.0026191967243849165, 0.00244267163130694, 0.002278043738693547, 0.002124511215051965, 0.0019813262696483985, 0.0018477915103417416, 0.0017232565468871081, 0.0016071148231653375, 0.0014988006629096278, 0.0013977865145403078, 0.0013035803816885214, 0.0012157234268940205, 0.0011337877368057011, 0.001057374238000148, 0.0009861107532670324, 0.0009196501888943675, 0.0008576688441246725, 0.0007998648345481315, 0.0007459566217537804, 0.0006956816420772758, 0.0006487950277664816, 0.0006050684143362123, 0.0005642888283032745, 0.0005262576498844445, 0.0004907896456051306, 0.0004577120661069742, 0.00042686380476019775, 0.0003980946129826658, 0.00037126436844381425, 0.00034624239258918574, 0.00032290681416152837, 0.0003011439756184393, 0.00028084787955547525, 0.00026191967243849166, 0.00024426716313069396, 0.00022780437386935465, 0.00021245112150519648, 0.00019813262696483986, 0.00018477915103417417], \"y\": [-0.0, -0.0, -0.0, -0.0, -0.0, -0.0, -0.0, -0.0, -0.0, -0.0, -0.0, -0.0, -0.0, -0.0, -0.0, -0.0, -0.0, -0.0, -0.0, -0.0, -0.0, -0.0, -0.0, -0.0, -0.0, -0.0, -0.006055609705176485, -0.061670777127814304, -0.11361453977045989, -0.16233325678529703, -0.20784726094732175, -0.2503968959012132, -0.2900742487889006, -0.3270828920085089, -0.3618054500133576, -0.3945634697909709, -0.4251262252831461, -0.45362953571880693, -0.48020030066870156, -0.5049936279200538, -0.5298309147963577, -0.553554489526049, -0.575825424948573, -0.5964322333796526, -0.616287345584916, -0.6347706207178263, -0.6520081704568129, -0.6680851861467239, -0.6829314152516607, -0.6967401528072625, -0.7096179685473186, -0.7216257401414834, -0.7328262862632562, -0.7434952867627946, -0.7536170320554487, -0.7630690503541501, -0.7718820171336804, -0.7801007906031356, -0.7877922796568361, -0.7948156074015986, -0.8013003699269452, -0.8073449551269213, -0.8129808610068558, -0.8182379739592011, -0.8232159731822608, -0.8281404932957662, -0.8327319958353163, -0.8371859813795502, -0.8415722822999779, -0.8456635865570336, -0.849479494508875, -0.8530379332427814, -0.8563567881046984, -0.8594517208625683, -0.8623380441531159, -0.8650300419539915, -0.8674639590800571, -0.8696312766227842, -0.8716450954212329, -0.8735164879699026, -0.8752619757181529, -0.8768898344652131, -0.8784079685941821, -0.8798237852406576, -0.8811441803987216, -0.8823755968145099, -0.8835240089260546, -0.8845950215782905, -0.885593851556138, -0.8865253528136691, -0.8873940939878548, -0.888204276150266, -0.8889598544558183, -0.8896645093063192, -0.8903216727782008, -0.8909345300365422, -0.8915061051312508, -0.8920442917432808, -0.8925827849396845, -0.8931277288814795]}, {\"name\": \"credit_score\", \"type\": \"scatter\", \"x\": [0.18477915103417428, 0.1723256546887108, 0.16071148231653376, 0.1498800662909628, 0.13977865145403076, 0.13035803816885216, 0.12157234268940205, 0.1133787736805701, 0.1057374238000148, 0.09861107532670324, 0.09196501888943676, 0.08576688441246726, 0.07998648345481314, 0.07459566217537804, 0.06956816420772757, 0.06487950277664817, 0.060506841433621235, 0.05642888283032745, 0.05262576498844444, 0.04907896456051306, 0.045771206610697425, 0.042686380476019775, 0.039809461298266575, 0.037126436844381425, 0.03462423925891861, 0.03229068141615287, 0.030114397561843958, 0.028084787955547526, 0.026191967243849167, 0.024426716313069398, 0.022780437386935467, 0.02124511215051965, 0.019813262696483987, 0.018477915103417418, 0.017232565468871083, 0.016071148231653374, 0.014988006629096278, 0.013977865145403078, 0.013035803816885214, 0.012157234268940205, 0.011337877368057005, 0.010573742380001475, 0.009861107532670324, 0.009196501888943675, 0.008576688441246726, 0.007998648345481323, 0.0074595662175378115, 0.006956816420772757, 0.006487950277664816, 0.006050684143362124, 0.005642888283032745, 0.005262576498844445, 0.004907896456051306, 0.004577120661069742, 0.004268638047601978, 0.003980946129826658, 0.003712643684438139, 0.003462423925891857, 0.003229068141615284, 0.0030114397561843927, 0.0028084787955547524, 0.0026191967243849165, 0.00244267163130694, 0.002278043738693547, 0.002124511215051965, 0.0019813262696483985, 0.0018477915103417416, 0.0017232565468871081, 0.0016071148231653375, 0.0014988006629096278, 0.0013977865145403078, 0.0013035803816885214, 0.0012157234268940205, 0.0011337877368057011, 0.001057374238000148, 0.0009861107532670324, 0.0009196501888943675, 0.0008576688441246725, 0.0007998648345481315, 0.0007459566217537804, 0.0006956816420772758, 0.0006487950277664816, 0.0006050684143362123, 0.0005642888283032745, 0.0005262576498844445, 0.0004907896456051306, 0.0004577120661069742, 0.00042686380476019775, 0.0003980946129826658, 0.00037126436844381425, 0.00034624239258918574, 0.00032290681416152837, 0.0003011439756184393, 0.00028084787955547525, 0.00026191967243849166, 0.00024426716313069396, 0.00022780437386935465, 0.00021245112150519648, 0.00019813262696483986, 0.00018477915103417417], \"y\": [-0.0, -0.0, -0.0, -0.0, -0.0, -0.0, -0.0, -0.0, -0.0, -0.0, -0.0, -0.0, -0.0, -0.0, -0.0, -0.0, -0.0, -0.0, -0.0, -0.0, -0.0, -0.0, -0.0, -0.0, -0.0, -0.0, -0.0, -0.0, -0.0, -0.0, -0.0, -0.0, -0.0, -0.0, -0.0, -0.0, -0.0, -0.0, -0.0, -0.0, -0.0, -0.0007735461249474286, -0.0017645168415221521, -0.00264517359968792, -0.00352754762056936, -0.004348481362573915, -0.005114051751981924, -0.005828145558158092, -0.006479905916732604, -0.007084802001928761, -0.0076488971692893456, -0.008174949898050522, -0.00866556454119563, -0.009148729953867894, -0.009619304046566452, -0.010134945391993033, -0.010710432168405514, -0.01125501986760376, -0.011781653336274553, -0.0122158751166071, -0.012602444257489647, -0.012961710616410445, -0.013296466907621545, -0.013608883973291706, -0.013905635810075296, -0.014209469307664844, -0.014492407320250807, -0.01480218753030679, -0.015153951794292865, -0.015482019132919547, -0.015788055313630176, -0.016073392743624453, -0.016339562152204144, -0.016587729976766122, -0.016819167456468286, -0.01703506043085884, -0.017244485347121, -0.01745264788797193, -0.017650179880614212, -0.017836537021863164, -0.018010632728281, -0.01817305057490305, -0.018324522301753236, -0.018465785381276988, -0.018597482010844595, -0.01872034836059491, -0.01883493405710344, -0.018941797092820994, -0.019041457918957644, -0.019134364077264945, -0.01922104642950365, -0.019301886757225516, -0.019377278743896678, -0.019447589564258086, -0.019513161670700198, -0.019574285317743283, -0.01963131849498386, -0.019684826958112894, -0.01973621940974776, -0.01978705096852578]}, {\"name\": \"total num_items\", \"type\": \"scatter\", \"x\": [0.18477915103417428, 0.1723256546887108, 0.16071148231653376, 0.1498800662909628, 0.13977865145403076, 0.13035803816885216, 0.12157234268940205, 0.1133787736805701, 0.1057374238000148, 0.09861107532670324, 0.09196501888943676, 0.08576688441246726, 0.07998648345481314, 0.07459566217537804, 0.06956816420772757, 0.06487950277664817, 0.060506841433621235, 0.05642888283032745, 0.05262576498844444, 0.04907896456051306, 0.045771206610697425, 0.042686380476019775, 0.039809461298266575, 0.037126436844381425, 0.03462423925891861, 0.03229068141615287, 0.030114397561843958, 0.028084787955547526, 0.026191967243849167, 0.024426716313069398, 0.022780437386935467, 0.02124511215051965, 0.019813262696483987, 0.018477915103417418, 0.017232565468871083, 0.016071148231653374, 0.014988006629096278, 0.013977865145403078, 0.013035803816885214, 0.012157234268940205, 0.011337877368057005, 0.010573742380001475, 0.009861107532670324, 0.009196501888943675, 0.008576688441246726, 0.007998648345481323, 0.0074595662175378115, 0.006956816420772757, 0.006487950277664816, 0.006050684143362124, 0.005642888283032745, 0.005262576498844445, 0.004907896456051306, 0.004577120661069742, 0.004268638047601978, 0.003980946129826658, 0.003712643684438139, 0.003462423925891857, 0.003229068141615284, 0.0030114397561843927, 0.0028084787955547524, 0.0026191967243849165, 0.00244267163130694, 0.002278043738693547, 0.002124511215051965, 0.0019813262696483985, 0.0018477915103417416, 0.0017232565468871081, 0.0016071148231653375, 0.0014988006629096278, 0.0013977865145403078, 0.0013035803816885214, 0.0012157234268940205, 0.0011337877368057011, 0.001057374238000148, 0.0009861107532670324, 0.0009196501888943675, 0.0008576688441246725, 0.0007998648345481315, 0.0007459566217537804, 0.0006956816420772758, 0.0006487950277664816, 0.0006050684143362123, 0.0005642888283032745, 0.0005262576498844445, 0.0004907896456051306, 0.0004577120661069742, 0.00042686380476019775, 0.0003980946129826658, 0.00037126436844381425, 0.00034624239258918574, 0.00032290681416152837, 0.0003011439756184393, 0.00028084787955547525, 0.00026191967243849166, 0.00024426716313069396, 0.00022780437386935465, 0.00021245112150519648, 0.00019813262696483986, 0.00018477915103417417], \"y\": [0.0, 0.0, 0.0, 0.0, 0.0, 0.0, 0.0, 0.0, 0.0, 0.0, 0.0, 0.0, 0.0, 0.0, 0.0, 0.0, 0.0, 0.0, 0.0, 0.0, 0.0, 0.0, 0.0, 0.0, 0.0, 0.0, -0.0, -0.0, -0.0, -0.0, -0.0, -0.0, -0.0, -0.0, -0.0, -0.0, -0.0, -0.0, -0.0, -0.0, -0.0, -0.0, -0.0, -0.0, -0.0, -0.0, -0.0, -0.0, -0.0, -0.0, -0.0, -0.0, -0.0, -0.0, -0.0, -0.0, -0.0, -0.0, -0.0, -0.0, -0.0, -0.0, -0.0, -0.0, -0.0, -0.0, -0.0, -0.0, -0.0, -0.0, -0.0, -0.0, -0.0, -0.0, -0.0, -0.0, -0.0, -0.0, -0.0, -0.0, -0.0, -0.0, -0.0, -0.0, -0.0, -0.0, -0.0, -0.0, -0.0, -0.0, -0.0, -0.0, -0.0, -0.0, -0.0, -0.0, -0.0, -0.0, -0.0, -0.0]}, {\"name\": \"total sales\", \"type\": \"scatter\", \"x\": [0.18477915103417428, 0.1723256546887108, 0.16071148231653376, 0.1498800662909628, 0.13977865145403076, 0.13035803816885216, 0.12157234268940205, 0.1133787736805701, 0.1057374238000148, 0.09861107532670324, 0.09196501888943676, 0.08576688441246726, 0.07998648345481314, 0.07459566217537804, 0.06956816420772757, 0.06487950277664817, 0.060506841433621235, 0.05642888283032745, 0.05262576498844444, 0.04907896456051306, 0.045771206610697425, 0.042686380476019775, 0.039809461298266575, 0.037126436844381425, 0.03462423925891861, 0.03229068141615287, 0.030114397561843958, 0.028084787955547526, 0.026191967243849167, 0.024426716313069398, 0.022780437386935467, 0.02124511215051965, 0.019813262696483987, 0.018477915103417418, 0.017232565468871083, 0.016071148231653374, 0.014988006629096278, 0.013977865145403078, 0.013035803816885214, 0.012157234268940205, 0.011337877368057005, 0.010573742380001475, 0.009861107532670324, 0.009196501888943675, 0.008576688441246726, 0.007998648345481323, 0.0074595662175378115, 0.006956816420772757, 0.006487950277664816, 0.006050684143362124, 0.005642888283032745, 0.005262576498844445, 0.004907896456051306, 0.004577120661069742, 0.004268638047601978, 0.003980946129826658, 0.003712643684438139, 0.003462423925891857, 0.003229068141615284, 0.0030114397561843927, 0.0028084787955547524, 0.0026191967243849165, 0.00244267163130694, 0.002278043738693547, 0.002124511215051965, 0.0019813262696483985, 0.0018477915103417416, 0.0017232565468871081, 0.0016071148231653375, 0.0014988006629096278, 0.0013977865145403078, 0.0013035803816885214, 0.0012157234268940205, 0.0011337877368057011, 0.001057374238000148, 0.0009861107532670324, 0.0009196501888943675, 0.0008576688441246725, 0.0007998648345481315, 0.0007459566217537804, 0.0006956816420772758, 0.0006487950277664816, 0.0006050684143362123, 0.0005642888283032745, 0.0005262576498844445, 0.0004907896456051306, 0.0004577120661069742, 0.00042686380476019775, 0.0003980946129826658, 0.00037126436844381425, 0.00034624239258918574, 0.00032290681416152837, 0.0003011439756184393, 0.00028084787955547525, 0.00026191967243849166, 0.00024426716313069396, 0.00022780437386935465, 0.00021245112150519648, 0.00019813262696483986, 0.00018477915103417417], \"y\": [0.0, 0.0, 0.0, 0.0, 0.0, 0.0, 0.0, 0.0, 0.0, 0.0, 0.0, 0.0, 0.0, 0.0, 0.0, 0.0, 0.0, 0.0, 0.0, 0.0, 0.0, 0.0, 0.0, 0.0, 0.0, 0.0, 0.0, 0.0, 0.0, 0.0, 0.0, 0.0, 0.0, 0.0, 0.0, 0.0, 0.0, 0.0, 0.0, 0.0, 0.0, 0.0, 0.0, 0.0, 0.0, 0.0, 0.0, 0.0, 0.0, 0.0, 0.0, 0.0, 0.0, 0.0, 0.0, 0.0, 0.0, 0.0, 0.0, 0.0, 0.0, 0.0, 0.0, 0.0, 0.0, 0.0, 0.0, 0.0, 0.0, 0.0, 0.0, 0.0, 0.0, 0.0, 0.0, 0.0, 0.0, 0.0, 0.0, 0.0, 0.0, 0.0, 0.0, 0.0, 0.0, 0.0, 0.0, 0.0, 0.0, 0.0, 0.0, 0.0, 0.0, 0.0, 0.0, 0.0, 0.0, 0.0, 0.0, 0.0]}, {\"name\": \"total visits\", \"type\": \"scatter\", \"x\": [0.18477915103417428, 0.1723256546887108, 0.16071148231653376, 0.1498800662909628, 0.13977865145403076, 0.13035803816885216, 0.12157234268940205, 0.1133787736805701, 0.1057374238000148, 0.09861107532670324, 0.09196501888943676, 0.08576688441246726, 0.07998648345481314, 0.07459566217537804, 0.06956816420772757, 0.06487950277664817, 0.060506841433621235, 0.05642888283032745, 0.05262576498844444, 0.04907896456051306, 0.045771206610697425, 0.042686380476019775, 0.039809461298266575, 0.037126436844381425, 0.03462423925891861, 0.03229068141615287, 0.030114397561843958, 0.028084787955547526, 0.026191967243849167, 0.024426716313069398, 0.022780437386935467, 0.02124511215051965, 0.019813262696483987, 0.018477915103417418, 0.017232565468871083, 0.016071148231653374, 0.014988006629096278, 0.013977865145403078, 0.013035803816885214, 0.012157234268940205, 0.011337877368057005, 0.010573742380001475, 0.009861107532670324, 0.009196501888943675, 0.008576688441246726, 0.007998648345481323, 0.0074595662175378115, 0.006956816420772757, 0.006487950277664816, 0.006050684143362124, 0.005642888283032745, 0.005262576498844445, 0.004907896456051306, 0.004577120661069742, 0.004268638047601978, 0.003980946129826658, 0.003712643684438139, 0.003462423925891857, 0.003229068141615284, 0.0030114397561843927, 0.0028084787955547524, 0.0026191967243849165, 0.00244267163130694, 0.002278043738693547, 0.002124511215051965, 0.0019813262696483985, 0.0018477915103417416, 0.0017232565468871081, 0.0016071148231653375, 0.0014988006629096278, 0.0013977865145403078, 0.0013035803816885214, 0.0012157234268940205, 0.0011337877368057011, 0.001057374238000148, 0.0009861107532670324, 0.0009196501888943675, 0.0008576688441246725, 0.0007998648345481315, 0.0007459566217537804, 0.0006956816420772758, 0.0006487950277664816, 0.0006050684143362123, 0.0005642888283032745, 0.0005262576498844445, 0.0004907896456051306, 0.0004577120661069742, 0.00042686380476019775, 0.0003980946129826658, 0.00037126436844381425, 0.00034624239258918574, 0.00032290681416152837, 0.0003011439756184393, 0.00028084787955547525, 0.00026191967243849166, 0.00024426716313069396, 0.00022780437386935465, 0.00021245112150519648, 0.00019813262696483986, 0.00018477915103417417], \"y\": [0.0, 0.010961173067113913, 0.021123744716108575, 0.03060139297084604, 0.039440279453796065, 0.04768345457051612, 0.05537106727331375, 0.06254056060948475, 0.06922685409025475, 0.0754625925396361, 0.08127798431694844, 0.08670143815180441, 0.09175936934985778, 0.09647641291346733, 0.10087554352828354, 0.10497818746303761, 0.10880432692765937, 0.1123725973980076, 0.11684721080624975, 0.11908794435595871, 0.12115724354566379, 0.12309219044347579, 0.1251745776166516, 0.12734690145662178, 0.1293736662518916, 0.13126383512054604, 0.1320972799578466, 0.13213408843338126, 0.1321632039373224, 0.13216986080571375, 0.13154866186368783, 0.13033233283325388, 0.12921334539481003, 0.12815184669379856, 0.12702870116705545, 0.1257544489383303, 0.12453081863175638, 0.12338858198888572, 0.12235561922025397, 0.12135554679511923, 0.12012268346403199, 0.12069316085362282, 0.12216698150690562, 0.12348041769542875, 0.1242053925644015, 0.12476072072177587, 0.12527635436325818, 0.12576706388888662, 0.12681863248548306, 0.1279141106140959, 0.12893945117017866, 0.12991021317391982, 0.13080188402402634, 0.13097673514805488, 0.13057036956503743, 0.128199945018436, 0.12372413324912075, 0.1197748821337791, 0.11637442434981367, 0.11423052008975433, 0.11278591265647457, 0.11148399801872494, 0.11026855923058602, 0.1091384324271933, 0.10790685623969293, 0.10630456339797954, 0.10485312278811769, 0.10427405669052556, 0.10472544257348114, 0.10518370400220661, 0.10561065985196247, 0.10601063113160707, 0.10638208533874949, 0.1067300699907002, 0.1070547637819242, 0.10735612592814052, 0.10759870610861164, 0.10775431128856876, 0.10792310303298257, 0.10810999660800064, 0.10828984500937416, 0.10845852471045624, 0.10861589179541424, 0.10876265576351936, 0.10889894258608863, 0.10902658870161637, 0.1091456708093431, 0.10925672946266321, 0.10936030324271034, 0.10945646324052583, 0.10954654288949799, 0.1096305821889284, 0.10970895944807793, 0.10978205444076432, 0.10985022308009622, 0.1099134988608922, 0.10997278436893429, 0.11000021966486725, 0.10994137940790075, 0.1095791414678823]}, {\"name\": \"total profits\", \"type\": \"scatter\", \"x\": [0.18477915103417428, 0.1723256546887108, 0.16071148231653376, 0.1498800662909628, 0.13977865145403076, 0.13035803816885216, 0.12157234268940205, 0.1133787736805701, 0.1057374238000148, 0.09861107532670324, 0.09196501888943676, 0.08576688441246726, 0.07998648345481314, 0.07459566217537804, 0.06956816420772757, 0.06487950277664817, 0.060506841433621235, 0.05642888283032745, 0.05262576498844444, 0.04907896456051306, 0.045771206610697425, 0.042686380476019775, 0.039809461298266575, 0.037126436844381425, 0.03462423925891861, 0.03229068141615287, 0.030114397561843958, 0.028084787955547526, 0.026191967243849167, 0.024426716313069398, 0.022780437386935467, 0.02124511215051965, 0.019813262696483987, 0.018477915103417418, 0.017232565468871083, 0.016071148231653374, 0.014988006629096278, 0.013977865145403078, 0.013035803816885214, 0.012157234268940205, 0.011337877368057005, 0.010573742380001475, 0.009861107532670324, 0.009196501888943675, 0.008576688441246726, 0.007998648345481323, 0.0074595662175378115, 0.006956816420772757, 0.006487950277664816, 0.006050684143362124, 0.005642888283032745, 0.005262576498844445, 0.004907896456051306, 0.004577120661069742, 0.004268638047601978, 0.003980946129826658, 0.003712643684438139, 0.003462423925891857, 0.003229068141615284, 0.0030114397561843927, 0.0028084787955547524, 0.0026191967243849165, 0.00244267163130694, 0.002278043738693547, 0.002124511215051965, 0.0019813262696483985, 0.0018477915103417416, 0.0017232565468871081, 0.0016071148231653375, 0.0014988006629096278, 0.0013977865145403078, 0.0013035803816885214, 0.0012157234268940205, 0.0011337877368057011, 0.001057374238000148, 0.0009861107532670324, 0.0009196501888943675, 0.0008576688441246725, 0.0007998648345481315, 0.0007459566217537804, 0.0006956816420772758, 0.0006487950277664816, 0.0006050684143362123, 0.0005642888283032745, 0.0005262576498844445, 0.0004907896456051306, 0.0004577120661069742, 0.00042686380476019775, 0.0003980946129826658, 0.00037126436844381425, 0.00034624239258918574, 0.00032290681416152837, 0.0003011439756184393, 0.00028084787955547525, 0.00026191967243849166, 0.00024426716313069396, 0.00022780437386935465, 0.00021245112150519648, 0.00019813262696483986, 0.00018477915103417417], \"y\": [0.0, 0.0, 0.0, 0.0, 0.0, 0.0, 0.0, 0.0, 0.0, 0.0, 0.0, 0.0, 0.0, 0.0, 0.0, 0.0, 0.0, 0.0, 0.0, 0.0, 0.0, 0.0, 0.0, 0.0, 0.0, 0.0, 0.0, 0.0, 0.0, 0.0, 0.0, 0.0, 0.0, 0.0, 0.0, 0.0, 0.0, 0.0, 0.0, 0.0, 0.0, 0.0, 0.0, 0.0, 0.0, 0.0, 0.0, 0.0, 0.0, 0.0, 0.0, 0.0, 0.0, 0.0, 0.0, 0.0, 0.0, 0.0, 0.0, 0.0, 0.0, 0.0, 0.0, 0.0, 0.0, 0.0, 0.0, 0.0, 0.0, 0.0, 0.0, 0.0, 0.0, 0.0, 0.0, 0.0, 0.0, 0.0, 0.0, 0.0, 0.0, 0.0, 0.0, 0.0, 0.0, 0.0, 0.0, 0.0, 0.0, 0.0, 0.0, 0.0, 0.0, 0.0, 0.0, 0.0, 0.0, 4.9453912753710046e-05, 0.00045392820680894603, 0.0012564014859564449]}, {\"name\": \"avg days between visits\", \"type\": \"scatter\", \"x\": [0.18477915103417428, 0.1723256546887108, 0.16071148231653376, 0.1498800662909628, 0.13977865145403076, 0.13035803816885216, 0.12157234268940205, 0.1133787736805701, 0.1057374238000148, 0.09861107532670324, 0.09196501888943676, 0.08576688441246726, 0.07998648345481314, 0.07459566217537804, 0.06956816420772757, 0.06487950277664817, 0.060506841433621235, 0.05642888283032745, 0.05262576498844444, 0.04907896456051306, 0.045771206610697425, 0.042686380476019775, 0.039809461298266575, 0.037126436844381425, 0.03462423925891861, 0.03229068141615287, 0.030114397561843958, 0.028084787955547526, 0.026191967243849167, 0.024426716313069398, 0.022780437386935467, 0.02124511215051965, 0.019813262696483987, 0.018477915103417418, 0.017232565468871083, 0.016071148231653374, 0.014988006629096278, 0.013977865145403078, 0.013035803816885214, 0.012157234268940205, 0.011337877368057005, 0.010573742380001475, 0.009861107532670324, 0.009196501888943675, 0.008576688441246726, 0.007998648345481323, 0.0074595662175378115, 0.006956816420772757, 0.006487950277664816, 0.006050684143362124, 0.005642888283032745, 0.005262576498844445, 0.004907896456051306, 0.004577120661069742, 0.004268638047601978, 0.003980946129826658, 0.003712643684438139, 0.003462423925891857, 0.003229068141615284, 0.0030114397561843927, 0.0028084787955547524, 0.0026191967243849165, 0.00244267163130694, 0.002278043738693547, 0.002124511215051965, 0.0019813262696483985, 0.0018477915103417416, 0.0017232565468871081, 0.0016071148231653375, 0.0014988006629096278, 0.0013977865145403078, 0.0013035803816885214, 0.0012157234268940205, 0.0011337877368057011, 0.001057374238000148, 0.0009861107532670324, 0.0009196501888943675, 0.0008576688441246725, 0.0007998648345481315, 0.0007459566217537804, 0.0006956816420772758, 0.0006487950277664816, 0.0006050684143362123, 0.0005642888283032745, 0.0005262576498844445, 0.0004907896456051306, 0.0004577120661069742, 0.00042686380476019775, 0.0003980946129826658, 0.00037126436844381425, 0.00034624239258918574, 0.00032290681416152837, 0.0003011439756184393, 0.00028084787955547525, 0.00026191967243849166, 0.00024426716313069396, 0.00022780437386935465, 0.00021245112150519648, 0.00019813262696483986, 0.00018477915103417417], \"y\": [0.0, 0.0, 0.0, 0.0, 0.0, 0.0, 0.0, 0.0, 0.0, 0.0, 0.0, 0.0, 0.0, 0.0, 0.0, 0.0, 0.0, 0.0, 0.0, 0.0, 0.0, 0.0, 0.0016158737814145887, 0.004438352434097271, 0.007070672209451981, 0.009525582540384107, 0.011835346010430648, 0.013929789073351113, 0.015893695038861882, 0.017762507223331194, 0.019483949851117746, 0.021068000586189708, 0.022545751605779193, 0.023923373381591, 0.025224443517768185, 0.026468198865488287, 0.027627317199317797, 0.028708290145376084, 0.029717155548096622, 0.03065718250988893, 0.03151105654667136, 0.0323169218839401, 0.033078900676764715, 0.03380828634143595, 0.03443894798969442, 0.03502483067664976, 0.03557122609832461, 0.03608087018407428, 0.036529972170988745, 0.03694108213156766, 0.03732444217016594, 0.037681674083954265, 0.038015110775400034, 0.03832748239001064, 0.03862030130028289, 0.03886883560719474, 0.03906823643908816, 0.03926547386474958, 0.03945075776344715, 0.039520217638341654, 0.0395845776772046, 0.039645634710677786, 0.03970218587503255, 0.039755335824303434, 0.03982455722337082, 0.03996384209123204, 0.04009513221066207, 0.04020758033792274, 0.04029789910568838, 0.0403824427437094, 0.04046129642354551, 0.040534846237021784, 0.04060342537529735, 0.040667396240128405, 0.0407270530214536, 0.0407826755620484, 0.04083893007698132, 0.040895466080795244, 0.04095478275235434, 0.04101676996473409, 0.04107480825118287, 0.04112885077909817, 0.0411792458516883, 0.04122624431181156, 0.041270149151470495, 0.0413110257963685, 0.0413491428833852, 0.04138469085283605, 0.04141784300432877, 0.04144881527457932, 0.04147764949279592, 0.04150453668140714, 0.04152961162882823, 0.04155299660505938, 0.04157480551208994, 0.04159518195496355, 0.0416141505910572, 0.04163163997334861, 0.04164841087007171, 0.04166108042801389]}, {\"name\": \"Apr num_items\", \"type\": \"scatter\", \"x\": [0.18477915103417428, 0.1723256546887108, 0.16071148231653376, 0.1498800662909628, 0.13977865145403076, 0.13035803816885216, 0.12157234268940205, 0.1133787736805701, 0.1057374238000148, 0.09861107532670324, 0.09196501888943676, 0.08576688441246726, 0.07998648345481314, 0.07459566217537804, 0.06956816420772757, 0.06487950277664817, 0.060506841433621235, 0.05642888283032745, 0.05262576498844444, 0.04907896456051306, 0.045771206610697425, 0.042686380476019775, 0.039809461298266575, 0.037126436844381425, 0.03462423925891861, 0.03229068141615287, 0.030114397561843958, 0.028084787955547526, 0.026191967243849167, 0.024426716313069398, 0.022780437386935467, 0.02124511215051965, 0.019813262696483987, 0.018477915103417418, 0.017232565468871083, 0.016071148231653374, 0.014988006629096278, 0.013977865145403078, 0.013035803816885214, 0.012157234268940205, 0.011337877368057005, 0.010573742380001475, 0.009861107532670324, 0.009196501888943675, 0.008576688441246726, 0.007998648345481323, 0.0074595662175378115, 0.006956816420772757, 0.006487950277664816, 0.006050684143362124, 0.005642888283032745, 0.005262576498844445, 0.004907896456051306, 0.004577120661069742, 0.004268638047601978, 0.003980946129826658, 0.003712643684438139, 0.003462423925891857, 0.003229068141615284, 0.0030114397561843927, 0.0028084787955547524, 0.0026191967243849165, 0.00244267163130694, 0.002278043738693547, 0.002124511215051965, 0.0019813262696483985, 0.0018477915103417416, 0.0017232565468871081, 0.0016071148231653375, 0.0014988006629096278, 0.0013977865145403078, 0.0013035803816885214, 0.0012157234268940205, 0.0011337877368057011, 0.001057374238000148, 0.0009861107532670324, 0.0009196501888943675, 0.0008576688441246725, 0.0007998648345481315, 0.0007459566217537804, 0.0006956816420772758, 0.0006487950277664816, 0.0006050684143362123, 0.0005642888283032745, 0.0005262576498844445, 0.0004907896456051306, 0.0004577120661069742, 0.00042686380476019775, 0.0003980946129826658, 0.00037126436844381425, 0.00034624239258918574, 0.00032290681416152837, 0.0003011439756184393, 0.00028084787955547525, 0.00026191967243849166, 0.00024426716313069396, 0.00022780437386935465, 0.00021245112150519648, 0.00019813262696483986, 0.00018477915103417417], \"y\": [0.0, 0.0, 0.0, 0.0, 0.0, 0.0, 0.0, 0.0, 0.0, 0.0, 0.0, 0.0, 0.0, 0.0, 0.0, 0.0, 0.0, 0.0, 0.0, 0.0, 0.0, 0.0, -0.0, -0.0, -0.0, -0.0, -0.0, -0.0, -0.0, -0.0, -0.0, -0.0, -0.0, -0.0, -0.0, -0.0, -0.0, -0.0, -0.0, -0.0, -0.0, -0.0022301267490072853, -0.005114594413460761, -0.007499588465911326, -0.00926574764343305, -0.010845850273770262, -0.012318321294680221, -0.013696188056136522, -0.01509772054060106, -0.0164223013026744, -0.017658787899337555, -0.01881772034150262, -0.01989303038798877, -0.020796867791245493, -0.02154243282874924, -0.02307355860876422, -0.025577827666006882, -0.027952728218370897, -0.030141459776711343, -0.03152466232692839, -0.032714472349925035, -0.033814883081996386, -0.03483560755958321, -0.03579244560503611, -0.036646720876892615, -0.03737585680045911, -0.03804784755285043, -0.038809692066820466, -0.03970456243303972, -0.04053570746226909, -0.0413138327855201, -0.04203657777145976, -0.04271332943900124, -0.043341755624930076, -0.043927745115689094, -0.04447665315455664, -0.045027212531516765, -0.04560473814628392, -0.046502532567681165, -0.047650971180415044, -0.04872811915224863, -0.04973133643196112, -0.05066692396293853, -0.051539456298638285, -0.05235429696374212, -0.053113123794226114, -0.05382079034655249, -0.05448076265010731, -0.055096255041167094, -0.05567108596577687, -0.05620637010200168, -0.05670556224090981, -0.05717111057528765, -0.057605282520525436, -0.05801019273053576, -0.058388374890270725, -0.05874051994432982, -0.0590663252414805, -0.05937050475748845, -0.05962114958835586]}, {\"name\": \"Apr sales\", \"type\": \"scatter\", \"x\": [0.18477915103417428, 0.1723256546887108, 0.16071148231653376, 0.1498800662909628, 0.13977865145403076, 0.13035803816885216, 0.12157234268940205, 0.1133787736805701, 0.1057374238000148, 0.09861107532670324, 0.09196501888943676, 0.08576688441246726, 0.07998648345481314, 0.07459566217537804, 0.06956816420772757, 0.06487950277664817, 0.060506841433621235, 0.05642888283032745, 0.05262576498844444, 0.04907896456051306, 0.045771206610697425, 0.042686380476019775, 0.039809461298266575, 0.037126436844381425, 0.03462423925891861, 0.03229068141615287, 0.030114397561843958, 0.028084787955547526, 0.026191967243849167, 0.024426716313069398, 0.022780437386935467, 0.02124511215051965, 0.019813262696483987, 0.018477915103417418, 0.017232565468871083, 0.016071148231653374, 0.014988006629096278, 0.013977865145403078, 0.013035803816885214, 0.012157234268940205, 0.011337877368057005, 0.010573742380001475, 0.009861107532670324, 0.009196501888943675, 0.008576688441246726, 0.007998648345481323, 0.0074595662175378115, 0.006956816420772757, 0.006487950277664816, 0.006050684143362124, 0.005642888283032745, 0.005262576498844445, 0.004907896456051306, 0.004577120661069742, 0.004268638047601978, 0.003980946129826658, 0.003712643684438139, 0.003462423925891857, 0.003229068141615284, 0.0030114397561843927, 0.0028084787955547524, 0.0026191967243849165, 0.00244267163130694, 0.002278043738693547, 0.002124511215051965, 0.0019813262696483985, 0.0018477915103417416, 0.0017232565468871081, 0.0016071148231653375, 0.0014988006629096278, 0.0013977865145403078, 0.0013035803816885214, 0.0012157234268940205, 0.0011337877368057011, 0.001057374238000148, 0.0009861107532670324, 0.0009196501888943675, 0.0008576688441246725, 0.0007998648345481315, 0.0007459566217537804, 0.0006956816420772758, 0.0006487950277664816, 0.0006050684143362123, 0.0005642888283032745, 0.0005262576498844445, 0.0004907896456051306, 0.0004577120661069742, 0.00042686380476019775, 0.0003980946129826658, 0.00037126436844381425, 0.00034624239258918574, 0.00032290681416152837, 0.0003011439756184393, 0.00028084787955547525, 0.00026191967243849166, 0.00024426716313069396, 0.00022780437386935465, 0.00021245112150519648, 0.00019813262696483986, 0.00018477915103417417], \"y\": [0.0, 0.0, 0.0, 0.0, 0.0, 0.0, 0.0, 0.0, 0.0, 0.0, 0.0, 0.0, 0.0, 0.0, 0.0, 0.0, 0.0, 0.0, 0.0, 0.0, 0.0, 0.0, 0.0, 0.0, 0.0, 0.0, 0.0, 0.0, 0.0, 0.0, 0.0, -0.0, -0.0, -0.0, -0.0, -0.0, -0.0, -0.0, -0.0, -0.0, -0.0, -0.0, -0.0, -0.0, 0.0, 0.0, 0.0, 0.0, 0.0, 0.0, 0.0, 0.0, 0.0, 0.0, 0.0, 0.0, 0.0, 0.0, 0.0, 0.0, 0.0, 0.0, 0.0, 0.0, 0.0, 0.0, 0.0, 0.0, 0.0, 0.0, 0.0, 0.0, 0.0, 0.0, 0.0, 0.0, 0.0, 0.0, 0.0004319150125956553, 0.001227203648433984, 0.0019711611498609495, 0.002664869880592551, 0.0033118508387875185, 0.003915228373854947, 0.004478046445162657, 0.005002805160239989, 0.005492217234027622, 0.005948645374160928, 0.00637431180971228, 0.006771377437043565, 0.007141577768160597, 0.0074868438291714814, 0.0078088408142511, 0.008109136303010415, 0.008389192881779401, 0.008650441071203066, 0.008894003242217074, 0.009109401876254093, 0.009224653468577142, 0.009225290455049016]}, {\"name\": \"Apr visits\", \"type\": \"scatter\", \"x\": [0.18477915103417428, 0.1723256546887108, 0.16071148231653376, 0.1498800662909628, 0.13977865145403076, 0.13035803816885216, 0.12157234268940205, 0.1133787736805701, 0.1057374238000148, 0.09861107532670324, 0.09196501888943676, 0.08576688441246726, 0.07998648345481314, 0.07459566217537804, 0.06956816420772757, 0.06487950277664817, 0.060506841433621235, 0.05642888283032745, 0.05262576498844444, 0.04907896456051306, 0.045771206610697425, 0.042686380476019775, 0.039809461298266575, 0.037126436844381425, 0.03462423925891861, 0.03229068141615287, 0.030114397561843958, 0.028084787955547526, 0.026191967243849167, 0.024426716313069398, 0.022780437386935467, 0.02124511215051965, 0.019813262696483987, 0.018477915103417418, 0.017232565468871083, 0.016071148231653374, 0.014988006629096278, 0.013977865145403078, 0.013035803816885214, 0.012157234268940205, 0.011337877368057005, 0.010573742380001475, 0.009861107532670324, 0.009196501888943675, 0.008576688441246726, 0.007998648345481323, 0.0074595662175378115, 0.006956816420772757, 0.006487950277664816, 0.006050684143362124, 0.005642888283032745, 0.005262576498844445, 0.004907896456051306, 0.004577120661069742, 0.004268638047601978, 0.003980946129826658, 0.003712643684438139, 0.003462423925891857, 0.003229068141615284, 0.0030114397561843927, 0.0028084787955547524, 0.0026191967243849165, 0.00244267163130694, 0.002278043738693547, 0.002124511215051965, 0.0019813262696483985, 0.0018477915103417416, 0.0017232565468871081, 0.0016071148231653375, 0.0014988006629096278, 0.0013977865145403078, 0.0013035803816885214, 0.0012157234268940205, 0.0011337877368057011, 0.001057374238000148, 0.0009861107532670324, 0.0009196501888943675, 0.0008576688441246725, 0.0007998648345481315, 0.0007459566217537804, 0.0006956816420772758, 0.0006487950277664816, 0.0006050684143362123, 0.0005642888283032745, 0.0005262576498844445, 0.0004907896456051306, 0.0004577120661069742, 0.00042686380476019775, 0.0003980946129826658, 0.00037126436844381425, 0.00034624239258918574, 0.00032290681416152837, 0.0003011439756184393, 0.00028084787955547525, 0.00026191967243849166, 0.00024426716313069396, 0.00022780437386935465, 0.00021245112150519648, 0.00019813262696483986, 0.00018477915103417417], \"y\": [0.0, 0.0, 0.0, 0.0, 0.0, 0.0, 0.0, 0.0, 0.0, 0.0, 0.0, 0.0, 0.0, 0.0, 0.0, 0.0, 0.0, 0.0, 0.0, 0.0, 0.0, 0.0, 0.0, 0.0, 0.0, 0.0, 0.0, 0.0, 0.0, 0.0, 0.0, 0.0, 0.0, 0.0, 0.0, 0.0, 0.0, 0.0, 0.0, 0.0, 0.0, 0.0, 0.0, 0.0, 0.0, 0.0, 0.0, 0.0, 0.0, 0.0, 0.0, 0.0, 0.0, 0.0, 0.0, 0.0013930592508022476, 0.004359660394229051, 0.007069385666063876, 0.00944559152030677, 0.010899813488330292, 0.012029333975531862, 0.013063118109191463, 0.014023933581823064, 0.014922255717020681, 0.015791122208827932, 0.016689116163917266, 0.01750748218056941, 0.01819522662599438, 0.018752774955389316, 0.01926002274737797, 0.019735643305804462, 0.020176328372153177, 0.020589961781353323, 0.02097306941201162, 0.021330252981151255, 0.02166573498337077, 0.022011478793633868, 0.022393861633954796, 0.022704812045121387, 0.022940125600659857, 0.023160749497357736, 0.023365293079104288, 0.02355600770862575, 0.023733867651797115, 0.023900684909485156, 0.02405535216723936, 0.024199558990863606, 0.024334045729443487, 0.02445946847674387, 0.0245771319317895, 0.0246862021960496, 0.024787891704642517, 0.02488272678480369, 0.02497117026534718, 0.025053652950086647, 0.025131050532934088, 0.0252027813209307, 0.02527709233636141, 0.02537878347103107, 0.02555255272456884]}, {\"name\": \"Jun num_items\", \"type\": \"scatter\", \"x\": [0.18477915103417428, 0.1723256546887108, 0.16071148231653376, 0.1498800662909628, 0.13977865145403076, 0.13035803816885216, 0.12157234268940205, 0.1133787736805701, 0.1057374238000148, 0.09861107532670324, 0.09196501888943676, 0.08576688441246726, 0.07998648345481314, 0.07459566217537804, 0.06956816420772757, 0.06487950277664817, 0.060506841433621235, 0.05642888283032745, 0.05262576498844444, 0.04907896456051306, 0.045771206610697425, 0.042686380476019775, 0.039809461298266575, 0.037126436844381425, 0.03462423925891861, 0.03229068141615287, 0.030114397561843958, 0.028084787955547526, 0.026191967243849167, 0.024426716313069398, 0.022780437386935467, 0.02124511215051965, 0.019813262696483987, 0.018477915103417418, 0.017232565468871083, 0.016071148231653374, 0.014988006629096278, 0.013977865145403078, 0.013035803816885214, 0.012157234268940205, 0.011337877368057005, 0.010573742380001475, 0.009861107532670324, 0.009196501888943675, 0.008576688441246726, 0.007998648345481323, 0.0074595662175378115, 0.006956816420772757, 0.006487950277664816, 0.006050684143362124, 0.005642888283032745, 0.005262576498844445, 0.004907896456051306, 0.004577120661069742, 0.004268638047601978, 0.003980946129826658, 0.003712643684438139, 0.003462423925891857, 0.003229068141615284, 0.0030114397561843927, 0.0028084787955547524, 0.0026191967243849165, 0.00244267163130694, 0.002278043738693547, 0.002124511215051965, 0.0019813262696483985, 0.0018477915103417416, 0.0017232565468871081, 0.0016071148231653375, 0.0014988006629096278, 0.0013977865145403078, 0.0013035803816885214, 0.0012157234268940205, 0.0011337877368057011, 0.001057374238000148, 0.0009861107532670324, 0.0009196501888943675, 0.0008576688441246725, 0.0007998648345481315, 0.0007459566217537804, 0.0006956816420772758, 0.0006487950277664816, 0.0006050684143362123, 0.0005642888283032745, 0.0005262576498844445, 0.0004907896456051306, 0.0004577120661069742, 0.00042686380476019775, 0.0003980946129826658, 0.00037126436844381425, 0.00034624239258918574, 0.00032290681416152837, 0.0003011439756184393, 0.00028084787955547525, 0.00026191967243849166, 0.00024426716313069396, 0.00022780437386935465, 0.00021245112150519648, 0.00019813262696483986, 0.00018477915103417417], \"y\": [0.0, 0.0, 0.0, 0.0, 0.0, 0.0, 0.0, 0.0, 0.0, 0.0, 0.0, 0.0, 0.0, 0.0, 0.0, 0.0, 0.0, 0.0, 0.0, -0.0, -0.0, -0.0, -0.0, -0.0, -0.0, -0.0, -0.0, -0.0, -0.0, -0.0, -0.0, -0.0, -0.0, -0.0, -0.0, -0.0, -0.0, -0.0, -0.0, -0.0, -0.0, -0.0, -0.0, -0.0, -0.0, -0.0, -0.0, -0.0, -0.0004836435316662802, -0.0010710283948316514, -0.001619874766407622, -0.0021368274424748554, -0.002614081006076803, -0.0029513889299269463, -0.003165518990684016, -0.002814965133617019, -0.001859837758398241, -0.0010037884857351208, -0.00019771963457326398, -0.0, -0.0, -0.0, -0.0, -0.0, -0.0, -0.0, -0.0, 0.0, 0.0, 0.0, 0.0, 0.0, 0.0, 0.0, 0.0, 0.0, 0.0, 0.0, 0.0, 0.0, 0.0, 0.0, 0.0, 0.0, 0.0, 0.0, 0.0, 0.0, 0.0, 0.0, 0.0, 0.0, 0.0, 0.0, 0.0, 0.0, 0.0, 0.0, 0.0, 0.0]}, {\"name\": \"Jun sales\", \"type\": \"scatter\", \"x\": [0.18477915103417428, 0.1723256546887108, 0.16071148231653376, 0.1498800662909628, 0.13977865145403076, 0.13035803816885216, 0.12157234268940205, 0.1133787736805701, 0.1057374238000148, 0.09861107532670324, 0.09196501888943676, 0.08576688441246726, 0.07998648345481314, 0.07459566217537804, 0.06956816420772757, 0.06487950277664817, 0.060506841433621235, 0.05642888283032745, 0.05262576498844444, 0.04907896456051306, 0.045771206610697425, 0.042686380476019775, 0.039809461298266575, 0.037126436844381425, 0.03462423925891861, 0.03229068141615287, 0.030114397561843958, 0.028084787955547526, 0.026191967243849167, 0.024426716313069398, 0.022780437386935467, 0.02124511215051965, 0.019813262696483987, 0.018477915103417418, 0.017232565468871083, 0.016071148231653374, 0.014988006629096278, 0.013977865145403078, 0.013035803816885214, 0.012157234268940205, 0.011337877368057005, 0.010573742380001475, 0.009861107532670324, 0.009196501888943675, 0.008576688441246726, 0.007998648345481323, 0.0074595662175378115, 0.006956816420772757, 0.006487950277664816, 0.006050684143362124, 0.005642888283032745, 0.005262576498844445, 0.004907896456051306, 0.004577120661069742, 0.004268638047601978, 0.003980946129826658, 0.003712643684438139, 0.003462423925891857, 0.003229068141615284, 0.0030114397561843927, 0.0028084787955547524, 0.0026191967243849165, 0.00244267163130694, 0.002278043738693547, 0.002124511215051965, 0.0019813262696483985, 0.0018477915103417416, 0.0017232565468871081, 0.0016071148231653375, 0.0014988006629096278, 0.0013977865145403078, 0.0013035803816885214, 0.0012157234268940205, 0.0011337877368057011, 0.001057374238000148, 0.0009861107532670324, 0.0009196501888943675, 0.0008576688441246725, 0.0007998648345481315, 0.0007459566217537804, 0.0006956816420772758, 0.0006487950277664816, 0.0006050684143362123, 0.0005642888283032745, 0.0005262576498844445, 0.0004907896456051306, 0.0004577120661069742, 0.00042686380476019775, 0.0003980946129826658, 0.00037126436844381425, 0.00034624239258918574, 0.00032290681416152837, 0.0003011439756184393, 0.00028084787955547525, 0.00026191967243849166, 0.00024426716313069396, 0.00022780437386935465, 0.00021245112150519648, 0.00019813262696483986, 0.00018477915103417417], \"y\": [0.0, 0.0, 0.0, 0.0, 0.0, 0.0, 0.0, 0.0, 0.0, 0.0, 0.0, 0.0, 0.0, 0.0, 0.0, 0.0, 0.0, 0.0, 0.0, -0.0, -0.0, -0.0, -0.0, -0.0, -0.0, -0.0, -0.0, -0.0, -0.0, -0.0, -0.0, -0.0, -0.0, -0.0, -0.0, -0.0, -0.0, -0.0, -0.0, -0.0, -0.0, -0.0, -0.0, -0.0, -0.0, -0.0, -0.0, -0.0, -0.0, -0.0, -0.0, -0.0, -0.0, -0.0, -0.0, -0.0, -0.0, -0.0, -0.0, -0.0, -0.0, -0.0, 0.0, 0.0, 0.0, 0.0, 0.0, 0.0, 0.0, 0.0, 0.0, 0.0, 0.0, 0.0, 0.0, 0.0, 0.0, 0.0, 0.0, 0.0, 0.0, 0.0, 0.0, 0.0, 0.0, 0.0, 0.0, 0.0, 0.0, 0.0, 0.0, 0.0, 0.0, 0.0, 0.0, 0.0, 0.0, 0.0, 0.0, -0.0]}, {\"name\": \"Jun visits\", \"type\": \"scatter\", \"x\": [0.18477915103417428, 0.1723256546887108, 0.16071148231653376, 0.1498800662909628, 0.13977865145403076, 0.13035803816885216, 0.12157234268940205, 0.1133787736805701, 0.1057374238000148, 0.09861107532670324, 0.09196501888943676, 0.08576688441246726, 0.07998648345481314, 0.07459566217537804, 0.06956816420772757, 0.06487950277664817, 0.060506841433621235, 0.05642888283032745, 0.05262576498844444, 0.04907896456051306, 0.045771206610697425, 0.042686380476019775, 0.039809461298266575, 0.037126436844381425, 0.03462423925891861, 0.03229068141615287, 0.030114397561843958, 0.028084787955547526, 0.026191967243849167, 0.024426716313069398, 0.022780437386935467, 0.02124511215051965, 0.019813262696483987, 0.018477915103417418, 0.017232565468871083, 0.016071148231653374, 0.014988006629096278, 0.013977865145403078, 0.013035803816885214, 0.012157234268940205, 0.011337877368057005, 0.010573742380001475, 0.009861107532670324, 0.009196501888943675, 0.008576688441246726, 0.007998648345481323, 0.0074595662175378115, 0.006956816420772757, 0.006487950277664816, 0.006050684143362124, 0.005642888283032745, 0.005262576498844445, 0.004907896456051306, 0.004577120661069742, 0.004268638047601978, 0.003980946129826658, 0.003712643684438139, 0.003462423925891857, 0.003229068141615284, 0.0030114397561843927, 0.0028084787955547524, 0.0026191967243849165, 0.00244267163130694, 0.002278043738693547, 0.002124511215051965, 0.0019813262696483985, 0.0018477915103417416, 0.0017232565468871081, 0.0016071148231653375, 0.0014988006629096278, 0.0013977865145403078, 0.0013035803816885214, 0.0012157234268940205, 0.0011337877368057011, 0.001057374238000148, 0.0009861107532670324, 0.0009196501888943675, 0.0008576688441246725, 0.0007998648345481315, 0.0007459566217537804, 0.0006956816420772758, 0.0006487950277664816, 0.0006050684143362123, 0.0005642888283032745, 0.0005262576498844445, 0.0004907896456051306, 0.0004577120661069742, 0.00042686380476019775, 0.0003980946129826658, 0.00037126436844381425, 0.00034624239258918574, 0.00032290681416152837, 0.0003011439756184393, 0.00028084787955547525, 0.00026191967243849166, 0.00024426716313069396, 0.00022780437386935465, 0.00021245112150519648, 0.00019813262696483986, 0.00018477915103417417], \"y\": [0.0, 0.0, 0.0, 0.0, 0.0, 0.0, 0.0, 0.0, 0.0, 0.0, 0.0, 0.0, 0.0, 0.0, 0.0, 0.0, 0.0, 0.0, 0.0, 0.0, 0.0, 0.0, 0.0, 0.0, 0.0, 0.0, 0.0, 0.0, 0.0, 0.0, 0.0, 0.0, 0.0, 0.0, 0.0, -0.0, -0.0, -0.0, -0.0, -0.0, -0.0, -0.0, -0.0, -0.0, -0.0, -0.0, -0.0, -0.0, -0.0, -0.0, -0.0, -0.0, -0.0, -0.0, -0.0, -0.0, -0.0, -0.0, -0.0, -0.0, -0.0, 0.0, 0.0, 0.0, 0.0, 0.0, 0.0, 0.0, 0.0, 0.0, 0.0, 0.0, 0.0, 0.0, 0.0, 0.0, 0.0, 0.0, 0.0, 0.0, 0.0, 0.0, 0.0, 0.0, 0.0, 0.0, 0.0, 0.0, 0.0, 0.0, 0.0, 0.0, 0.0, 0.0, 0.0, 0.0, 0.0, 0.0, 0.0, 0.0]}, {\"name\": \"Jul num_items\", \"type\": \"scatter\", \"x\": [0.18477915103417428, 0.1723256546887108, 0.16071148231653376, 0.1498800662909628, 0.13977865145403076, 0.13035803816885216, 0.12157234268940205, 0.1133787736805701, 0.1057374238000148, 0.09861107532670324, 0.09196501888943676, 0.08576688441246726, 0.07998648345481314, 0.07459566217537804, 0.06956816420772757, 0.06487950277664817, 0.060506841433621235, 0.05642888283032745, 0.05262576498844444, 0.04907896456051306, 0.045771206610697425, 0.042686380476019775, 0.039809461298266575, 0.037126436844381425, 0.03462423925891861, 0.03229068141615287, 0.030114397561843958, 0.028084787955547526, 0.026191967243849167, 0.024426716313069398, 0.022780437386935467, 0.02124511215051965, 0.019813262696483987, 0.018477915103417418, 0.017232565468871083, 0.016071148231653374, 0.014988006629096278, 0.013977865145403078, 0.013035803816885214, 0.012157234268940205, 0.011337877368057005, 0.010573742380001475, 0.009861107532670324, 0.009196501888943675, 0.008576688441246726, 0.007998648345481323, 0.0074595662175378115, 0.006956816420772757, 0.006487950277664816, 0.006050684143362124, 0.005642888283032745, 0.005262576498844445, 0.004907896456051306, 0.004577120661069742, 0.004268638047601978, 0.003980946129826658, 0.003712643684438139, 0.003462423925891857, 0.003229068141615284, 0.0030114397561843927, 0.0028084787955547524, 0.0026191967243849165, 0.00244267163130694, 0.002278043738693547, 0.002124511215051965, 0.0019813262696483985, 0.0018477915103417416, 0.0017232565468871081, 0.0016071148231653375, 0.0014988006629096278, 0.0013977865145403078, 0.0013035803816885214, 0.0012157234268940205, 0.0011337877368057011, 0.001057374238000148, 0.0009861107532670324, 0.0009196501888943675, 0.0008576688441246725, 0.0007998648345481315, 0.0007459566217537804, 0.0006956816420772758, 0.0006487950277664816, 0.0006050684143362123, 0.0005642888283032745, 0.0005262576498844445, 0.0004907896456051306, 0.0004577120661069742, 0.00042686380476019775, 0.0003980946129826658, 0.00037126436844381425, 0.00034624239258918574, 0.00032290681416152837, 0.0003011439756184393, 0.00028084787955547525, 0.00026191967243849166, 0.00024426716313069396, 0.00022780437386935465, 0.00021245112150519648, 0.00019813262696483986, 0.00018477915103417417], \"y\": [0.0, 0.0, 0.0, 0.0, 0.0, 0.0, 0.0, 0.0, 0.0, 0.0, 0.0, 0.0, 0.0, 0.0, 0.0, 0.0, 0.0, 0.0, 0.0, 0.0, 0.0, 0.0, 0.0, 0.0, 0.0, 0.0, 0.0, 0.0, 0.0, 0.0, 0.0, 0.0, 0.0, 0.0, 0.0, 0.0, 0.0, 0.0, 0.0, 0.0, -0.0, -0.0, -0.0, -0.0, -0.0, -0.0, -0.0, -0.0, -0.0, -0.0, -0.0, -0.0, -0.0, -0.0, -0.0, -0.0, -0.0, -0.0, -0.0008085296363448406, -0.004431409662775595, -0.007873239395308066, -0.011099458048178485, -0.014123113718572108, -0.01692966388424146, -0.01974577250902961, -0.023038164872744835, -0.026139081974545095, -0.029117103845992955, -0.031985982079595514, -0.034680606784154334, -0.03718118920021001, -0.03952554529895923, -0.041700420160505805, -0.04374018588514489, -0.045642785339175734, -0.04740690938755054, -0.04921125639862976, -0.05111006147990669, -0.052835183594541604, -0.054414941203596336, -0.05588185792257327, -0.057257524151424335, -0.05854072588305293, -0.059737450334579466, -0.06084718523379663, -0.061888235783764886, -0.06285934321052254, -0.0637650072933638, -0.06460963279894383, -0.06539256982694747, -0.06612731834238064, -0.06681272651107738, -0.06745194579729431, -0.06804808398725214, -0.06860404446184322, -0.06911919516694592, -0.06960282579615872, -0.07005772959156858, -0.070465664733503, -0.07090161942409191]}, {\"name\": \"Jul sales\", \"type\": \"scatter\", \"x\": [0.18477915103417428, 0.1723256546887108, 0.16071148231653376, 0.1498800662909628, 0.13977865145403076, 0.13035803816885216, 0.12157234268940205, 0.1133787736805701, 0.1057374238000148, 0.09861107532670324, 0.09196501888943676, 0.08576688441246726, 0.07998648345481314, 0.07459566217537804, 0.06956816420772757, 0.06487950277664817, 0.060506841433621235, 0.05642888283032745, 0.05262576498844444, 0.04907896456051306, 0.045771206610697425, 0.042686380476019775, 0.039809461298266575, 0.037126436844381425, 0.03462423925891861, 0.03229068141615287, 0.030114397561843958, 0.028084787955547526, 0.026191967243849167, 0.024426716313069398, 0.022780437386935467, 0.02124511215051965, 0.019813262696483987, 0.018477915103417418, 0.017232565468871083, 0.016071148231653374, 0.014988006629096278, 0.013977865145403078, 0.013035803816885214, 0.012157234268940205, 0.011337877368057005, 0.010573742380001475, 0.009861107532670324, 0.009196501888943675, 0.008576688441246726, 0.007998648345481323, 0.0074595662175378115, 0.006956816420772757, 0.006487950277664816, 0.006050684143362124, 0.005642888283032745, 0.005262576498844445, 0.004907896456051306, 0.004577120661069742, 0.004268638047601978, 0.003980946129826658, 0.003712643684438139, 0.003462423925891857, 0.003229068141615284, 0.0030114397561843927, 0.0028084787955547524, 0.0026191967243849165, 0.00244267163130694, 0.002278043738693547, 0.002124511215051965, 0.0019813262696483985, 0.0018477915103417416, 0.0017232565468871081, 0.0016071148231653375, 0.0014988006629096278, 0.0013977865145403078, 0.0013035803816885214, 0.0012157234268940205, 0.0011337877368057011, 0.001057374238000148, 0.0009861107532670324, 0.0009196501888943675, 0.0008576688441246725, 0.0007998648345481315, 0.0007459566217537804, 0.0006956816420772758, 0.0006487950277664816, 0.0006050684143362123, 0.0005642888283032745, 0.0005262576498844445, 0.0004907896456051306, 0.0004577120661069742, 0.00042686380476019775, 0.0003980946129826658, 0.00037126436844381425, 0.00034624239258918574, 0.00032290681416152837, 0.0003011439756184393, 0.00028084787955547525, 0.00026191967243849166, 0.00024426716313069396, 0.00022780437386935465, 0.00021245112150519648, 0.00019813262696483986, 0.00018477915103417417], \"y\": [0.0, 0.0, 0.0, 0.0, 0.0, 0.0, 0.0, 0.0, 0.0, 0.0, 0.0, 0.0, 0.0, 0.0, 0.0, 0.0, 0.0, 0.0, 0.0, 0.0, 0.0, 0.0, 0.0, 0.0, 0.0, 0.0, 0.0, 0.0, 0.0, 0.0, 0.0, 0.0, 0.0, 0.0, 0.0, 0.0, 0.0, 0.0, 0.0, 0.0, 0.002171377666705914, 0.005317499145404323, 0.008683906788370799, 0.012245931494308323, 0.015221921493016663, 0.017931035197238977, 0.020458281308602333, 0.022815622941256213, 0.0251203409846797, 0.027290883787080434, 0.029315413117661466, 0.03120147899329993, 0.032962493436285434, 0.034604541276030736, 0.03612116656556167, 0.03744518105480648, 0.038546043619224486, 0.03949913093558701, 0.04072592076369064, 0.04380000345133127, 0.04671520260738854, 0.04943823079455922, 0.05198434034321427, 0.05435277441230388, 0.056938374842670725, 0.06060689103265356, 0.06404061190802635, 0.06727660630591673, 0.07032319351515404, 0.07317226353562123, 0.07582263110099674, 0.0783009026059312, 0.08060600440954263, 0.08276188745320505, 0.08477260152901318, 0.0866423043611864, 0.0886008288257873, 0.09073425259796705, 0.0926470430451973, 0.09436620691091735, 0.09596526607703411, 0.0974612785658257, 0.09885660017378778, 0.10015788497381824, 0.10136752323489348, 0.1024994571161525, 0.10355522238559102, 0.104539835764484, 0.10545808957254887, 0.10631147281612251, 0.10711022344091918, 0.10785523886139442, 0.10855004552423629, 0.10919802461606605, 0.1098023320873521, 0.11036380689955098, 0.11088946765950361, 0.11136730683399407, 0.11168364495108186, 0.11189231809950988]}, {\"name\": \"Jul visits\", \"type\": \"scatter\", \"x\": [0.18477915103417428, 0.1723256546887108, 0.16071148231653376, 0.1498800662909628, 0.13977865145403076, 0.13035803816885216, 0.12157234268940205, 0.1133787736805701, 0.1057374238000148, 0.09861107532670324, 0.09196501888943676, 0.08576688441246726, 0.07998648345481314, 0.07459566217537804, 0.06956816420772757, 0.06487950277664817, 0.060506841433621235, 0.05642888283032745, 0.05262576498844444, 0.04907896456051306, 0.045771206610697425, 0.042686380476019775, 0.039809461298266575, 0.037126436844381425, 0.03462423925891861, 0.03229068141615287, 0.030114397561843958, 0.028084787955547526, 0.026191967243849167, 0.024426716313069398, 0.022780437386935467, 0.02124511215051965, 0.019813262696483987, 0.018477915103417418, 0.017232565468871083, 0.016071148231653374, 0.014988006629096278, 0.013977865145403078, 0.013035803816885214, 0.012157234268940205, 0.011337877368057005, 0.010573742380001475, 0.009861107532670324, 0.009196501888943675, 0.008576688441246726, 0.007998648345481323, 0.0074595662175378115, 0.006956816420772757, 0.006487950277664816, 0.006050684143362124, 0.005642888283032745, 0.005262576498844445, 0.004907896456051306, 0.004577120661069742, 0.004268638047601978, 0.003980946129826658, 0.003712643684438139, 0.003462423925891857, 0.003229068141615284, 0.0030114397561843927, 0.0028084787955547524, 0.0026191967243849165, 0.00244267163130694, 0.002278043738693547, 0.002124511215051965, 0.0019813262696483985, 0.0018477915103417416, 0.0017232565468871081, 0.0016071148231653375, 0.0014988006629096278, 0.0013977865145403078, 0.0013035803816885214, 0.0012157234268940205, 0.0011337877368057011, 0.001057374238000148, 0.0009861107532670324, 0.0009196501888943675, 0.0008576688441246725, 0.0007998648345481315, 0.0007459566217537804, 0.0006956816420772758, 0.0006487950277664816, 0.0006050684143362123, 0.0005642888283032745, 0.0005262576498844445, 0.0004907896456051306, 0.0004577120661069742, 0.00042686380476019775, 0.0003980946129826658, 0.00037126436844381425, 0.00034624239258918574, 0.00032290681416152837, 0.0003011439756184393, 0.00028084787955547525, 0.00026191967243849166, 0.00024426716313069396, 0.00022780437386935465, 0.00021245112150519648, 0.00019813262696483986, 0.00018477915103417417], \"y\": [0.0, 0.0, 0.0, 0.0, 0.0, 0.0, 0.0, 0.0, 0.0, 0.0, 0.0, 0.0, 0.0, 0.0, 0.0, 0.0, 0.0, 0.0, 0.0, 0.0039001093188492913, 0.00756264089442509, 0.010975862408971113, 0.014052558173336872, 0.01683330871051838, 0.019426259033439797, 0.02184445262619781, 0.024169963819281198, 0.02557818349804692, 0.026852564843918843, 0.027906757628036637, 0.02902909570026731, 0.030220467380538487, 0.031328097175947506, 0.032365106447609406, 0.03339571714163726, 0.034469639749284235, 0.035479572195305065, 0.03642169487119039, 0.03729267821683207, 0.03811364307545149, 0.03740630966260675, 0.03577890911652063, 0.033811020573659305, 0.031799381621612006, 0.0305367054904103, 0.029436937461931958, 0.028411587523531002, 0.02745217559623964, 0.026340404604949318, 0.025263672692552062, 0.024258314789519387, 0.023317279734704207, 0.02244283751000171, 0.021809115159781494, 0.021382051247935772, 0.02159860754079386, 0.02252214952263008, 0.023362874719360775, 0.02446563505934995, 0.02621298095267008, 0.027704704438213757, 0.02909239058100046, 0.030394081934285666, 0.03160073369331685, 0.032689471947626614, 0.03354712679867835, 0.034349963448123716, 0.034954199897074184, 0.035329638182191946, 0.03567911193255749, 0.03599994770963303, 0.036303869449264836, 0.03658291424274057, 0.03684754082603285, 0.037094437801886725, 0.037320795331049726, 0.03752379517740827, 0.037698928797631155, 0.03786663704773711, 0.03803060115745906, 0.038179861156030025, 0.03832166522440436, 0.03845400349657401, 0.03857742458138057, 0.03869031399664648, 0.03879772428670397, 0.038897977702106755, 0.03899147640149789, 0.03907867364030367, 0.039158337013917105, 0.03923421955821843, 0.0393050548733184, 0.039371117934249356, 0.039432728604260045, 0.03949018692176046, 0.03954261646414697, 0.03959261628452926, 0.03964964059320467, 0.039736078245005184, 0.03992919210129143]}, {\"name\": \"Aug num_items\", \"type\": \"scatter\", \"x\": [0.18477915103417428, 0.1723256546887108, 0.16071148231653376, 0.1498800662909628, 0.13977865145403076, 0.13035803816885216, 0.12157234268940205, 0.1133787736805701, 0.1057374238000148, 0.09861107532670324, 0.09196501888943676, 0.08576688441246726, 0.07998648345481314, 0.07459566217537804, 0.06956816420772757, 0.06487950277664817, 0.060506841433621235, 0.05642888283032745, 0.05262576498844444, 0.04907896456051306, 0.045771206610697425, 0.042686380476019775, 0.039809461298266575, 0.037126436844381425, 0.03462423925891861, 0.03229068141615287, 0.030114397561843958, 0.028084787955547526, 0.026191967243849167, 0.024426716313069398, 0.022780437386935467, 0.02124511215051965, 0.019813262696483987, 0.018477915103417418, 0.017232565468871083, 0.016071148231653374, 0.014988006629096278, 0.013977865145403078, 0.013035803816885214, 0.012157234268940205, 0.011337877368057005, 0.010573742380001475, 0.009861107532670324, 0.009196501888943675, 0.008576688441246726, 0.007998648345481323, 0.0074595662175378115, 0.006956816420772757, 0.006487950277664816, 0.006050684143362124, 0.005642888283032745, 0.005262576498844445, 0.004907896456051306, 0.004577120661069742, 0.004268638047601978, 0.003980946129826658, 0.003712643684438139, 0.003462423925891857, 0.003229068141615284, 0.0030114397561843927, 0.0028084787955547524, 0.0026191967243849165, 0.00244267163130694, 0.002278043738693547, 0.002124511215051965, 0.0019813262696483985, 0.0018477915103417416, 0.0017232565468871081, 0.0016071148231653375, 0.0014988006629096278, 0.0013977865145403078, 0.0013035803816885214, 0.0012157234268940205, 0.0011337877368057011, 0.001057374238000148, 0.0009861107532670324, 0.0009196501888943675, 0.0008576688441246725, 0.0007998648345481315, 0.0007459566217537804, 0.0006956816420772758, 0.0006487950277664816, 0.0006050684143362123, 0.0005642888283032745, 0.0005262576498844445, 0.0004907896456051306, 0.0004577120661069742, 0.00042686380476019775, 0.0003980946129826658, 0.00037126436844381425, 0.00034624239258918574, 0.00032290681416152837, 0.0003011439756184393, 0.00028084787955547525, 0.00026191967243849166, 0.00024426716313069396, 0.00022780437386935465, 0.00021245112150519648, 0.00019813262696483986, 0.00018477915103417417], \"y\": [0.0, 0.0, 0.0, 0.0, 0.0, 0.0, 0.0, 0.0, 0.0, 0.0, 0.0, 0.0, 0.0, 0.0, 0.0, 0.0, 0.0, 0.0, 0.0, 0.0, 0.0, 0.0, 0.0, -0.0, -0.0, -0.0, -0.0, -0.0, -0.0, -0.0, -0.0, -0.0, 0.0, 0.0, 0.0, 0.0, 0.0, 0.0, 0.0, 0.0, 0.0, 0.0, 0.0, 0.0, 0.0, 0.0, 0.0, 0.0, 0.0, 0.0, 0.0, 0.0, 0.0, 0.0004906772095380952, 0.0012933537732325161, 0.0025012987317476563, 0.00414502492750138, 0.0055952402395899135, 0.006815927503645939, 0.007783367705480281, 0.008554508637136098, 0.00925921823484529, 0.009916492593260306, 0.010528708386020881, 0.011183796715191496, 0.012027936882456326, 0.012800871652875311, 0.014037764759410133, 0.015899599809409883, 0.01763485585081489, 0.01925508969941872, 0.020764258742017913, 0.02217344796195343, 0.023485931288308004, 0.024709918395836365, 0.02585294362778721, 0.027451345225367685, 0.029728314848423185, 0.03185537515237831, 0.03383170587573603, 0.03567575449005868, 0.037397381898538154, 0.03900303769838773, 0.04050047977184213, 0.041895454643396196, 0.043197903658732405, 0.044412623829575754, 0.045545477900225666, 0.04660198145685051, 0.04758609654757787, 0.048505025813139806, 0.04936206397712037, 0.050161342350051014, 0.0509067520914557, 0.05160192371259355, 0.052249396290189334, 0.05285404554870831, 0.05342074657936308, 0.05393716365251753, 0.054452823439247816]}, {\"name\": \"Aug sales\", \"type\": \"scatter\", \"x\": [0.18477915103417428, 0.1723256546887108, 0.16071148231653376, 0.1498800662909628, 0.13977865145403076, 0.13035803816885216, 0.12157234268940205, 0.1133787736805701, 0.1057374238000148, 0.09861107532670324, 0.09196501888943676, 0.08576688441246726, 0.07998648345481314, 0.07459566217537804, 0.06956816420772757, 0.06487950277664817, 0.060506841433621235, 0.05642888283032745, 0.05262576498844444, 0.04907896456051306, 0.045771206610697425, 0.042686380476019775, 0.039809461298266575, 0.037126436844381425, 0.03462423925891861, 0.03229068141615287, 0.030114397561843958, 0.028084787955547526, 0.026191967243849167, 0.024426716313069398, 0.022780437386935467, 0.02124511215051965, 0.019813262696483987, 0.018477915103417418, 0.017232565468871083, 0.016071148231653374, 0.014988006629096278, 0.013977865145403078, 0.013035803816885214, 0.012157234268940205, 0.011337877368057005, 0.010573742380001475, 0.009861107532670324, 0.009196501888943675, 0.008576688441246726, 0.007998648345481323, 0.0074595662175378115, 0.006956816420772757, 0.006487950277664816, 0.006050684143362124, 0.005642888283032745, 0.005262576498844445, 0.004907896456051306, 0.004577120661069742, 0.004268638047601978, 0.003980946129826658, 0.003712643684438139, 0.003462423925891857, 0.003229068141615284, 0.0030114397561843927, 0.0028084787955547524, 0.0026191967243849165, 0.00244267163130694, 0.002278043738693547, 0.002124511215051965, 0.0019813262696483985, 0.0018477915103417416, 0.0017232565468871081, 0.0016071148231653375, 0.0014988006629096278, 0.0013977865145403078, 0.0013035803816885214, 0.0012157234268940205, 0.0011337877368057011, 0.001057374238000148, 0.0009861107532670324, 0.0009196501888943675, 0.0008576688441246725, 0.0007998648345481315, 0.0007459566217537804, 0.0006956816420772758, 0.0006487950277664816, 0.0006050684143362123, 0.0005642888283032745, 0.0005262576498844445, 0.0004907896456051306, 0.0004577120661069742, 0.00042686380476019775, 0.0003980946129826658, 0.00037126436844381425, 0.00034624239258918574, 0.00032290681416152837, 0.0003011439756184393, 0.00028084787955547525, 0.00026191967243849166, 0.00024426716313069396, 0.00022780437386935465, 0.00021245112150519648, 0.00019813262696483986, 0.00018477915103417417], \"y\": [0.0, 0.0, 0.0, 0.0, 0.0, 0.0, 0.0, 0.0, 0.0, 0.0, 0.0, 0.0, 0.0, 0.0, 0.0, 0.0, 0.0, 0.0, 0.0, 0.0, 0.0, 0.0, -0.0, -0.0, -0.0, -0.0, -0.0, -0.0, -0.0, -0.0, 0.0, 0.0, 0.0, 0.0, 0.0, 0.0, 0.0, 0.0, 0.0, 0.0, 0.0, 0.0, 0.0, 0.0, 0.0, 0.0, 0.0, 0.0, 0.0, 0.0, 0.0, 0.0, 0.0, 0.0, 0.0, 0.0, 0.0, 0.0, 0.0, 0.0, 0.0, 0.0, 0.0, 0.0, 0.0, 0.0, 0.0, -0.0, -0.0, -0.0, -0.0, -0.0, -0.0, -0.0, -0.0, -0.0, -0.0007022062955580725, -0.0023553164204800944, -0.00393978570054121, -0.0054522497956141685, -0.006863527139866251, -0.008181580956052521, -0.009410863757640131, -0.010557298830823613, -0.011624894556655734, -0.012622056265575578, -0.013552065972876412, -0.014419397873604509, -0.015228274552880904, -0.01598144023606986, -0.01668499580545957, -0.017341177203664848, -0.01795313569114844, -0.018523850268473727, -0.019056100594478702, -0.019551631647948486, -0.020014579179568764, -0.020462310532133085, -0.02096918985310634, -0.021589215760463576]}, {\"name\": \"Aug visits\", \"type\": \"scatter\", \"x\": [0.18477915103417428, 0.1723256546887108, 0.16071148231653376, 0.1498800662909628, 0.13977865145403076, 0.13035803816885216, 0.12157234268940205, 0.1133787736805701, 0.1057374238000148, 0.09861107532670324, 0.09196501888943676, 0.08576688441246726, 0.07998648345481314, 0.07459566217537804, 0.06956816420772757, 0.06487950277664817, 0.060506841433621235, 0.05642888283032745, 0.05262576498844444, 0.04907896456051306, 0.045771206610697425, 0.042686380476019775, 0.039809461298266575, 0.037126436844381425, 0.03462423925891861, 0.03229068141615287, 0.030114397561843958, 0.028084787955547526, 0.026191967243849167, 0.024426716313069398, 0.022780437386935467, 0.02124511215051965, 0.019813262696483987, 0.018477915103417418, 0.017232565468871083, 0.016071148231653374, 0.014988006629096278, 0.013977865145403078, 0.013035803816885214, 0.012157234268940205, 0.011337877368057005, 0.010573742380001475, 0.009861107532670324, 0.009196501888943675, 0.008576688441246726, 0.007998648345481323, 0.0074595662175378115, 0.006956816420772757, 0.006487950277664816, 0.006050684143362124, 0.005642888283032745, 0.005262576498844445, 0.004907896456051306, 0.004577120661069742, 0.004268638047601978, 0.003980946129826658, 0.003712643684438139, 0.003462423925891857, 0.003229068141615284, 0.0030114397561843927, 0.0028084787955547524, 0.0026191967243849165, 0.00244267163130694, 0.002278043738693547, 0.002124511215051965, 0.0019813262696483985, 0.0018477915103417416, 0.0017232565468871081, 0.0016071148231653375, 0.0014988006629096278, 0.0013977865145403078, 0.0013035803816885214, 0.0012157234268940205, 0.0011337877368057011, 0.001057374238000148, 0.0009861107532670324, 0.0009196501888943675, 0.0008576688441246725, 0.0007998648345481315, 0.0007459566217537804, 0.0006956816420772758, 0.0006487950277664816, 0.0006050684143362123, 0.0005642888283032745, 0.0005262576498844445, 0.0004907896456051306, 0.0004577120661069742, 0.00042686380476019775, 0.0003980946129826658, 0.00037126436844381425, 0.00034624239258918574, 0.00032290681416152837, 0.0003011439756184393, 0.00028084787955547525, 0.00026191967243849166, 0.00024426716313069396, 0.00022780437386935465, 0.00021245112150519648, 0.00019813262696483986, 0.00018477915103417417], \"y\": [0.0, 0.0, 0.0, 0.0, 0.0, 0.0, 0.0, 0.0, 0.0, 0.0, 0.0, 0.0, 0.0, 0.0, 0.0, 0.0, 0.0, 0.0, 0.0, 0.0, 0.0, 0.0, 0.0, 0.0, 0.0, 0.0, 0.0, 0.0, 0.0, 0.0, 0.0, 0.0, 0.0, 0.0, 0.0, 0.0, 0.0, 0.0, 0.0, 0.0, 0.0, 0.0, 0.0, 0.0, 0.0, 0.0, 0.0, 0.0, 0.0, 0.0, 0.0, 0.0, 0.0, 0.0, 0.0, 0.0, 0.0, 0.0, 0.0, -0.0, -0.0, -0.0, -0.0, -0.0, -0.0, -0.0, -0.0, -0.0008075766731848991, -0.002654738646395733, -0.004387921844620656, -0.006005775055833096, -0.007513579635875756, -0.008920738795546019, -0.010232087590522824, -0.011455076003593077, -0.01259648149556192, -0.013592452716529839, -0.01444308363894587, -0.015221133468827055, -0.015929578632815675, -0.016592207918819154, -0.017210643090479125, -0.017787422492088957, -0.018325330272482725, -0.018826664391206026, -0.0192945115783233, -0.019730845460657027, -0.020137773042698592, -0.020517275118071672, -0.02087095349117282, -0.021201026529992294, -0.021508867866157473, -0.021795962693062502, -0.022063708335785682, -0.022313408820194707, -0.022546103072676807, -0.02276328066250538, -0.02295733798094199, -0.023106584914675387, -0.023152854560314587]}, {\"name\": \"Sep num_items\", \"type\": \"scatter\", \"x\": [0.18477915103417428, 0.1723256546887108, 0.16071148231653376, 0.1498800662909628, 0.13977865145403076, 0.13035803816885216, 0.12157234268940205, 0.1133787736805701, 0.1057374238000148, 0.09861107532670324, 0.09196501888943676, 0.08576688441246726, 0.07998648345481314, 0.07459566217537804, 0.06956816420772757, 0.06487950277664817, 0.060506841433621235, 0.05642888283032745, 0.05262576498844444, 0.04907896456051306, 0.045771206610697425, 0.042686380476019775, 0.039809461298266575, 0.037126436844381425, 0.03462423925891861, 0.03229068141615287, 0.030114397561843958, 0.028084787955547526, 0.026191967243849167, 0.024426716313069398, 0.022780437386935467, 0.02124511215051965, 0.019813262696483987, 0.018477915103417418, 0.017232565468871083, 0.016071148231653374, 0.014988006629096278, 0.013977865145403078, 0.013035803816885214, 0.012157234268940205, 0.011337877368057005, 0.010573742380001475, 0.009861107532670324, 0.009196501888943675, 0.008576688441246726, 0.007998648345481323, 0.0074595662175378115, 0.006956816420772757, 0.006487950277664816, 0.006050684143362124, 0.005642888283032745, 0.005262576498844445, 0.004907896456051306, 0.004577120661069742, 0.004268638047601978, 0.003980946129826658, 0.003712643684438139, 0.003462423925891857, 0.003229068141615284, 0.0030114397561843927, 0.0028084787955547524, 0.0026191967243849165, 0.00244267163130694, 0.002278043738693547, 0.002124511215051965, 0.0019813262696483985, 0.0018477915103417416, 0.0017232565468871081, 0.0016071148231653375, 0.0014988006629096278, 0.0013977865145403078, 0.0013035803816885214, 0.0012157234268940205, 0.0011337877368057011, 0.001057374238000148, 0.0009861107532670324, 0.0009196501888943675, 0.0008576688441246725, 0.0007998648345481315, 0.0007459566217537804, 0.0006956816420772758, 0.0006487950277664816, 0.0006050684143362123, 0.0005642888283032745, 0.0005262576498844445, 0.0004907896456051306, 0.0004577120661069742, 0.00042686380476019775, 0.0003980946129826658, 0.00037126436844381425, 0.00034624239258918574, 0.00032290681416152837, 0.0003011439756184393, 0.00028084787955547525, 0.00026191967243849166, 0.00024426716313069396, 0.00022780437386935465, 0.00021245112150519648, 0.00019813262696483986, 0.00018477915103417417], \"y\": [0.0, 0.0, 0.0, 0.0, 0.0, 0.0, 0.0, 0.0, 0.0, 0.0, 0.0, 0.0, 0.0, 0.0, 0.0, 0.0, 0.0, 0.0, 0.0, 0.0, 0.0, 0.0, 0.0, 0.0, 0.0, 0.0, 0.0, 0.0, 0.0, 0.0, 0.0, 0.0, 0.0, 0.0, 0.0, 0.0, 0.0, 0.0, 0.0, 0.0, 0.0, 0.0, 0.0, 0.0, 0.0, 0.0, 0.0, 0.0, 0.0, 0.0, 0.0, 0.0, 0.0, 0.0, 0.0, 0.0, 0.0, 0.000314400888023645, 0.0014070527906133935, 0.002714896244977976, 0.00400160320194798, 0.005218368860319846, 0.0063563569590794015, 0.007415246300206106, 0.009391448347889792, 0.014743299936939245, 0.019781184360655044, 0.02430511909622417, 0.028264700161668502, 0.03197015130660091, 0.035414180740807814, 0.038637615108371166, 0.04163289083019364, 0.04443719596773345, 0.0470526572914663, 0.04948208176660039, 0.051706058170593906, 0.05366879742489969, 0.05555173025517061, 0.05737550662219482, 0.059075355030523455, 0.060665096626825274, 0.06214776559806048, 0.06353050831302254, 0.06481636308513263, 0.06601918696931379, 0.06714100812216937, 0.06818722299989516, 0.06916292649768507, 0.07007004471121903, 0.07091879838235404, 0.0717104021616533, 0.07244865517335057, 0.07313715240513559, 0.07377924722757749, 0.07437605155827115, 0.07493460653268288, 0.07546107879911848, 0.07594534441798176, 0.07646270848807954]}, {\"name\": \"Sep sales\", \"type\": \"scatter\", \"x\": [0.18477915103417428, 0.1723256546887108, 0.16071148231653376, 0.1498800662909628, 0.13977865145403076, 0.13035803816885216, 0.12157234268940205, 0.1133787736805701, 0.1057374238000148, 0.09861107532670324, 0.09196501888943676, 0.08576688441246726, 0.07998648345481314, 0.07459566217537804, 0.06956816420772757, 0.06487950277664817, 0.060506841433621235, 0.05642888283032745, 0.05262576498844444, 0.04907896456051306, 0.045771206610697425, 0.042686380476019775, 0.039809461298266575, 0.037126436844381425, 0.03462423925891861, 0.03229068141615287, 0.030114397561843958, 0.028084787955547526, 0.026191967243849167, 0.024426716313069398, 0.022780437386935467, 0.02124511215051965, 0.019813262696483987, 0.018477915103417418, 0.017232565468871083, 0.016071148231653374, 0.014988006629096278, 0.013977865145403078, 0.013035803816885214, 0.012157234268940205, 0.011337877368057005, 0.010573742380001475, 0.009861107532670324, 0.009196501888943675, 0.008576688441246726, 0.007998648345481323, 0.0074595662175378115, 0.006956816420772757, 0.006487950277664816, 0.006050684143362124, 0.005642888283032745, 0.005262576498844445, 0.004907896456051306, 0.004577120661069742, 0.004268638047601978, 0.003980946129826658, 0.003712643684438139, 0.003462423925891857, 0.003229068141615284, 0.0030114397561843927, 0.0028084787955547524, 0.0026191967243849165, 0.00244267163130694, 0.002278043738693547, 0.002124511215051965, 0.0019813262696483985, 0.0018477915103417416, 0.0017232565468871081, 0.0016071148231653375, 0.0014988006629096278, 0.0013977865145403078, 0.0013035803816885214, 0.0012157234268940205, 0.0011337877368057011, 0.001057374238000148, 0.0009861107532670324, 0.0009196501888943675, 0.0008576688441246725, 0.0007998648345481315, 0.0007459566217537804, 0.0006956816420772758, 0.0006487950277664816, 0.0006050684143362123, 0.0005642888283032745, 0.0005262576498844445, 0.0004907896456051306, 0.0004577120661069742, 0.00042686380476019775, 0.0003980946129826658, 0.00037126436844381425, 0.00034624239258918574, 0.00032290681416152837, 0.0003011439756184393, 0.00028084787955547525, 0.00026191967243849166, 0.00024426716313069396, 0.00022780437386935465, 0.00021245112150519648, 0.00019813262696483986, 0.00018477915103417417], \"y\": [0.0, 0.0, 0.0, 0.0, 0.0, 0.0, 0.0, 0.0, 0.0, 0.0, 0.0, 0.0, 0.0, 0.0, 0.0, 0.0, 0.0, 0.0, 0.0, 0.0, 0.0, 0.0, 0.0, 0.0, 0.0, 0.0, 0.0, 0.0, 0.0, 0.0, 0.0, 0.0, 0.0, 0.0, 0.0, 0.0, 0.0, 0.0, 0.0, 0.0, 0.0, 0.0, 0.0, 0.0, 0.0, 0.0, 0.0, 0.0, 0.0, 0.0, 0.0, 0.0, 0.0, 0.0, 0.0, 0.0, 0.0, -0.0, -0.0, -0.0, -0.0, -0.0, -0.0, -0.0, -0.0012980105572999237, -0.006869371632540595, -0.012082987105198298, -0.016953693334862116, -0.021500299736233432, -0.02574304940558536, -0.02969372608232702, -0.03338402885434937, -0.036819982216152194, -0.04002999414185524, -0.04302370215751384, -0.045810589291699184, -0.04828901032197037, -0.050410488014236685, -0.05244132568700974, -0.05439278698315516, -0.05621149200843296, -0.057910033618841006, -0.059494121416816766, -0.060971446749651416, -0.06234718526634591, -0.06363220222897427, -0.06483063491112745, -0.06594829709235998, -0.06699063256586797, -0.06796116055939296, -0.06886781724447719, -0.06971338694455959, -0.07050196797894044, -0.07123740127527631, -0.07192326882809835, -0.07256179111362276, -0.07315838430155472, -0.07373071730765793, -0.07433505746587844, -0.07505421776768265]}, {\"name\": \"Sep visits\", \"type\": \"scatter\", \"x\": [0.18477915103417428, 0.1723256546887108, 0.16071148231653376, 0.1498800662909628, 0.13977865145403076, 0.13035803816885216, 0.12157234268940205, 0.1133787736805701, 0.1057374238000148, 0.09861107532670324, 0.09196501888943676, 0.08576688441246726, 0.07998648345481314, 0.07459566217537804, 0.06956816420772757, 0.06487950277664817, 0.060506841433621235, 0.05642888283032745, 0.05262576498844444, 0.04907896456051306, 0.045771206610697425, 0.042686380476019775, 0.039809461298266575, 0.037126436844381425, 0.03462423925891861, 0.03229068141615287, 0.030114397561843958, 0.028084787955547526, 0.026191967243849167, 0.024426716313069398, 0.022780437386935467, 0.02124511215051965, 0.019813262696483987, 0.018477915103417418, 0.017232565468871083, 0.016071148231653374, 0.014988006629096278, 0.013977865145403078, 0.013035803816885214, 0.012157234268940205, 0.011337877368057005, 0.010573742380001475, 0.009861107532670324, 0.009196501888943675, 0.008576688441246726, 0.007998648345481323, 0.0074595662175378115, 0.006956816420772757, 0.006487950277664816, 0.006050684143362124, 0.005642888283032745, 0.005262576498844445, 0.004907896456051306, 0.004577120661069742, 0.004268638047601978, 0.003980946129826658, 0.003712643684438139, 0.003462423925891857, 0.003229068141615284, 0.0030114397561843927, 0.0028084787955547524, 0.0026191967243849165, 0.00244267163130694, 0.002278043738693547, 0.002124511215051965, 0.0019813262696483985, 0.0018477915103417416, 0.0017232565468871081, 0.0016071148231653375, 0.0014988006629096278, 0.0013977865145403078, 0.0013035803816885214, 0.0012157234268940205, 0.0011337877368057011, 0.001057374238000148, 0.0009861107532670324, 0.0009196501888943675, 0.0008576688441246725, 0.0007998648345481315, 0.0007459566217537804, 0.0006956816420772758, 0.0006487950277664816, 0.0006050684143362123, 0.0005642888283032745, 0.0005262576498844445, 0.0004907896456051306, 0.0004577120661069742, 0.00042686380476019775, 0.0003980946129826658, 0.00037126436844381425, 0.00034624239258918574, 0.00032290681416152837, 0.0003011439756184393, 0.00028084787955547525, 0.00026191967243849166, 0.00024426716313069396, 0.00022780437386935465, 0.00021245112150519648, 0.00019813262696483986, 0.00018477915103417417], \"y\": [0.0, 0.0, 0.0, 0.0, 0.0, 0.0, 0.0, 0.0, 0.0, 0.0, 0.0, 0.0, 0.0, 0.0, 0.0, 0.0, 0.0, 0.0, 0.0, 0.0, 0.0, 0.0, 0.0, 0.0, 0.0, 0.0, 0.0013014659439726647, 0.0024258590691522324, 0.0035406318473120727, 0.004812757046654959, 0.006140211151558138, 0.007525153986382131, 0.008812142592955402, 0.01001778465601415, 0.01117956799494004, 0.01232671907069919, 0.013407209506535707, 0.014415203845039772, 0.01534553913240244, 0.016224242461674452, 0.01712127511807457, 0.017289777128484576, 0.017104781195886466, 0.017009760777567696, 0.0171470487554109, 0.01731796752127848, 0.017478270438394224, 0.017624115880482884, 0.017575719168031655, 0.01749751578629366, 0.017423301168737807, 0.017348689466488577, 0.017284206650184923, 0.01738790576452525, 0.017637603971044385, 0.018389619986097047, 0.019671190044344214, 0.020578677226848936, 0.020735288029150565, 0.020257149770679793, 0.019605586394448656, 0.018972308202882506, 0.018379339950877933, 0.01782743584694967, 0.017469814249649534, 0.01748736720610061, 0.01746809937554922, 0.01734038117758555, 0.0171039255626715, 0.016864034804667992, 0.01664532919012306, 0.016435909033764625, 0.016245684826150925, 0.01606320142902509, 0.015892870543589187, 0.015738575148185104, 0.01557112241434686, 0.01541065534488427, 0.015243885478630485, 0.015062901601686211, 0.014892470915274639, 0.014731297580442806, 0.014580922436888306, 0.014440680247402379, 0.014311665762374299, 0.01418962528051172, 0.014075756801473029, 0.013969561080613004, 0.013870522543306231, 0.013779502118641504, 0.013693317636068366, 0.013612898423941937, 0.013537897804809487, 0.013467951927553212, 0.013402720166458404, 0.013342832177686116, 0.013286067128019458, 0.013239843510074066, 0.013216710582952233, 0.013271302519270526]}, {\"name\": \"May num_items\", \"type\": \"scatter\", \"x\": [0.18477915103417428, 0.1723256546887108, 0.16071148231653376, 0.1498800662909628, 0.13977865145403076, 0.13035803816885216, 0.12157234268940205, 0.1133787736805701, 0.1057374238000148, 0.09861107532670324, 0.09196501888943676, 0.08576688441246726, 0.07998648345481314, 0.07459566217537804, 0.06956816420772757, 0.06487950277664817, 0.060506841433621235, 0.05642888283032745, 0.05262576498844444, 0.04907896456051306, 0.045771206610697425, 0.042686380476019775, 0.039809461298266575, 0.037126436844381425, 0.03462423925891861, 0.03229068141615287, 0.030114397561843958, 0.028084787955547526, 0.026191967243849167, 0.024426716313069398, 0.022780437386935467, 0.02124511215051965, 0.019813262696483987, 0.018477915103417418, 0.017232565468871083, 0.016071148231653374, 0.014988006629096278, 0.013977865145403078, 0.013035803816885214, 0.012157234268940205, 0.011337877368057005, 0.010573742380001475, 0.009861107532670324, 0.009196501888943675, 0.008576688441246726, 0.007998648345481323, 0.0074595662175378115, 0.006956816420772757, 0.006487950277664816, 0.006050684143362124, 0.005642888283032745, 0.005262576498844445, 0.004907896456051306, 0.004577120661069742, 0.004268638047601978, 0.003980946129826658, 0.003712643684438139, 0.003462423925891857, 0.003229068141615284, 0.0030114397561843927, 0.0028084787955547524, 0.0026191967243849165, 0.00244267163130694, 0.002278043738693547, 0.002124511215051965, 0.0019813262696483985, 0.0018477915103417416, 0.0017232565468871081, 0.0016071148231653375, 0.0014988006629096278, 0.0013977865145403078, 0.0013035803816885214, 0.0012157234268940205, 0.0011337877368057011, 0.001057374238000148, 0.0009861107532670324, 0.0009196501888943675, 0.0008576688441246725, 0.0007998648345481315, 0.0007459566217537804, 0.0006956816420772758, 0.0006487950277664816, 0.0006050684143362123, 0.0005642888283032745, 0.0005262576498844445, 0.0004907896456051306, 0.0004577120661069742, 0.00042686380476019775, 0.0003980946129826658, 0.00037126436844381425, 0.00034624239258918574, 0.00032290681416152837, 0.0003011439756184393, 0.00028084787955547525, 0.00026191967243849166, 0.00024426716313069396, 0.00022780437386935465, 0.00021245112150519648, 0.00019813262696483986, 0.00018477915103417417], \"y\": [0.0, 0.0, 0.0, 0.0, 0.0, 0.0, 0.0, 0.0, 0.0, 0.0, 0.0, 0.0, 0.0, 0.0, 0.0, 0.0, 0.0, 0.0, 0.0, 0.0, 0.0, 0.0, 0.0, 0.0, 0.0, 0.0, 0.0, 0.0, 0.0, -0.0, -0.0, -0.0, -0.0, -0.0, -0.0, -0.0, -0.0, -0.0, -0.0, -0.0, -0.0, -0.0, -0.0, -0.002181334837031242, -0.012376101800256731, -0.022070248366448313, -0.031113548813418428, -0.03954079588960472, -0.047201259771420284, -0.0543051189086465, -0.060929092667865975, -0.06708727278898217, -0.07284961324323344, -0.07838031031951816, -0.0836457881789453, -0.08867864380874275, -0.09341306814641272, -0.09790354954441509, -0.10210234116266716, -0.10525776061430552, -0.10810209673313206, -0.11075424243244321, -0.11322563237169789, -0.11553196089368964, -0.11784545870504129, -0.12066488435042977, -0.12330542535689687, -0.12579916639372377, -0.12817746209795913, -0.13039386965708558, -0.13246007565392973, -0.1343878416435507, -0.13618484314299922, -0.1378615714385873, -0.13942524747833154, -0.14088277669825727, -0.14231211637407823, -0.14373440902869508, -0.14497066860248295, -0.14605513220042143, -0.1470664258799945, -0.1480098978362006, -0.14888972478086804, -0.14971025209192582, -0.15047522303863445, -0.15118894364430197, -0.15185451338820605, -0.15247522387162438, -0.153054100483527, -0.15359374313227614, -0.1540972751698508, -0.154566832827642, -0.15500474205512518, -0.15541313760750922, -0.15579400866473467, -0.15614903698235502, -0.15648034010149628, -0.1567867177991871, -0.1570622274890424, -0.15729665007479707]}, {\"name\": \"May sales\", \"type\": \"scatter\", \"x\": [0.18477915103417428, 0.1723256546887108, 0.16071148231653376, 0.1498800662909628, 0.13977865145403076, 0.13035803816885216, 0.12157234268940205, 0.1133787736805701, 0.1057374238000148, 0.09861107532670324, 0.09196501888943676, 0.08576688441246726, 0.07998648345481314, 0.07459566217537804, 0.06956816420772757, 0.06487950277664817, 0.060506841433621235, 0.05642888283032745, 0.05262576498844444, 0.04907896456051306, 0.045771206610697425, 0.042686380476019775, 0.039809461298266575, 0.037126436844381425, 0.03462423925891861, 0.03229068141615287, 0.030114397561843958, 0.028084787955547526, 0.026191967243849167, 0.024426716313069398, 0.022780437386935467, 0.02124511215051965, 0.019813262696483987, 0.018477915103417418, 0.017232565468871083, 0.016071148231653374, 0.014988006629096278, 0.013977865145403078, 0.013035803816885214, 0.012157234268940205, 0.011337877368057005, 0.010573742380001475, 0.009861107532670324, 0.009196501888943675, 0.008576688441246726, 0.007998648345481323, 0.0074595662175378115, 0.006956816420772757, 0.006487950277664816, 0.006050684143362124, 0.005642888283032745, 0.005262576498844445, 0.004907896456051306, 0.004577120661069742, 0.004268638047601978, 0.003980946129826658, 0.003712643684438139, 0.003462423925891857, 0.003229068141615284, 0.0030114397561843927, 0.0028084787955547524, 0.0026191967243849165, 0.00244267163130694, 0.002278043738693547, 0.002124511215051965, 0.0019813262696483985, 0.0018477915103417416, 0.0017232565468871081, 0.0016071148231653375, 0.0014988006629096278, 0.0013977865145403078, 0.0013035803816885214, 0.0012157234268940205, 0.0011337877368057011, 0.001057374238000148, 0.0009861107532670324, 0.0009196501888943675, 0.0008576688441246725, 0.0007998648345481315, 0.0007459566217537804, 0.0006956816420772758, 0.0006487950277664816, 0.0006050684143362123, 0.0005642888283032745, 0.0005262576498844445, 0.0004907896456051306, 0.0004577120661069742, 0.00042686380476019775, 0.0003980946129826658, 0.00037126436844381425, 0.00034624239258918574, 0.00032290681416152837, 0.0003011439756184393, 0.00028084787955547525, 0.00026191967243849166, 0.00024426716313069396, 0.00022780437386935465, 0.00021245112150519648, 0.00019813262696483986, 0.00018477915103417417], \"y\": [0.0, 0.0, 0.0, 0.0, 0.0, 0.0, 0.0, 0.0, 0.0, 0.0, 0.0, 0.0, 0.0, 0.0, 0.0, 0.0, 0.0, 0.0, 0.0, 0.0, 0.0, 0.0, 0.0, 0.0, 0.0, 0.0, 0.0, 0.0, 0.0, 0.0, 0.0, 0.0, 0.0, 0.0, 0.0, 0.0, 0.0, 0.0, 0.0, 0.0, 0.0, 0.0, 0.0, 0.00044767267920023623, 0.007994945039790874, 0.015161472706276465, 0.02184467847270211, 0.028078033330940253, 0.03386409746542634, 0.03925867964692503, 0.04429021029905901, 0.04897804266946327, 0.05335472834356066, 0.05733156881861456, 0.06094220584077251, 0.06435013414123178, 0.06761261945264152, 0.07072402201951539, 0.07360755007036297, 0.07576826683275607, 0.07777067875511968, 0.07964309664335545, 0.08138659575807775, 0.08301532092636141, 0.08469856907721185, 0.08690668065661321, 0.0889786429046903, 0.09087097804920087, 0.09258511542779231, 0.09418499888466081, 0.09567643852420842, 0.09706803968427263, 0.09836518920492854, 0.0995755771770226, 0.10070437838114499, 0.10175650798338008, 0.1028650265304413, 0.1040674697236816, 0.10506912688472268, 0.10589997540320152, 0.10667589781537554, 0.10739983082591281, 0.1080749435308492, 0.10870455486414095, 0.10929149520787436, 0.10983914111879305, 0.11034985242123542, 0.11082614251068319, 0.1112703322139783, 0.11168438758657279, 0.11207075510993506, 0.11243106297238138, 0.11276708643472735, 0.11308046301368474, 0.11337271905928424, 0.1136451262765167, 0.11389934111595337, 0.1141221339220922, 0.11424055736360958, 0.1142257791350886]}, {\"name\": \"May visits\", \"type\": \"scatter\", \"x\": [0.18477915103417428, 0.1723256546887108, 0.16071148231653376, 0.1498800662909628, 0.13977865145403076, 0.13035803816885216, 0.12157234268940205, 0.1133787736805701, 0.1057374238000148, 0.09861107532670324, 0.09196501888943676, 0.08576688441246726, 0.07998648345481314, 0.07459566217537804, 0.06956816420772757, 0.06487950277664817, 0.060506841433621235, 0.05642888283032745, 0.05262576498844444, 0.04907896456051306, 0.045771206610697425, 0.042686380476019775, 0.039809461298266575, 0.037126436844381425, 0.03462423925891861, 0.03229068141615287, 0.030114397561843958, 0.028084787955547526, 0.026191967243849167, 0.024426716313069398, 0.022780437386935467, 0.02124511215051965, 0.019813262696483987, 0.018477915103417418, 0.017232565468871083, 0.016071148231653374, 0.014988006629096278, 0.013977865145403078, 0.013035803816885214, 0.012157234268940205, 0.011337877368057005, 0.010573742380001475, 0.009861107532670324, 0.009196501888943675, 0.008576688441246726, 0.007998648345481323, 0.0074595662175378115, 0.006956816420772757, 0.006487950277664816, 0.006050684143362124, 0.005642888283032745, 0.005262576498844445, 0.004907896456051306, 0.004577120661069742, 0.004268638047601978, 0.003980946129826658, 0.003712643684438139, 0.003462423925891857, 0.003229068141615284, 0.0030114397561843927, 0.0028084787955547524, 0.0026191967243849165, 0.00244267163130694, 0.002278043738693547, 0.002124511215051965, 0.0019813262696483985, 0.0018477915103417416, 0.0017232565468871081, 0.0016071148231653375, 0.0014988006629096278, 0.0013977865145403078, 0.0013035803816885214, 0.0012157234268940205, 0.0011337877368057011, 0.001057374238000148, 0.0009861107532670324, 0.0009196501888943675, 0.0008576688441246725, 0.0007998648345481315, 0.0007459566217537804, 0.0006956816420772758, 0.0006487950277664816, 0.0006050684143362123, 0.0005642888283032745, 0.0005262576498844445, 0.0004907896456051306, 0.0004577120661069742, 0.00042686380476019775, 0.0003980946129826658, 0.00037126436844381425, 0.00034624239258918574, 0.00032290681416152837, 0.0003011439756184393, 0.00028084787955547525, 0.00026191967243849166, 0.00024426716313069396, 0.00022780437386935465, 0.00021245112150519648, 0.00019813262696483986, 0.00018477915103417417], \"y\": [0.0, 0.0, 0.0, 0.0, 0.0, 0.0, 0.0, 0.0, 0.0, 0.0, 0.0, 0.0, 0.0, 0.0, 0.0, 0.0, 0.0, 0.0, 0.0, 0.0, 0.0, 0.0, 0.0, 0.0, 0.0, 0.0, 0.0, 0.0, 0.0, 0.0, 0.0006463272991396482, 0.0018806724941904068, 0.0030251630052865884, 0.004100318872514673, 0.005110038411760825, 0.006056822754495726, 0.006954477879484782, 0.007792082832330454, 0.008559830105748439, 0.009291179197101297, 0.009910769405636514, 0.010126380918285478, 0.010059584332350033, 0.011375510812577833, 0.013710041328536296, 0.015979388690473252, 0.0180987612564363, 0.020066293439965945, 0.021654919051460907, 0.023094060027177024, 0.024433844179519274, 0.025667733027047918, 0.026833521324804193, 0.0282805811391091, 0.029934933490636514, 0.03201364359376456, 0.034460169878670885, 0.0366769491983729, 0.038651227271417475, 0.04007186829120935, 0.041190260661760056, 0.04221407085057978, 0.04316965348382864, 0.04405894873295631, 0.04493917132522357, 0.045905320300425066, 0.04679074185941335, 0.047446211118725795, 0.04785262488748385, 0.04821725566999421, 0.04855752425960391, 0.04887416004850303, 0.04917003672995744, 0.04944538951574526, 0.04970210099007773, 0.04994204174159667, 0.050132766727336166, 0.05027084704906868, 0.050389442506289295, 0.050494035751602814, 0.050588914300747356, 0.05067700765183925, 0.05075911926854841, 0.050835694862975386, 0.050907373461762634, 0.050973993396787175, 0.051036088880822596, 0.05109399764492161, 0.051148003488440306, 0.051198559029564356, 0.051245546433647586, 0.051289339907804266, 0.051330180395445235, 0.051368268312039354, 0.051403789228233625, 0.051437042651396085, 0.051467949500235526, 0.05150575007188021, 0.05156918421506782, 0.051727938158801064]}, {\"name\": \"x0_F\", \"type\": \"scatter\", \"x\": [0.18477915103417428, 0.1723256546887108, 0.16071148231653376, 0.1498800662909628, 0.13977865145403076, 0.13035803816885216, 0.12157234268940205, 0.1133787736805701, 0.1057374238000148, 0.09861107532670324, 0.09196501888943676, 0.08576688441246726, 0.07998648345481314, 0.07459566217537804, 0.06956816420772757, 0.06487950277664817, 0.060506841433621235, 0.05642888283032745, 0.05262576498844444, 0.04907896456051306, 0.045771206610697425, 0.042686380476019775, 0.039809461298266575, 0.037126436844381425, 0.03462423925891861, 0.03229068141615287, 0.030114397561843958, 0.028084787955547526, 0.026191967243849167, 0.024426716313069398, 0.022780437386935467, 0.02124511215051965, 0.019813262696483987, 0.018477915103417418, 0.017232565468871083, 0.016071148231653374, 0.014988006629096278, 0.013977865145403078, 0.013035803816885214, 0.012157234268940205, 0.011337877368057005, 0.010573742380001475, 0.009861107532670324, 0.009196501888943675, 0.008576688441246726, 0.007998648345481323, 0.0074595662175378115, 0.006956816420772757, 0.006487950277664816, 0.006050684143362124, 0.005642888283032745, 0.005262576498844445, 0.004907896456051306, 0.004577120661069742, 0.004268638047601978, 0.003980946129826658, 0.003712643684438139, 0.003462423925891857, 0.003229068141615284, 0.0030114397561843927, 0.0028084787955547524, 0.0026191967243849165, 0.00244267163130694, 0.002278043738693547, 0.002124511215051965, 0.0019813262696483985, 0.0018477915103417416, 0.0017232565468871081, 0.0016071148231653375, 0.0014988006629096278, 0.0013977865145403078, 0.0013035803816885214, 0.0012157234268940205, 0.0011337877368057011, 0.001057374238000148, 0.0009861107532670324, 0.0009196501888943675, 0.0008576688441246725, 0.0007998648345481315, 0.0007459566217537804, 0.0006956816420772758, 0.0006487950277664816, 0.0006050684143362123, 0.0005642888283032745, 0.0005262576498844445, 0.0004907896456051306, 0.0004577120661069742, 0.00042686380476019775, 0.0003980946129826658, 0.00037126436844381425, 0.00034624239258918574, 0.00032290681416152837, 0.0003011439756184393, 0.00028084787955547525, 0.00026191967243849166, 0.00024426716313069396, 0.00022780437386935465, 0.00021245112150519648, 0.00019813262696483986, 0.00018477915103417417], \"y\": [-0.0, -0.010742783314890958, -0.02134513161250242, -0.031232917127991484, -0.04045429899299997, -0.0490541905831951, -0.057074478263043966, -0.06455422539623729, -0.0715298626064935, -0.07803535682425027, -0.08410241089602007, -0.089760565829085, -0.09503738005684523, -0.09995855466653526, -0.10454805857812897, -0.10882824528661489, -0.1128199617362339, -0.11654264985695745, -0.11838376465468338, -0.11983031495110262, -0.1211855034075953, -0.1224471962755431, -0.12353956184721494, -0.12448782374521779, -0.12537177885297884, -0.12619615775178028, -0.12663953128352087, -0.1245066864827411, -0.12253446832997845, -0.12075078140563847, -0.11904538065415828, -0.11741072218537199, -0.11588433474116032, -0.11446298883018105, -0.11316932481883066, -0.11201933479777833, -0.1109513396759433, -0.1099554584068277, -0.10902249240102552, -0.10815704098184292, -0.10722510167418133, -0.10660722100563787, -0.10608121424914387, -0.10542944587640324, -0.10427333043965013, -0.10319033260623099, -0.10218016702370902, -0.1012381668614384, -0.10036375841041618, -0.09955104446999573, -0.09879306437131367, -0.09808746959950249, -0.09742811327966845, -0.09677320521420044, -0.09613732001627548, -0.09560999928688077, -0.09521140285877924, -0.09484860398083568, -0.09450571924748202, -0.0940771434545802, -0.0936701085445802, -0.09328905601876192, -0.09293302033434586, -0.0926015733288632, -0.0923024956616656, -0.09205981504655096, -0.09183210976498644, -0.09161868216050717, -0.09141995224295722, -0.09123364993371887, -0.09106021139679182, -0.09089813613666328, -0.09074728591351844, -0.09060630095247339, -0.0904748077288912, -0.09035244656892773, -0.09025288062233984, -0.09018030683888745, -0.09011151206778793, -0.090044338493871, -0.08998212664344858, -0.08992390236309943, -0.08986959682038306, -0.08981895118204333, -0.08977188398377456, -0.08972782873666969, -0.08968673789658388, -0.08964841633790145, -0.08961267752100144, -0.08957946965834017, -0.0895483816683734, -0.0895193849476125, -0.08949234241740771, -0.08946712246039158, -0.08944360224399, -0.08942175150499222, -0.08940129227867681, -0.08938122832726865, -0.08935538822031763, -0.08932339214280142]}, {\"name\": \"x0_M\", \"type\": \"scatter\", \"x\": [0.18477915103417428, 0.1723256546887108, 0.16071148231653376, 0.1498800662909628, 0.13977865145403076, 0.13035803816885216, 0.12157234268940205, 0.1133787736805701, 0.1057374238000148, 0.09861107532670324, 0.09196501888943676, 0.08576688441246726, 0.07998648345481314, 0.07459566217537804, 0.06956816420772757, 0.06487950277664817, 0.060506841433621235, 0.05642888283032745, 0.05262576498844444, 0.04907896456051306, 0.045771206610697425, 0.042686380476019775, 0.039809461298266575, 0.037126436844381425, 0.03462423925891861, 0.03229068141615287, 0.030114397561843958, 0.028084787955547526, 0.026191967243849167, 0.024426716313069398, 0.022780437386935467, 0.02124511215051965, 0.019813262696483987, 0.018477915103417418, 0.017232565468871083, 0.016071148231653374, 0.014988006629096278, 0.013977865145403078, 0.013035803816885214, 0.012157234268940205, 0.011337877368057005, 0.010573742380001475, 0.009861107532670324, 0.009196501888943675, 0.008576688441246726, 0.007998648345481323, 0.0074595662175378115, 0.006956816420772757, 0.006487950277664816, 0.006050684143362124, 0.005642888283032745, 0.005262576498844445, 0.004907896456051306, 0.004577120661069742, 0.004268638047601978, 0.003980946129826658, 0.003712643684438139, 0.003462423925891857, 0.003229068141615284, 0.0030114397561843927, 0.0028084787955547524, 0.0026191967243849165, 0.00244267163130694, 0.002278043738693547, 0.002124511215051965, 0.0019813262696483985, 0.0018477915103417416, 0.0017232565468871081, 0.0016071148231653375, 0.0014988006629096278, 0.0013977865145403078, 0.0013035803816885214, 0.0012157234268940205, 0.0011337877368057011, 0.001057374238000148, 0.0009861107532670324, 0.0009196501888943675, 0.0008576688441246725, 0.0007998648345481315, 0.0007459566217537804, 0.0006956816420772758, 0.0006487950277664816, 0.0006050684143362123, 0.0005642888283032745, 0.0005262576498844445, 0.0004907896456051306, 0.0004577120661069742, 0.00042686380476019775, 0.0003980946129826658, 0.00037126436844381425, 0.00034624239258918574, 0.00032290681416152837, 0.0003011439756184393, 0.00028084787955547525, 0.00026191967243849166, 0.00024426716313069396, 0.00022780437386935465, 0.00021245112150519648, 0.00019813262696483986, 0.00018477915103417417], \"y\": [0.0, 0.0, 0.0, 0.0, 0.0, 2.2339734664545492e-17, 2.2339734664545492e-17, 2.2339734664545492e-17, 2.2339734664545492e-17, 2.2339734664545492e-17, 1.1169867332272746e-17, 0.0, 0.0, 1.1169867332272746e-17, 2.2339734664545492e-17, 3.3509601996818236e-17, 2.2339734664545492e-17, 2.2339734664545492e-17, 2.2339734664545492e-17, 2.2339734664545492e-17, 2.2339734664545492e-17, 5.584933666136373e-18, 1.6754800998409118e-17, 3.3509601996818236e-17, 3.3509601996818236e-17, 7.260413765977285e-17, 3.9094535662954613e-17, 3.9094535662954613e-17, 1.1169867332272746e-17, 3.3509601996818236e-17, 2.5132201497613678e-17, 2.5132201497613678e-17, 1.6754800998409118e-17, 1.1169867332272746e-17, 2.5132201497613678e-17, 5.864180349443192e-17, 1.6754800998409118e-17, 3.3509601996818236e-17, 5.864180349443192e-17, 3.769830224642052e-17, 4.328323591255689e-17, 5.3056869828295545e-17, 5.3056869828295545e-17, 4.4679469329090985e-17, 1.3962334165340933e-18, 0.0, 0.0, 0.0, 0.0, 4.1747379154369387e-16, 4.447003431661087e-16, 2.303785137281254e-16, 3.7069997208980174e-16, 3.3788848680125056e-16, 3.3788848680125056e-16, 0.0, 5.968897855683248e-16, 3.211336858028415e-17, 5.5081408282269975e-16, 9.319858055365072e-16, 9.333820389530414e-16, 1.3103650614172465e-15, 1.3145537616668488e-15, 1.2845347432113657e-15, 7.888718803417626e-16, 7.811925965508252e-16, 1.466743204069065e-15, 1.955075841501864e-15, 1.9627551252928016e-15, 1.351030359673802e-15, 1.9135378973599747e-15, 1.9180756559637105e-15, 1.922787943744513e-15, 1.9226134145674463e-15, 2.4732529682130793e-15, 2.8491888156148842e-15, 2.864023795665559e-15, 2.1536900450038387e-15, 2.6298056400419647e-15, 2.640713713608637e-15, 2.6329471652291665e-15, 2.1095341632059483e-15, 2.09487371233234e-15, 1.550168150706977e-15, 1.0819063686368556e-15, 5.218422394296174e-16, 9.27360782344238e-16, 9.429811436917132e-16, 1.4888211449680103e-15, 1.4958023120506808e-15, 1.937797452972255e-15, 1.4625545038194626e-15, 8.772709085260775e-16, 1.4448834246414532e-15, 1.4535662512005244e-15, 1.911967134766374e-15, 1.922395253096113e-15, 2.379879858482362e-15, 2.392533223819702e-15, 3.140216218373709e-15]}, {\"name\": \"x1_delivery_club\", \"type\": \"scatter\", \"x\": [0.18477915103417428, 0.1723256546887108, 0.16071148231653376, 0.1498800662909628, 0.13977865145403076, 0.13035803816885216, 0.12157234268940205, 0.1133787736805701, 0.1057374238000148, 0.09861107532670324, 0.09196501888943676, 0.08576688441246726, 0.07998648345481314, 0.07459566217537804, 0.06956816420772757, 0.06487950277664817, 0.060506841433621235, 0.05642888283032745, 0.05262576498844444, 0.04907896456051306, 0.045771206610697425, 0.042686380476019775, 0.039809461298266575, 0.037126436844381425, 0.03462423925891861, 0.03229068141615287, 0.030114397561843958, 0.028084787955547526, 0.026191967243849167, 0.024426716313069398, 0.022780437386935467, 0.02124511215051965, 0.019813262696483987, 0.018477915103417418, 0.017232565468871083, 0.016071148231653374, 0.014988006629096278, 0.013977865145403078, 0.013035803816885214, 0.012157234268940205, 0.011337877368057005, 0.010573742380001475, 0.009861107532670324, 0.009196501888943675, 0.008576688441246726, 0.007998648345481323, 0.0074595662175378115, 0.006956816420772757, 0.006487950277664816, 0.006050684143362124, 0.005642888283032745, 0.005262576498844445, 0.004907896456051306, 0.004577120661069742, 0.004268638047601978, 0.003980946129826658, 0.003712643684438139, 0.003462423925891857, 0.003229068141615284, 0.0030114397561843927, 0.0028084787955547524, 0.0026191967243849165, 0.00244267163130694, 0.002278043738693547, 0.002124511215051965, 0.0019813262696483985, 0.0018477915103417416, 0.0017232565468871081, 0.0016071148231653375, 0.0014988006629096278, 0.0013977865145403078, 0.0013035803816885214, 0.0012157234268940205, 0.0011337877368057011, 0.001057374238000148, 0.0009861107532670324, 0.0009196501888943675, 0.0008576688441246725, 0.0007998648345481315, 0.0007459566217537804, 0.0006956816420772758, 0.0006487950277664816, 0.0006050684143362123, 0.0005642888283032745, 0.0005262576498844445, 0.0004907896456051306, 0.0004577120661069742, 0.00042686380476019775, 0.0003980946129826658, 0.00037126436844381425, 0.00034624239258918574, 0.00032290681416152837, 0.0003011439756184393, 0.00028084787955547525, 0.00026191967243849166, 0.00024426716313069396, 0.00022780437386935465, 0.00021245112150519648, 0.00019813262696483986, 0.00018477915103417417], \"y\": [0.0, 0.0, 0.0, 0.0, 0.0, 0.0, 0.0, 0.0, 0.0, 0.0, 0.0, 0.0, 0.0, 0.0, 0.0, 0.0, 0.0, 0.0, 0.0, 0.0, 0.0, 0.0, 0.0, 0.0, 0.0, 0.0, 0.0, 0.0, 0.0, 0.0, 0.0, 0.0, 0.0, 0.0, 0.0, 0.0, 0.0, 0.0, 0.0, 0.0, 0.0, 0.0, 0.0, 0.0, 0.0, 0.0, 0.0, 0.0, 0.0, 0.0, 0.0, 0.0, 0.0, 0.0, 0.0, 0.0, 0.0, 0.0, 0.0, 0.0, 0.0, 0.0, 0.0, 0.0, 0.0, 0.0, 0.0, 0.0, 0.0, 0.0, 0.0, 0.0, 0.0, 0.0, 0.0, 0.0, 0.0, 0.0, 0.0, 0.0, 0.0, 0.0, 0.0, 0.0, 0.0, 0.0, 0.0, 0.0, 0.0, 0.0, 0.0, 0.0, 0.0, 0.0, 0.0, 0.0, 0.0, 0.0, 0.0, 0.0]}, {\"name\": \"x2_2020-07-01T00:00:00.000000000\", \"type\": \"scatter\", \"x\": [0.18477915103417428, 0.1723256546887108, 0.16071148231653376, 0.1498800662909628, 0.13977865145403076, 0.13035803816885216, 0.12157234268940205, 0.1133787736805701, 0.1057374238000148, 0.09861107532670324, 0.09196501888943676, 0.08576688441246726, 0.07998648345481314, 0.07459566217537804, 0.06956816420772757, 0.06487950277664817, 0.060506841433621235, 0.05642888283032745, 0.05262576498844444, 0.04907896456051306, 0.045771206610697425, 0.042686380476019775, 0.039809461298266575, 0.037126436844381425, 0.03462423925891861, 0.03229068141615287, 0.030114397561843958, 0.028084787955547526, 0.026191967243849167, 0.024426716313069398, 0.022780437386935467, 0.02124511215051965, 0.019813262696483987, 0.018477915103417418, 0.017232565468871083, 0.016071148231653374, 0.014988006629096278, 0.013977865145403078, 0.013035803816885214, 0.012157234268940205, 0.011337877368057005, 0.010573742380001475, 0.009861107532670324, 0.009196501888943675, 0.008576688441246726, 0.007998648345481323, 0.0074595662175378115, 0.006956816420772757, 0.006487950277664816, 0.006050684143362124, 0.005642888283032745, 0.005262576498844445, 0.004907896456051306, 0.004577120661069742, 0.004268638047601978, 0.003980946129826658, 0.003712643684438139, 0.003462423925891857, 0.003229068141615284, 0.0030114397561843927, 0.0028084787955547524, 0.0026191967243849165, 0.00244267163130694, 0.002278043738693547, 0.002124511215051965, 0.0019813262696483985, 0.0018477915103417416, 0.0017232565468871081, 0.0016071148231653375, 0.0014988006629096278, 0.0013977865145403078, 0.0013035803816885214, 0.0012157234268940205, 0.0011337877368057011, 0.001057374238000148, 0.0009861107532670324, 0.0009196501888943675, 0.0008576688441246725, 0.0007998648345481315, 0.0007459566217537804, 0.0006956816420772758, 0.0006487950277664816, 0.0006050684143362123, 0.0005642888283032745, 0.0005262576498844445, 0.0004907896456051306, 0.0004577120661069742, 0.00042686380476019775, 0.0003980946129826658, 0.00037126436844381425, 0.00034624239258918574, 0.00032290681416152837, 0.0003011439756184393, 0.00028084787955547525, 0.00026191967243849166, 0.00024426716313069396, 0.00022780437386935465, 0.00021245112150519648, 0.00019813262696483986, 0.00018477915103417417], \"y\": [0.0, 0.0, 0.0, 0.0, 0.0, 0.0, 0.0, 0.0, 0.0, 0.0, 0.0, 0.0, 0.0, 0.0, 0.0, 0.0, 0.0, 0.0, 0.0, 0.0, 0.0, 0.0, 0.0, 0.0, 0.0, 0.0, 0.0, 0.0, 0.0, 0.0, 0.0, 0.0, 0.0, 0.0, 0.0, 0.0, 0.0, 0.0, 0.0, 0.0, 0.0, 0.0, 0.0, 0.0, 0.0, 0.0, 0.0, 0.0, 0.0, 0.0, 0.0, 0.0, 0.0, 0.0, 0.0, 0.0, 0.0, 0.0, 0.0, 0.0, 0.0, 0.0, 0.0, 0.0, 0.0, 0.0, 0.0, 0.0, 0.0, 0.0, 0.0, 0.0, 0.0, 0.0, 0.0, 0.0, 0.0, 0.0, 0.0, 0.0, 0.0, 0.0, 0.0, 0.0, 0.0, 0.0, 0.0, 0.0, 0.0, 0.0, 0.0, 0.0, 0.0, 0.0, 0.0, 0.0, 0.0, 0.0, 0.0, 0.0]}, {\"name\": \"x3_Control\", \"type\": \"scatter\", \"x\": [0.18477915103417428, 0.1723256546887108, 0.16071148231653376, 0.1498800662909628, 0.13977865145403076, 0.13035803816885216, 0.12157234268940205, 0.1133787736805701, 0.1057374238000148, 0.09861107532670324, 0.09196501888943676, 0.08576688441246726, 0.07998648345481314, 0.07459566217537804, 0.06956816420772757, 0.06487950277664817, 0.060506841433621235, 0.05642888283032745, 0.05262576498844444, 0.04907896456051306, 0.045771206610697425, 0.042686380476019775, 0.039809461298266575, 0.037126436844381425, 0.03462423925891861, 0.03229068141615287, 0.030114397561843958, 0.028084787955547526, 0.026191967243849167, 0.024426716313069398, 0.022780437386935467, 0.02124511215051965, 0.019813262696483987, 0.018477915103417418, 0.017232565468871083, 0.016071148231653374, 0.014988006629096278, 0.013977865145403078, 0.013035803816885214, 0.012157234268940205, 0.011337877368057005, 0.010573742380001475, 0.009861107532670324, 0.009196501888943675, 0.008576688441246726, 0.007998648345481323, 0.0074595662175378115, 0.006956816420772757, 0.006487950277664816, 0.006050684143362124, 0.005642888283032745, 0.005262576498844445, 0.004907896456051306, 0.004577120661069742, 0.004268638047601978, 0.003980946129826658, 0.003712643684438139, 0.003462423925891857, 0.003229068141615284, 0.0030114397561843927, 0.0028084787955547524, 0.0026191967243849165, 0.00244267163130694, 0.002278043738693547, 0.002124511215051965, 0.0019813262696483985, 0.0018477915103417416, 0.0017232565468871081, 0.0016071148231653375, 0.0014988006629096278, 0.0013977865145403078, 0.0013035803816885214, 0.0012157234268940205, 0.0011337877368057011, 0.001057374238000148, 0.0009861107532670324, 0.0009196501888943675, 0.0008576688441246725, 0.0007998648345481315, 0.0007459566217537804, 0.0006956816420772758, 0.0006487950277664816, 0.0006050684143362123, 0.0005642888283032745, 0.0005262576498844445, 0.0004907896456051306, 0.0004577120661069742, 0.00042686380476019775, 0.0003980946129826658, 0.00037126436844381425, 0.00034624239258918574, 0.00032290681416152837, 0.0003011439756184393, 0.00028084787955547525, 0.00026191967243849166, 0.00024426716313069396, 0.00022780437386935465, 0.00021245112150519648, 0.00019813262696483986, 0.00018477915103417417], \"y\": [0.0, 0.0, 0.0, 0.0, 0.0, 0.0, 0.0, 0.0, 0.0, 0.0, 0.0, 0.0, 0.0, 0.0, 0.0, 0.0, 0.0, 0.0, 0.0, 0.0, 0.0, 0.0, 0.0, 0.0, 0.0, 0.0, 0.0, 0.0, 0.0, 0.0, 0.0, 0.0, 0.0, 0.0, 0.0004709268448375767, 0.0017665834236790846, 0.0029787429828921643, 0.004109323236166294, 0.005160180189414364, 0.006144202560156825, 0.0071363772928840045, 0.008179958606526984, 0.009164050127709692, 0.010235793295073976, 0.011533762605136999, 0.012756004176683895, 0.013896214613630158, 0.01495856001054219, 0.015932410958212764, 0.01683972599646145, 0.017685641078401853, 0.018472751697360436, 0.019208550246955804, 0.019884751263564874, 0.020513127818377122, 0.02107771912376687, 0.021570338514536262, 0.02203887926700659, 0.022505087440025287, 0.022971811284485905, 0.023404476360579112, 0.023807712198162644, 0.024183963436219716, 0.02453463235968081, 0.024876342435987502, 0.02525377302450558, 0.025606768570274788, 0.025950066261890812, 0.02629073312792429, 0.02660847421063414, 0.02690444395245877, 0.027180808141184846, 0.027438219352556664, 0.02767860854825624, 0.02790279813752708, 0.028111585458836845, 0.02827921591777664, 0.02839581664487442, 0.028515741449737605, 0.02863909237246411, 0.028754007755936496, 0.028861252577723547, 0.028961268077670375, 0.029054542756612112, 0.029141469777931223, 0.029222600598265973, 0.029298262440009236, 0.029368824826803707, 0.029434631541255828, 0.029495955750196902, 0.02955319508937065, 0.029606575953777536, 0.02965635904139782, 0.029702786912131674, 0.029746085699656255, 0.029786432178754596, 0.02982409410222553, 0.02985903682302028, 0.029891015010037762, 0.0299193645566704]}, {\"name\": \"x3_Mailer1\", \"type\": \"scatter\", \"x\": [0.18477915103417428, 0.1723256546887108, 0.16071148231653376, 0.1498800662909628, 0.13977865145403076, 0.13035803816885216, 0.12157234268940205, 0.1133787736805701, 0.1057374238000148, 0.09861107532670324, 0.09196501888943676, 0.08576688441246726, 0.07998648345481314, 0.07459566217537804, 0.06956816420772757, 0.06487950277664817, 0.060506841433621235, 0.05642888283032745, 0.05262576498844444, 0.04907896456051306, 0.045771206610697425, 0.042686380476019775, 0.039809461298266575, 0.037126436844381425, 0.03462423925891861, 0.03229068141615287, 0.030114397561843958, 0.028084787955547526, 0.026191967243849167, 0.024426716313069398, 0.022780437386935467, 0.02124511215051965, 0.019813262696483987, 0.018477915103417418, 0.017232565468871083, 0.016071148231653374, 0.014988006629096278, 0.013977865145403078, 0.013035803816885214, 0.012157234268940205, 0.011337877368057005, 0.010573742380001475, 0.009861107532670324, 0.009196501888943675, 0.008576688441246726, 0.007998648345481323, 0.0074595662175378115, 0.006956816420772757, 0.006487950277664816, 0.006050684143362124, 0.005642888283032745, 0.005262576498844445, 0.004907896456051306, 0.004577120661069742, 0.004268638047601978, 0.003980946129826658, 0.003712643684438139, 0.003462423925891857, 0.003229068141615284, 0.0030114397561843927, 0.0028084787955547524, 0.0026191967243849165, 0.00244267163130694, 0.002278043738693547, 0.002124511215051965, 0.0019813262696483985, 0.0018477915103417416, 0.0017232565468871081, 0.0016071148231653375, 0.0014988006629096278, 0.0013977865145403078, 0.0013035803816885214, 0.0012157234268940205, 0.0011337877368057011, 0.001057374238000148, 0.0009861107532670324, 0.0009196501888943675, 0.0008576688441246725, 0.0007998648345481315, 0.0007459566217537804, 0.0006956816420772758, 0.0006487950277664816, 0.0006050684143362123, 0.0005642888283032745, 0.0005262576498844445, 0.0004907896456051306, 0.0004577120661069742, 0.00042686380476019775, 0.0003980946129826658, 0.00037126436844381425, 0.00034624239258918574, 0.00032290681416152837, 0.0003011439756184393, 0.00028084787955547525, 0.00026191967243849166, 0.00024426716313069396, 0.00022780437386935465, 0.00021245112150519648, 0.00019813262696483986, 0.00018477915103417417], \"y\": [-0.0, -0.0, -0.0, -0.0, -0.0, -0.0, -0.0, -0.0, -0.0, -0.0, -0.0, -0.0, -0.0, -0.0, -0.0, -0.0, -0.0, -0.0, -0.0, -0.0, -0.0, -0.0, -0.0, -0.0, -0.0, -0.0, -0.0, -0.0, -0.00046106844723989814, -0.002486952437941, -0.004358858673714041, -0.0060858163348435235, -0.007696237344107238, -0.009198280357731814, -0.010411244713986032, -0.011200844016004316, -0.011936046514696137, -0.01262166245333917, -0.013262136589358953, -0.013858207680559469, -0.014425810712590187, -0.014945308681806446, -0.015436844633141586, -0.015833371088588087, -0.016015913184915843, -0.01618025208635266, -0.016333388889895772, -0.0164765743966763, -0.016603704324728928, -0.016719016551978497, -0.01682661365896842, -0.016927562192375754, -0.017021115409324997, -0.01714415156473981, -0.017283171218080512, -0.017476613912337437, -0.017732580927445306, -0.017963753289691218, -0.018148118619384868, -0.01821649523851784, -0.018265641272811283, -0.01831027345745149, -0.01835147274281391, -0.018390251448499317, -0.018449644741054576, -0.01857801312228779, -0.018696209403668142, -0.018797662122299573, -0.01888074799140507, -0.018957340260700426, -0.019029088653977552, -0.01909566974429822, -0.019158070131969955, -0.019215958496635453, -0.01926993522404989, -0.01932054754832874, -0.019405493108305492, -0.019539554115675286, -0.01966433906471111, -0.019779380078626986, -0.019886819509469005, -0.01998696434518279, -0.02008035761223843, -0.020167456446418933, -0.020248726424475616, -0.020324479619202765, -0.02039512548200044, -0.020461010015151056, -0.020522454150157635, -0.020579786518880646, -0.02063322705424477, -0.020683064369322424, -0.020729542785073166, -0.02077288871013426, -0.02081331326487591, -0.02085103263476466, -0.020886191740003203, -0.020920317173181154, -0.02095807568413533, -0.02100615577407652]}, {\"name\": \"x3_Mailer2\", \"type\": \"scatter\", \"x\": [0.18477915103417428, 0.1723256546887108, 0.16071148231653376, 0.1498800662909628, 0.13977865145403076, 0.13035803816885216, 0.12157234268940205, 0.1133787736805701, 0.1057374238000148, 0.09861107532670324, 0.09196501888943676, 0.08576688441246726, 0.07998648345481314, 0.07459566217537804, 0.06956816420772757, 0.06487950277664817, 0.060506841433621235, 0.05642888283032745, 0.05262576498844444, 0.04907896456051306, 0.045771206610697425, 0.042686380476019775, 0.039809461298266575, 0.037126436844381425, 0.03462423925891861, 0.03229068141615287, 0.030114397561843958, 0.028084787955547526, 0.026191967243849167, 0.024426716313069398, 0.022780437386935467, 0.02124511215051965, 0.019813262696483987, 0.018477915103417418, 0.017232565468871083, 0.016071148231653374, 0.014988006629096278, 0.013977865145403078, 0.013035803816885214, 0.012157234268940205, 0.011337877368057005, 0.010573742380001475, 0.009861107532670324, 0.009196501888943675, 0.008576688441246726, 0.007998648345481323, 0.0074595662175378115, 0.006956816420772757, 0.006487950277664816, 0.006050684143362124, 0.005642888283032745, 0.005262576498844445, 0.004907896456051306, 0.004577120661069742, 0.004268638047601978, 0.003980946129826658, 0.003712643684438139, 0.003462423925891857, 0.003229068141615284, 0.0030114397561843927, 0.0028084787955547524, 0.0026191967243849165, 0.00244267163130694, 0.002278043738693547, 0.002124511215051965, 0.0019813262696483985, 0.0018477915103417416, 0.0017232565468871081, 0.0016071148231653375, 0.0014988006629096278, 0.0013977865145403078, 0.0013035803816885214, 0.0012157234268940205, 0.0011337877368057011, 0.001057374238000148, 0.0009861107532670324, 0.0009196501888943675, 0.0008576688441246725, 0.0007998648345481315, 0.0007459566217537804, 0.0006956816420772758, 0.0006487950277664816, 0.0006050684143362123, 0.0005642888283032745, 0.0005262576498844445, 0.0004907896456051306, 0.0004577120661069742, 0.00042686380476019775, 0.0003980946129826658, 0.00037126436844381425, 0.00034624239258918574, 0.00032290681416152837, 0.0003011439756184393, 0.00028084787955547525, 0.00026191967243849166, 0.00024426716313069396, 0.00022780437386935465, 0.00021245112150519648, 0.00019813262696483986, 0.00018477915103417417], \"y\": [-0.0, 0.0, 0.0, 0.0, 0.0, 0.0, 0.0, 0.0, 0.0, 0.0, 0.0, 0.0, 0.0, 0.0, 0.0, 0.0, 0.0, 0.0, 0.0, 0.0, 0.0, 0.0, 0.0, 0.0, 0.0, 0.0, 0.0, 0.0, 0.0, 0.0, 0.0, 0.0, 0.0, 0.0, 0.0, 0.0, 0.0, 0.0, 0.0, 0.0, 0.0, 0.0, 0.0, 0.0, 0.0, 0.0, 0.0, 0.0, 0.0, 0.0, 0.0, 0.0, 0.0, 0.0, 0.0, 0.0, 0.0, 0.0, 0.0, 0.0, 0.0, 0.0, 0.0, 0.0, 0.0, 0.0, 0.0, 0.0, 0.0, 0.0, 0.0, 0.0, 0.0, 0.0, 0.0, 0.0, 0.0, 0.0, 0.0, 0.0, 0.0, 0.0, 0.0, 0.0, 0.0, 0.0, 0.0, 0.0, 0.0, 0.0, 0.0, 0.0, 0.0, 0.0, 0.0, 0.0, 0.0, 0.0, 0.0, 0.0]}, {\"name\": \"x4_0\", \"type\": \"scatter\", \"x\": [0.18477915103417428, 0.1723256546887108, 0.16071148231653376, 0.1498800662909628, 0.13977865145403076, 0.13035803816885216, 0.12157234268940205, 0.1133787736805701, 0.1057374238000148, 0.09861107532670324, 0.09196501888943676, 0.08576688441246726, 0.07998648345481314, 0.07459566217537804, 0.06956816420772757, 0.06487950277664817, 0.060506841433621235, 0.05642888283032745, 0.05262576498844444, 0.04907896456051306, 0.045771206610697425, 0.042686380476019775, 0.039809461298266575, 0.037126436844381425, 0.03462423925891861, 0.03229068141615287, 0.030114397561843958, 0.028084787955547526, 0.026191967243849167, 0.024426716313069398, 0.022780437386935467, 0.02124511215051965, 0.019813262696483987, 0.018477915103417418, 0.017232565468871083, 0.016071148231653374, 0.014988006629096278, 0.013977865145403078, 0.013035803816885214, 0.012157234268940205, 0.011337877368057005, 0.010573742380001475, 0.009861107532670324, 0.009196501888943675, 0.008576688441246726, 0.007998648345481323, 0.0074595662175378115, 0.006956816420772757, 0.006487950277664816, 0.006050684143362124, 0.005642888283032745, 0.005262576498844445, 0.004907896456051306, 0.004577120661069742, 0.004268638047601978, 0.003980946129826658, 0.003712643684438139, 0.003462423925891857, 0.003229068141615284, 0.0030114397561843927, 0.0028084787955547524, 0.0026191967243849165, 0.00244267163130694, 0.002278043738693547, 0.002124511215051965, 0.0019813262696483985, 0.0018477915103417416, 0.0017232565468871081, 0.0016071148231653375, 0.0014988006629096278, 0.0013977865145403078, 0.0013035803816885214, 0.0012157234268940205, 0.0011337877368057011, 0.001057374238000148, 0.0009861107532670324, 0.0009196501888943675, 0.0008576688441246725, 0.0007998648345481315, 0.0007459566217537804, 0.0006956816420772758, 0.0006487950277664816, 0.0006050684143362123, 0.0005642888283032745, 0.0005262576498844445, 0.0004907896456051306, 0.0004577120661069742, 0.00042686380476019775, 0.0003980946129826658, 0.00037126436844381425, 0.00034624239258918574, 0.00032290681416152837, 0.0003011439756184393, 0.00028084787955547525, 0.00026191967243849166, 0.00024426716313069396, 0.00022780437386935465, 0.00021245112150519648, 0.00019813262696483986, 0.00018477915103417417], \"y\": [0.0, 0.0, 0.0, 0.0, 0.0, 0.0, 0.0, 0.0, 0.0, 0.0, 0.0, 0.0, 0.0, 0.0, 0.0, 0.0, 0.0, 0.0, 0.0034655473534229296, 0.008569853639890747, 0.013330904529760627, 0.017772616733150323, 0.021956570845438273, 0.02589372302112601, 0.029565803859728627, 0.03299039915656231, 0.035809140810742414, 0.03548314834362489, 0.0350911331996872, 0.03442137904979563, 0.033778730236622034, 0.033158892285688184, 0.03258384089086857, 0.0320440573280389, 0.03145049557210762, 0.030735868236907545, 0.030061983140918007, 0.029433290914809698, 0.028853841274395987, 0.02830569297163788, 0.028218532925093145, 0.02818403716995277, 0.028235974578161148, 0.028443126463803564, 0.029294884918976333, 0.0300787436536419, 0.0308097742857787, 0.03149239962888321, 0.03220113263354958, 0.03287593184615473, 0.03350568181262986, 0.03409293574166173, 0.034640770021205754, 0.03517559916718452, 0.03567492485337559, 0.03616773173003491, 0.03665475984042515, 0.0371164999868244, 0.03759827651960673, 0.038228943641042075, 0.038831738072607515, 0.039395428557502624, 0.03992137925634147, 0.04041169371754668, 0.04077998332659116, 0.04084012324509003, 0.04089754309259132, 0.040969420102707675, 0.04105748022023452, 0.04114109477447292, 0.041219040470447096, 0.04129181887359467, 0.04135961654240591, 0.041422920770622144, 0.04148196600511782, 0.04153696148813247, 0.04157597304902789, 0.04159697073980169, 0.04161018239474508, 0.04161684935079042, 0.041623131981944526, 0.04162914880738273, 0.04163476595797809, 0.04164000474895809, 0.041644767621415384, 0.04164932738594422, 0.04165358459515758, 0.04165755507336725, 0.04166125796172007, 0.04166461873097351, 0.0416678415492942, 0.04167085099314485, 0.04167365777443486, 0.04167627539462934, 0.041678716596224706, 0.041680928217912964, 0.04168305281746567, 0.04168500551806247, 0.04169005683365131, 0.041692387949685245]}, {\"name\": \"x4_1\", \"type\": \"scatter\", \"x\": [0.18477915103417428, 0.1723256546887108, 0.16071148231653376, 0.1498800662909628, 0.13977865145403076, 0.13035803816885216, 0.12157234268940205, 0.1133787736805701, 0.1057374238000148, 0.09861107532670324, 0.09196501888943676, 0.08576688441246726, 0.07998648345481314, 0.07459566217537804, 0.06956816420772757, 0.06487950277664817, 0.060506841433621235, 0.05642888283032745, 0.05262576498844444, 0.04907896456051306, 0.045771206610697425, 0.042686380476019775, 0.039809461298266575, 0.037126436844381425, 0.03462423925891861, 0.03229068141615287, 0.030114397561843958, 0.028084787955547526, 0.026191967243849167, 0.024426716313069398, 0.022780437386935467, 0.02124511215051965, 0.019813262696483987, 0.018477915103417418, 0.017232565468871083, 0.016071148231653374, 0.014988006629096278, 0.013977865145403078, 0.013035803816885214, 0.012157234268940205, 0.011337877368057005, 0.010573742380001475, 0.009861107532670324, 0.009196501888943675, 0.008576688441246726, 0.007998648345481323, 0.0074595662175378115, 0.006956816420772757, 0.006487950277664816, 0.006050684143362124, 0.005642888283032745, 0.005262576498844445, 0.004907896456051306, 0.004577120661069742, 0.004268638047601978, 0.003980946129826658, 0.003712643684438139, 0.003462423925891857, 0.003229068141615284, 0.0030114397561843927, 0.0028084787955547524, 0.0026191967243849165, 0.00244267163130694, 0.002278043738693547, 0.002124511215051965, 0.0019813262696483985, 0.0018477915103417416, 0.0017232565468871081, 0.0016071148231653375, 0.0014988006629096278, 0.0013977865145403078, 0.0013035803816885214, 0.0012157234268940205, 0.0011337877368057011, 0.001057374238000148, 0.0009861107532670324, 0.0009196501888943675, 0.0008576688441246725, 0.0007998648345481315, 0.0007459566217537804, 0.0006956816420772758, 0.0006487950277664816, 0.0006050684143362123, 0.0005642888283032745, 0.0005262576498844445, 0.0004907896456051306, 0.0004577120661069742, 0.00042686380476019775, 0.0003980946129826658, 0.00037126436844381425, 0.00034624239258918574, 0.00032290681416152837, 0.0003011439756184393, 0.00028084787955547525, 0.00026191967243849166, 0.00024426716313069396, 0.00022780437386935465, 0.00021245112150519648, 0.00019813262696483986, 0.00018477915103417417], \"y\": [-0.0, -0.0, -0.0, -0.0, -0.0, -0.0, -0.0, -0.0, -0.0, -0.0, -0.0, -0.0, -0.0, -0.0, -0.0, -0.0, -0.0, -0.0, -0.0, -0.0, -0.0, -0.0, -0.0, -0.0, -1.6931506810901414e-17, -1.1287671207267608e-17, -2.821917801816902e-17, -1.6931506810901414e-17, -0.0, -0.0, -2.821917801816902e-18, -2.821917801816902e-18, -0.0, -0.0, -2.821917801816902e-18, -2.821917801816902e-18, -0.0, -0.0, -2.821917801816902e-18, -0.0, -0.0, -8.465753405450707e-18, -8.465753405450707e-18, -1.1287671207267608e-17, -1.2698630108176059e-17, -7.054794504542256e-18, -0.0, -2.821917801816902e-18, -3.0053424589350005e-16, -1.5520547909992963e-17, -9.171232855904932e-18, -3.343972595153029e-16, -3.4074657456939095e-16, -3.3016438281257753e-16, -2.963013691907747e-16, -2.9206849248804936e-16, -4.938356153179579e-18, -2.1164383513626767e-17, -0.0, -0.0, -2.8924657468623245e-17, -0.0, -7.760273954996481e-18, -0.0, -4.2469862917344375e-16, -4.282260264257149e-16, -0.0, -3.4215753347029936e-17, -8.712671213109685e-17, -1.010599312775678e-16, -0.0, -5.326369850929403e-17, -5.802568479986005e-17, -5.784931493724649e-17, -0.0, -1.216952052033539e-17, -4.585616427952466e-18, -9.171232855904932e-18, -0.0, -4.673801359259244e-18, -7.583904092382924e-17, -4.3563356065548425e-17, -8.518664364234774e-17, -7.654452037428347e-17, -1.338647257236893e-16, -6.402226012872097e-16, -6.662371560227092e-16, -6.36871573897552e-16, -1.500025681528297e-16, -1.4576969145010434e-16, -0.0, -0.0, -4.914546221726749e-16, -1.5300085581726015e-17, -1.2786815039482837e-17, -2.4515410903284338e-17, -2.3765838987176722e-17, -1.1993150657721833e-17, -1.3492294489937063e-17, -5.793749986855327e-17]}],\n",
              "                        {\"template\": {\"data\": {\"bar\": [{\"error_x\": {\"color\": \"#2a3f5f\"}, \"error_y\": {\"color\": \"#2a3f5f\"}, \"marker\": {\"line\": {\"color\": \"#E5ECF6\", \"width\": 0.5}}, \"type\": \"bar\"}], \"barpolar\": [{\"marker\": {\"line\": {\"color\": \"#E5ECF6\", \"width\": 0.5}}, \"type\": \"barpolar\"}], \"carpet\": [{\"aaxis\": {\"endlinecolor\": \"#2a3f5f\", \"gridcolor\": \"white\", \"linecolor\": \"white\", \"minorgridcolor\": \"white\", \"startlinecolor\": \"#2a3f5f\"}, \"baxis\": {\"endlinecolor\": \"#2a3f5f\", \"gridcolor\": \"white\", \"linecolor\": \"white\", \"minorgridcolor\": \"white\", \"startlinecolor\": \"#2a3f5f\"}, \"type\": \"carpet\"}], \"choropleth\": [{\"colorbar\": {\"outlinewidth\": 0, \"ticks\": \"\"}, \"type\": \"choropleth\"}], \"contour\": [{\"colorbar\": {\"outlinewidth\": 0, \"ticks\": \"\"}, \"colorscale\": [[0.0, \"#0d0887\"], [0.1111111111111111, \"#46039f\"], [0.2222222222222222, \"#7201a8\"], [0.3333333333333333, \"#9c179e\"], [0.4444444444444444, \"#bd3786\"], [0.5555555555555556, \"#d8576b\"], [0.6666666666666666, \"#ed7953\"], [0.7777777777777778, \"#fb9f3a\"], [0.8888888888888888, \"#fdca26\"], [1.0, \"#f0f921\"]], \"type\": \"contour\"}], \"contourcarpet\": [{\"colorbar\": {\"outlinewidth\": 0, \"ticks\": \"\"}, \"type\": \"contourcarpet\"}], \"heatmap\": [{\"colorbar\": {\"outlinewidth\": 0, \"ticks\": \"\"}, \"colorscale\": [[0.0, \"#0d0887\"], [0.1111111111111111, \"#46039f\"], [0.2222222222222222, \"#7201a8\"], [0.3333333333333333, \"#9c179e\"], [0.4444444444444444, \"#bd3786\"], [0.5555555555555556, \"#d8576b\"], [0.6666666666666666, \"#ed7953\"], [0.7777777777777778, \"#fb9f3a\"], [0.8888888888888888, \"#fdca26\"], [1.0, \"#f0f921\"]], \"type\": \"heatmap\"}], \"heatmapgl\": [{\"colorbar\": {\"outlinewidth\": 0, \"ticks\": \"\"}, \"colorscale\": [[0.0, \"#0d0887\"], [0.1111111111111111, \"#46039f\"], [0.2222222222222222, \"#7201a8\"], [0.3333333333333333, \"#9c179e\"], [0.4444444444444444, \"#bd3786\"], [0.5555555555555556, \"#d8576b\"], [0.6666666666666666, \"#ed7953\"], [0.7777777777777778, \"#fb9f3a\"], [0.8888888888888888, \"#fdca26\"], [1.0, \"#f0f921\"]], \"type\": \"heatmapgl\"}], \"histogram\": [{\"marker\": {\"colorbar\": {\"outlinewidth\": 0, \"ticks\": \"\"}}, \"type\": \"histogram\"}], \"histogram2d\": [{\"colorbar\": {\"outlinewidth\": 0, \"ticks\": \"\"}, \"colorscale\": [[0.0, \"#0d0887\"], [0.1111111111111111, \"#46039f\"], [0.2222222222222222, \"#7201a8\"], [0.3333333333333333, \"#9c179e\"], [0.4444444444444444, \"#bd3786\"], [0.5555555555555556, \"#d8576b\"], [0.6666666666666666, \"#ed7953\"], [0.7777777777777778, \"#fb9f3a\"], [0.8888888888888888, \"#fdca26\"], [1.0, \"#f0f921\"]], \"type\": \"histogram2d\"}], \"histogram2dcontour\": [{\"colorbar\": {\"outlinewidth\": 0, \"ticks\": \"\"}, \"colorscale\": [[0.0, \"#0d0887\"], [0.1111111111111111, \"#46039f\"], [0.2222222222222222, \"#7201a8\"], [0.3333333333333333, \"#9c179e\"], [0.4444444444444444, \"#bd3786\"], [0.5555555555555556, \"#d8576b\"], [0.6666666666666666, \"#ed7953\"], [0.7777777777777778, \"#fb9f3a\"], [0.8888888888888888, \"#fdca26\"], [1.0, \"#f0f921\"]], \"type\": \"histogram2dcontour\"}], \"mesh3d\": [{\"colorbar\": {\"outlinewidth\": 0, \"ticks\": \"\"}, \"type\": \"mesh3d\"}], \"parcoords\": [{\"line\": {\"colorbar\": {\"outlinewidth\": 0, \"ticks\": \"\"}}, \"type\": \"parcoords\"}], \"pie\": [{\"automargin\": true, \"type\": \"pie\"}], \"scatter\": [{\"marker\": {\"colorbar\": {\"outlinewidth\": 0, \"ticks\": \"\"}}, \"type\": \"scatter\"}], \"scatter3d\": [{\"line\": {\"colorbar\": {\"outlinewidth\": 0, \"ticks\": \"\"}}, \"marker\": {\"colorbar\": {\"outlinewidth\": 0, \"ticks\": \"\"}}, \"type\": \"scatter3d\"}], \"scattercarpet\": [{\"marker\": {\"colorbar\": {\"outlinewidth\": 0, \"ticks\": \"\"}}, \"type\": \"scattercarpet\"}], \"scattergeo\": [{\"marker\": {\"colorbar\": {\"outlinewidth\": 0, \"ticks\": \"\"}}, \"type\": \"scattergeo\"}], \"scattergl\": [{\"marker\": {\"colorbar\": {\"outlinewidth\": 0, \"ticks\": \"\"}}, \"type\": \"scattergl\"}], \"scattermapbox\": [{\"marker\": {\"colorbar\": {\"outlinewidth\": 0, \"ticks\": \"\"}}, \"type\": \"scattermapbox\"}], \"scatterpolar\": [{\"marker\": {\"colorbar\": {\"outlinewidth\": 0, \"ticks\": \"\"}}, \"type\": \"scatterpolar\"}], \"scatterpolargl\": [{\"marker\": {\"colorbar\": {\"outlinewidth\": 0, \"ticks\": \"\"}}, \"type\": \"scatterpolargl\"}], \"scatterternary\": [{\"marker\": {\"colorbar\": {\"outlinewidth\": 0, \"ticks\": \"\"}}, \"type\": \"scatterternary\"}], \"surface\": [{\"colorbar\": {\"outlinewidth\": 0, \"ticks\": \"\"}, \"colorscale\": [[0.0, \"#0d0887\"], [0.1111111111111111, \"#46039f\"], [0.2222222222222222, \"#7201a8\"], [0.3333333333333333, \"#9c179e\"], [0.4444444444444444, \"#bd3786\"], [0.5555555555555556, \"#d8576b\"], [0.6666666666666666, \"#ed7953\"], [0.7777777777777778, \"#fb9f3a\"], [0.8888888888888888, \"#fdca26\"], [1.0, \"#f0f921\"]], \"type\": \"surface\"}], \"table\": [{\"cells\": {\"fill\": {\"color\": \"#EBF0F8\"}, \"line\": {\"color\": \"white\"}}, \"header\": {\"fill\": {\"color\": \"#C8D4E3\"}, \"line\": {\"color\": \"white\"}}, \"type\": \"table\"}]}, \"layout\": {\"annotationdefaults\": {\"arrowcolor\": \"#2a3f5f\", \"arrowhead\": 0, \"arrowwidth\": 1}, \"coloraxis\": {\"colorbar\": {\"outlinewidth\": 0, \"ticks\": \"\"}}, \"colorscale\": {\"diverging\": [[0, \"#8e0152\"], [0.1, \"#c51b7d\"], [0.2, \"#de77ae\"], [0.3, \"#f1b6da\"], [0.4, \"#fde0ef\"], [0.5, \"#f7f7f7\"], [0.6, \"#e6f5d0\"], [0.7, \"#b8e186\"], [0.8, \"#7fbc41\"], [0.9, \"#4d9221\"], [1, \"#276419\"]], \"sequential\": [[0.0, \"#0d0887\"], [0.1111111111111111, \"#46039f\"], [0.2222222222222222, \"#7201a8\"], [0.3333333333333333, \"#9c179e\"], [0.4444444444444444, \"#bd3786\"], [0.5555555555555556, \"#d8576b\"], [0.6666666666666666, \"#ed7953\"], [0.7777777777777778, \"#fb9f3a\"], [0.8888888888888888, \"#fdca26\"], [1.0, \"#f0f921\"]], \"sequentialminus\": [[0.0, \"#0d0887\"], [0.1111111111111111, \"#46039f\"], [0.2222222222222222, \"#7201a8\"], [0.3333333333333333, \"#9c179e\"], [0.4444444444444444, \"#bd3786\"], [0.5555555555555556, \"#d8576b\"], [0.6666666666666666, \"#ed7953\"], [0.7777777777777778, \"#fb9f3a\"], [0.8888888888888888, \"#fdca26\"], [1.0, \"#f0f921\"]]}, \"colorway\": [\"#636efa\", \"#EF553B\", \"#00cc96\", \"#ab63fa\", \"#FFA15A\", \"#19d3f3\", \"#FF6692\", \"#B6E880\", \"#FF97FF\", \"#FECB52\"], \"font\": {\"color\": \"#2a3f5f\"}, \"geo\": {\"bgcolor\": \"white\", \"lakecolor\": \"white\", \"landcolor\": \"#E5ECF6\", \"showlakes\": true, \"showland\": true, \"subunitcolor\": \"white\"}, \"hoverlabel\": {\"align\": \"left\"}, \"hovermode\": \"closest\", \"mapbox\": {\"style\": \"light\"}, \"paper_bgcolor\": \"white\", \"plot_bgcolor\": \"#E5ECF6\", \"polar\": {\"angularaxis\": {\"gridcolor\": \"white\", \"linecolor\": \"white\", \"ticks\": \"\"}, \"bgcolor\": \"#E5ECF6\", \"radialaxis\": {\"gridcolor\": \"white\", \"linecolor\": \"white\", \"ticks\": \"\"}}, \"scene\": {\"xaxis\": {\"backgroundcolor\": \"#E5ECF6\", \"gridcolor\": \"white\", \"gridwidth\": 2, \"linecolor\": \"white\", \"showbackground\": true, \"ticks\": \"\", \"zerolinecolor\": \"white\"}, \"yaxis\": {\"backgroundcolor\": \"#E5ECF6\", \"gridcolor\": \"white\", \"gridwidth\": 2, \"linecolor\": \"white\", \"showbackground\": true, \"ticks\": \"\", \"zerolinecolor\": \"white\"}, \"zaxis\": {\"backgroundcolor\": \"#E5ECF6\", \"gridcolor\": \"white\", \"gridwidth\": 2, \"linecolor\": \"white\", \"showbackground\": true, \"ticks\": \"\", \"zerolinecolor\": \"white\"}}, \"shapedefaults\": {\"line\": {\"color\": \"#2a3f5f\"}}, \"ternary\": {\"aaxis\": {\"gridcolor\": \"white\", \"linecolor\": \"white\", \"ticks\": \"\"}, \"baxis\": {\"gridcolor\": \"white\", \"linecolor\": \"white\", \"ticks\": \"\"}, \"bgcolor\": \"#E5ECF6\", \"caxis\": {\"gridcolor\": \"white\", \"linecolor\": \"white\", \"ticks\": \"\"}}, \"title\": {\"x\": 0.05}, \"xaxis\": {\"automargin\": true, \"gridcolor\": \"white\", \"linecolor\": \"white\", \"ticks\": \"\", \"title\": {\"standoff\": 15}, \"zerolinecolor\": \"white\", \"zerolinewidth\": 2}, \"yaxis\": {\"automargin\": true, \"gridcolor\": \"white\", \"linecolor\": \"white\", \"ticks\": \"\", \"title\": {\"standoff\": 15}, \"zerolinecolor\": \"white\", \"zerolinewidth\": 2}}}, \"title\": {\"text\": \"Feature elimination over iterations of alpha\"}, \"xaxis\": {\"title\": {\"text\": \"Alpha value\"}}, \"yaxis\": {\"title\": {\"text\": \"coefficient value\"}}},\n",
              "                        {\"responsive\": true}\n",
              "                    ).then(function(){\n",
              "                            \n",
              "var gd = document.getElementById('fb973b28-3184-4956-9e6f-66785b085c87');\n",
              "var x = new MutationObserver(function (mutations, observer) {{\n",
              "        var display = window.getComputedStyle(gd).display;\n",
              "        if (!display || display === 'none') {{\n",
              "            console.log([gd, 'removed!']);\n",
              "            Plotly.purge(gd);\n",
              "            observer.disconnect();\n",
              "        }}\n",
              "}});\n",
              "\n",
              "// Listen for the removal of the full notebook cells\n",
              "var notebookContainer = gd.closest('#notebook-container');\n",
              "if (notebookContainer) {{\n",
              "    x.observe(notebookContainer, {childList: true});\n",
              "}}\n",
              "\n",
              "// Listen for the clearing of the current output cell\n",
              "var outputEl = gd.closest('.output');\n",
              "if (outputEl) {{\n",
              "    x.observe(outputEl, {childList: true});\n",
              "}}\n",
              "\n",
              "                        })\n",
              "                };\n",
              "                \n",
              "            </script>\n",
              "        </div>\n",
              "</body>\n",
              "</html>"
            ]
          },
          "metadata": {
            "tags": []
          }
        }
      ]
    },
    {
      "cell_type": "markdown",
      "metadata": {
        "id": "HJTU5I1BYGZh"
      },
      "source": [
        "The above plot is interactive and can be zoomed in on to explore, but some things that can be discerned are that total visits and the gender female are quickly identified as important, and sitance from store shoots up in importance as well at a certain point. For comparison of what is used for the actual model, the alpha value of .0069 used for it is shown below. The graph comes from a different function than the actual model, so the exact values aren't the same, but it gets the idea across. The actual model made a bunch of these and averaged them to find the best. For further exploration of important features I create bar graphs below."
      ]
    },
    {
      "cell_type": "code",
      "metadata": {
        "colab": {
          "base_uri": "https://localhost:8080/"
        },
        "id": "tQe2Ap3TTke4",
        "outputId": "27f47fa6-51a4-49cf-bc93-c1f22b4ea5e6"
      },
      "source": [
        "reg.alpha_  #Showing chosen alpha value"
      ],
      "execution_count": 43,
      "outputs": [
        {
          "output_type": "execute_result",
          "data": {
            "text/plain": [
              "0.0068924549181753345"
            ]
          },
          "metadata": {
            "tags": []
          },
          "execution_count": 43
        }
      ]
    },
    {
      "cell_type": "markdown",
      "metadata": {
        "id": "7JeiGot5afSN"
      },
      "source": [
        "This bar graph shows the coefficient values chosen for every feature. A streamlined version is below it, showing only those that aren't 0."
      ]
    },
    {
      "cell_type": "code",
      "metadata": {
        "colab": {
          "base_uri": "https://localhost:8080/",
          "height": 542
        },
        "id": "AulCswgksOU2",
        "outputId": "37a44b09-eb45-41db-b2ab-77576605dd19"
      },
      "source": [
        "coefficients = pd.DataFrame(zip(reg.coef_,X_train.columns),columns=['coef','predictor'])  #Putting together coefficients with columns\r\n",
        "px.bar(coefficients,x='predictor',y='coef', title='all feature coefficients') #Plotting coefficients w.r.t. the columns"
      ],
      "execution_count": 44,
      "outputs": [
        {
          "output_type": "display_data",
          "data": {
            "text/html": [
              "<html>\n",
              "<head><meta charset=\"utf-8\" /></head>\n",
              "<body>\n",
              "    <div>\n",
              "            <script src=\"https://cdnjs.cloudflare.com/ajax/libs/mathjax/2.7.5/MathJax.js?config=TeX-AMS-MML_SVG\"></script><script type=\"text/javascript\">if (window.MathJax) {MathJax.Hub.Config({SVG: {font: \"STIX-Web\"}});}</script>\n",
              "                <script type=\"text/javascript\">window.PlotlyConfig = {MathJaxConfig: 'local'};</script>\n",
              "        <script src=\"https://cdn.plot.ly/plotly-latest.min.js\"></script>    \n",
              "            <div id=\"db9ed4ee-cf70-44e0-b01e-bc958a80b516\" class=\"plotly-graph-div\" style=\"height:525px; width:100%;\"></div>\n",
              "            <script type=\"text/javascript\">\n",
              "                \n",
              "                    window.PLOTLYENV=window.PLOTLYENV || {};\n",
              "                    \n",
              "                if (document.getElementById(\"db9ed4ee-cf70-44e0-b01e-bc958a80b516\")) {\n",
              "                    Plotly.newPlot(\n",
              "                        'db9ed4ee-cf70-44e0-b01e-bc958a80b516',\n",
              "                        [{\"alignmentgroup\": \"True\", \"hoverlabel\": {\"namelength\": 0}, \"hovertemplate\": \"predictor=%{x}<br>coef=%{y}\", \"legendgroup\": \"\", \"marker\": {\"color\": \"#636efa\"}, \"name\": \"\", \"offsetgroup\": \"\", \"orientation\": \"v\", \"showlegend\": false, \"textposition\": \"auto\", \"type\": \"bar\", \"x\": [\"distance_from_store\", \"credit_score\", \"total num_items\", \"total sales\", \"total visits\", \"total profits\", \"avg days between visits\", \"Apr num_items\", \"Apr sales\", \"Apr visits\", \"Jun num_items\", \"Jun sales\", \"Jun visits\", \"Jul num_items\", \"Jul sales\", \"Jul visits\", \"Aug num_items\", \"Aug sales\", \"Aug visits\", \"Sep num_items\", \"Sep sales\", \"Sep visits\", \"May num_items\", \"May sales\", \"May visits\", \"x0_F\", \"x0_M\", \"x1_delivery_club\", \"x2_2020-07-01T00:00:00.000000000\", \"x3_Control\", \"x3_Mailer1\", \"x3_Mailer2\", \"x4_0\", \"x4_1\"], \"xaxis\": \"x\", \"y\": [-0.0238849029734641, 0.0, -0.0, -0.0, 0.15329555318032703, -0.031101314948377923, -0.0, -0.009885490151852345, -0.0, -0.0, -0.0, -0.0, 0.0, -0.0, -0.0, 0.003120984283096079, -0.0, -0.0, 0.004958418340194709, 0.0, 0.0, 0.011056599355001709, -0.0, -0.0, 0.0, -0.16633565226207517, 8.410099437468074e-16, 0.0, 0.0, 0.0, -0.002196583251041361, 0.0, 0.015174208368874549, -0.0], \"yaxis\": \"y\"}],\n",
              "                        {\"barmode\": \"relative\", \"legend\": {\"tracegroupgap\": 0}, \"template\": {\"data\": {\"bar\": [{\"error_x\": {\"color\": \"#2a3f5f\"}, \"error_y\": {\"color\": \"#2a3f5f\"}, \"marker\": {\"line\": {\"color\": \"#E5ECF6\", \"width\": 0.5}}, \"type\": \"bar\"}], \"barpolar\": [{\"marker\": {\"line\": {\"color\": \"#E5ECF6\", \"width\": 0.5}}, \"type\": \"barpolar\"}], \"carpet\": [{\"aaxis\": {\"endlinecolor\": \"#2a3f5f\", \"gridcolor\": \"white\", \"linecolor\": \"white\", \"minorgridcolor\": \"white\", \"startlinecolor\": \"#2a3f5f\"}, \"baxis\": {\"endlinecolor\": \"#2a3f5f\", \"gridcolor\": \"white\", \"linecolor\": \"white\", \"minorgridcolor\": \"white\", \"startlinecolor\": \"#2a3f5f\"}, \"type\": \"carpet\"}], \"choropleth\": [{\"colorbar\": {\"outlinewidth\": 0, \"ticks\": \"\"}, \"type\": \"choropleth\"}], \"contour\": [{\"colorbar\": {\"outlinewidth\": 0, \"ticks\": \"\"}, \"colorscale\": [[0.0, \"#0d0887\"], [0.1111111111111111, \"#46039f\"], [0.2222222222222222, \"#7201a8\"], [0.3333333333333333, \"#9c179e\"], [0.4444444444444444, \"#bd3786\"], [0.5555555555555556, \"#d8576b\"], [0.6666666666666666, \"#ed7953\"], [0.7777777777777778, \"#fb9f3a\"], [0.8888888888888888, \"#fdca26\"], [1.0, \"#f0f921\"]], \"type\": \"contour\"}], \"contourcarpet\": [{\"colorbar\": {\"outlinewidth\": 0, \"ticks\": \"\"}, \"type\": \"contourcarpet\"}], \"heatmap\": [{\"colorbar\": {\"outlinewidth\": 0, \"ticks\": \"\"}, \"colorscale\": [[0.0, \"#0d0887\"], [0.1111111111111111, \"#46039f\"], [0.2222222222222222, \"#7201a8\"], [0.3333333333333333, \"#9c179e\"], [0.4444444444444444, \"#bd3786\"], [0.5555555555555556, \"#d8576b\"], [0.6666666666666666, \"#ed7953\"], [0.7777777777777778, \"#fb9f3a\"], [0.8888888888888888, \"#fdca26\"], [1.0, \"#f0f921\"]], \"type\": \"heatmap\"}], \"heatmapgl\": [{\"colorbar\": {\"outlinewidth\": 0, \"ticks\": \"\"}, \"colorscale\": [[0.0, \"#0d0887\"], [0.1111111111111111, \"#46039f\"], [0.2222222222222222, \"#7201a8\"], [0.3333333333333333, \"#9c179e\"], [0.4444444444444444, \"#bd3786\"], [0.5555555555555556, \"#d8576b\"], [0.6666666666666666, \"#ed7953\"], [0.7777777777777778, \"#fb9f3a\"], [0.8888888888888888, \"#fdca26\"], [1.0, \"#f0f921\"]], \"type\": \"heatmapgl\"}], \"histogram\": [{\"marker\": {\"colorbar\": {\"outlinewidth\": 0, \"ticks\": \"\"}}, \"type\": \"histogram\"}], \"histogram2d\": [{\"colorbar\": {\"outlinewidth\": 0, \"ticks\": \"\"}, \"colorscale\": [[0.0, \"#0d0887\"], [0.1111111111111111, \"#46039f\"], [0.2222222222222222, \"#7201a8\"], [0.3333333333333333, \"#9c179e\"], [0.4444444444444444, \"#bd3786\"], [0.5555555555555556, \"#d8576b\"], [0.6666666666666666, \"#ed7953\"], [0.7777777777777778, \"#fb9f3a\"], [0.8888888888888888, \"#fdca26\"], [1.0, \"#f0f921\"]], \"type\": \"histogram2d\"}], \"histogram2dcontour\": [{\"colorbar\": {\"outlinewidth\": 0, \"ticks\": \"\"}, \"colorscale\": [[0.0, \"#0d0887\"], [0.1111111111111111, \"#46039f\"], [0.2222222222222222, \"#7201a8\"], [0.3333333333333333, \"#9c179e\"], [0.4444444444444444, \"#bd3786\"], [0.5555555555555556, \"#d8576b\"], [0.6666666666666666, \"#ed7953\"], [0.7777777777777778, \"#fb9f3a\"], [0.8888888888888888, \"#fdca26\"], [1.0, \"#f0f921\"]], \"type\": \"histogram2dcontour\"}], \"mesh3d\": [{\"colorbar\": {\"outlinewidth\": 0, \"ticks\": \"\"}, \"type\": \"mesh3d\"}], \"parcoords\": [{\"line\": {\"colorbar\": {\"outlinewidth\": 0, \"ticks\": \"\"}}, \"type\": \"parcoords\"}], \"pie\": [{\"automargin\": true, \"type\": \"pie\"}], \"scatter\": [{\"marker\": {\"colorbar\": {\"outlinewidth\": 0, \"ticks\": \"\"}}, \"type\": \"scatter\"}], \"scatter3d\": [{\"line\": {\"colorbar\": {\"outlinewidth\": 0, \"ticks\": \"\"}}, \"marker\": {\"colorbar\": {\"outlinewidth\": 0, \"ticks\": \"\"}}, \"type\": \"scatter3d\"}], \"scattercarpet\": [{\"marker\": {\"colorbar\": {\"outlinewidth\": 0, \"ticks\": \"\"}}, \"type\": \"scattercarpet\"}], \"scattergeo\": [{\"marker\": {\"colorbar\": {\"outlinewidth\": 0, \"ticks\": \"\"}}, \"type\": \"scattergeo\"}], \"scattergl\": [{\"marker\": {\"colorbar\": {\"outlinewidth\": 0, \"ticks\": \"\"}}, \"type\": \"scattergl\"}], \"scattermapbox\": [{\"marker\": {\"colorbar\": {\"outlinewidth\": 0, \"ticks\": \"\"}}, \"type\": \"scattermapbox\"}], \"scatterpolar\": [{\"marker\": {\"colorbar\": {\"outlinewidth\": 0, \"ticks\": \"\"}}, \"type\": \"scatterpolar\"}], \"scatterpolargl\": [{\"marker\": {\"colorbar\": {\"outlinewidth\": 0, \"ticks\": \"\"}}, \"type\": \"scatterpolargl\"}], \"scatterternary\": [{\"marker\": {\"colorbar\": {\"outlinewidth\": 0, \"ticks\": \"\"}}, \"type\": \"scatterternary\"}], \"surface\": [{\"colorbar\": {\"outlinewidth\": 0, \"ticks\": \"\"}, \"colorscale\": [[0.0, \"#0d0887\"], [0.1111111111111111, \"#46039f\"], [0.2222222222222222, \"#7201a8\"], [0.3333333333333333, \"#9c179e\"], [0.4444444444444444, \"#bd3786\"], [0.5555555555555556, \"#d8576b\"], [0.6666666666666666, \"#ed7953\"], [0.7777777777777778, \"#fb9f3a\"], [0.8888888888888888, \"#fdca26\"], [1.0, \"#f0f921\"]], \"type\": \"surface\"}], \"table\": [{\"cells\": {\"fill\": {\"color\": \"#EBF0F8\"}, \"line\": {\"color\": \"white\"}}, \"header\": {\"fill\": {\"color\": \"#C8D4E3\"}, \"line\": {\"color\": \"white\"}}, \"type\": \"table\"}]}, \"layout\": {\"annotationdefaults\": {\"arrowcolor\": \"#2a3f5f\", \"arrowhead\": 0, \"arrowwidth\": 1}, \"coloraxis\": {\"colorbar\": {\"outlinewidth\": 0, \"ticks\": \"\"}}, \"colorscale\": {\"diverging\": [[0, \"#8e0152\"], [0.1, \"#c51b7d\"], [0.2, \"#de77ae\"], [0.3, \"#f1b6da\"], [0.4, \"#fde0ef\"], [0.5, \"#f7f7f7\"], [0.6, \"#e6f5d0\"], [0.7, \"#b8e186\"], [0.8, \"#7fbc41\"], [0.9, \"#4d9221\"], [1, \"#276419\"]], \"sequential\": [[0.0, \"#0d0887\"], [0.1111111111111111, \"#46039f\"], [0.2222222222222222, \"#7201a8\"], [0.3333333333333333, \"#9c179e\"], [0.4444444444444444, \"#bd3786\"], [0.5555555555555556, \"#d8576b\"], [0.6666666666666666, \"#ed7953\"], [0.7777777777777778, \"#fb9f3a\"], [0.8888888888888888, \"#fdca26\"], [1.0, \"#f0f921\"]], \"sequentialminus\": [[0.0, \"#0d0887\"], [0.1111111111111111, \"#46039f\"], [0.2222222222222222, \"#7201a8\"], [0.3333333333333333, \"#9c179e\"], [0.4444444444444444, \"#bd3786\"], [0.5555555555555556, \"#d8576b\"], [0.6666666666666666, \"#ed7953\"], [0.7777777777777778, \"#fb9f3a\"], [0.8888888888888888, \"#fdca26\"], [1.0, \"#f0f921\"]]}, \"colorway\": [\"#636efa\", \"#EF553B\", \"#00cc96\", \"#ab63fa\", \"#FFA15A\", \"#19d3f3\", \"#FF6692\", \"#B6E880\", \"#FF97FF\", \"#FECB52\"], \"font\": {\"color\": \"#2a3f5f\"}, \"geo\": {\"bgcolor\": \"white\", \"lakecolor\": \"white\", \"landcolor\": \"#E5ECF6\", \"showlakes\": true, \"showland\": true, \"subunitcolor\": \"white\"}, \"hoverlabel\": {\"align\": \"left\"}, \"hovermode\": \"closest\", \"mapbox\": {\"style\": \"light\"}, \"paper_bgcolor\": \"white\", \"plot_bgcolor\": \"#E5ECF6\", \"polar\": {\"angularaxis\": {\"gridcolor\": \"white\", \"linecolor\": \"white\", \"ticks\": \"\"}, \"bgcolor\": \"#E5ECF6\", \"radialaxis\": {\"gridcolor\": \"white\", \"linecolor\": \"white\", \"ticks\": \"\"}}, \"scene\": {\"xaxis\": {\"backgroundcolor\": \"#E5ECF6\", \"gridcolor\": \"white\", \"gridwidth\": 2, \"linecolor\": \"white\", \"showbackground\": true, \"ticks\": \"\", \"zerolinecolor\": \"white\"}, \"yaxis\": {\"backgroundcolor\": \"#E5ECF6\", \"gridcolor\": \"white\", \"gridwidth\": 2, \"linecolor\": \"white\", \"showbackground\": true, \"ticks\": \"\", \"zerolinecolor\": \"white\"}, \"zaxis\": {\"backgroundcolor\": \"#E5ECF6\", \"gridcolor\": \"white\", \"gridwidth\": 2, \"linecolor\": \"white\", \"showbackground\": true, \"ticks\": \"\", \"zerolinecolor\": \"white\"}}, \"shapedefaults\": {\"line\": {\"color\": \"#2a3f5f\"}}, \"ternary\": {\"aaxis\": {\"gridcolor\": \"white\", \"linecolor\": \"white\", \"ticks\": \"\"}, \"baxis\": {\"gridcolor\": \"white\", \"linecolor\": \"white\", \"ticks\": \"\"}, \"bgcolor\": \"#E5ECF6\", \"caxis\": {\"gridcolor\": \"white\", \"linecolor\": \"white\", \"ticks\": \"\"}}, \"title\": {\"x\": 0.05}, \"xaxis\": {\"automargin\": true, \"gridcolor\": \"white\", \"linecolor\": \"white\", \"ticks\": \"\", \"title\": {\"standoff\": 15}, \"zerolinecolor\": \"white\", \"zerolinewidth\": 2}, \"yaxis\": {\"automargin\": true, \"gridcolor\": \"white\", \"linecolor\": \"white\", \"ticks\": \"\", \"title\": {\"standoff\": 15}, \"zerolinecolor\": \"white\", \"zerolinewidth\": 2}}}, \"title\": {\"text\": \"all feature coefficients\"}, \"xaxis\": {\"anchor\": \"y\", \"domain\": [0.0, 1.0], \"title\": {\"text\": \"predictor\"}}, \"yaxis\": {\"anchor\": \"x\", \"domain\": [0.0, 1.0], \"title\": {\"text\": \"coef\"}}},\n",
              "                        {\"responsive\": true}\n",
              "                    ).then(function(){\n",
              "                            \n",
              "var gd = document.getElementById('db9ed4ee-cf70-44e0-b01e-bc958a80b516');\n",
              "var x = new MutationObserver(function (mutations, observer) {{\n",
              "        var display = window.getComputedStyle(gd).display;\n",
              "        if (!display || display === 'none') {{\n",
              "            console.log([gd, 'removed!']);\n",
              "            Plotly.purge(gd);\n",
              "            observer.disconnect();\n",
              "        }}\n",
              "}});\n",
              "\n",
              "// Listen for the removal of the full notebook cells\n",
              "var notebookContainer = gd.closest('#notebook-container');\n",
              "if (notebookContainer) {{\n",
              "    x.observe(notebookContainer, {childList: true});\n",
              "}}\n",
              "\n",
              "// Listen for the clearing of the current output cell\n",
              "var outputEl = gd.closest('.output');\n",
              "if (outputEl) {{\n",
              "    x.observe(outputEl, {childList: true});\n",
              "}}\n",
              "\n",
              "                        })\n",
              "                };\n",
              "                \n",
              "            </script>\n",
              "        </div>\n",
              "</body>\n",
              "</html>"
            ]
          },
          "metadata": {
            "tags": []
          }
        }
      ]
    },
    {
      "cell_type": "code",
      "metadata": {
        "colab": {
          "base_uri": "https://localhost:8080/",
          "height": 542
        },
        "id": "zijF8q-qvNIe",
        "outputId": "2d475178-766c-46dd-fab3-0ec5e7b67fa3"
      },
      "source": [
        "chosen = coefficients[coefficients['coef'] != 0]      #Finding only columns chosen\r\n",
        "px.bar(chosen,x='predictor',y='coef',title='chosen feature coefficients') #Plotting coefficients of chosen columns"
      ],
      "execution_count": 45,
      "outputs": [
        {
          "output_type": "display_data",
          "data": {
            "text/html": [
              "<html>\n",
              "<head><meta charset=\"utf-8\" /></head>\n",
              "<body>\n",
              "    <div>\n",
              "            <script src=\"https://cdnjs.cloudflare.com/ajax/libs/mathjax/2.7.5/MathJax.js?config=TeX-AMS-MML_SVG\"></script><script type=\"text/javascript\">if (window.MathJax) {MathJax.Hub.Config({SVG: {font: \"STIX-Web\"}});}</script>\n",
              "                <script type=\"text/javascript\">window.PlotlyConfig = {MathJaxConfig: 'local'};</script>\n",
              "        <script src=\"https://cdn.plot.ly/plotly-latest.min.js\"></script>    \n",
              "            <div id=\"2b2ca7cd-b086-4bed-8c35-4cf844e4136f\" class=\"plotly-graph-div\" style=\"height:525px; width:100%;\"></div>\n",
              "            <script type=\"text/javascript\">\n",
              "                \n",
              "                    window.PLOTLYENV=window.PLOTLYENV || {};\n",
              "                    \n",
              "                if (document.getElementById(\"2b2ca7cd-b086-4bed-8c35-4cf844e4136f\")) {\n",
              "                    Plotly.newPlot(\n",
              "                        '2b2ca7cd-b086-4bed-8c35-4cf844e4136f',\n",
              "                        [{\"alignmentgroup\": \"True\", \"hoverlabel\": {\"namelength\": 0}, \"hovertemplate\": \"predictor=%{x}<br>coef=%{y}\", \"legendgroup\": \"\", \"marker\": {\"color\": \"#636efa\"}, \"name\": \"\", \"offsetgroup\": \"\", \"orientation\": \"v\", \"showlegend\": false, \"textposition\": \"auto\", \"type\": \"bar\", \"x\": [\"distance_from_store\", \"total visits\", \"total profits\", \"Apr num_items\", \"Jul visits\", \"Aug visits\", \"Sep visits\", \"x0_F\", \"x0_M\", \"x3_Mailer1\", \"x4_0\"], \"xaxis\": \"x\", \"y\": [-0.0238849029734641, 0.15329555318032703, -0.031101314948377923, -0.009885490151852345, 0.003120984283096079, 0.004958418340194709, 0.011056599355001709, -0.16633565226207517, 8.410099437468074e-16, -0.002196583251041361, 0.015174208368874549], \"yaxis\": \"y\"}],\n",
              "                        {\"barmode\": \"relative\", \"legend\": {\"tracegroupgap\": 0}, \"template\": {\"data\": {\"bar\": [{\"error_x\": {\"color\": \"#2a3f5f\"}, \"error_y\": {\"color\": \"#2a3f5f\"}, \"marker\": {\"line\": {\"color\": \"#E5ECF6\", \"width\": 0.5}}, \"type\": \"bar\"}], \"barpolar\": [{\"marker\": {\"line\": {\"color\": \"#E5ECF6\", \"width\": 0.5}}, \"type\": \"barpolar\"}], \"carpet\": [{\"aaxis\": {\"endlinecolor\": \"#2a3f5f\", \"gridcolor\": \"white\", \"linecolor\": \"white\", \"minorgridcolor\": \"white\", \"startlinecolor\": \"#2a3f5f\"}, \"baxis\": {\"endlinecolor\": \"#2a3f5f\", \"gridcolor\": \"white\", \"linecolor\": \"white\", \"minorgridcolor\": \"white\", \"startlinecolor\": \"#2a3f5f\"}, \"type\": \"carpet\"}], \"choropleth\": [{\"colorbar\": {\"outlinewidth\": 0, \"ticks\": \"\"}, \"type\": \"choropleth\"}], \"contour\": [{\"colorbar\": {\"outlinewidth\": 0, \"ticks\": \"\"}, \"colorscale\": [[0.0, \"#0d0887\"], [0.1111111111111111, \"#46039f\"], [0.2222222222222222, \"#7201a8\"], [0.3333333333333333, \"#9c179e\"], [0.4444444444444444, \"#bd3786\"], [0.5555555555555556, \"#d8576b\"], [0.6666666666666666, \"#ed7953\"], [0.7777777777777778, \"#fb9f3a\"], [0.8888888888888888, \"#fdca26\"], [1.0, \"#f0f921\"]], \"type\": \"contour\"}], \"contourcarpet\": [{\"colorbar\": {\"outlinewidth\": 0, \"ticks\": \"\"}, \"type\": \"contourcarpet\"}], \"heatmap\": [{\"colorbar\": {\"outlinewidth\": 0, \"ticks\": \"\"}, \"colorscale\": [[0.0, \"#0d0887\"], [0.1111111111111111, \"#46039f\"], [0.2222222222222222, \"#7201a8\"], [0.3333333333333333, \"#9c179e\"], [0.4444444444444444, \"#bd3786\"], [0.5555555555555556, \"#d8576b\"], [0.6666666666666666, \"#ed7953\"], [0.7777777777777778, \"#fb9f3a\"], [0.8888888888888888, \"#fdca26\"], [1.0, \"#f0f921\"]], \"type\": \"heatmap\"}], \"heatmapgl\": [{\"colorbar\": {\"outlinewidth\": 0, \"ticks\": \"\"}, \"colorscale\": [[0.0, \"#0d0887\"], [0.1111111111111111, \"#46039f\"], [0.2222222222222222, \"#7201a8\"], [0.3333333333333333, \"#9c179e\"], [0.4444444444444444, \"#bd3786\"], [0.5555555555555556, \"#d8576b\"], [0.6666666666666666, \"#ed7953\"], [0.7777777777777778, \"#fb9f3a\"], [0.8888888888888888, \"#fdca26\"], [1.0, \"#f0f921\"]], \"type\": \"heatmapgl\"}], \"histogram\": [{\"marker\": {\"colorbar\": {\"outlinewidth\": 0, \"ticks\": \"\"}}, \"type\": \"histogram\"}], \"histogram2d\": [{\"colorbar\": {\"outlinewidth\": 0, \"ticks\": \"\"}, \"colorscale\": [[0.0, \"#0d0887\"], [0.1111111111111111, \"#46039f\"], [0.2222222222222222, \"#7201a8\"], [0.3333333333333333, \"#9c179e\"], [0.4444444444444444, \"#bd3786\"], [0.5555555555555556, \"#d8576b\"], [0.6666666666666666, \"#ed7953\"], [0.7777777777777778, \"#fb9f3a\"], [0.8888888888888888, \"#fdca26\"], [1.0, \"#f0f921\"]], \"type\": \"histogram2d\"}], \"histogram2dcontour\": [{\"colorbar\": {\"outlinewidth\": 0, \"ticks\": \"\"}, \"colorscale\": [[0.0, \"#0d0887\"], [0.1111111111111111, \"#46039f\"], [0.2222222222222222, \"#7201a8\"], [0.3333333333333333, \"#9c179e\"], [0.4444444444444444, \"#bd3786\"], [0.5555555555555556, \"#d8576b\"], [0.6666666666666666, \"#ed7953\"], [0.7777777777777778, \"#fb9f3a\"], [0.8888888888888888, \"#fdca26\"], [1.0, \"#f0f921\"]], \"type\": \"histogram2dcontour\"}], \"mesh3d\": [{\"colorbar\": {\"outlinewidth\": 0, \"ticks\": \"\"}, \"type\": \"mesh3d\"}], \"parcoords\": [{\"line\": {\"colorbar\": {\"outlinewidth\": 0, \"ticks\": \"\"}}, \"type\": \"parcoords\"}], \"pie\": [{\"automargin\": true, \"type\": \"pie\"}], \"scatter\": [{\"marker\": {\"colorbar\": {\"outlinewidth\": 0, \"ticks\": \"\"}}, \"type\": \"scatter\"}], \"scatter3d\": [{\"line\": {\"colorbar\": {\"outlinewidth\": 0, \"ticks\": \"\"}}, \"marker\": {\"colorbar\": {\"outlinewidth\": 0, \"ticks\": \"\"}}, \"type\": \"scatter3d\"}], \"scattercarpet\": [{\"marker\": {\"colorbar\": {\"outlinewidth\": 0, \"ticks\": \"\"}}, \"type\": \"scattercarpet\"}], \"scattergeo\": [{\"marker\": {\"colorbar\": {\"outlinewidth\": 0, \"ticks\": \"\"}}, \"type\": \"scattergeo\"}], \"scattergl\": [{\"marker\": {\"colorbar\": {\"outlinewidth\": 0, \"ticks\": \"\"}}, \"type\": \"scattergl\"}], \"scattermapbox\": [{\"marker\": {\"colorbar\": {\"outlinewidth\": 0, \"ticks\": \"\"}}, \"type\": \"scattermapbox\"}], \"scatterpolar\": [{\"marker\": {\"colorbar\": {\"outlinewidth\": 0, \"ticks\": \"\"}}, \"type\": \"scatterpolar\"}], \"scatterpolargl\": [{\"marker\": {\"colorbar\": {\"outlinewidth\": 0, \"ticks\": \"\"}}, \"type\": \"scatterpolargl\"}], \"scatterternary\": [{\"marker\": {\"colorbar\": {\"outlinewidth\": 0, \"ticks\": \"\"}}, \"type\": \"scatterternary\"}], \"surface\": [{\"colorbar\": {\"outlinewidth\": 0, \"ticks\": \"\"}, \"colorscale\": [[0.0, \"#0d0887\"], [0.1111111111111111, \"#46039f\"], [0.2222222222222222, \"#7201a8\"], [0.3333333333333333, \"#9c179e\"], [0.4444444444444444, \"#bd3786\"], [0.5555555555555556, \"#d8576b\"], [0.6666666666666666, \"#ed7953\"], [0.7777777777777778, \"#fb9f3a\"], [0.8888888888888888, \"#fdca26\"], [1.0, \"#f0f921\"]], \"type\": \"surface\"}], \"table\": [{\"cells\": {\"fill\": {\"color\": \"#EBF0F8\"}, \"line\": {\"color\": \"white\"}}, \"header\": {\"fill\": {\"color\": \"#C8D4E3\"}, \"line\": {\"color\": \"white\"}}, \"type\": \"table\"}]}, \"layout\": {\"annotationdefaults\": {\"arrowcolor\": \"#2a3f5f\", \"arrowhead\": 0, \"arrowwidth\": 1}, \"coloraxis\": {\"colorbar\": {\"outlinewidth\": 0, \"ticks\": \"\"}}, \"colorscale\": {\"diverging\": [[0, \"#8e0152\"], [0.1, \"#c51b7d\"], [0.2, \"#de77ae\"], [0.3, \"#f1b6da\"], [0.4, \"#fde0ef\"], [0.5, \"#f7f7f7\"], [0.6, \"#e6f5d0\"], [0.7, \"#b8e186\"], [0.8, \"#7fbc41\"], [0.9, \"#4d9221\"], [1, \"#276419\"]], \"sequential\": [[0.0, \"#0d0887\"], [0.1111111111111111, \"#46039f\"], [0.2222222222222222, \"#7201a8\"], [0.3333333333333333, \"#9c179e\"], [0.4444444444444444, \"#bd3786\"], [0.5555555555555556, \"#d8576b\"], [0.6666666666666666, \"#ed7953\"], [0.7777777777777778, \"#fb9f3a\"], [0.8888888888888888, \"#fdca26\"], [1.0, \"#f0f921\"]], \"sequentialminus\": [[0.0, \"#0d0887\"], [0.1111111111111111, \"#46039f\"], [0.2222222222222222, \"#7201a8\"], [0.3333333333333333, \"#9c179e\"], [0.4444444444444444, \"#bd3786\"], [0.5555555555555556, \"#d8576b\"], [0.6666666666666666, \"#ed7953\"], [0.7777777777777778, \"#fb9f3a\"], [0.8888888888888888, \"#fdca26\"], [1.0, \"#f0f921\"]]}, \"colorway\": [\"#636efa\", \"#EF553B\", \"#00cc96\", \"#ab63fa\", \"#FFA15A\", \"#19d3f3\", \"#FF6692\", \"#B6E880\", \"#FF97FF\", \"#FECB52\"], \"font\": {\"color\": \"#2a3f5f\"}, \"geo\": {\"bgcolor\": \"white\", \"lakecolor\": \"white\", \"landcolor\": \"#E5ECF6\", \"showlakes\": true, \"showland\": true, \"subunitcolor\": \"white\"}, \"hoverlabel\": {\"align\": \"left\"}, \"hovermode\": \"closest\", \"mapbox\": {\"style\": \"light\"}, \"paper_bgcolor\": \"white\", \"plot_bgcolor\": \"#E5ECF6\", \"polar\": {\"angularaxis\": {\"gridcolor\": \"white\", \"linecolor\": \"white\", \"ticks\": \"\"}, \"bgcolor\": \"#E5ECF6\", \"radialaxis\": {\"gridcolor\": \"white\", \"linecolor\": \"white\", \"ticks\": \"\"}}, \"scene\": {\"xaxis\": {\"backgroundcolor\": \"#E5ECF6\", \"gridcolor\": \"white\", \"gridwidth\": 2, \"linecolor\": \"white\", \"showbackground\": true, \"ticks\": \"\", \"zerolinecolor\": \"white\"}, \"yaxis\": {\"backgroundcolor\": \"#E5ECF6\", \"gridcolor\": \"white\", \"gridwidth\": 2, \"linecolor\": \"white\", \"showbackground\": true, \"ticks\": \"\", \"zerolinecolor\": \"white\"}, \"zaxis\": {\"backgroundcolor\": \"#E5ECF6\", \"gridcolor\": \"white\", \"gridwidth\": 2, \"linecolor\": \"white\", \"showbackground\": true, \"ticks\": \"\", \"zerolinecolor\": \"white\"}}, \"shapedefaults\": {\"line\": {\"color\": \"#2a3f5f\"}}, \"ternary\": {\"aaxis\": {\"gridcolor\": \"white\", \"linecolor\": \"white\", \"ticks\": \"\"}, \"baxis\": {\"gridcolor\": \"white\", \"linecolor\": \"white\", \"ticks\": \"\"}, \"bgcolor\": \"#E5ECF6\", \"caxis\": {\"gridcolor\": \"white\", \"linecolor\": \"white\", \"ticks\": \"\"}}, \"title\": {\"x\": 0.05}, \"xaxis\": {\"automargin\": true, \"gridcolor\": \"white\", \"linecolor\": \"white\", \"ticks\": \"\", \"title\": {\"standoff\": 15}, \"zerolinecolor\": \"white\", \"zerolinewidth\": 2}, \"yaxis\": {\"automargin\": true, \"gridcolor\": \"white\", \"linecolor\": \"white\", \"ticks\": \"\", \"title\": {\"standoff\": 15}, \"zerolinecolor\": \"white\", \"zerolinewidth\": 2}}}, \"title\": {\"text\": \"chosen feature coefficients\"}, \"xaxis\": {\"anchor\": \"y\", \"domain\": [0.0, 1.0], \"title\": {\"text\": \"predictor\"}}, \"yaxis\": {\"anchor\": \"x\", \"domain\": [0.0, 1.0], \"title\": {\"text\": \"coef\"}}},\n",
              "                        {\"responsive\": true}\n",
              "                    ).then(function(){\n",
              "                            \n",
              "var gd = document.getElementById('2b2ca7cd-b086-4bed-8c35-4cf844e4136f');\n",
              "var x = new MutationObserver(function (mutations, observer) {{\n",
              "        var display = window.getComputedStyle(gd).display;\n",
              "        if (!display || display === 'none') {{\n",
              "            console.log([gd, 'removed!']);\n",
              "            Plotly.purge(gd);\n",
              "            observer.disconnect();\n",
              "        }}\n",
              "}});\n",
              "\n",
              "// Listen for the removal of the full notebook cells\n",
              "var notebookContainer = gd.closest('#notebook-container');\n",
              "if (notebookContainer) {{\n",
              "    x.observe(notebookContainer, {childList: true});\n",
              "}}\n",
              "\n",
              "// Listen for the clearing of the current output cell\n",
              "var outputEl = gd.closest('.output');\n",
              "if (outputEl) {{\n",
              "    x.observe(outputEl, {childList: true});\n",
              "}}\n",
              "\n",
              "                        })\n",
              "                };\n",
              "                \n",
              "            </script>\n",
              "        </div>\n",
              "</body>\n",
              "</html>"
            ]
          },
          "metadata": {
            "tags": []
          }
        }
      ]
    },
    {
      "cell_type": "markdown",
      "metadata": {
        "id": "hD2CvJR9auP2"
      },
      "source": [
        "From this bar graph we see that the 2 highest magnitude features are x0_F, the encoded indicator showing that the customer is female, and total_visits, the column with the total amount of visits the person made to the store.  The other features are much less important, as the bars are lower. The positive and negative values indicate the relationship, so since total visits is higher that means the more visits you have, the greater your loyalty. Conversely, the fact that you're a woman then makes you less loyal."
      ]
    },
    {
      "cell_type": "markdown",
      "metadata": {
        "id": "FB0SatStaUPe"
      },
      "source": [
        "Now I take a look at some of the metrics evaluating how good this model is at predicting loyalty"
      ]
    },
    {
      "cell_type": "markdown",
      "metadata": {
        "id": "vWX2dDvTcPg_"
      },
      "source": [
        "The next 2 cells of code give the R squared value of data and predictions. For the training data it's .68 and for the test it's .57. A score closer to 1 is better, and clearly the training value is better than the test. R squared gives an indication of how well correlated the preidctors are to the outcome, and the training set has a better value by design. The model basically maxed out this value for training, while the test is then used to see how well this works in practice. This value of .57 means there's some fairly good correlation. This will be shown visually momentarily.\r\n"
      ]
    },
    {
      "cell_type": "code",
      "metadata": {
        "colab": {
          "base_uri": "https://localhost:8080/"
        },
        "id": "lmDDP2znZjEU",
        "outputId": "8fefb9fd-1fc8-423d-8665-3821a6f7ad78"
      },
      "source": [
        "reg.score(X_train,y_train)  #Training R squared"
      ],
      "execution_count": 46,
      "outputs": [
        {
          "output_type": "execute_result",
          "data": {
            "text/plain": [
              "0.6754662291505371"
            ]
          },
          "metadata": {
            "tags": []
          },
          "execution_count": 46
        }
      ]
    },
    {
      "cell_type": "code",
      "metadata": {
        "colab": {
          "base_uri": "https://localhost:8080/"
        },
        "id": "kkyK_EKm4dR6",
        "outputId": "da028239-2506-445e-fdb8-117d188246ed"
      },
      "source": [
        "reg.score(X_test,y_test)  #Test R squared"
      ],
      "execution_count": 47,
      "outputs": [
        {
          "output_type": "execute_result",
          "data": {
            "text/plain": [
              "0.5676501407309366"
            ]
          },
          "metadata": {
            "tags": []
          },
          "execution_count": 47
        }
      ]
    },
    {
      "cell_type": "markdown",
      "metadata": {
        "id": "iUKrIU0FefJe"
      },
      "source": [
        "Below I plot the actual values against the predicted values. Doing this allows us to see how closely the predictions match. If it was perfect the graph would be a diagonal line from bottom left to top right. The closer it appears to this the better."
      ]
    },
    {
      "cell_type": "code",
      "metadata": {
        "id": "jkOt-8Im4BWf"
      },
      "source": [
        "y_hat = reg.predict(X_test) #Predict test set from model\r\n",
        "#Put together actual and predicted values for easy comparison\r\n",
        "score_compare = pd.DataFrame(zip(All_labeled['customer_id'],pd.Series(y_hat),pd.Series(y_test)),columns=['customer_id','predicted','actual'])\r\n",
        "#Associating customer ids for the sake of it\r\n",
        "check = score_compare.merge(All_labeled,how='left',on='customer_id')"
      ],
      "execution_count": 48,
      "outputs": []
    },
    {
      "cell_type": "code",
      "metadata": {
        "colab": {
          "base_uri": "https://localhost:8080/",
          "height": 542
        },
        "id": "CQY6PEeYjbVq",
        "outputId": "4ad9735b-37ce-4d81-afe4-3578e31b13e7"
      },
      "source": [
        "px.scatter(check,x='actual',y='predicted',title='Visual representation of accuracy ')"
      ],
      "execution_count": 49,
      "outputs": [
        {
          "output_type": "display_data",
          "data": {
            "text/html": [
              "<html>\n",
              "<head><meta charset=\"utf-8\" /></head>\n",
              "<body>\n",
              "    <div>\n",
              "            <script src=\"https://cdnjs.cloudflare.com/ajax/libs/mathjax/2.7.5/MathJax.js?config=TeX-AMS-MML_SVG\"></script><script type=\"text/javascript\">if (window.MathJax) {MathJax.Hub.Config({SVG: {font: \"STIX-Web\"}});}</script>\n",
              "                <script type=\"text/javascript\">window.PlotlyConfig = {MathJaxConfig: 'local'};</script>\n",
              "        <script src=\"https://cdn.plot.ly/plotly-latest.min.js\"></script>    \n",
              "            <div id=\"6dcb9ed1-4534-4b3a-adc1-eb1b134c3d1f\" class=\"plotly-graph-div\" style=\"height:525px; width:100%;\"></div>\n",
              "            <script type=\"text/javascript\">\n",
              "                \n",
              "                    window.PLOTLYENV=window.PLOTLYENV || {};\n",
              "                    \n",
              "                if (document.getElementById(\"6dcb9ed1-4534-4b3a-adc1-eb1b134c3d1f\")) {\n",
              "                    Plotly.newPlot(\n",
              "                        '6dcb9ed1-4534-4b3a-adc1-eb1b134c3d1f',\n",
              "                        [{\"hoverlabel\": {\"namelength\": 0}, \"hovertemplate\": \"actual=%{x}<br>predicted=%{y}\", \"legendgroup\": \"\", \"marker\": {\"color\": \"#636efa\", \"symbol\": \"circle\"}, \"mode\": \"markers\", \"name\": \"\", \"showlegend\": false, \"type\": \"scatter\", \"x\": [0.751, 0.672, 0.657, 0.65, 0.612, 0.317, 0.564, 0.698, 0.034, 0.528, 0.441, 0.57, 0.366, 0.665, 0.247, 0.92, 0.079, 0.089, 0.047, 0.036, 0.237, 0.6, 0.288, 0.572, 0.47, 0.048, 0.952, 0.201, 0.334, 0.556, 0.965, 0.613, 0.587, 0.068, 0.619, 0.404, 0.633, 0.247, 0.294, 0.851, 0.463, 0.258, 0.396, 0.112, 0.581, 0.096, 0.418, 0.773, 0.545, 0.147, 0.508, 0.972, 0.802, 0.827, 0.808, 0.773, 0.991, 0.77, 0.263, 0.424, 0.389, 0.005, 0.143, 0.314, 0.174, 0.408, 0.759, 0.929, 0.302, 0.297, 0.46, 0.898, 0.54, 0.513, 0.903, 0.151, 0.825, 0.694, 0.857, 0.51], \"xaxis\": \"x\", \"y\": [0.7579459787987657, 0.6978608122096901, 0.45569457786212514, 0.41658728657942584, 0.7894145852273364, 0.43906120543702754, 0.644061284840442, 0.40042944824607407, 0.09429714304661974, 0.7665208880927257, 0.7208856231344296, 0.43599756890817504, 0.4685488946363456, 0.8206893333043721, 0.4427672034516479, 0.7921646119941214, 0.09105057772319897, 0.10324679956755456, 0.16325171021232227, 0.11081188594050079, 0.25883801587998134, 0.33962709578190386, 0.7566660284564648, 0.4667629608698792, 0.48839189692841495, 0.11863535683188614, 0.7150540623195405, 0.406063782330778, 0.3300967435431653, 0.4905505339833317, 0.7172533820403578, 0.7310212243409082, 0.803635592567612, 0.14429587422732643, 0.6343915183326911, 0.2897979907794693, 0.38969155808686884, 0.35668958989821475, 0.34870141862943715, 0.7741892256612245, 0.3007123227474264, 0.3894752999895015, 0.48942543686282974, 0.14629499741468782, 0.6700400614046651, 0.3820193343046995, 0.39569640123732075, 0.7592770840320441, 0.38655608982108836, 0.43185165255505764, 0.450651846521275, 0.7414806352320312, 0.7323690007536106, 0.4475682759434324, 0.7924817371444025, 0.7353197518914886, 0.7357110652638376, 0.46776495898495757, 0.47491817402906833, 0.43299984521806, 0.3117142698148917, 0.11776332470507844, 0.43335394754893486, 0.38880398687931317, 0.3959252920125142, 0.7616926168908407, 0.45874119245109285, 0.8029341653859917, 0.3098584018318107, 0.2966321170822274, 0.3725856481549456, 0.7927549433209313, 0.8146657985379193, 0.6741840959330183, 0.7702068725459998, 0.4746286238526592, 0.7110736128832585, 0.7800276676656877, 0.4659923410729017, 0.4687808668812319], \"yaxis\": \"y\"}],\n",
              "                        {\"legend\": {\"tracegroupgap\": 0}, \"template\": {\"data\": {\"bar\": [{\"error_x\": {\"color\": \"#2a3f5f\"}, \"error_y\": {\"color\": \"#2a3f5f\"}, \"marker\": {\"line\": {\"color\": \"#E5ECF6\", \"width\": 0.5}}, \"type\": \"bar\"}], \"barpolar\": [{\"marker\": {\"line\": {\"color\": \"#E5ECF6\", \"width\": 0.5}}, \"type\": \"barpolar\"}], \"carpet\": [{\"aaxis\": {\"endlinecolor\": \"#2a3f5f\", \"gridcolor\": \"white\", \"linecolor\": \"white\", \"minorgridcolor\": \"white\", \"startlinecolor\": \"#2a3f5f\"}, \"baxis\": {\"endlinecolor\": \"#2a3f5f\", \"gridcolor\": \"white\", \"linecolor\": \"white\", \"minorgridcolor\": \"white\", \"startlinecolor\": \"#2a3f5f\"}, \"type\": \"carpet\"}], \"choropleth\": [{\"colorbar\": {\"outlinewidth\": 0, \"ticks\": \"\"}, \"type\": \"choropleth\"}], \"contour\": [{\"colorbar\": {\"outlinewidth\": 0, \"ticks\": \"\"}, \"colorscale\": [[0.0, \"#0d0887\"], [0.1111111111111111, \"#46039f\"], [0.2222222222222222, \"#7201a8\"], [0.3333333333333333, \"#9c179e\"], [0.4444444444444444, \"#bd3786\"], [0.5555555555555556, \"#d8576b\"], [0.6666666666666666, \"#ed7953\"], [0.7777777777777778, \"#fb9f3a\"], [0.8888888888888888, \"#fdca26\"], [1.0, \"#f0f921\"]], \"type\": \"contour\"}], \"contourcarpet\": [{\"colorbar\": {\"outlinewidth\": 0, \"ticks\": \"\"}, \"type\": \"contourcarpet\"}], \"heatmap\": [{\"colorbar\": {\"outlinewidth\": 0, \"ticks\": \"\"}, \"colorscale\": [[0.0, \"#0d0887\"], [0.1111111111111111, \"#46039f\"], [0.2222222222222222, \"#7201a8\"], [0.3333333333333333, \"#9c179e\"], [0.4444444444444444, \"#bd3786\"], [0.5555555555555556, \"#d8576b\"], [0.6666666666666666, \"#ed7953\"], [0.7777777777777778, \"#fb9f3a\"], [0.8888888888888888, \"#fdca26\"], [1.0, \"#f0f921\"]], \"type\": \"heatmap\"}], \"heatmapgl\": [{\"colorbar\": {\"outlinewidth\": 0, \"ticks\": \"\"}, \"colorscale\": [[0.0, \"#0d0887\"], [0.1111111111111111, \"#46039f\"], [0.2222222222222222, \"#7201a8\"], [0.3333333333333333, \"#9c179e\"], [0.4444444444444444, \"#bd3786\"], [0.5555555555555556, \"#d8576b\"], [0.6666666666666666, \"#ed7953\"], [0.7777777777777778, \"#fb9f3a\"], [0.8888888888888888, \"#fdca26\"], [1.0, \"#f0f921\"]], \"type\": \"heatmapgl\"}], \"histogram\": [{\"marker\": {\"colorbar\": {\"outlinewidth\": 0, \"ticks\": \"\"}}, \"type\": \"histogram\"}], \"histogram2d\": [{\"colorbar\": {\"outlinewidth\": 0, \"ticks\": \"\"}, \"colorscale\": [[0.0, \"#0d0887\"], [0.1111111111111111, \"#46039f\"], [0.2222222222222222, \"#7201a8\"], [0.3333333333333333, \"#9c179e\"], [0.4444444444444444, \"#bd3786\"], [0.5555555555555556, \"#d8576b\"], [0.6666666666666666, \"#ed7953\"], [0.7777777777777778, \"#fb9f3a\"], [0.8888888888888888, \"#fdca26\"], [1.0, \"#f0f921\"]], \"type\": \"histogram2d\"}], \"histogram2dcontour\": [{\"colorbar\": {\"outlinewidth\": 0, \"ticks\": \"\"}, \"colorscale\": [[0.0, \"#0d0887\"], [0.1111111111111111, \"#46039f\"], [0.2222222222222222, \"#7201a8\"], [0.3333333333333333, \"#9c179e\"], [0.4444444444444444, \"#bd3786\"], [0.5555555555555556, \"#d8576b\"], [0.6666666666666666, \"#ed7953\"], [0.7777777777777778, \"#fb9f3a\"], [0.8888888888888888, \"#fdca26\"], [1.0, \"#f0f921\"]], \"type\": \"histogram2dcontour\"}], \"mesh3d\": [{\"colorbar\": {\"outlinewidth\": 0, \"ticks\": \"\"}, \"type\": \"mesh3d\"}], \"parcoords\": [{\"line\": {\"colorbar\": {\"outlinewidth\": 0, \"ticks\": \"\"}}, \"type\": \"parcoords\"}], \"pie\": [{\"automargin\": true, \"type\": \"pie\"}], \"scatter\": [{\"marker\": {\"colorbar\": {\"outlinewidth\": 0, \"ticks\": \"\"}}, \"type\": \"scatter\"}], \"scatter3d\": [{\"line\": {\"colorbar\": {\"outlinewidth\": 0, \"ticks\": \"\"}}, \"marker\": {\"colorbar\": {\"outlinewidth\": 0, \"ticks\": \"\"}}, \"type\": \"scatter3d\"}], \"scattercarpet\": [{\"marker\": {\"colorbar\": {\"outlinewidth\": 0, \"ticks\": \"\"}}, \"type\": \"scattercarpet\"}], \"scattergeo\": [{\"marker\": {\"colorbar\": {\"outlinewidth\": 0, \"ticks\": \"\"}}, \"type\": \"scattergeo\"}], \"scattergl\": [{\"marker\": {\"colorbar\": {\"outlinewidth\": 0, \"ticks\": \"\"}}, \"type\": \"scattergl\"}], \"scattermapbox\": [{\"marker\": {\"colorbar\": {\"outlinewidth\": 0, \"ticks\": \"\"}}, \"type\": \"scattermapbox\"}], \"scatterpolar\": [{\"marker\": {\"colorbar\": {\"outlinewidth\": 0, \"ticks\": \"\"}}, \"type\": \"scatterpolar\"}], \"scatterpolargl\": [{\"marker\": {\"colorbar\": {\"outlinewidth\": 0, \"ticks\": \"\"}}, \"type\": \"scatterpolargl\"}], \"scatterternary\": [{\"marker\": {\"colorbar\": {\"outlinewidth\": 0, \"ticks\": \"\"}}, \"type\": \"scatterternary\"}], \"surface\": [{\"colorbar\": {\"outlinewidth\": 0, \"ticks\": \"\"}, \"colorscale\": [[0.0, \"#0d0887\"], [0.1111111111111111, \"#46039f\"], [0.2222222222222222, \"#7201a8\"], [0.3333333333333333, \"#9c179e\"], [0.4444444444444444, \"#bd3786\"], [0.5555555555555556, \"#d8576b\"], [0.6666666666666666, \"#ed7953\"], [0.7777777777777778, \"#fb9f3a\"], [0.8888888888888888, \"#fdca26\"], [1.0, \"#f0f921\"]], \"type\": \"surface\"}], \"table\": [{\"cells\": {\"fill\": {\"color\": \"#EBF0F8\"}, \"line\": {\"color\": \"white\"}}, \"header\": {\"fill\": {\"color\": \"#C8D4E3\"}, \"line\": {\"color\": \"white\"}}, \"type\": \"table\"}]}, \"layout\": {\"annotationdefaults\": {\"arrowcolor\": \"#2a3f5f\", \"arrowhead\": 0, \"arrowwidth\": 1}, \"coloraxis\": {\"colorbar\": {\"outlinewidth\": 0, \"ticks\": \"\"}}, \"colorscale\": {\"diverging\": [[0, \"#8e0152\"], [0.1, \"#c51b7d\"], [0.2, \"#de77ae\"], [0.3, \"#f1b6da\"], [0.4, \"#fde0ef\"], [0.5, \"#f7f7f7\"], [0.6, \"#e6f5d0\"], [0.7, \"#b8e186\"], [0.8, \"#7fbc41\"], [0.9, \"#4d9221\"], [1, \"#276419\"]], \"sequential\": [[0.0, \"#0d0887\"], [0.1111111111111111, \"#46039f\"], [0.2222222222222222, \"#7201a8\"], [0.3333333333333333, \"#9c179e\"], [0.4444444444444444, \"#bd3786\"], [0.5555555555555556, \"#d8576b\"], [0.6666666666666666, \"#ed7953\"], [0.7777777777777778, \"#fb9f3a\"], [0.8888888888888888, \"#fdca26\"], [1.0, \"#f0f921\"]], \"sequentialminus\": [[0.0, \"#0d0887\"], [0.1111111111111111, \"#46039f\"], [0.2222222222222222, \"#7201a8\"], [0.3333333333333333, \"#9c179e\"], [0.4444444444444444, \"#bd3786\"], [0.5555555555555556, \"#d8576b\"], [0.6666666666666666, \"#ed7953\"], [0.7777777777777778, \"#fb9f3a\"], [0.8888888888888888, \"#fdca26\"], [1.0, \"#f0f921\"]]}, \"colorway\": [\"#636efa\", \"#EF553B\", \"#00cc96\", \"#ab63fa\", \"#FFA15A\", \"#19d3f3\", \"#FF6692\", \"#B6E880\", \"#FF97FF\", \"#FECB52\"], \"font\": {\"color\": \"#2a3f5f\"}, \"geo\": {\"bgcolor\": \"white\", \"lakecolor\": \"white\", \"landcolor\": \"#E5ECF6\", \"showlakes\": true, \"showland\": true, \"subunitcolor\": \"white\"}, \"hoverlabel\": {\"align\": \"left\"}, \"hovermode\": \"closest\", \"mapbox\": {\"style\": \"light\"}, \"paper_bgcolor\": \"white\", \"plot_bgcolor\": \"#E5ECF6\", \"polar\": {\"angularaxis\": {\"gridcolor\": \"white\", \"linecolor\": \"white\", \"ticks\": \"\"}, \"bgcolor\": \"#E5ECF6\", \"radialaxis\": {\"gridcolor\": \"white\", \"linecolor\": \"white\", \"ticks\": \"\"}}, \"scene\": {\"xaxis\": {\"backgroundcolor\": \"#E5ECF6\", \"gridcolor\": \"white\", \"gridwidth\": 2, \"linecolor\": \"white\", \"showbackground\": true, \"ticks\": \"\", \"zerolinecolor\": \"white\"}, \"yaxis\": {\"backgroundcolor\": \"#E5ECF6\", \"gridcolor\": \"white\", \"gridwidth\": 2, \"linecolor\": \"white\", \"showbackground\": true, \"ticks\": \"\", \"zerolinecolor\": \"white\"}, \"zaxis\": {\"backgroundcolor\": \"#E5ECF6\", \"gridcolor\": \"white\", \"gridwidth\": 2, \"linecolor\": \"white\", \"showbackground\": true, \"ticks\": \"\", \"zerolinecolor\": \"white\"}}, \"shapedefaults\": {\"line\": {\"color\": \"#2a3f5f\"}}, \"ternary\": {\"aaxis\": {\"gridcolor\": \"white\", \"linecolor\": \"white\", \"ticks\": \"\"}, \"baxis\": {\"gridcolor\": \"white\", \"linecolor\": \"white\", \"ticks\": \"\"}, \"bgcolor\": \"#E5ECF6\", \"caxis\": {\"gridcolor\": \"white\", \"linecolor\": \"white\", \"ticks\": \"\"}}, \"title\": {\"x\": 0.05}, \"xaxis\": {\"automargin\": true, \"gridcolor\": \"white\", \"linecolor\": \"white\", \"ticks\": \"\", \"title\": {\"standoff\": 15}, \"zerolinecolor\": \"white\", \"zerolinewidth\": 2}, \"yaxis\": {\"automargin\": true, \"gridcolor\": \"white\", \"linecolor\": \"white\", \"ticks\": \"\", \"title\": {\"standoff\": 15}, \"zerolinecolor\": \"white\", \"zerolinewidth\": 2}}}, \"title\": {\"text\": \"Visual representation of accuracy \"}, \"xaxis\": {\"anchor\": \"y\", \"domain\": [0.0, 1.0], \"title\": {\"text\": \"actual\"}}, \"yaxis\": {\"anchor\": \"x\", \"domain\": [0.0, 1.0], \"title\": {\"text\": \"predicted\"}}},\n",
              "                        {\"responsive\": true}\n",
              "                    ).then(function(){\n",
              "                            \n",
              "var gd = document.getElementById('6dcb9ed1-4534-4b3a-adc1-eb1b134c3d1f');\n",
              "var x = new MutationObserver(function (mutations, observer) {{\n",
              "        var display = window.getComputedStyle(gd).display;\n",
              "        if (!display || display === 'none') {{\n",
              "            console.log([gd, 'removed!']);\n",
              "            Plotly.purge(gd);\n",
              "            observer.disconnect();\n",
              "        }}\n",
              "}});\n",
              "\n",
              "// Listen for the removal of the full notebook cells\n",
              "var notebookContainer = gd.closest('#notebook-container');\n",
              "if (notebookContainer) {{\n",
              "    x.observe(notebookContainer, {childList: true});\n",
              "}}\n",
              "\n",
              "// Listen for the clearing of the current output cell\n",
              "var outputEl = gd.closest('.output');\n",
              "if (outputEl) {{\n",
              "    x.observe(outputEl, {childList: true});\n",
              "}}\n",
              "\n",
              "                        })\n",
              "                };\n",
              "                \n",
              "            </script>\n",
              "        </div>\n",
              "</body>\n",
              "</html>"
            ]
          },
          "metadata": {
            "tags": []
          }
        }
      ]
    },
    {
      "cell_type": "markdown",
      "metadata": {
        "id": "49o-qxuqet7M"
      },
      "source": [
        "As can be seen from the graph above, the values actually match pretty well. Something else interesting though is the fact that there seem to be groupings of dots, stratified. The model basically won't predict someone as .2 or .6. As this model is it basically predicts either low, medium, or high, then fine tunes that based on some other values. This can be used later."
      ]
    },
    {
      "cell_type": "markdown",
      "metadata": {
        "id": "Q58bTzs4frHa"
      },
      "source": [
        "For the last bit of evaluation we calculate the root mean squared error of this prediction. This value basically tells us the average amount we can expect to be wrong on any given prediction. As seen below the amount is about .18. On a scale of 0 to 1 for loyalty scores this is actually pretty high, but can still be managed."
      ]
    },
    {
      "cell_type": "code",
      "metadata": {
        "colab": {
          "base_uri": "https://localhost:8080/"
        },
        "id": "2h_GDBRw29G9",
        "outputId": "db727049-adb2-43cd-8cf7-d3990c3e004e"
      },
      "source": [
        "mean_squared_error(y_test,y_hat,squared=False)"
      ],
      "execution_count": 50,
      "outputs": [
        {
          "output_type": "execute_result",
          "data": {
            "text/plain": [
              "0.18014455734360837"
            ]
          },
          "metadata": {
            "tags": []
          },
          "execution_count": 50
        }
      ]
    },
    {
      "cell_type": "markdown",
      "metadata": {
        "id": "wlOl3XZOY9xK"
      },
      "source": [
        "## Part 3: Application\n",
        "\n",
        "Use this section to talk about the application of your model. How can the business understand and leverage the outcome of your work? "
      ]
    },
    {
      "cell_type": "markdown",
      "metadata": {
        "id": "tEtZvCCJnqZ5"
      },
      "source": [
        "First thing's first we can predict the unlabeled people\r\n"
      ]
    },
    {
      "cell_type": "code",
      "metadata": {
        "id": "rN45XUxTZdIx",
        "colab": {
          "base_uri": "https://localhost:8080/"
        },
        "outputId": "3edddfd1-267b-4840-8c28-027c2b01e961"
      },
      "source": [
        "Unlabeled =  all_scaled_ids.set_index(keys='customer_id').drop(labels=All_labeled['customer_id'])\r\n",
        "Unlabeled_y_hat = reg.predict(Unlabeled)\r\n",
        "Unlabeled_y_hat"
      ],
      "execution_count": 51,
      "outputs": [
        {
          "output_type": "execute_result",
          "data": {
            "text/plain": [
              "array([ 0.35490319,  0.78975558,  1.06601077,  0.71805428,  0.42658095,\n",
              "        0.4541319 ,  0.76375963,  0.42993561,  0.68432397,  0.41278162,\n",
              "        0.82257091,  0.71174405,  0.69637373,  0.37167784,  0.67437337,\n",
              "        0.15757075,  0.12680058,  0.15525248,  0.44326802,  0.69809795,\n",
              "        0.99409081,  0.72039906,  0.49508717,  0.33240811,  0.47695818,\n",
              "        0.82978077,  0.64457111,  0.32803434,  0.29125281,  0.14207947,\n",
              "        0.10114631,  0.32307432,  0.15680235,  0.65855418,  0.79228116,\n",
              "        0.72097207,  0.34292429,  0.7220239 ,  0.50873079,  0.46702971,\n",
              "        0.37060354,  0.42489846,  0.44223328,  0.1494926 ,  0.38077304,\n",
              "        0.79105931,  0.77421686,  0.15236914,  0.78412687,  0.48095706,\n",
              "        0.67439441,  0.4078477 ,  0.68698545,  0.83018915,  0.15394249,\n",
              "        0.11790386,  0.38744684,  0.44754637,  0.3064854 ,  0.39828499,\n",
              "        0.77607209,  0.40674745,  0.14595183,  0.39070184,  0.35479446,\n",
              "        0.97567975,  0.43706769,  0.31067627,  0.36990014,  0.40556812,\n",
              "        0.49316858,  0.47366641,  0.41132882,  0.44903914,  0.39836648,\n",
              "        0.44387888,  0.37281813,  0.43400842,  0.43460854,  0.05915123,\n",
              "        0.37156454,  0.85252101,  0.43568249,  0.43071627,  0.4758992 ,\n",
              "        0.49638392,  0.38035182,  0.39340484,  0.4246139 ,  0.6841134 ,\n",
              "        0.72073064,  0.67412068,  1.11687307,  0.48925518,  0.70891313,\n",
              "        0.37144855,  0.35658555,  0.78539087,  0.77548188,  0.76862743,\n",
              "        0.73135934,  0.15285148,  0.30744109,  0.26472844,  0.42241313,\n",
              "        0.50062397,  0.49806589,  1.06657011,  0.71456249,  0.70977256,\n",
              "        0.77999705,  0.43259238,  0.7131257 ,  0.67267593,  0.73690367,\n",
              "        0.83526455,  0.32083268,  0.11168408,  0.35704763,  0.80295718,\n",
              "        0.45566107,  1.00775829,  0.14735898,  0.13295136,  0.69958181,\n",
              "        0.64203312,  0.77401145,  0.42635126,  0.38100269,  0.43033976,\n",
              "        0.3845068 ,  0.77263089,  0.47578985,  0.43596165,  0.46533737,\n",
              "        0.48065942,  0.77242725,  0.48088147,  0.42357828,  0.49058295,\n",
              "        0.66580658,  0.74472933,  0.70714708,  0.11232697,  0.49978216,\n",
              "        0.48836381,  0.15890643,  0.80733788,  0.65770789,  0.48400921,\n",
              "        0.48917623,  0.74265825,  0.37829816,  0.34148564,  0.71672952,\n",
              "        0.48966881,  0.48367421,  0.62333763,  0.40155633,  0.36542379,\n",
              "        0.47784608,  0.1539551 ,  0.45859995,  0.61012513,  0.34994184,\n",
              "        0.36913402,  0.69600835,  0.79814298,  0.46519235,  0.39904608,\n",
              "        0.46383498,  0.71566446,  0.78348052,  0.42819453,  0.43179359,\n",
              "        0.72861848,  0.34574494,  0.45839653,  0.7229617 ,  0.31242818,\n",
              "        0.78761148,  0.49243548,  0.4785888 ,  0.44061237,  0.79866405,\n",
              "        0.44099976,  0.40112782,  0.68340136,  0.39669709,  0.35797153,\n",
              "        0.78660968,  0.79656205,  0.15673885,  0.77102659,  0.69077142,\n",
              "        0.81396916,  0.43713323,  0.67325039,  0.49887714,  0.39711712,\n",
              "        0.32178537,  0.49937199,  0.77318675,  0.37310073,  0.48320236,\n",
              "        0.39130034,  1.06967278,  0.75945209,  0.40619845,  0.65811818,\n",
              "        0.32544576,  0.44990236,  0.31762182,  0.14020696,  0.41516108,\n",
              "        0.67821944,  0.16306984,  0.69855732,  0.7303775 ,  0.34923196,\n",
              "        0.32774966,  0.44031352,  0.42233615,  0.81687943,  0.4950598 ,\n",
              "        0.65942215,  0.39293671,  0.41238658,  0.79503146,  0.79826751,\n",
              "        0.37744596,  0.16607162,  0.25461989,  0.07899282,  0.47036391,\n",
              "        0.42363012,  0.45409713,  0.70861559,  0.3733504 ,  0.48500577,\n",
              "        1.05607412,  0.38713026,  0.80246684,  0.7397063 ,  0.40864918,\n",
              "        0.40522544,  0.43789851,  0.32969215,  0.38238377,  0.3941548 ,\n",
              "        0.48097886,  0.29676345,  0.1491998 ,  0.48310986,  0.44328866,\n",
              "        0.10785814,  0.40280508,  0.28973986,  0.44303256,  0.81795264,\n",
              "        0.14771759,  0.45768388,  0.33258778,  0.35204471,  0.77169133,\n",
              "        0.78900282,  0.12564135,  0.7938554 ,  0.14647225,  0.48394202,\n",
              "        0.43984183,  0.26636084,  0.48453922,  0.11703918,  0.79507724,\n",
              "        0.43611607,  0.80822394,  0.33281676,  0.74962415,  0.43849206,\n",
              "        0.38009508,  0.66580492,  0.16069323,  0.66709802,  0.78738708,\n",
              "        0.48968704,  0.3817555 ,  0.69036789,  0.30410558,  0.40210126,\n",
              "        0.37896037,  0.32883074,  0.77811466,  0.40066401,  0.43033174,\n",
              "        0.7781872 ,  0.43550613,  0.15285805,  0.64928661,  0.31411832,\n",
              "        0.74464071,  0.73241753,  0.4500639 ,  0.40031022,  0.08599704,\n",
              "        0.48383662,  0.4944032 ,  0.31005264,  0.41070834,  0.81565382,\n",
              "        0.48051621,  0.42401876,  0.50381165,  0.77475614,  0.43212267,\n",
              "        0.47693542,  0.15057436,  0.72664283,  0.78130729,  0.45711612,\n",
              "        0.36377111,  0.32994884,  0.7880576 ,  0.83139442,  0.45659475,\n",
              "        0.48430217,  0.70922277,  0.40669925,  0.47041251,  0.76619583,\n",
              "        0.34020707,  0.35565114,  0.48969533,  0.11054108,  0.49495882,\n",
              "        0.3239282 ,  0.4554066 ,  0.37670388,  0.78604261,  0.44373311,\n",
              "        0.46481698,  0.64797494,  0.1039787 ,  0.14065716,  0.70579251,\n",
              "        0.74873748,  0.34393264,  0.80595054,  0.47452923,  0.38993884,\n",
              "        0.76031659,  0.39839034,  0.15246909,  0.7504596 ,  0.49957961,\n",
              "        0.82571725,  0.40339337,  0.40878497,  0.49721704,  0.49135164,\n",
              "        0.43708974,  0.48954255,  0.33300796,  0.42093595,  0.39230933,\n",
              "        0.40548313,  0.44345749,  0.40317555,  0.31340299,  0.78685519,\n",
              "        0.7212289 ,  0.7999083 ,  0.80707843,  0.65660992,  0.48074856,\n",
              "        0.42491374,  0.6988222 ,  0.40069126,  0.34628389,  0.15332158,\n",
              "        0.9471127 ,  0.4409263 ,  0.43439179,  0.78342488,  0.74607136,\n",
              "        0.48919065,  0.42382796,  0.29131399,  0.81051594,  0.32577408,\n",
              "        0.44854348,  0.33484354,  0.80891461,  0.49951501,  0.12326112,\n",
              "       -0.37520444,  0.37205054,  0.12034765,  0.70775633,  0.82659675,\n",
              "        0.79585634,  0.43886614,  0.62009637,  0.17245001,  0.29788941,\n",
              "        0.42200621,  0.3575044 ,  0.48670667,  0.39491242,  0.38742593,\n",
              "        0.49155596,  0.43445609,  0.72513362,  0.14323209,  0.80340716,\n",
              "        0.41891045,  0.15177471,  0.78323615,  0.75060685,  0.73043381,\n",
              "        0.47770619,  0.72688493,  0.78283036,  0.84702785,  0.47612068,\n",
              "        0.66900331,  0.46295007,  0.49862101,  0.7817829 ,  0.86629162,\n",
              "        0.12949357,  0.35767014,  0.15235427,  0.37527071,  0.81804392,\n",
              "        0.81202608,  0.68467476,  0.43340777,  0.15533842,  0.36471231,\n",
              "        0.65340178,  0.42274348,  0.36847551,  0.14046416,  0.38003107,\n",
              "        0.47331719,  0.76647509,  0.46301464,  0.77219238,  0.76635683,\n",
              "        0.34900389,  0.38287499,  0.41416874,  0.78242064,  0.466334  ,\n",
              "        0.68714607,  0.41339834,  0.80727692,  0.49750118,  0.0976804 ,\n",
              "        0.59914385,  0.65901634,  0.70720008,  0.36638711,  0.68890806,\n",
              "        0.79328803,  0.44569957,  0.48353888,  0.7811649 ,  0.75109617])"
            ]
          },
          "metadata": {
            "tags": []
          },
          "execution_count": 51
        }
      ]
    },
    {
      "cell_type": "markdown",
      "metadata": {
        "id": "SUILtItsqvvH"
      },
      "source": [
        "While this prediction is somewhat good and we could be done here what might be more useful is to group our predictions into loyalty categories rather than loyalty scores. Kmeans clustering is used to make clusters, and a loyalty cluster can then be discerned "
      ]
    },
    {
      "cell_type": "code",
      "metadata": {
        "id": "W1h9VcFcrZzA"
      },
      "source": [
        "kmeans = KMeans(n_clusters=3, random_state=54).fit(y_hat.reshape(-1,1))   #Perform kmeans clustering\r\n"
      ],
      "execution_count": 52,
      "outputs": []
    },
    {
      "cell_type": "code",
      "metadata": {
        "id": "dWtmRcPgsCwS"
      },
      "source": [
        "y_hat_clust = kmeans.labels_                                    #Find cluster label of predictions\r\n",
        "y_test_clust = kmeans.predict(np.array(y_test).reshape(-1,1))   #Find cluster label of actual values"
      ],
      "execution_count": 53,
      "outputs": []
    },
    {
      "cell_type": "code",
      "metadata": {
        "id": "6M4Lv7nHuN8v"
      },
      "source": [
        "match_dict={True:1,False:0} #For seeing if cluster matches actual\r\n",
        "#Put together prediction, actual, and whether or not the clusters match together into one frame\r\n",
        "clust_frame = pd.DataFrame(zip(y_hat,y_test,list(map(lambda ele: match_dict[ele],list(y_test_clust==y_hat_clust)))),columns = ['pred_score','act_score','cluster_match'])"
      ],
      "execution_count": 54,
      "outputs": []
    },
    {
      "cell_type": "markdown",
      "metadata": {
        "id": "xLA-h9IGyWQG"
      },
      "source": [
        "Here is the same plot comparing accuracy from before, but now the points are colored based on if the cluster was identified properly."
      ]
    },
    {
      "cell_type": "code",
      "metadata": {
        "colab": {
          "base_uri": "https://localhost:8080/",
          "height": 542
        },
        "id": "Pd9I5eEiupbK",
        "outputId": "cee38c39-8709-46b6-cf8f-62531f7db5c6"
      },
      "source": [
        "px.scatter(clust_frame,x='act_score',y='pred_score',color='cluster_match',title='cluster identified prediction comparison')  "
      ],
      "execution_count": 55,
      "outputs": [
        {
          "output_type": "display_data",
          "data": {
            "text/html": [
              "<html>\n",
              "<head><meta charset=\"utf-8\" /></head>\n",
              "<body>\n",
              "    <div>\n",
              "            <script src=\"https://cdnjs.cloudflare.com/ajax/libs/mathjax/2.7.5/MathJax.js?config=TeX-AMS-MML_SVG\"></script><script type=\"text/javascript\">if (window.MathJax) {MathJax.Hub.Config({SVG: {font: \"STIX-Web\"}});}</script>\n",
              "                <script type=\"text/javascript\">window.PlotlyConfig = {MathJaxConfig: 'local'};</script>\n",
              "        <script src=\"https://cdn.plot.ly/plotly-latest.min.js\"></script>    \n",
              "            <div id=\"b5dd2d67-683e-43f5-8d83-234eff5c2ab2\" class=\"plotly-graph-div\" style=\"height:525px; width:100%;\"></div>\n",
              "            <script type=\"text/javascript\">\n",
              "                \n",
              "                    window.PLOTLYENV=window.PLOTLYENV || {};\n",
              "                    \n",
              "                if (document.getElementById(\"b5dd2d67-683e-43f5-8d83-234eff5c2ab2\")) {\n",
              "                    Plotly.newPlot(\n",
              "                        'b5dd2d67-683e-43f5-8d83-234eff5c2ab2',\n",
              "                        [{\"hoverlabel\": {\"namelength\": 0}, \"hovertemplate\": \"act_score=%{x}<br>pred_score=%{y}<br>cluster_match=%{marker.color}\", \"legendgroup\": \"\", \"marker\": {\"color\": [1, 1, 0, 0, 1, 1, 0, 0, 1, 0, 0, 1, 1, 1, 0, 1, 1, 1, 1, 1, 1, 0, 0, 1, 1, 1, 1, 0, 1, 1, 1, 1, 1, 1, 1, 1, 0, 0, 1, 1, 1, 0, 1, 1, 1, 0, 1, 1, 1, 0, 1, 1, 1, 0, 1, 1, 1, 0, 0, 1, 1, 1, 0, 1, 0, 0, 0, 1, 1, 1, 1, 1, 0, 0, 1, 0, 1, 1, 0, 1], \"coloraxis\": \"coloraxis\", \"symbol\": \"circle\"}, \"mode\": \"markers\", \"name\": \"\", \"showlegend\": false, \"type\": \"scatter\", \"x\": [0.751, 0.672, 0.657, 0.65, 0.612, 0.317, 0.564, 0.698, 0.034, 0.528, 0.441, 0.57, 0.366, 0.665, 0.247, 0.92, 0.079, 0.089, 0.047, 0.036, 0.237, 0.6, 0.288, 0.572, 0.47, 0.048, 0.952, 0.201, 0.334, 0.556, 0.965, 0.613, 0.587, 0.068, 0.619, 0.404, 0.633, 0.247, 0.294, 0.851, 0.463, 0.258, 0.396, 0.112, 0.581, 0.096, 0.418, 0.773, 0.545, 0.147, 0.508, 0.972, 0.802, 0.827, 0.808, 0.773, 0.991, 0.77, 0.263, 0.424, 0.389, 0.005, 0.143, 0.314, 0.174, 0.408, 0.759, 0.929, 0.302, 0.297, 0.46, 0.898, 0.54, 0.513, 0.903, 0.151, 0.825, 0.694, 0.857, 0.51], \"xaxis\": \"x\", \"y\": [0.7579459787987657, 0.6978608122096901, 0.45569457786212514, 0.41658728657942584, 0.7894145852273364, 0.43906120543702754, 0.644061284840442, 0.40042944824607407, 0.09429714304661974, 0.7665208880927257, 0.7208856231344296, 0.43599756890817504, 0.4685488946363456, 0.8206893333043721, 0.4427672034516479, 0.7921646119941214, 0.09105057772319897, 0.10324679956755456, 0.16325171021232227, 0.11081188594050079, 0.25883801587998134, 0.33962709578190386, 0.7566660284564648, 0.4667629608698792, 0.48839189692841495, 0.11863535683188614, 0.7150540623195405, 0.406063782330778, 0.3300967435431653, 0.4905505339833317, 0.7172533820403578, 0.7310212243409082, 0.803635592567612, 0.14429587422732643, 0.6343915183326911, 0.2897979907794693, 0.38969155808686884, 0.35668958989821475, 0.34870141862943715, 0.7741892256612245, 0.3007123227474264, 0.3894752999895015, 0.48942543686282974, 0.14629499741468782, 0.6700400614046651, 0.3820193343046995, 0.39569640123732075, 0.7592770840320441, 0.38655608982108836, 0.43185165255505764, 0.450651846521275, 0.7414806352320312, 0.7323690007536106, 0.4475682759434324, 0.7924817371444025, 0.7353197518914886, 0.7357110652638376, 0.46776495898495757, 0.47491817402906833, 0.43299984521806, 0.3117142698148917, 0.11776332470507844, 0.43335394754893486, 0.38880398687931317, 0.3959252920125142, 0.7616926168908407, 0.45874119245109285, 0.8029341653859917, 0.3098584018318107, 0.2966321170822274, 0.3725856481549456, 0.7927549433209313, 0.8146657985379193, 0.6741840959330183, 0.7702068725459998, 0.4746286238526592, 0.7110736128832585, 0.7800276676656877, 0.4659923410729017, 0.4687808668812319], \"yaxis\": \"y\"}],\n",
              "                        {\"coloraxis\": {\"colorbar\": {\"title\": {\"text\": \"cluster_match\"}}, \"colorscale\": [[0.0, \"#0d0887\"], [0.1111111111111111, \"#46039f\"], [0.2222222222222222, \"#7201a8\"], [0.3333333333333333, \"#9c179e\"], [0.4444444444444444, \"#bd3786\"], [0.5555555555555556, \"#d8576b\"], [0.6666666666666666, \"#ed7953\"], [0.7777777777777778, \"#fb9f3a\"], [0.8888888888888888, \"#fdca26\"], [1.0, \"#f0f921\"]]}, \"legend\": {\"tracegroupgap\": 0}, \"template\": {\"data\": {\"bar\": [{\"error_x\": {\"color\": \"#2a3f5f\"}, \"error_y\": {\"color\": \"#2a3f5f\"}, \"marker\": {\"line\": {\"color\": \"#E5ECF6\", \"width\": 0.5}}, \"type\": \"bar\"}], \"barpolar\": [{\"marker\": {\"line\": {\"color\": \"#E5ECF6\", \"width\": 0.5}}, \"type\": \"barpolar\"}], \"carpet\": [{\"aaxis\": {\"endlinecolor\": \"#2a3f5f\", \"gridcolor\": \"white\", \"linecolor\": \"white\", \"minorgridcolor\": \"white\", \"startlinecolor\": \"#2a3f5f\"}, \"baxis\": {\"endlinecolor\": \"#2a3f5f\", \"gridcolor\": \"white\", \"linecolor\": \"white\", \"minorgridcolor\": \"white\", \"startlinecolor\": \"#2a3f5f\"}, \"type\": \"carpet\"}], \"choropleth\": [{\"colorbar\": {\"outlinewidth\": 0, \"ticks\": \"\"}, \"type\": \"choropleth\"}], \"contour\": [{\"colorbar\": {\"outlinewidth\": 0, \"ticks\": \"\"}, \"colorscale\": [[0.0, \"#0d0887\"], [0.1111111111111111, \"#46039f\"], [0.2222222222222222, \"#7201a8\"], [0.3333333333333333, \"#9c179e\"], [0.4444444444444444, \"#bd3786\"], [0.5555555555555556, \"#d8576b\"], [0.6666666666666666, \"#ed7953\"], [0.7777777777777778, \"#fb9f3a\"], [0.8888888888888888, \"#fdca26\"], [1.0, \"#f0f921\"]], \"type\": \"contour\"}], \"contourcarpet\": [{\"colorbar\": {\"outlinewidth\": 0, \"ticks\": \"\"}, \"type\": \"contourcarpet\"}], \"heatmap\": [{\"colorbar\": {\"outlinewidth\": 0, \"ticks\": \"\"}, \"colorscale\": [[0.0, \"#0d0887\"], [0.1111111111111111, \"#46039f\"], [0.2222222222222222, \"#7201a8\"], [0.3333333333333333, \"#9c179e\"], [0.4444444444444444, \"#bd3786\"], [0.5555555555555556, \"#d8576b\"], [0.6666666666666666, \"#ed7953\"], [0.7777777777777778, \"#fb9f3a\"], [0.8888888888888888, \"#fdca26\"], [1.0, \"#f0f921\"]], \"type\": \"heatmap\"}], \"heatmapgl\": [{\"colorbar\": {\"outlinewidth\": 0, \"ticks\": \"\"}, \"colorscale\": [[0.0, \"#0d0887\"], [0.1111111111111111, \"#46039f\"], [0.2222222222222222, \"#7201a8\"], [0.3333333333333333, \"#9c179e\"], [0.4444444444444444, \"#bd3786\"], [0.5555555555555556, \"#d8576b\"], [0.6666666666666666, \"#ed7953\"], [0.7777777777777778, \"#fb9f3a\"], [0.8888888888888888, \"#fdca26\"], [1.0, \"#f0f921\"]], \"type\": \"heatmapgl\"}], \"histogram\": [{\"marker\": {\"colorbar\": {\"outlinewidth\": 0, \"ticks\": \"\"}}, \"type\": \"histogram\"}], \"histogram2d\": [{\"colorbar\": {\"outlinewidth\": 0, \"ticks\": \"\"}, \"colorscale\": [[0.0, \"#0d0887\"], [0.1111111111111111, \"#46039f\"], [0.2222222222222222, \"#7201a8\"], [0.3333333333333333, \"#9c179e\"], [0.4444444444444444, \"#bd3786\"], [0.5555555555555556, \"#d8576b\"], [0.6666666666666666, \"#ed7953\"], [0.7777777777777778, \"#fb9f3a\"], [0.8888888888888888, \"#fdca26\"], [1.0, \"#f0f921\"]], \"type\": \"histogram2d\"}], \"histogram2dcontour\": [{\"colorbar\": {\"outlinewidth\": 0, \"ticks\": \"\"}, \"colorscale\": [[0.0, \"#0d0887\"], [0.1111111111111111, \"#46039f\"], [0.2222222222222222, \"#7201a8\"], [0.3333333333333333, \"#9c179e\"], [0.4444444444444444, \"#bd3786\"], [0.5555555555555556, \"#d8576b\"], [0.6666666666666666, \"#ed7953\"], [0.7777777777777778, \"#fb9f3a\"], [0.8888888888888888, \"#fdca26\"], [1.0, \"#f0f921\"]], \"type\": \"histogram2dcontour\"}], \"mesh3d\": [{\"colorbar\": {\"outlinewidth\": 0, \"ticks\": \"\"}, \"type\": \"mesh3d\"}], \"parcoords\": [{\"line\": {\"colorbar\": {\"outlinewidth\": 0, \"ticks\": \"\"}}, \"type\": \"parcoords\"}], \"pie\": [{\"automargin\": true, \"type\": \"pie\"}], \"scatter\": [{\"marker\": {\"colorbar\": {\"outlinewidth\": 0, \"ticks\": \"\"}}, \"type\": \"scatter\"}], \"scatter3d\": [{\"line\": {\"colorbar\": {\"outlinewidth\": 0, \"ticks\": \"\"}}, \"marker\": {\"colorbar\": {\"outlinewidth\": 0, \"ticks\": \"\"}}, \"type\": \"scatter3d\"}], \"scattercarpet\": [{\"marker\": {\"colorbar\": {\"outlinewidth\": 0, \"ticks\": \"\"}}, \"type\": \"scattercarpet\"}], \"scattergeo\": [{\"marker\": {\"colorbar\": {\"outlinewidth\": 0, \"ticks\": \"\"}}, \"type\": \"scattergeo\"}], \"scattergl\": [{\"marker\": {\"colorbar\": {\"outlinewidth\": 0, \"ticks\": \"\"}}, \"type\": \"scattergl\"}], \"scattermapbox\": [{\"marker\": {\"colorbar\": {\"outlinewidth\": 0, \"ticks\": \"\"}}, \"type\": \"scattermapbox\"}], \"scatterpolar\": [{\"marker\": {\"colorbar\": {\"outlinewidth\": 0, \"ticks\": \"\"}}, \"type\": \"scatterpolar\"}], \"scatterpolargl\": [{\"marker\": {\"colorbar\": {\"outlinewidth\": 0, \"ticks\": \"\"}}, \"type\": \"scatterpolargl\"}], \"scatterternary\": [{\"marker\": {\"colorbar\": {\"outlinewidth\": 0, \"ticks\": \"\"}}, \"type\": \"scatterternary\"}], \"surface\": [{\"colorbar\": {\"outlinewidth\": 0, \"ticks\": \"\"}, \"colorscale\": [[0.0, \"#0d0887\"], [0.1111111111111111, \"#46039f\"], [0.2222222222222222, \"#7201a8\"], [0.3333333333333333, \"#9c179e\"], [0.4444444444444444, \"#bd3786\"], [0.5555555555555556, \"#d8576b\"], [0.6666666666666666, \"#ed7953\"], [0.7777777777777778, \"#fb9f3a\"], [0.8888888888888888, \"#fdca26\"], [1.0, \"#f0f921\"]], \"type\": \"surface\"}], \"table\": [{\"cells\": {\"fill\": {\"color\": \"#EBF0F8\"}, \"line\": {\"color\": \"white\"}}, \"header\": {\"fill\": {\"color\": \"#C8D4E3\"}, \"line\": {\"color\": \"white\"}}, \"type\": \"table\"}]}, \"layout\": {\"annotationdefaults\": {\"arrowcolor\": \"#2a3f5f\", \"arrowhead\": 0, \"arrowwidth\": 1}, \"coloraxis\": {\"colorbar\": {\"outlinewidth\": 0, \"ticks\": \"\"}}, \"colorscale\": {\"diverging\": [[0, \"#8e0152\"], [0.1, \"#c51b7d\"], [0.2, \"#de77ae\"], [0.3, \"#f1b6da\"], [0.4, \"#fde0ef\"], [0.5, \"#f7f7f7\"], [0.6, \"#e6f5d0\"], [0.7, \"#b8e186\"], [0.8, \"#7fbc41\"], [0.9, \"#4d9221\"], [1, \"#276419\"]], \"sequential\": [[0.0, \"#0d0887\"], [0.1111111111111111, \"#46039f\"], [0.2222222222222222, \"#7201a8\"], [0.3333333333333333, \"#9c179e\"], [0.4444444444444444, \"#bd3786\"], [0.5555555555555556, \"#d8576b\"], [0.6666666666666666, \"#ed7953\"], [0.7777777777777778, \"#fb9f3a\"], [0.8888888888888888, \"#fdca26\"], [1.0, \"#f0f921\"]], \"sequentialminus\": [[0.0, \"#0d0887\"], [0.1111111111111111, \"#46039f\"], [0.2222222222222222, \"#7201a8\"], [0.3333333333333333, \"#9c179e\"], [0.4444444444444444, \"#bd3786\"], [0.5555555555555556, \"#d8576b\"], [0.6666666666666666, \"#ed7953\"], [0.7777777777777778, \"#fb9f3a\"], [0.8888888888888888, \"#fdca26\"], [1.0, \"#f0f921\"]]}, \"colorway\": [\"#636efa\", \"#EF553B\", \"#00cc96\", \"#ab63fa\", \"#FFA15A\", \"#19d3f3\", \"#FF6692\", \"#B6E880\", \"#FF97FF\", \"#FECB52\"], \"font\": {\"color\": \"#2a3f5f\"}, \"geo\": {\"bgcolor\": \"white\", \"lakecolor\": \"white\", \"landcolor\": \"#E5ECF6\", \"showlakes\": true, \"showland\": true, \"subunitcolor\": \"white\"}, \"hoverlabel\": {\"align\": \"left\"}, \"hovermode\": \"closest\", \"mapbox\": {\"style\": \"light\"}, \"paper_bgcolor\": \"white\", \"plot_bgcolor\": \"#E5ECF6\", \"polar\": {\"angularaxis\": {\"gridcolor\": \"white\", \"linecolor\": \"white\", \"ticks\": \"\"}, \"bgcolor\": \"#E5ECF6\", \"radialaxis\": {\"gridcolor\": \"white\", \"linecolor\": \"white\", \"ticks\": \"\"}}, \"scene\": {\"xaxis\": {\"backgroundcolor\": \"#E5ECF6\", \"gridcolor\": \"white\", \"gridwidth\": 2, \"linecolor\": \"white\", \"showbackground\": true, \"ticks\": \"\", \"zerolinecolor\": \"white\"}, \"yaxis\": {\"backgroundcolor\": \"#E5ECF6\", \"gridcolor\": \"white\", \"gridwidth\": 2, \"linecolor\": \"white\", \"showbackground\": true, \"ticks\": \"\", \"zerolinecolor\": \"white\"}, \"zaxis\": {\"backgroundcolor\": \"#E5ECF6\", \"gridcolor\": \"white\", \"gridwidth\": 2, \"linecolor\": \"white\", \"showbackground\": true, \"ticks\": \"\", \"zerolinecolor\": \"white\"}}, \"shapedefaults\": {\"line\": {\"color\": \"#2a3f5f\"}}, \"ternary\": {\"aaxis\": {\"gridcolor\": \"white\", \"linecolor\": \"white\", \"ticks\": \"\"}, \"baxis\": {\"gridcolor\": \"white\", \"linecolor\": \"white\", \"ticks\": \"\"}, \"bgcolor\": \"#E5ECF6\", \"caxis\": {\"gridcolor\": \"white\", \"linecolor\": \"white\", \"ticks\": \"\"}}, \"title\": {\"x\": 0.05}, \"xaxis\": {\"automargin\": true, \"gridcolor\": \"white\", \"linecolor\": \"white\", \"ticks\": \"\", \"title\": {\"standoff\": 15}, \"zerolinecolor\": \"white\", \"zerolinewidth\": 2}, \"yaxis\": {\"automargin\": true, \"gridcolor\": \"white\", \"linecolor\": \"white\", \"ticks\": \"\", \"title\": {\"standoff\": 15}, \"zerolinecolor\": \"white\", \"zerolinewidth\": 2}}}, \"title\": {\"text\": \"cluster identified prediction comparison\"}, \"xaxis\": {\"anchor\": \"y\", \"domain\": [0.0, 1.0], \"title\": {\"text\": \"act_score\"}}, \"yaxis\": {\"anchor\": \"x\", \"domain\": [0.0, 1.0], \"title\": {\"text\": \"pred_score\"}}},\n",
              "                        {\"responsive\": true}\n",
              "                    ).then(function(){\n",
              "                            \n",
              "var gd = document.getElementById('b5dd2d67-683e-43f5-8d83-234eff5c2ab2');\n",
              "var x = new MutationObserver(function (mutations, observer) {{\n",
              "        var display = window.getComputedStyle(gd).display;\n",
              "        if (!display || display === 'none') {{\n",
              "            console.log([gd, 'removed!']);\n",
              "            Plotly.purge(gd);\n",
              "            observer.disconnect();\n",
              "        }}\n",
              "}});\n",
              "\n",
              "// Listen for the removal of the full notebook cells\n",
              "var notebookContainer = gd.closest('#notebook-container');\n",
              "if (notebookContainer) {{\n",
              "    x.observe(notebookContainer, {childList: true});\n",
              "}}\n",
              "\n",
              "// Listen for the clearing of the current output cell\n",
              "var outputEl = gd.closest('.output');\n",
              "if (outputEl) {{\n",
              "    x.observe(outputEl, {childList: true});\n",
              "}}\n",
              "\n",
              "                        })\n",
              "                };\n",
              "                \n",
              "            </script>\n",
              "        </div>\n",
              "</body>\n",
              "</html>"
            ]
          },
          "metadata": {
            "tags": []
          }
        }
      ]
    },
    {
      "cell_type": "markdown",
      "metadata": {
        "id": "C8se3d9pyhgt"
      },
      "source": [
        "As can be seen from this we can correctly cluster a good portion of the customers like this. Every yellow spot is correctly matched, while every blue spot is incorrect. This was found using 3 clusters on a low, medium, high loyalty basis, but if you wanted to lower it to 2 clusters in a more regular vs. premium member type deal you could get a bit more accurate. "
      ]
    },
    {
      "cell_type": "markdown",
      "metadata": {
        "id": "_j8uRQPyz-6l"
      },
      "source": [
        "This confusion matrix shows actual values (columns) against predicted values (rows). The more numbers on the diagonal, the better."
      ]
    },
    {
      "cell_type": "code",
      "metadata": {
        "colab": {
          "base_uri": "https://localhost:8080/",
          "height": 167
        },
        "id": "iv5-xQkPsHo_",
        "outputId": "e08745a5-dbb0-45c8-f68a-9a6cb0548781"
      },
      "source": [
        "clust_confus = pd.crosstab(y_hat_clust,y_test_clust)    #Create a confusion matrix \r\n",
        "clust_confus"
      ],
      "execution_count": 56,
      "outputs": [
        {
          "output_type": "execute_result",
          "data": {
            "text/html": [
              "<div>\n",
              "<style scoped>\n",
              "    .dataframe tbody tr th:only-of-type {\n",
              "        vertical-align: middle;\n",
              "    }\n",
              "\n",
              "    .dataframe tbody tr th {\n",
              "        vertical-align: top;\n",
              "    }\n",
              "\n",
              "    .dataframe thead th {\n",
              "        text-align: right;\n",
              "    }\n",
              "</style>\n",
              "<table border=\"1\" class=\"dataframe\">\n",
              "  <thead>\n",
              "    <tr style=\"text-align: right;\">\n",
              "      <th>col_0</th>\n",
              "      <th>0</th>\n",
              "      <th>1</th>\n",
              "      <th>2</th>\n",
              "    </tr>\n",
              "    <tr>\n",
              "      <th>row_0</th>\n",
              "      <th></th>\n",
              "      <th></th>\n",
              "      <th></th>\n",
              "    </tr>\n",
              "  </thead>\n",
              "  <tbody>\n",
              "    <tr>\n",
              "      <th>0</th>\n",
              "      <td>23</td>\n",
              "      <td>7</td>\n",
              "      <td>0</td>\n",
              "    </tr>\n",
              "    <tr>\n",
              "      <th>1</th>\n",
              "      <td>9</td>\n",
              "      <td>21</td>\n",
              "      <td>10</td>\n",
              "    </tr>\n",
              "    <tr>\n",
              "      <th>2</th>\n",
              "      <td>0</td>\n",
              "      <td>0</td>\n",
              "      <td>10</td>\n",
              "    </tr>\n",
              "  </tbody>\n",
              "</table>\n",
              "</div>"
            ],
            "text/plain": [
              "col_0   0   1   2\n",
              "row_0            \n",
              "0      23   7   0\n",
              "1       9  21  10\n",
              "2       0   0  10"
            ]
          },
          "metadata": {
            "tags": []
          },
          "execution_count": 56
        }
      ]
    },
    {
      "cell_type": "markdown",
      "metadata": {
        "id": "PFnD4l6k2he8"
      },
      "source": [
        "The values below show how good the categorization is for each cluster, 0 being high loyalty and 2 being low loyalty. As can be seen we correctly identify about 72% percent of the high loyalty members correctly, and about 75% of the mid tiers correctly. This ought to be good enough for giving out some coupons to the mid and high tier people."
      ]
    },
    {
      "cell_type": "code",
      "metadata": {
        "colab": {
          "base_uri": "https://localhost:8080/"
        },
        "id": "cnH75zZ21Rb1",
        "outputId": "119cd6b5-b453-4272-faaf-f029ef3d8942"
      },
      "source": [
        "np.diag(clust_confus)/clust_confus.apply(sum,axis=0)  #Calculate accuracies"
      ],
      "execution_count": 57,
      "outputs": [
        {
          "output_type": "execute_result",
          "data": {
            "text/plain": [
              "col_0\n",
              "0    0.71875\n",
              "1    0.75000\n",
              "2    0.50000\n",
              "dtype: float64"
            ]
          },
          "metadata": {
            "tags": []
          },
          "execution_count": 57
        }
      ]
    },
    {
      "cell_type": "markdown",
      "metadata": {
        "id": "nqhC9Jj33C9l"
      },
      "source": [
        "Here are the clusters identified for each of the unlabeled people, not identified by the consulting company."
      ]
    },
    {
      "cell_type": "code",
      "metadata": {
        "colab": {
          "base_uri": "https://localhost:8080/"
        },
        "id": "4YrNwIivrqvJ",
        "outputId": "516d4f06-0e5a-48d3-a50b-a468127c2d10"
      },
      "source": [
        "kmeans.predict(Unlabeled_y_hat.reshape(-1,1)) #Show predicted groups of unknowns"
      ],
      "execution_count": 58,
      "outputs": [
        {
          "output_type": "execute_result",
          "data": {
            "text/plain": [
              "array([1, 0, 0, 0, 1, 1, 0, 1, 0, 1, 0, 0, 0, 1, 0, 2, 2, 2, 1, 0, 0, 0,\n",
              "       1, 1, 1, 0, 0, 1, 1, 2, 2, 1, 2, 0, 0, 0, 1, 0, 1, 1, 1, 1, 1, 2,\n",
              "       1, 0, 0, 2, 0, 1, 0, 1, 0, 0, 2, 2, 1, 1, 1, 1, 0, 1, 2, 1, 1, 0,\n",
              "       1, 1, 1, 1, 1, 1, 1, 1, 1, 1, 1, 1, 1, 2, 1, 0, 1, 1, 1, 1, 1, 1,\n",
              "       1, 0, 0, 0, 0, 1, 0, 1, 1, 0, 0, 0, 0, 2, 1, 2, 1, 1, 1, 0, 0, 0,\n",
              "       0, 1, 0, 0, 0, 0, 1, 2, 1, 0, 1, 0, 2, 2, 0, 0, 0, 1, 1, 1, 1, 0,\n",
              "       1, 1, 1, 1, 0, 1, 1, 1, 0, 0, 0, 2, 1, 1, 2, 0, 0, 1, 1, 0, 1, 1,\n",
              "       0, 1, 1, 0, 1, 1, 1, 2, 1, 0, 1, 1, 0, 0, 1, 1, 1, 0, 0, 1, 1, 0,\n",
              "       1, 1, 0, 1, 0, 1, 1, 1, 0, 1, 1, 0, 1, 1, 0, 0, 2, 0, 0, 0, 1, 0,\n",
              "       1, 1, 1, 1, 0, 1, 1, 1, 0, 0, 1, 0, 1, 1, 1, 2, 1, 0, 2, 0, 0, 1,\n",
              "       1, 1, 1, 0, 1, 0, 1, 1, 0, 0, 1, 2, 2, 2, 1, 1, 1, 0, 1, 1, 0, 1,\n",
              "       0, 0, 1, 1, 1, 1, 1, 1, 1, 1, 2, 1, 1, 2, 1, 1, 1, 0, 2, 1, 1, 1,\n",
              "       0, 0, 2, 0, 2, 1, 1, 2, 1, 2, 0, 1, 0, 1, 0, 1, 1, 0, 2, 0, 0, 1,\n",
              "       1, 0, 1, 1, 1, 1, 0, 1, 1, 0, 1, 2, 0, 1, 0, 0, 1, 1, 2, 1, 1, 1,\n",
              "       1, 0, 1, 1, 1, 0, 1, 1, 2, 0, 0, 1, 1, 1, 0, 0, 1, 1, 0, 1, 1, 0,\n",
              "       1, 1, 1, 2, 1, 1, 1, 1, 0, 1, 1, 0, 2, 2, 0, 0, 1, 0, 1, 1, 0, 1,\n",
              "       2, 0, 1, 0, 1, 1, 1, 1, 1, 1, 1, 1, 1, 1, 1, 1, 1, 0, 0, 0, 0, 0,\n",
              "       1, 1, 0, 1, 1, 2, 0, 1, 1, 0, 0, 1, 1, 1, 0, 1, 1, 1, 0, 1, 2, 2,\n",
              "       1, 2, 0, 0, 0, 1, 0, 2, 1, 1, 1, 1, 1, 1, 1, 1, 0, 2, 0, 1, 2, 0,\n",
              "       0, 0, 1, 0, 0, 0, 1, 0, 1, 1, 0, 0, 2, 1, 2, 1, 0, 0, 0, 1, 2, 1,\n",
              "       0, 1, 1, 2, 1, 1, 0, 1, 0, 0, 1, 1, 1, 0, 1, 0, 1, 0, 1, 2, 0, 0,\n",
              "       0, 1, 0, 0, 1, 1, 0, 0], dtype=int32)"
            ]
          },
          "metadata": {
            "tags": []
          },
          "execution_count": 58
        }
      ]
    },
    {
      "cell_type": "markdown",
      "metadata": {
        "id": "ddURXPpvZfeb"
      },
      "source": [
        "## Wrap Up\n",
        "\n",
        "* Ensure the notebook is well documented and logical.\n",
        "* Consider using effective visualizations for the eda, modeling and application components.\n",
        "* Run all the cells in this notebook to make sure it all works, as expected.\n",
        "* Please submit your work, inclusive of all relevant assets, in a zip file with your name to the following email address adiamond@rich.com"
      ]
    },
    {
      "cell_type": "markdown",
      "metadata": {
        "id": "eWGLQjPetlUV"
      },
      "source": [
        "**© 2021 Rich Products Corporation. All Rights Reserved**"
      ]
    }
  ]
}