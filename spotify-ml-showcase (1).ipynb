{
 "cells": [
  {
   "cell_type": "code",
   "execution_count": 1,
   "metadata": {
    "_cell_guid": "b1076dfc-b9ad-4769-8c92-a6c4dae69d19",
    "_uuid": "8f2839f25d086af736a60e9eeb907d3b93b6e0e5",
    "execution": {
     "iopub.execute_input": "2021-01-09T19:03:43.481376Z",
     "iopub.status.busy": "2021-01-09T19:03:43.480176Z",
     "iopub.status.idle": "2021-01-09T19:03:43.499457Z",
     "shell.execute_reply": "2021-01-09T19:03:43.500039Z"
    },
    "papermill": {
     "duration": 0.072133,
     "end_time": "2021-01-09T19:03:43.500215",
     "exception": false,
     "start_time": "2021-01-09T19:03:43.428082",
     "status": "completed"
    },
    "tags": []
   },
   "outputs": [
    {
     "name": "stdout",
     "output_type": "stream",
     "text": [
      "/kaggle/input/dataset-of-songs-in-spotify/genres_v2.csv\n",
      "/kaggle/input/dataset-of-songs-in-spotify/playlists.csv\n"
     ]
    }
   ],
   "source": [
    "# This Python 3 environment comes with many helpful analytics libraries installed\n",
    "# It is defined by the kaggle/python Docker image: https://github.com/kaggle/docker-python\n",
    "# For example, here's several helpful packages to load\n",
    "\n",
    "import numpy as np # linear algebra\n",
    "import pandas as pd # data processing, CSV file I/O (e.g. pd.read_csv)\n",
    "\n",
    "# Input data files are available in the read-only \"../input/\" directory\n",
    "# For example, running this (by clicking run or pressing Shift+Enter) will list all files under the input directory\n",
    "\n",
    "import os\n",
    "for dirname, _, filenames in os.walk('/kaggle/input'):\n",
    "    for filename in filenames:\n",
    "        print(os.path.join(dirname, filename))\n",
    "\n",
    "# You can write up to 20GB to the current directory (/kaggle/working/) that gets preserved as output when you create a version using \"Save & Run All\" \n",
    "# You can also write temporary files to /kaggle/temp/, but they won't be saved outside of the current session"
   ]
  },
  {
   "cell_type": "code",
   "execution_count": 2,
   "metadata": {
    "_cell_guid": "79c7e3d0-c299-4dcb-8224-4455121ee9b0",
    "_uuid": "d629ff2d2480ee46fbb7e2d37f6b5fab8052498a",
    "execution": {
     "iopub.execute_input": "2021-01-09T19:03:43.599184Z",
     "iopub.status.busy": "2021-01-09T19:03:43.597988Z",
     "iopub.status.idle": "2021-01-09T19:03:44.211477Z",
     "shell.execute_reply": "2021-01-09T19:03:44.212183Z"
    },
    "papermill": {
     "duration": 0.663725,
     "end_time": "2021-01-09T19:03:44.212428",
     "exception": false,
     "start_time": "2021-01-09T19:03:43.548703",
     "status": "completed"
    },
    "tags": []
   },
   "outputs": [
    {
     "name": "stderr",
     "output_type": "stream",
     "text": [
      "/opt/conda/lib/python3.7/site-packages/IPython/core/interactiveshell.py:3063: DtypeWarning: Columns (19) have mixed types.Specify dtype option on import or set low_memory=False.\n",
      "  interactivity=interactivity, compiler=compiler, result=result)\n"
     ]
    }
   ],
   "source": [
    "#Make data frames from data\n",
    "genres = pd.read_csv('../input/dataset-of-songs-in-spotify/genres_v2.csv')\n",
    "playlists=pd.read_csv('../input/dataset-of-songs-in-spotify/playlists.csv')"
   ]
  },
  {
   "cell_type": "code",
   "execution_count": 3,
   "metadata": {
    "execution": {
     "iopub.execute_input": "2021-01-09T19:03:44.315918Z",
     "iopub.status.busy": "2021-01-09T19:03:44.314853Z",
     "iopub.status.idle": "2021-01-09T19:03:44.318047Z",
     "shell.execute_reply": "2021-01-09T19:03:44.317400Z"
    },
    "papermill": {
     "duration": 0.057899,
     "end_time": "2021-01-09T19:03:44.318162",
     "exception": false,
     "start_time": "2021-01-09T19:03:44.260263",
     "status": "completed"
    },
    "tags": []
   },
   "outputs": [],
   "source": [
    "##This function was pulled from offline to let me see where any NA values to figure out how I'd deal with them\n",
    "def assess_NA(data):\n",
    "    \"\"\"\n",
    "    Returns a pandas dataframe denoting the total number of NA values and the percentage of NA values in each column.\n",
    "    The column names are noted on the index.\n",
    "    \n",
    "    Parameters\n",
    "    ----------\n",
    "    data: dataframe\n",
    "    \"\"\"\n",
    "    # pandas series denoting features and the sum of their null values\n",
    "    null_sum = data.isnull().sum()# instantiate columns for missing data\n",
    "    total = null_sum.sort_values(ascending=False)\n",
    "    percent = ( ((null_sum / len(data.index))*100).round(2) ).sort_values(ascending=False)\n",
    "    \n",
    "    # concatenate along the columns to create the complete dataframe\n",
    "    df_NA = pd.concat([total, percent], axis=1, keys=['Number of NA', 'Percent NA'])\n",
    "    \n",
    "    # drop rows that don't have any missing data; omit if you want to keep all rows\n",
    "    df_NA = df_NA[ (df_NA.T != 0).any() ]\n",
    "    \n",
    "    return df_NA"
   ]
  },
  {
   "cell_type": "code",
   "execution_count": 4,
   "metadata": {
    "execution": {
     "iopub.execute_input": "2021-01-09T19:03:44.415343Z",
     "iopub.status.busy": "2021-01-09T19:03:44.414565Z",
     "iopub.status.idle": "2021-01-09T19:03:44.499903Z",
     "shell.execute_reply": "2021-01-09T19:03:44.500434Z"
    },
    "papermill": {
     "duration": 0.13651,
     "end_time": "2021-01-09T19:03:44.500579",
     "exception": false,
     "start_time": "2021-01-09T19:03:44.364069",
     "status": "completed"
    },
    "tags": []
   },
   "outputs": [
    {
     "data": {
      "text/html": [
       "<div>\n",
       "<style scoped>\n",
       "    .dataframe tbody tr th:only-of-type {\n",
       "        vertical-align: middle;\n",
       "    }\n",
       "\n",
       "    .dataframe tbody tr th {\n",
       "        vertical-align: top;\n",
       "    }\n",
       "\n",
       "    .dataframe thead th {\n",
       "        text-align: right;\n",
       "    }\n",
       "</style>\n",
       "<table border=\"1\" class=\"dataframe\">\n",
       "  <thead>\n",
       "    <tr style=\"text-align: right;\">\n",
       "      <th></th>\n",
       "      <th>Number of NA</th>\n",
       "      <th>Percent NA</th>\n",
       "    </tr>\n",
       "  </thead>\n",
       "  <tbody>\n",
       "    <tr>\n",
       "      <th>title</th>\n",
       "      <td>21525</td>\n",
       "      <td>50.88</td>\n",
       "    </tr>\n",
       "    <tr>\n",
       "      <th>Unnamed: 0</th>\n",
       "      <td>21525</td>\n",
       "      <td>50.88</td>\n",
       "    </tr>\n",
       "    <tr>\n",
       "      <th>song_name</th>\n",
       "      <td>20786</td>\n",
       "      <td>49.13</td>\n",
       "    </tr>\n",
       "  </tbody>\n",
       "</table>\n",
       "</div>"
      ],
      "text/plain": [
       "            Number of NA  Percent NA\n",
       "title              21525       50.88\n",
       "Unnamed: 0         21525       50.88\n",
       "song_name          20786       49.13"
      ]
     },
     "execution_count": 4,
     "metadata": {},
     "output_type": "execute_result"
    }
   ],
   "source": [
    "assess_NA(genres)\n",
    "#Looking at where NAs are"
   ]
  },
  {
   "cell_type": "markdown",
   "metadata": {
    "papermill": {
     "duration": 0.048306,
     "end_time": "2021-01-09T19:03:44.595878",
     "exception": false,
     "start_time": "2021-01-09T19:03:44.547572",
     "status": "completed"
    },
    "tags": []
   },
   "source": [
    "Omit 3 columns with 50% NAN values. Separate Predictors from class (genre)"
   ]
  },
  {
   "cell_type": "code",
   "execution_count": 5,
   "metadata": {
    "execution": {
     "iopub.execute_input": "2021-01-09T19:03:44.694106Z",
     "iopub.status.busy": "2021-01-09T19:03:44.693410Z",
     "iopub.status.idle": "2021-01-09T19:03:44.708240Z",
     "shell.execute_reply": "2021-01-09T19:03:44.708917Z"
    },
    "papermill": {
     "duration": 0.066162,
     "end_time": "2021-01-09T19:03:44.709087",
     "exception": false,
     "start_time": "2021-01-09T19:03:44.642925",
     "status": "completed"
    },
    "tags": []
   },
   "outputs": [],
   "source": [
    "om = ['title','Unnamed: 0','song_name','genre'] #Columns to omit from predictors, based on having too many NAs to be useful\n",
    "\n",
    "X = genres.drop(om, axis = 1) #create dataframe of predictors\n",
    "y = genres['genre'].to_frame() #Creating target class data frame"
   ]
  },
  {
   "cell_type": "code",
   "execution_count": 6,
   "metadata": {
    "execution": {
     "iopub.execute_input": "2021-01-09T19:03:44.808426Z",
     "iopub.status.busy": "2021-01-09T19:03:44.807701Z",
     "iopub.status.idle": "2021-01-09T19:03:45.899362Z",
     "shell.execute_reply": "2021-01-09T19:03:45.899906Z"
    },
    "papermill": {
     "duration": 1.142846,
     "end_time": "2021-01-09T19:03:45.900053",
     "exception": false,
     "start_time": "2021-01-09T19:03:44.757207",
     "status": "completed"
    },
    "tags": []
   },
   "outputs": [],
   "source": [
    "from sklearn import preprocessing"
   ]
  },
  {
   "cell_type": "code",
   "execution_count": 7,
   "metadata": {
    "execution": {
     "iopub.execute_input": "2021-01-09T19:03:46.025695Z",
     "iopub.status.busy": "2021-01-09T19:03:46.024943Z",
     "iopub.status.idle": "2021-01-09T19:03:46.039895Z",
     "shell.execute_reply": "2021-01-09T19:03:46.041022Z"
    },
    "papermill": {
     "duration": 0.081698,
     "end_time": "2021-01-09T19:03:46.041494",
     "exception": false,
     "start_time": "2021-01-09T19:03:45.959796",
     "status": "completed"
    },
    "tags": []
   },
   "outputs": [],
   "source": [
    "gen_trans = preprocessing.OrdinalEncoder().fit(y) #Encoder to turn classes to integers"
   ]
  },
  {
   "cell_type": "code",
   "execution_count": 8,
   "metadata": {
    "execution": {
     "iopub.execute_input": "2021-01-09T19:03:46.159214Z",
     "iopub.status.busy": "2021-01-09T19:03:46.158440Z",
     "iopub.status.idle": "2021-01-09T19:03:46.177008Z",
     "shell.execute_reply": "2021-01-09T19:03:46.176255Z"
    },
    "papermill": {
     "duration": 0.074265,
     "end_time": "2021-01-09T19:03:46.177126",
     "exception": false,
     "start_time": "2021-01-09T19:03:46.102861",
     "status": "completed"
    },
    "tags": []
   },
   "outputs": [],
   "source": [
    "trans_y = pd.DataFrame(gen_trans.transform(y)) #Turn classes to integers"
   ]
  },
  {
   "cell_type": "code",
   "execution_count": 9,
   "metadata": {
    "execution": {
     "iopub.execute_input": "2021-01-09T19:03:46.278831Z",
     "iopub.status.busy": "2021-01-09T19:03:46.278051Z",
     "iopub.status.idle": "2021-01-09T19:03:46.283060Z",
     "shell.execute_reply": "2021-01-09T19:03:46.282488Z"
    },
    "papermill": {
     "duration": 0.05814,
     "end_time": "2021-01-09T19:03:46.283177",
     "exception": false,
     "start_time": "2021-01-09T19:03:46.225037",
     "status": "completed"
    },
    "tags": []
   },
   "outputs": [
    {
     "data": {
      "text/plain": [
       "Index(['danceability', 'energy', 'key', 'loudness', 'mode', 'speechiness',\n",
       "       'acousticness', 'instrumentalness', 'liveness', 'valence', 'tempo',\n",
       "       'type', 'id', 'uri', 'track_href', 'analysis_url', 'duration_ms',\n",
       "       'time_signature'],\n",
       "      dtype='object')"
      ]
     },
     "execution_count": 9,
     "metadata": {},
     "output_type": "execute_result"
    }
   ],
   "source": [
    "X.columns #Letting myself see what columns are in predictors"
   ]
  },
  {
   "cell_type": "markdown",
   "metadata": {
    "papermill": {
     "duration": 0.047531,
     "end_time": "2021-01-09T19:03:46.379211",
     "exception": false,
     "start_time": "2021-01-09T19:03:46.331680",
     "status": "completed"
    },
    "tags": []
   },
   "source": [
    "Checking for diversity of columns. If the values in each row are all the same, or all different then it's not good for predictions. will omit homogeous or overly unique columns."
   ]
  },
  {
   "cell_type": "code",
   "execution_count": 10,
   "metadata": {
    "execution": {
     "iopub.execute_input": "2021-01-09T19:03:46.511571Z",
     "iopub.status.busy": "2021-01-09T19:03:46.500578Z",
     "iopub.status.idle": "2021-01-09T19:03:46.670376Z",
     "shell.execute_reply": "2021-01-09T19:03:46.669744Z"
    },
    "papermill": {
     "duration": 0.242539,
     "end_time": "2021-01-09T19:03:46.670498",
     "exception": false,
     "start_time": "2021-01-09T19:03:46.427959",
     "status": "completed"
    },
    "tags": []
   },
   "outputs": [],
   "source": [
    "div_check = {} #Checking for diversity of columns. If the values in each row are all the same, or all different then it's not good for predictions. will omit homogeous or overly unique columns.\n",
    "for col in X:\n",
    "    l = len(set(X[col]))\n",
    "    div_check[col] =(l, l/42305)\n",
    "    "
   ]
  },
  {
   "cell_type": "code",
   "execution_count": 11,
   "metadata": {
    "execution": {
     "iopub.execute_input": "2021-01-09T19:03:46.775493Z",
     "iopub.status.busy": "2021-01-09T19:03:46.774515Z",
     "iopub.status.idle": "2021-01-09T19:03:46.779015Z",
     "shell.execute_reply": "2021-01-09T19:03:46.778362Z"
    },
    "papermill": {
     "duration": 0.060089,
     "end_time": "2021-01-09T19:03:46.779132",
     "exception": false,
     "start_time": "2021-01-09T19:03:46.719043",
     "status": "completed"
    },
    "tags": []
   },
   "outputs": [
    {
     "data": {
      "text/plain": [
       "{'danceability': (921, 0.021770476303037467),\n",
       " 'energy': (955, 0.0225741638104243),\n",
       " 'key': (12, 0.0002836544143718237),\n",
       " 'loudness': (12105, 0.2861363904975771),\n",
       " 'mode': (2, 4.727573572863728e-05),\n",
       " 'speechiness': (1474, 0.03484221723200567),\n",
       " 'acousticness': (4707, 0.11126344403734784),\n",
       " 'instrumentalness': (4867, 0.11504550289563881),\n",
       " 'liveness': (1737, 0.041058976480321474),\n",
       " 'valence': (1716, 0.04056258125517078),\n",
       " 'tempo': (15569, 0.3680179647795769),\n",
       " 'type': (1, 2.363786786431864e-05),\n",
       " 'id': (35877, 0.8480557853681598),\n",
       " 'uri': (35877, 0.8480557853681598),\n",
       " 'track_href': (35877, 0.8480557853681598),\n",
       " 'analysis_url': (35877, 0.8480557853681598),\n",
       " 'duration_ms': (26261, 0.6207540479848718),\n",
       " 'time_signature': (4, 9.455147145727456e-05)}"
      ]
     },
     "execution_count": 11,
     "metadata": {},
     "output_type": "execute_result"
    }
   ],
   "source": [
    "div_check #Looking at diversity"
   ]
  },
  {
   "cell_type": "code",
   "execution_count": 12,
   "metadata": {
    "execution": {
     "iopub.execute_input": "2021-01-09T19:03:46.887439Z",
     "iopub.status.busy": "2021-01-09T19:03:46.886355Z",
     "iopub.status.idle": "2021-01-09T19:03:46.889637Z",
     "shell.execute_reply": "2021-01-09T19:03:46.890197Z"
    },
    "papermill": {
     "duration": 0.06075,
     "end_time": "2021-01-09T19:03:46.890461",
     "exception": false,
     "start_time": "2021-01-09T19:03:46.829711",
     "status": "completed"
    },
    "tags": []
   },
   "outputs": [],
   "source": [
    "#Finding columns to omit, and which columns are categorical\n",
    "om = []\n",
    "cat=[] \n",
    "\n",
    "for key in div_check:\n",
    "    if div_check[key][1] > .5 or div_check[key][0] == 1:\n",
    "        \n",
    "        om.append(key)\n",
    "    elif div_check[key][0]<50:\n",
    "        cat.append(key)"
   ]
  },
  {
   "cell_type": "code",
   "execution_count": 13,
   "metadata": {
    "execution": {
     "iopub.execute_input": "2021-01-09T19:03:47.003102Z",
     "iopub.status.busy": "2021-01-09T19:03:47.002154Z",
     "iopub.status.idle": "2021-01-09T19:03:47.005397Z",
     "shell.execute_reply": "2021-01-09T19:03:47.005934Z"
    },
    "papermill": {
     "duration": 0.064018,
     "end_time": "2021-01-09T19:03:47.006082",
     "exception": false,
     "start_time": "2021-01-09T19:03:46.942064",
     "status": "completed"
    },
    "tags": []
   },
   "outputs": [],
   "source": [
    "#Omitting columns marked for omission\n",
    "X_clean = X.drop(om, axis = 1)"
   ]
  },
  {
   "cell_type": "code",
   "execution_count": 14,
   "metadata": {
    "execution": {
     "iopub.execute_input": "2021-01-09T19:03:47.115616Z",
     "iopub.status.busy": "2021-01-09T19:03:47.114849Z",
     "iopub.status.idle": "2021-01-09T19:03:47.118105Z",
     "shell.execute_reply": "2021-01-09T19:03:47.117366Z"
    },
    "papermill": {
     "duration": 0.062912,
     "end_time": "2021-01-09T19:03:47.118230",
     "exception": false,
     "start_time": "2021-01-09T19:03:47.055318",
     "status": "completed"
    },
    "tags": []
   },
   "outputs": [],
   "source": [
    "#Separating categorical and continuous predictors for different preprocessing\n",
    "categ = X_clean[cat]\n",
    "contin = X_clean.drop(cat,axis=1)"
   ]
  },
  {
   "cell_type": "code",
   "execution_count": 15,
   "metadata": {
    "execution": {
     "iopub.execute_input": "2021-01-09T19:03:47.225853Z",
     "iopub.status.busy": "2021-01-09T19:03:47.225143Z",
     "iopub.status.idle": "2021-01-09T19:03:47.239035Z",
     "shell.execute_reply": "2021-01-09T19:03:47.239630Z"
    },
    "papermill": {
     "duration": 0.071895,
     "end_time": "2021-01-09T19:03:47.239786",
     "exception": false,
     "start_time": "2021-01-09T19:03:47.167891",
     "status": "completed"
    },
    "tags": []
   },
   "outputs": [],
   "source": [
    "#Fitting scaler to continuous predictors\n",
    "scaler = preprocessing.StandardScaler().fit(contin)"
   ]
  },
  {
   "cell_type": "code",
   "execution_count": 16,
   "metadata": {
    "execution": {
     "iopub.execute_input": "2021-01-09T19:03:47.344900Z",
     "iopub.status.busy": "2021-01-09T19:03:47.343800Z",
     "iopub.status.idle": "2021-01-09T19:03:47.354698Z",
     "shell.execute_reply": "2021-01-09T19:03:47.354104Z"
    },
    "papermill": {
     "duration": 0.064216,
     "end_time": "2021-01-09T19:03:47.354829",
     "exception": false,
     "start_time": "2021-01-09T19:03:47.290613",
     "status": "completed"
    },
    "tags": []
   },
   "outputs": [],
   "source": [
    "#Scaling continuous predictors\n",
    "contin_scaled = pd.DataFrame(scaler.transform(contin),columns=contin.columns)"
   ]
  },
  {
   "cell_type": "code",
   "execution_count": 17,
   "metadata": {
    "execution": {
     "iopub.execute_input": "2021-01-09T19:03:47.461920Z",
     "iopub.status.busy": "2021-01-09T19:03:47.460767Z",
     "iopub.status.idle": "2021-01-09T19:03:47.468282Z",
     "shell.execute_reply": "2021-01-09T19:03:47.467653Z"
    },
    "papermill": {
     "duration": 0.063859,
     "end_time": "2021-01-09T19:03:47.468409",
     "exception": false,
     "start_time": "2021-01-09T19:03:47.404550",
     "status": "completed"
    },
    "tags": []
   },
   "outputs": [],
   "source": [
    "#Fitting one hot encoder to categorical predictors\n",
    "oh_enc = preprocessing.OneHotEncoder().fit(categ)\n"
   ]
  },
  {
   "cell_type": "code",
   "execution_count": 18,
   "metadata": {
    "execution": {
     "iopub.execute_input": "2021-01-09T19:03:47.574408Z",
     "iopub.status.busy": "2021-01-09T19:03:47.573312Z",
     "iopub.status.idle": "2021-01-09T19:03:47.579070Z",
     "shell.execute_reply": "2021-01-09T19:03:47.578237Z"
    },
    "papermill": {
     "duration": 0.060004,
     "end_time": "2021-01-09T19:03:47.579206",
     "exception": false,
     "start_time": "2021-01-09T19:03:47.519202",
     "status": "completed"
    },
    "tags": []
   },
   "outputs": [],
   "source": [
    "#Getting names of categorical columns, to put back into encoded dataframe\n",
    "oh_names = oh_enc.get_feature_names()"
   ]
  },
  {
   "cell_type": "code",
   "execution_count": 19,
   "metadata": {
    "execution": {
     "iopub.execute_input": "2021-01-09T19:03:47.688792Z",
     "iopub.status.busy": "2021-01-09T19:03:47.687651Z",
     "iopub.status.idle": "2021-01-09T19:03:47.710876Z",
     "shell.execute_reply": "2021-01-09T19:03:47.711453Z"
    },
    "papermill": {
     "duration": 0.082224,
     "end_time": "2021-01-09T19:03:47.711601",
     "exception": false,
     "start_time": "2021-01-09T19:03:47.629377",
     "status": "completed"
    },
    "tags": []
   },
   "outputs": [],
   "source": [
    "#One hot encoding categorical predictors\n",
    "cat_encoded = pd.DataFrame(oh_enc.transform(categ).toarray(),columns = oh_names)"
   ]
  },
  {
   "cell_type": "code",
   "execution_count": 20,
   "metadata": {
    "execution": {
     "iopub.execute_input": "2021-01-09T19:03:47.821306Z",
     "iopub.status.busy": "2021-01-09T19:03:47.819925Z",
     "iopub.status.idle": "2021-01-09T19:03:47.843478Z",
     "shell.execute_reply": "2021-01-09T19:03:47.842693Z"
    },
    "papermill": {
     "duration": 0.081859,
     "end_time": "2021-01-09T19:03:47.843602",
     "exception": false,
     "start_time": "2021-01-09T19:03:47.761743",
     "status": "completed"
    },
    "tags": []
   },
   "outputs": [],
   "source": [
    "#Fitting scaler to one hot encoded categorical predictors\n",
    "cat_scale = preprocessing.StandardScaler().fit(cat_encoded)"
   ]
  },
  {
   "cell_type": "code",
   "execution_count": 21,
   "metadata": {
    "execution": {
     "iopub.execute_input": "2021-01-09T19:03:47.952550Z",
     "iopub.status.busy": "2021-01-09T19:03:47.951846Z",
     "iopub.status.idle": "2021-01-09T19:03:47.960316Z",
     "shell.execute_reply": "2021-01-09T19:03:47.959623Z"
    },
    "papermill": {
     "duration": 0.065003,
     "end_time": "2021-01-09T19:03:47.960431",
     "exception": false,
     "start_time": "2021-01-09T19:03:47.895428",
     "status": "completed"
    },
    "tags": []
   },
   "outputs": [],
   "source": [
    "#Scaling encoded categorical predictors\n",
    "cat_enc_scale = pd.DataFrame(cat_scale.transform(cat_encoded),columns = oh_names)"
   ]
  },
  {
   "cell_type": "code",
   "execution_count": 22,
   "metadata": {
    "execution": {
     "iopub.execute_input": "2021-01-09T19:03:48.070231Z",
     "iopub.status.busy": "2021-01-09T19:03:48.069506Z",
     "iopub.status.idle": "2021-01-09T19:03:48.082901Z",
     "shell.execute_reply": "2021-01-09T19:03:48.083457Z"
    },
    "papermill": {
     "duration": 0.071804,
     "end_time": "2021-01-09T19:03:48.083631",
     "exception": false,
     "start_time": "2021-01-09T19:03:48.011827",
     "status": "completed"
    },
    "tags": []
   },
   "outputs": [],
   "source": [
    "#Putting categorical and continuous predictors back together, now that they're processed\n",
    "a=[cat_enc_scale,contin_scaled]\n",
    "X_clean_tran = pd.concat(a,axis=1)"
   ]
  },
  {
   "cell_type": "code",
   "execution_count": 23,
   "metadata": {
    "execution": {
     "iopub.execute_input": "2021-01-09T19:03:48.192068Z",
     "iopub.status.busy": "2021-01-09T19:03:48.191198Z",
     "iopub.status.idle": "2021-01-09T19:03:48.257229Z",
     "shell.execute_reply": "2021-01-09T19:03:48.256542Z"
    },
    "papermill": {
     "duration": 0.123034,
     "end_time": "2021-01-09T19:03:48.257391",
     "exception": false,
     "start_time": "2021-01-09T19:03:48.134357",
     "status": "completed"
    },
    "tags": []
   },
   "outputs": [],
   "source": [
    "from sklearn.model_selection import train_test_split"
   ]
  },
  {
   "cell_type": "code",
   "execution_count": 24,
   "metadata": {
    "execution": {
     "iopub.execute_input": "2021-01-09T19:03:48.366151Z",
     "iopub.status.busy": "2021-01-09T19:03:48.364951Z",
     "iopub.status.idle": "2021-01-09T19:03:48.393125Z",
     "shell.execute_reply": "2021-01-09T19:03:48.392442Z"
    },
    "papermill": {
     "duration": 0.085058,
     "end_time": "2021-01-09T19:03:48.393253",
     "exception": false,
     "start_time": "2021-01-09T19:03:48.308195",
     "status": "completed"
    },
    "tags": []
   },
   "outputs": [],
   "source": [
    "#Split data into test and training\n",
    "X_train, X_test, y_train, y_test = train_test_split(X_clean_tran,trans_y, test_size= .2, random_state = 345)"
   ]
  },
  {
   "cell_type": "code",
   "execution_count": 25,
   "metadata": {
    "execution": {
     "iopub.execute_input": "2021-01-09T19:03:48.502637Z",
     "iopub.status.busy": "2021-01-09T19:03:48.501315Z",
     "iopub.status.idle": "2021-01-09T19:03:48.540771Z",
     "shell.execute_reply": "2021-01-09T19:03:48.540143Z"
    },
    "papermill": {
     "duration": 0.096793,
     "end_time": "2021-01-09T19:03:48.540898",
     "exception": false,
     "start_time": "2021-01-09T19:03:48.444105",
     "status": "completed"
    },
    "tags": []
   },
   "outputs": [
    {
     "data": {
      "text/html": [
       "<div>\n",
       "<style scoped>\n",
       "    .dataframe tbody tr th:only-of-type {\n",
       "        vertical-align: middle;\n",
       "    }\n",
       "\n",
       "    .dataframe tbody tr th {\n",
       "        vertical-align: top;\n",
       "    }\n",
       "\n",
       "    .dataframe thead th {\n",
       "        text-align: right;\n",
       "    }\n",
       "</style>\n",
       "<table border=\"1\" class=\"dataframe\">\n",
       "  <thead>\n",
       "    <tr style=\"text-align: right;\">\n",
       "      <th></th>\n",
       "      <th>x0_0</th>\n",
       "      <th>x0_1</th>\n",
       "      <th>x0_2</th>\n",
       "      <th>x0_3</th>\n",
       "      <th>x0_4</th>\n",
       "      <th>x0_5</th>\n",
       "      <th>x0_6</th>\n",
       "      <th>x0_7</th>\n",
       "      <th>x0_8</th>\n",
       "      <th>x0_9</th>\n",
       "      <th>...</th>\n",
       "      <th>x2_5</th>\n",
       "      <th>danceability</th>\n",
       "      <th>energy</th>\n",
       "      <th>loudness</th>\n",
       "      <th>speechiness</th>\n",
       "      <th>acousticness</th>\n",
       "      <th>instrumentalness</th>\n",
       "      <th>liveness</th>\n",
       "      <th>valence</th>\n",
       "      <th>tempo</th>\n",
       "    </tr>\n",
       "  </thead>\n",
       "  <tbody>\n",
       "    <tr>\n",
       "      <th>15113</th>\n",
       "      <td>-0.298919</td>\n",
       "      <td>-0.465596</td>\n",
       "      <td>-0.278594</td>\n",
       "      <td>-0.147433</td>\n",
       "      <td>-0.243502</td>\n",
       "      <td>3.623524</td>\n",
       "      <td>-0.310226</td>\n",
       "      <td>-0.335278</td>\n",
       "      <td>-0.293014</td>\n",
       "      <td>-0.288664</td>\n",
       "      <td>...</td>\n",
       "      <td>-0.110355</td>\n",
       "      <td>0.476554</td>\n",
       "      <td>-0.982019</td>\n",
       "      <td>-0.274234</td>\n",
       "      <td>-0.441960</td>\n",
       "      <td>-0.487403</td>\n",
       "      <td>-0.763370</td>\n",
       "      <td>-0.778473</td>\n",
       "      <td>-0.081909</td>\n",
       "      <td>-2.292160</td>\n",
       "    </tr>\n",
       "    <tr>\n",
       "      <th>219</th>\n",
       "      <td>-0.298919</td>\n",
       "      <td>-0.465596</td>\n",
       "      <td>3.589450</td>\n",
       "      <td>-0.147433</td>\n",
       "      <td>-0.243502</td>\n",
       "      <td>-0.275974</td>\n",
       "      <td>-0.310226</td>\n",
       "      <td>-0.335278</td>\n",
       "      <td>-0.293014</td>\n",
       "      <td>-0.288664</td>\n",
       "      <td>...</td>\n",
       "      <td>9.061675</td>\n",
       "      <td>-2.307338</td>\n",
       "      <td>-1.591307</td>\n",
       "      <td>-2.922875</td>\n",
       "      <td>-0.720957</td>\n",
       "      <td>-0.562416</td>\n",
       "      <td>-0.757032</td>\n",
       "      <td>-0.376362</td>\n",
       "      <td>-1.198988</td>\n",
       "      <td>-0.398965</td>\n",
       "    </tr>\n",
       "    <tr>\n",
       "      <th>27450</th>\n",
       "      <td>-0.298919</td>\n",
       "      <td>2.147784</td>\n",
       "      <td>-0.278594</td>\n",
       "      <td>-0.147433</td>\n",
       "      <td>-0.243502</td>\n",
       "      <td>-0.275974</td>\n",
       "      <td>-0.310226</td>\n",
       "      <td>-0.335278</td>\n",
       "      <td>-0.293014</td>\n",
       "      <td>-0.288664</td>\n",
       "      <td>...</td>\n",
       "      <td>-0.110355</td>\n",
       "      <td>0.463784</td>\n",
       "      <td>1.264733</td>\n",
       "      <td>0.047411</td>\n",
       "      <td>-0.621089</td>\n",
       "      <td>-0.384374</td>\n",
       "      <td>1.469719</td>\n",
       "      <td>-0.663991</td>\n",
       "      <td>-1.302763</td>\n",
       "      <td>-0.648458</td>\n",
       "    </tr>\n",
       "    <tr>\n",
       "      <th>28916</th>\n",
       "      <td>-0.298919</td>\n",
       "      <td>-0.465596</td>\n",
       "      <td>-0.278594</td>\n",
       "      <td>-0.147433</td>\n",
       "      <td>4.106737</td>\n",
       "      <td>-0.275974</td>\n",
       "      <td>-0.310226</td>\n",
       "      <td>-0.335278</td>\n",
       "      <td>-0.293014</td>\n",
       "      <td>-0.288664</td>\n",
       "      <td>...</td>\n",
       "      <td>-0.110355</td>\n",
       "      <td>-0.749380</td>\n",
       "      <td>0.557523</td>\n",
       "      <td>0.959305</td>\n",
       "      <td>-0.708275</td>\n",
       "      <td>-0.201730</td>\n",
       "      <td>-0.763370</td>\n",
       "      <td>1.525974</td>\n",
       "      <td>-0.883804</td>\n",
       "      <td>-0.730784</td>\n",
       "    </tr>\n",
       "    <tr>\n",
       "      <th>4770</th>\n",
       "      <td>-0.298919</td>\n",
       "      <td>-0.465596</td>\n",
       "      <td>3.589450</td>\n",
       "      <td>-0.147433</td>\n",
       "      <td>-0.243502</td>\n",
       "      <td>-0.275974</td>\n",
       "      <td>-0.310226</td>\n",
       "      <td>-0.335278</td>\n",
       "      <td>-0.293014</td>\n",
       "      <td>-0.288664</td>\n",
       "      <td>...</td>\n",
       "      <td>-0.110355</td>\n",
       "      <td>-0.672759</td>\n",
       "      <td>-0.976578</td>\n",
       "      <td>-0.750241</td>\n",
       "      <td>-0.854114</td>\n",
       "      <td>-0.409546</td>\n",
       "      <td>-0.763370</td>\n",
       "      <td>1.178541</td>\n",
       "      <td>-0.909534</td>\n",
       "      <td>-1.739493</td>\n",
       "    </tr>\n",
       "    <tr>\n",
       "      <th>...</th>\n",
       "      <td>...</td>\n",
       "      <td>...</td>\n",
       "      <td>...</td>\n",
       "      <td>...</td>\n",
       "      <td>...</td>\n",
       "      <td>...</td>\n",
       "      <td>...</td>\n",
       "      <td>...</td>\n",
       "      <td>...</td>\n",
       "      <td>...</td>\n",
       "      <td>...</td>\n",
       "      <td>...</td>\n",
       "      <td>...</td>\n",
       "      <td>...</td>\n",
       "      <td>...</td>\n",
       "      <td>...</td>\n",
       "      <td>...</td>\n",
       "      <td>...</td>\n",
       "      <td>...</td>\n",
       "      <td>...</td>\n",
       "      <td>...</td>\n",
       "    </tr>\n",
       "    <tr>\n",
       "      <th>32515</th>\n",
       "      <td>-0.298919</td>\n",
       "      <td>-0.465596</td>\n",
       "      <td>-0.278594</td>\n",
       "      <td>-0.147433</td>\n",
       "      <td>4.106737</td>\n",
       "      <td>-0.275974</td>\n",
       "      <td>-0.310226</td>\n",
       "      <td>-0.335278</td>\n",
       "      <td>-0.293014</td>\n",
       "      <td>-0.288664</td>\n",
       "      <td>...</td>\n",
       "      <td>-0.110355</td>\n",
       "      <td>-0.634448</td>\n",
       "      <td>1.096091</td>\n",
       "      <td>0.414617</td>\n",
       "      <td>-0.816069</td>\n",
       "      <td>-0.562841</td>\n",
       "      <td>1.458932</td>\n",
       "      <td>-0.017538</td>\n",
       "      <td>-0.836634</td>\n",
       "      <td>-0.521761</td>\n",
       "    </tr>\n",
       "    <tr>\n",
       "      <th>6980</th>\n",
       "      <td>-0.298919</td>\n",
       "      <td>-0.465596</td>\n",
       "      <td>-0.278594</td>\n",
       "      <td>-0.147433</td>\n",
       "      <td>-0.243502</td>\n",
       "      <td>-0.275974</td>\n",
       "      <td>-0.310226</td>\n",
       "      <td>-0.335278</td>\n",
       "      <td>3.412805</td>\n",
       "      <td>-0.288664</td>\n",
       "      <td>...</td>\n",
       "      <td>-0.110355</td>\n",
       "      <td>0.929894</td>\n",
       "      <td>0.628244</td>\n",
       "      <td>0.477178</td>\n",
       "      <td>0.360155</td>\n",
       "      <td>0.438107</td>\n",
       "      <td>-0.763370</td>\n",
       "      <td>-0.063103</td>\n",
       "      <td>0.539882</td>\n",
       "      <td>-0.983967</td>\n",
       "    </tr>\n",
       "    <tr>\n",
       "      <th>29771</th>\n",
       "      <td>-0.298919</td>\n",
       "      <td>-0.465596</td>\n",
       "      <td>-0.278594</td>\n",
       "      <td>-0.147433</td>\n",
       "      <td>-0.243502</td>\n",
       "      <td>-0.275974</td>\n",
       "      <td>-0.310226</td>\n",
       "      <td>-0.335278</td>\n",
       "      <td>-0.293014</td>\n",
       "      <td>-0.288664</td>\n",
       "      <td>...</td>\n",
       "      <td>-0.110355</td>\n",
       "      <td>-0.468437</td>\n",
       "      <td>0.742486</td>\n",
       "      <td>-0.745481</td>\n",
       "      <td>-0.584629</td>\n",
       "      <td>-0.548167</td>\n",
       "      <td>1.038205</td>\n",
       "      <td>0.603284</td>\n",
       "      <td>-0.699411</td>\n",
       "      <td>-0.564287</td>\n",
       "    </tr>\n",
       "    <tr>\n",
       "      <th>18639</th>\n",
       "      <td>-0.298919</td>\n",
       "      <td>-0.465596</td>\n",
       "      <td>3.589450</td>\n",
       "      <td>-0.147433</td>\n",
       "      <td>-0.243502</td>\n",
       "      <td>-0.275974</td>\n",
       "      <td>-0.310226</td>\n",
       "      <td>-0.335278</td>\n",
       "      <td>-0.293014</td>\n",
       "      <td>-0.288664</td>\n",
       "      <td>...</td>\n",
       "      <td>-0.110355</td>\n",
       "      <td>-0.608908</td>\n",
       "      <td>-0.742655</td>\n",
       "      <td>-1.046726</td>\n",
       "      <td>1.564912</td>\n",
       "      <td>1.257662</td>\n",
       "      <td>-0.763370</td>\n",
       "      <td>-0.615578</td>\n",
       "      <td>0.179672</td>\n",
       "      <td>0.449916</td>\n",
       "    </tr>\n",
       "    <tr>\n",
       "      <th>3608</th>\n",
       "      <td>-0.298919</td>\n",
       "      <td>-0.465596</td>\n",
       "      <td>-0.278594</td>\n",
       "      <td>-0.147433</td>\n",
       "      <td>-0.243502</td>\n",
       "      <td>3.623524</td>\n",
       "      <td>-0.310226</td>\n",
       "      <td>-0.335278</td>\n",
       "      <td>-0.293014</td>\n",
       "      <td>-0.288664</td>\n",
       "      <td>...</td>\n",
       "      <td>-0.110355</td>\n",
       "      <td>-0.755765</td>\n",
       "      <td>0.073356</td>\n",
       "      <td>-0.425536</td>\n",
       "      <td>-0.754246</td>\n",
       "      <td>-0.392569</td>\n",
       "      <td>1.618053</td>\n",
       "      <td>-0.587100</td>\n",
       "      <td>-1.081062</td>\n",
       "      <td>-0.735229</td>\n",
       "    </tr>\n",
       "  </tbody>\n",
       "</table>\n",
       "<p>33844 rows × 27 columns</p>\n",
       "</div>"
      ],
      "text/plain": [
       "           x0_0      x0_1      x0_2      x0_3      x0_4      x0_5      x0_6  \\\n",
       "15113 -0.298919 -0.465596 -0.278594 -0.147433 -0.243502  3.623524 -0.310226   \n",
       "219   -0.298919 -0.465596  3.589450 -0.147433 -0.243502 -0.275974 -0.310226   \n",
       "27450 -0.298919  2.147784 -0.278594 -0.147433 -0.243502 -0.275974 -0.310226   \n",
       "28916 -0.298919 -0.465596 -0.278594 -0.147433  4.106737 -0.275974 -0.310226   \n",
       "4770  -0.298919 -0.465596  3.589450 -0.147433 -0.243502 -0.275974 -0.310226   \n",
       "...         ...       ...       ...       ...       ...       ...       ...   \n",
       "32515 -0.298919 -0.465596 -0.278594 -0.147433  4.106737 -0.275974 -0.310226   \n",
       "6980  -0.298919 -0.465596 -0.278594 -0.147433 -0.243502 -0.275974 -0.310226   \n",
       "29771 -0.298919 -0.465596 -0.278594 -0.147433 -0.243502 -0.275974 -0.310226   \n",
       "18639 -0.298919 -0.465596  3.589450 -0.147433 -0.243502 -0.275974 -0.310226   \n",
       "3608  -0.298919 -0.465596 -0.278594 -0.147433 -0.243502  3.623524 -0.310226   \n",
       "\n",
       "           x0_7      x0_8      x0_9  ...      x2_5  danceability    energy  \\\n",
       "15113 -0.335278 -0.293014 -0.288664  ... -0.110355      0.476554 -0.982019   \n",
       "219   -0.335278 -0.293014 -0.288664  ...  9.061675     -2.307338 -1.591307   \n",
       "27450 -0.335278 -0.293014 -0.288664  ... -0.110355      0.463784  1.264733   \n",
       "28916 -0.335278 -0.293014 -0.288664  ... -0.110355     -0.749380  0.557523   \n",
       "4770  -0.335278 -0.293014 -0.288664  ... -0.110355     -0.672759 -0.976578   \n",
       "...         ...       ...       ...  ...       ...           ...       ...   \n",
       "32515 -0.335278 -0.293014 -0.288664  ... -0.110355     -0.634448  1.096091   \n",
       "6980  -0.335278  3.412805 -0.288664  ... -0.110355      0.929894  0.628244   \n",
       "29771 -0.335278 -0.293014 -0.288664  ... -0.110355     -0.468437  0.742486   \n",
       "18639 -0.335278 -0.293014 -0.288664  ... -0.110355     -0.608908 -0.742655   \n",
       "3608  -0.335278 -0.293014 -0.288664  ... -0.110355     -0.755765  0.073356   \n",
       "\n",
       "       loudness  speechiness  acousticness  instrumentalness  liveness  \\\n",
       "15113 -0.274234    -0.441960     -0.487403         -0.763370 -0.778473   \n",
       "219   -2.922875    -0.720957     -0.562416         -0.757032 -0.376362   \n",
       "27450  0.047411    -0.621089     -0.384374          1.469719 -0.663991   \n",
       "28916  0.959305    -0.708275     -0.201730         -0.763370  1.525974   \n",
       "4770  -0.750241    -0.854114     -0.409546         -0.763370  1.178541   \n",
       "...         ...          ...           ...               ...       ...   \n",
       "32515  0.414617    -0.816069     -0.562841          1.458932 -0.017538   \n",
       "6980   0.477178     0.360155      0.438107         -0.763370 -0.063103   \n",
       "29771 -0.745481    -0.584629     -0.548167          1.038205  0.603284   \n",
       "18639 -1.046726     1.564912      1.257662         -0.763370 -0.615578   \n",
       "3608  -0.425536    -0.754246     -0.392569          1.618053 -0.587100   \n",
       "\n",
       "        valence     tempo  \n",
       "15113 -0.081909 -2.292160  \n",
       "219   -1.198988 -0.398965  \n",
       "27450 -1.302763 -0.648458  \n",
       "28916 -0.883804 -0.730784  \n",
       "4770  -0.909534 -1.739493  \n",
       "...         ...       ...  \n",
       "32515 -0.836634 -0.521761  \n",
       "6980   0.539882 -0.983967  \n",
       "29771 -0.699411 -0.564287  \n",
       "18639  0.179672  0.449916  \n",
       "3608  -1.081062 -0.735229  \n",
       "\n",
       "[33844 rows x 27 columns]"
      ]
     },
     "execution_count": 25,
     "metadata": {},
     "output_type": "execute_result"
    }
   ],
   "source": [
    "#Just looking at training data\n",
    "X_train"
   ]
  },
  {
   "cell_type": "code",
   "execution_count": 26,
   "metadata": {
    "execution": {
     "iopub.execute_input": "2021-01-09T19:03:48.653744Z",
     "iopub.status.busy": "2021-01-09T19:03:48.652909Z",
     "iopub.status.idle": "2021-01-09T19:03:48.757723Z",
     "shell.execute_reply": "2021-01-09T19:03:48.756971Z"
    },
    "papermill": {
     "duration": 0.163305,
     "end_time": "2021-01-09T19:03:48.757860",
     "exception": false,
     "start_time": "2021-01-09T19:03:48.594555",
     "status": "completed"
    },
    "tags": []
   },
   "outputs": [],
   "source": [
    "from sklearn.linear_model import LogisticRegression"
   ]
  },
  {
   "cell_type": "code",
   "execution_count": 27,
   "metadata": {
    "execution": {
     "iopub.execute_input": "2021-01-09T19:03:48.870937Z",
     "iopub.status.busy": "2021-01-09T19:03:48.869782Z",
     "iopub.status.idle": "2021-01-09T19:03:52.424525Z",
     "shell.execute_reply": "2021-01-09T19:03:52.425199Z"
    },
    "papermill": {
     "duration": 3.615425,
     "end_time": "2021-01-09T19:03:52.425408",
     "exception": false,
     "start_time": "2021-01-09T19:03:48.809983",
     "status": "completed"
    },
    "tags": []
   },
   "outputs": [],
   "source": [
    "#Fit a logistic regression to the training data\n",
    "clf = LogisticRegression(random_state=987).fit(X_train,y_train.to_numpy().ravel())"
   ]
  },
  {
   "cell_type": "code",
   "execution_count": 28,
   "metadata": {
    "execution": {
     "iopub.execute_input": "2021-01-09T19:03:52.546048Z",
     "iopub.status.busy": "2021-01-09T19:03:52.545141Z",
     "iopub.status.idle": "2021-01-09T19:03:52.551541Z",
     "shell.execute_reply": "2021-01-09T19:03:52.550860Z"
    },
    "papermill": {
     "duration": 0.06937,
     "end_time": "2021-01-09T19:03:52.551695",
     "exception": false,
     "start_time": "2021-01-09T19:03:52.482325",
     "status": "completed"
    },
    "tags": []
   },
   "outputs": [],
   "source": [
    "#Predict test data based on logistic fit\n",
    "y_hat_clf = pd.DataFrame(clf.predict(X_test))"
   ]
  },
  {
   "cell_type": "code",
   "execution_count": 29,
   "metadata": {
    "execution": {
     "iopub.execute_input": "2021-01-09T19:03:52.669515Z",
     "iopub.status.busy": "2021-01-09T19:03:52.668468Z",
     "iopub.status.idle": "2021-01-09T19:03:52.671862Z",
     "shell.execute_reply": "2021-01-09T19:03:52.671306Z"
    },
    "papermill": {
     "duration": 0.06176,
     "end_time": "2021-01-09T19:03:52.671983",
     "exception": false,
     "start_time": "2021-01-09T19:03:52.610223",
     "status": "completed"
    },
    "tags": []
   },
   "outputs": [],
   "source": [
    "#Reset indices for easy concatenation\n",
    "y_hat_clf.reset_index(drop=True,inplace=True)\n",
    "y_test.reset_index(drop=True,inplace=True)"
   ]
  },
  {
   "cell_type": "code",
   "execution_count": 30,
   "metadata": {
    "execution": {
     "iopub.execute_input": "2021-01-09T19:03:52.787688Z",
     "iopub.status.busy": "2021-01-09T19:03:52.786915Z",
     "iopub.status.idle": "2021-01-09T19:03:52.791220Z",
     "shell.execute_reply": "2021-01-09T19:03:52.790569Z"
    },
    "papermill": {
     "duration": 0.066307,
     "end_time": "2021-01-09T19:03:52.791349",
     "exception": false,
     "start_time": "2021-01-09T19:03:52.725042",
     "status": "completed"
    },
    "tags": []
   },
   "outputs": [],
   "source": [
    "#Reversing encoding of test labels and prediction, in case I want to use them later\n",
    "y_act = pd.DataFrame(gen_trans.inverse_transform(y_test))\n",
    "y_clf = pd.DataFrame(gen_trans.inverse_transform(y_hat_clf))"
   ]
  },
  {
   "cell_type": "code",
   "execution_count": 31,
   "metadata": {
    "execution": {
     "iopub.execute_input": "2021-01-09T19:03:52.904632Z",
     "iopub.status.busy": "2021-01-09T19:03:52.903450Z",
     "iopub.status.idle": "2021-01-09T19:03:52.908203Z",
     "shell.execute_reply": "2021-01-09T19:03:52.907534Z"
    },
    "papermill": {
     "duration": 0.064818,
     "end_time": "2021-01-09T19:03:52.908344",
     "exception": false,
     "start_time": "2021-01-09T19:03:52.843526",
     "status": "completed"
    },
    "tags": []
   },
   "outputs": [],
   "source": [
    "#Concatenate logistic prediction and actual labels, naming them appropriately\n",
    "results_df = pd.concat([y_hat_clf,y_test],axis=1)\n",
    "results_df.columns = ['clf', 'actual']"
   ]
  },
  {
   "cell_type": "code",
   "execution_count": 32,
   "metadata": {
    "execution": {
     "iopub.execute_input": "2021-01-09T19:03:53.023583Z",
     "iopub.status.busy": "2021-01-09T19:03:53.022839Z",
     "iopub.status.idle": "2021-01-09T19:03:53.049912Z",
     "shell.execute_reply": "2021-01-09T19:03:53.049192Z"
    },
    "papermill": {
     "duration": 0.087962,
     "end_time": "2021-01-09T19:03:53.050030",
     "exception": false,
     "start_time": "2021-01-09T19:03:52.962068",
     "status": "completed"
    },
    "tags": []
   },
   "outputs": [],
   "source": [
    "#Use crosstab to make a confusion matrix myself\n",
    "conf_mat = pd.crosstab(results_df['clf'],results_df['actual'],rownames=['Predicted'],colnames=['Actual'])"
   ]
  },
  {
   "cell_type": "code",
   "execution_count": 33,
   "metadata": {
    "execution": {
     "iopub.execute_input": "2021-01-09T19:03:53.175791Z",
     "iopub.status.busy": "2021-01-09T19:03:53.174778Z",
     "iopub.status.idle": "2021-01-09T19:03:53.179959Z",
     "shell.execute_reply": "2021-01-09T19:03:53.180449Z"
    },
    "papermill": {
     "duration": 0.077931,
     "end_time": "2021-01-09T19:03:53.180598",
     "exception": false,
     "start_time": "2021-01-09T19:03:53.102667",
     "status": "completed"
    },
    "tags": []
   },
   "outputs": [
    {
     "data": {
      "text/html": [
       "<div>\n",
       "<style scoped>\n",
       "    .dataframe tbody tr th:only-of-type {\n",
       "        vertical-align: middle;\n",
       "    }\n",
       "\n",
       "    .dataframe tbody tr th {\n",
       "        vertical-align: top;\n",
       "    }\n",
       "\n",
       "    .dataframe thead th {\n",
       "        text-align: right;\n",
       "    }\n",
       "</style>\n",
       "<table border=\"1\" class=\"dataframe\">\n",
       "  <thead>\n",
       "    <tr style=\"text-align: right;\">\n",
       "      <th>Actual</th>\n",
       "      <th>0.0</th>\n",
       "      <th>1.0</th>\n",
       "      <th>2.0</th>\n",
       "      <th>3.0</th>\n",
       "      <th>4.0</th>\n",
       "      <th>5.0</th>\n",
       "      <th>6.0</th>\n",
       "      <th>7.0</th>\n",
       "      <th>8.0</th>\n",
       "      <th>9.0</th>\n",
       "      <th>10.0</th>\n",
       "      <th>11.0</th>\n",
       "      <th>12.0</th>\n",
       "      <th>13.0</th>\n",
       "      <th>14.0</th>\n",
       "    </tr>\n",
       "    <tr>\n",
       "      <th>Predicted</th>\n",
       "      <th></th>\n",
       "      <th></th>\n",
       "      <th></th>\n",
       "      <th></th>\n",
       "      <th></th>\n",
       "      <th></th>\n",
       "      <th></th>\n",
       "      <th></th>\n",
       "      <th></th>\n",
       "      <th></th>\n",
       "      <th></th>\n",
       "      <th></th>\n",
       "      <th></th>\n",
       "      <th></th>\n",
       "      <th></th>\n",
       "    </tr>\n",
       "  </thead>\n",
       "  <tbody>\n",
       "    <tr>\n",
       "      <th>0.0</th>\n",
       "      <td>305</td>\n",
       "      <td>15</td>\n",
       "      <td>58</td>\n",
       "      <td>2</td>\n",
       "      <td>19</td>\n",
       "      <td>33</td>\n",
       "      <td>66</td>\n",
       "      <td>108</td>\n",
       "      <td>36</td>\n",
       "      <td>22</td>\n",
       "      <td>40</td>\n",
       "      <td>7</td>\n",
       "      <td>26</td>\n",
       "      <td>36</td>\n",
       "      <td>27</td>\n",
       "    </tr>\n",
       "    <tr>\n",
       "      <th>1.0</th>\n",
       "      <td>23</td>\n",
       "      <td>150</td>\n",
       "      <td>23</td>\n",
       "      <td>14</td>\n",
       "      <td>6</td>\n",
       "      <td>28</td>\n",
       "      <td>19</td>\n",
       "      <td>19</td>\n",
       "      <td>9</td>\n",
       "      <td>59</td>\n",
       "      <td>0</td>\n",
       "      <td>1</td>\n",
       "      <td>0</td>\n",
       "      <td>10</td>\n",
       "      <td>15</td>\n",
       "    </tr>\n",
       "    <tr>\n",
       "      <th>2.0</th>\n",
       "      <td>22</td>\n",
       "      <td>9</td>\n",
       "      <td>118</td>\n",
       "      <td>8</td>\n",
       "      <td>10</td>\n",
       "      <td>49</td>\n",
       "      <td>15</td>\n",
       "      <td>100</td>\n",
       "      <td>3</td>\n",
       "      <td>1</td>\n",
       "      <td>0</td>\n",
       "      <td>0</td>\n",
       "      <td>0</td>\n",
       "      <td>0</td>\n",
       "      <td>0</td>\n",
       "    </tr>\n",
       "    <tr>\n",
       "      <th>3.0</th>\n",
       "      <td>0</td>\n",
       "      <td>0</td>\n",
       "      <td>0</td>\n",
       "      <td>0</td>\n",
       "      <td>0</td>\n",
       "      <td>0</td>\n",
       "      <td>0</td>\n",
       "      <td>0</td>\n",
       "      <td>0</td>\n",
       "      <td>0</td>\n",
       "      <td>0</td>\n",
       "      <td>0</td>\n",
       "      <td>0</td>\n",
       "      <td>0</td>\n",
       "      <td>1</td>\n",
       "    </tr>\n",
       "    <tr>\n",
       "      <th>4.0</th>\n",
       "      <td>9</td>\n",
       "      <td>6</td>\n",
       "      <td>30</td>\n",
       "      <td>4</td>\n",
       "      <td>99</td>\n",
       "      <td>26</td>\n",
       "      <td>9</td>\n",
       "      <td>63</td>\n",
       "      <td>0</td>\n",
       "      <td>0</td>\n",
       "      <td>0</td>\n",
       "      <td>0</td>\n",
       "      <td>0</td>\n",
       "      <td>2</td>\n",
       "      <td>0</td>\n",
       "    </tr>\n",
       "    <tr>\n",
       "      <th>5.0</th>\n",
       "      <td>31</td>\n",
       "      <td>34</td>\n",
       "      <td>57</td>\n",
       "      <td>17</td>\n",
       "      <td>16</td>\n",
       "      <td>99</td>\n",
       "      <td>10</td>\n",
       "      <td>44</td>\n",
       "      <td>3</td>\n",
       "      <td>0</td>\n",
       "      <td>0</td>\n",
       "      <td>2</td>\n",
       "      <td>0</td>\n",
       "      <td>1</td>\n",
       "      <td>1</td>\n",
       "    </tr>\n",
       "    <tr>\n",
       "      <th>6.0</th>\n",
       "      <td>7</td>\n",
       "      <td>1</td>\n",
       "      <td>5</td>\n",
       "      <td>0</td>\n",
       "      <td>4</td>\n",
       "      <td>3</td>\n",
       "      <td>29</td>\n",
       "      <td>20</td>\n",
       "      <td>2</td>\n",
       "      <td>5</td>\n",
       "      <td>0</td>\n",
       "      <td>0</td>\n",
       "      <td>0</td>\n",
       "      <td>5</td>\n",
       "      <td>6</td>\n",
       "    </tr>\n",
       "    <tr>\n",
       "      <th>7.0</th>\n",
       "      <td>237</td>\n",
       "      <td>13</td>\n",
       "      <td>257</td>\n",
       "      <td>17</td>\n",
       "      <td>176</td>\n",
       "      <td>135</td>\n",
       "      <td>147</td>\n",
       "      <td>732</td>\n",
       "      <td>7</td>\n",
       "      <td>2</td>\n",
       "      <td>3</td>\n",
       "      <td>30</td>\n",
       "      <td>4</td>\n",
       "      <td>5</td>\n",
       "      <td>33</td>\n",
       "    </tr>\n",
       "    <tr>\n",
       "      <th>8.0</th>\n",
       "      <td>58</td>\n",
       "      <td>52</td>\n",
       "      <td>17</td>\n",
       "      <td>7</td>\n",
       "      <td>0</td>\n",
       "      <td>19</td>\n",
       "      <td>27</td>\n",
       "      <td>32</td>\n",
       "      <td>438</td>\n",
       "      <td>14</td>\n",
       "      <td>2</td>\n",
       "      <td>0</td>\n",
       "      <td>0</td>\n",
       "      <td>0</td>\n",
       "      <td>13</td>\n",
       "    </tr>\n",
       "    <tr>\n",
       "      <th>9.0</th>\n",
       "      <td>39</td>\n",
       "      <td>37</td>\n",
       "      <td>2</td>\n",
       "      <td>1</td>\n",
       "      <td>0</td>\n",
       "      <td>3</td>\n",
       "      <td>18</td>\n",
       "      <td>7</td>\n",
       "      <td>40</td>\n",
       "      <td>404</td>\n",
       "      <td>5</td>\n",
       "      <td>2</td>\n",
       "      <td>0</td>\n",
       "      <td>34</td>\n",
       "      <td>81</td>\n",
       "    </tr>\n",
       "    <tr>\n",
       "      <th>10.0</th>\n",
       "      <td>27</td>\n",
       "      <td>0</td>\n",
       "      <td>0</td>\n",
       "      <td>0</td>\n",
       "      <td>0</td>\n",
       "      <td>0</td>\n",
       "      <td>1</td>\n",
       "      <td>0</td>\n",
       "      <td>22</td>\n",
       "      <td>25</td>\n",
       "      <td>453</td>\n",
       "      <td>3</td>\n",
       "      <td>30</td>\n",
       "      <td>41</td>\n",
       "      <td>22</td>\n",
       "    </tr>\n",
       "    <tr>\n",
       "      <th>11.0</th>\n",
       "      <td>14</td>\n",
       "      <td>2</td>\n",
       "      <td>20</td>\n",
       "      <td>5</td>\n",
       "      <td>19</td>\n",
       "      <td>14</td>\n",
       "      <td>5</td>\n",
       "      <td>22</td>\n",
       "      <td>0</td>\n",
       "      <td>0</td>\n",
       "      <td>12</td>\n",
       "      <td>443</td>\n",
       "      <td>62</td>\n",
       "      <td>10</td>\n",
       "      <td>1</td>\n",
       "    </tr>\n",
       "    <tr>\n",
       "      <th>12.0</th>\n",
       "      <td>23</td>\n",
       "      <td>0</td>\n",
       "      <td>1</td>\n",
       "      <td>0</td>\n",
       "      <td>2</td>\n",
       "      <td>0</td>\n",
       "      <td>3</td>\n",
       "      <td>1</td>\n",
       "      <td>0</td>\n",
       "      <td>0</td>\n",
       "      <td>29</td>\n",
       "      <td>72</td>\n",
       "      <td>463</td>\n",
       "      <td>26</td>\n",
       "      <td>0</td>\n",
       "    </tr>\n",
       "    <tr>\n",
       "      <th>13.0</th>\n",
       "      <td>66</td>\n",
       "      <td>24</td>\n",
       "      <td>2</td>\n",
       "      <td>2</td>\n",
       "      <td>11</td>\n",
       "      <td>0</td>\n",
       "      <td>14</td>\n",
       "      <td>8</td>\n",
       "      <td>0</td>\n",
       "      <td>12</td>\n",
       "      <td>47</td>\n",
       "      <td>20</td>\n",
       "      <td>22</td>\n",
       "      <td>414</td>\n",
       "      <td>11</td>\n",
       "    </tr>\n",
       "    <tr>\n",
       "      <th>14.0</th>\n",
       "      <td>27</td>\n",
       "      <td>7</td>\n",
       "      <td>7</td>\n",
       "      <td>0</td>\n",
       "      <td>3</td>\n",
       "      <td>4</td>\n",
       "      <td>53</td>\n",
       "      <td>21</td>\n",
       "      <td>18</td>\n",
       "      <td>46</td>\n",
       "      <td>12</td>\n",
       "      <td>3</td>\n",
       "      <td>3</td>\n",
       "      <td>17</td>\n",
       "      <td>402</td>\n",
       "    </tr>\n",
       "  </tbody>\n",
       "</table>\n",
       "</div>"
      ],
      "text/plain": [
       "Actual     0.0   1.0   2.0   3.0   4.0   5.0   6.0   7.0   8.0   9.0   10.0  \\\n",
       "Predicted                                                                     \n",
       "0.0         305    15    58     2    19    33    66   108    36    22    40   \n",
       "1.0          23   150    23    14     6    28    19    19     9    59     0   \n",
       "2.0          22     9   118     8    10    49    15   100     3     1     0   \n",
       "3.0           0     0     0     0     0     0     0     0     0     0     0   \n",
       "4.0           9     6    30     4    99    26     9    63     0     0     0   \n",
       "5.0          31    34    57    17    16    99    10    44     3     0     0   \n",
       "6.0           7     1     5     0     4     3    29    20     2     5     0   \n",
       "7.0         237    13   257    17   176   135   147   732     7     2     3   \n",
       "8.0          58    52    17     7     0    19    27    32   438    14     2   \n",
       "9.0          39    37     2     1     0     3    18     7    40   404     5   \n",
       "10.0         27     0     0     0     0     0     1     0    22    25   453   \n",
       "11.0         14     2    20     5    19    14     5    22     0     0    12   \n",
       "12.0         23     0     1     0     2     0     3     1     0     0    29   \n",
       "13.0         66    24     2     2    11     0    14     8     0    12    47   \n",
       "14.0         27     7     7     0     3     4    53    21    18    46    12   \n",
       "\n",
       "Actual     11.0  12.0  13.0  14.0  \n",
       "Predicted                          \n",
       "0.0           7    26    36    27  \n",
       "1.0           1     0    10    15  \n",
       "2.0           0     0     0     0  \n",
       "3.0           0     0     0     1  \n",
       "4.0           0     0     2     0  \n",
       "5.0           2     0     1     1  \n",
       "6.0           0     0     5     6  \n",
       "7.0          30     4     5    33  \n",
       "8.0           0     0     0    13  \n",
       "9.0           2     0    34    81  \n",
       "10.0          3    30    41    22  \n",
       "11.0        443    62    10     1  \n",
       "12.0         72   463    26     0  \n",
       "13.0         20    22   414    11  \n",
       "14.0          3     3    17   402  "
      ]
     },
     "execution_count": 33,
     "metadata": {},
     "output_type": "execute_result"
    }
   ],
   "source": [
    "#Looking at confusion matrix\n",
    "conf_mat"
   ]
  },
  {
   "cell_type": "code",
   "execution_count": 34,
   "metadata": {
    "execution": {
     "iopub.execute_input": "2021-01-09T19:03:53.293674Z",
     "iopub.status.busy": "2021-01-09T19:03:53.292908Z",
     "iopub.status.idle": "2021-01-09T19:03:54.381992Z",
     "shell.execute_reply": "2021-01-09T19:03:54.381118Z"
    },
    "papermill": {
     "duration": 1.147574,
     "end_time": "2021-01-09T19:03:54.382121",
     "exception": false,
     "start_time": "2021-01-09T19:03:53.234547",
     "status": "completed"
    },
    "tags": []
   },
   "outputs": [],
   "source": [
    "import plotly.express as px"
   ]
  },
  {
   "cell_type": "code",
   "execution_count": 35,
   "metadata": {
    "execution": {
     "iopub.execute_input": "2021-01-09T19:03:54.497430Z",
     "iopub.status.busy": "2021-01-09T19:03:54.496522Z",
     "iopub.status.idle": "2021-01-09T19:03:55.787375Z",
     "shell.execute_reply": "2021-01-09T19:03:55.786622Z"
    },
    "papermill": {
     "duration": 1.351342,
     "end_time": "2021-01-09T19:03:55.787501",
     "exception": false,
     "start_time": "2021-01-09T19:03:54.436159",
     "status": "completed"
    },
    "tags": []
   },
   "outputs": [
    {
     "data": {
      "text/html": [
       "        <script type=\"text/javascript\">\n",
       "        window.PlotlyConfig = {MathJaxConfig: 'local'};\n",
       "        if (window.MathJax) {MathJax.Hub.Config({SVG: {font: \"STIX-Web\"}});}\n",
       "        if (typeof require !== 'undefined') {\n",
       "        require.undef(\"plotly\");\n",
       "        requirejs.config({\n",
       "            paths: {\n",
       "                'plotly': ['https://cdn.plot.ly/plotly-latest.min']\n",
       "            }\n",
       "        });\n",
       "        require(['plotly'], function(Plotly) {\n",
       "            window._Plotly = Plotly;\n",
       "        });\n",
       "        }\n",
       "        </script>\n",
       "        "
      ]
     },
     "metadata": {},
     "output_type": "display_data"
    },
    {
     "data": {
      "text/html": [
       "<div>                            <div id=\"a078bdac-534f-4cb7-9e20-a2e4de77ffcc\" class=\"plotly-graph-div\" style=\"height:525px; width:100%;\"></div>            <script type=\"text/javascript\">                require([\"plotly\"], function(Plotly) {                    window.PLOTLYENV=window.PLOTLYENV || {};                                    if (document.getElementById(\"a078bdac-534f-4cb7-9e20-a2e4de77ffcc\")) {                    Plotly.newPlot(                        \"a078bdac-534f-4cb7-9e20-a2e4de77ffcc\",                        [{\"coloraxis\": \"coloraxis\", \"hovertemplate\": \"Actual: %{x}<br>Predicted: %{y}<br>color: %{z}<extra></extra>\", \"name\": \"0\", \"type\": \"heatmap\", \"x\": [0.0, 1.0, 2.0, 3.0, 4.0, 5.0, 6.0, 7.0, 8.0, 9.0, 10.0, 11.0, 12.0, 13.0, 14.0], \"xaxis\": \"x\", \"y\": [0.0, 1.0, 2.0, 3.0, 4.0, 5.0, 6.0, 7.0, 8.0, 9.0, 10.0, 11.0, 12.0, 13.0, 14.0], \"yaxis\": \"y\", \"z\": [[305, 15, 58, 2, 19, 33, 66, 108, 36, 22, 40, 7, 26, 36, 27], [23, 150, 23, 14, 6, 28, 19, 19, 9, 59, 0, 1, 0, 10, 15], [22, 9, 118, 8, 10, 49, 15, 100, 3, 1, 0, 0, 0, 0, 0], [0, 0, 0, 0, 0, 0, 0, 0, 0, 0, 0, 0, 0, 0, 1], [9, 6, 30, 4, 99, 26, 9, 63, 0, 0, 0, 0, 0, 2, 0], [31, 34, 57, 17, 16, 99, 10, 44, 3, 0, 0, 2, 0, 1, 1], [7, 1, 5, 0, 4, 3, 29, 20, 2, 5, 0, 0, 0, 5, 6], [237, 13, 257, 17, 176, 135, 147, 732, 7, 2, 3, 30, 4, 5, 33], [58, 52, 17, 7, 0, 19, 27, 32, 438, 14, 2, 0, 0, 0, 13], [39, 37, 2, 1, 0, 3, 18, 7, 40, 404, 5, 2, 0, 34, 81], [27, 0, 0, 0, 0, 0, 1, 0, 22, 25, 453, 3, 30, 41, 22], [14, 2, 20, 5, 19, 14, 5, 22, 0, 0, 12, 443, 62, 10, 1], [23, 0, 1, 0, 2, 0, 3, 1, 0, 0, 29, 72, 463, 26, 0], [66, 24, 2, 2, 11, 0, 14, 8, 0, 12, 47, 20, 22, 414, 11], [27, 7, 7, 0, 3, 4, 53, 21, 18, 46, 12, 3, 3, 17, 402]]}],                        {\"coloraxis\": {\"colorscale\": [[0.0, \"#0d0887\"], [0.1111111111111111, \"#46039f\"], [0.2222222222222222, \"#7201a8\"], [0.3333333333333333, \"#9c179e\"], [0.4444444444444444, \"#bd3786\"], [0.5555555555555556, \"#d8576b\"], [0.6666666666666666, \"#ed7953\"], [0.7777777777777778, \"#fb9f3a\"], [0.8888888888888888, \"#fdca26\"], [1.0, \"#f0f921\"]]}, \"margin\": {\"t\": 60}, \"template\": {\"data\": {\"bar\": [{\"error_x\": {\"color\": \"#2a3f5f\"}, \"error_y\": {\"color\": \"#2a3f5f\"}, \"marker\": {\"line\": {\"color\": \"#E5ECF6\", \"width\": 0.5}}, \"type\": \"bar\"}], \"barpolar\": [{\"marker\": {\"line\": {\"color\": \"#E5ECF6\", \"width\": 0.5}}, \"type\": \"barpolar\"}], \"carpet\": [{\"aaxis\": {\"endlinecolor\": \"#2a3f5f\", \"gridcolor\": \"white\", \"linecolor\": \"white\", \"minorgridcolor\": \"white\", \"startlinecolor\": \"#2a3f5f\"}, \"baxis\": {\"endlinecolor\": \"#2a3f5f\", \"gridcolor\": \"white\", \"linecolor\": \"white\", \"minorgridcolor\": \"white\", \"startlinecolor\": \"#2a3f5f\"}, \"type\": \"carpet\"}], \"choropleth\": [{\"colorbar\": {\"outlinewidth\": 0, \"ticks\": \"\"}, \"type\": \"choropleth\"}], \"contour\": [{\"colorbar\": {\"outlinewidth\": 0, \"ticks\": \"\"}, \"colorscale\": [[0.0, \"#0d0887\"], [0.1111111111111111, \"#46039f\"], [0.2222222222222222, \"#7201a8\"], [0.3333333333333333, \"#9c179e\"], [0.4444444444444444, \"#bd3786\"], [0.5555555555555556, \"#d8576b\"], [0.6666666666666666, \"#ed7953\"], [0.7777777777777778, \"#fb9f3a\"], [0.8888888888888888, \"#fdca26\"], [1.0, \"#f0f921\"]], \"type\": \"contour\"}], \"contourcarpet\": [{\"colorbar\": {\"outlinewidth\": 0, \"ticks\": \"\"}, \"type\": \"contourcarpet\"}], \"heatmap\": [{\"colorbar\": {\"outlinewidth\": 0, \"ticks\": \"\"}, \"colorscale\": [[0.0, \"#0d0887\"], [0.1111111111111111, \"#46039f\"], [0.2222222222222222, \"#7201a8\"], [0.3333333333333333, \"#9c179e\"], [0.4444444444444444, \"#bd3786\"], [0.5555555555555556, \"#d8576b\"], [0.6666666666666666, \"#ed7953\"], [0.7777777777777778, \"#fb9f3a\"], [0.8888888888888888, \"#fdca26\"], [1.0, \"#f0f921\"]], \"type\": \"heatmap\"}], \"heatmapgl\": [{\"colorbar\": {\"outlinewidth\": 0, \"ticks\": \"\"}, \"colorscale\": [[0.0, \"#0d0887\"], [0.1111111111111111, \"#46039f\"], [0.2222222222222222, \"#7201a8\"], [0.3333333333333333, \"#9c179e\"], [0.4444444444444444, \"#bd3786\"], [0.5555555555555556, \"#d8576b\"], [0.6666666666666666, \"#ed7953\"], [0.7777777777777778, \"#fb9f3a\"], [0.8888888888888888, \"#fdca26\"], [1.0, \"#f0f921\"]], \"type\": \"heatmapgl\"}], \"histogram\": [{\"marker\": {\"colorbar\": {\"outlinewidth\": 0, \"ticks\": \"\"}}, \"type\": \"histogram\"}], \"histogram2d\": [{\"colorbar\": {\"outlinewidth\": 0, \"ticks\": \"\"}, \"colorscale\": [[0.0, \"#0d0887\"], [0.1111111111111111, \"#46039f\"], [0.2222222222222222, \"#7201a8\"], [0.3333333333333333, \"#9c179e\"], [0.4444444444444444, \"#bd3786\"], [0.5555555555555556, \"#d8576b\"], [0.6666666666666666, \"#ed7953\"], [0.7777777777777778, \"#fb9f3a\"], [0.8888888888888888, \"#fdca26\"], [1.0, \"#f0f921\"]], \"type\": \"histogram2d\"}], \"histogram2dcontour\": [{\"colorbar\": {\"outlinewidth\": 0, \"ticks\": \"\"}, \"colorscale\": [[0.0, \"#0d0887\"], [0.1111111111111111, \"#46039f\"], [0.2222222222222222, \"#7201a8\"], [0.3333333333333333, \"#9c179e\"], [0.4444444444444444, \"#bd3786\"], [0.5555555555555556, \"#d8576b\"], [0.6666666666666666, \"#ed7953\"], [0.7777777777777778, \"#fb9f3a\"], [0.8888888888888888, \"#fdca26\"], [1.0, \"#f0f921\"]], \"type\": \"histogram2dcontour\"}], \"mesh3d\": [{\"colorbar\": {\"outlinewidth\": 0, \"ticks\": \"\"}, \"type\": \"mesh3d\"}], \"parcoords\": [{\"line\": {\"colorbar\": {\"outlinewidth\": 0, \"ticks\": \"\"}}, \"type\": \"parcoords\"}], \"pie\": [{\"automargin\": true, \"type\": \"pie\"}], \"scatter\": [{\"marker\": {\"colorbar\": {\"outlinewidth\": 0, \"ticks\": \"\"}}, \"type\": \"scatter\"}], \"scatter3d\": [{\"line\": {\"colorbar\": {\"outlinewidth\": 0, \"ticks\": \"\"}}, \"marker\": {\"colorbar\": {\"outlinewidth\": 0, \"ticks\": \"\"}}, \"type\": \"scatter3d\"}], \"scattercarpet\": [{\"marker\": {\"colorbar\": {\"outlinewidth\": 0, \"ticks\": \"\"}}, \"type\": \"scattercarpet\"}], \"scattergeo\": [{\"marker\": {\"colorbar\": {\"outlinewidth\": 0, \"ticks\": \"\"}}, \"type\": \"scattergeo\"}], \"scattergl\": [{\"marker\": {\"colorbar\": {\"outlinewidth\": 0, \"ticks\": \"\"}}, \"type\": \"scattergl\"}], \"scattermapbox\": [{\"marker\": {\"colorbar\": {\"outlinewidth\": 0, \"ticks\": \"\"}}, \"type\": \"scattermapbox\"}], \"scatterpolar\": [{\"marker\": {\"colorbar\": {\"outlinewidth\": 0, \"ticks\": \"\"}}, \"type\": \"scatterpolar\"}], \"scatterpolargl\": [{\"marker\": {\"colorbar\": {\"outlinewidth\": 0, \"ticks\": \"\"}}, \"type\": \"scatterpolargl\"}], \"scatterternary\": [{\"marker\": {\"colorbar\": {\"outlinewidth\": 0, \"ticks\": \"\"}}, \"type\": \"scatterternary\"}], \"surface\": [{\"colorbar\": {\"outlinewidth\": 0, \"ticks\": \"\"}, \"colorscale\": [[0.0, \"#0d0887\"], [0.1111111111111111, \"#46039f\"], [0.2222222222222222, \"#7201a8\"], [0.3333333333333333, \"#9c179e\"], [0.4444444444444444, \"#bd3786\"], [0.5555555555555556, \"#d8576b\"], [0.6666666666666666, \"#ed7953\"], [0.7777777777777778, \"#fb9f3a\"], [0.8888888888888888, \"#fdca26\"], [1.0, \"#f0f921\"]], \"type\": \"surface\"}], \"table\": [{\"cells\": {\"fill\": {\"color\": \"#EBF0F8\"}, \"line\": {\"color\": \"white\"}}, \"header\": {\"fill\": {\"color\": \"#C8D4E3\"}, \"line\": {\"color\": \"white\"}}, \"type\": \"table\"}]}, \"layout\": {\"annotationdefaults\": {\"arrowcolor\": \"#2a3f5f\", \"arrowhead\": 0, \"arrowwidth\": 1}, \"autotypenumbers\": \"strict\", \"coloraxis\": {\"colorbar\": {\"outlinewidth\": 0, \"ticks\": \"\"}}, \"colorscale\": {\"diverging\": [[0, \"#8e0152\"], [0.1, \"#c51b7d\"], [0.2, \"#de77ae\"], [0.3, \"#f1b6da\"], [0.4, \"#fde0ef\"], [0.5, \"#f7f7f7\"], [0.6, \"#e6f5d0\"], [0.7, \"#b8e186\"], [0.8, \"#7fbc41\"], [0.9, \"#4d9221\"], [1, \"#276419\"]], \"sequential\": [[0.0, \"#0d0887\"], [0.1111111111111111, \"#46039f\"], [0.2222222222222222, \"#7201a8\"], [0.3333333333333333, \"#9c179e\"], [0.4444444444444444, \"#bd3786\"], [0.5555555555555556, \"#d8576b\"], [0.6666666666666666, \"#ed7953\"], [0.7777777777777778, \"#fb9f3a\"], [0.8888888888888888, \"#fdca26\"], [1.0, \"#f0f921\"]], \"sequentialminus\": [[0.0, \"#0d0887\"], [0.1111111111111111, \"#46039f\"], [0.2222222222222222, \"#7201a8\"], [0.3333333333333333, \"#9c179e\"], [0.4444444444444444, \"#bd3786\"], [0.5555555555555556, \"#d8576b\"], [0.6666666666666666, \"#ed7953\"], [0.7777777777777778, \"#fb9f3a\"], [0.8888888888888888, \"#fdca26\"], [1.0, \"#f0f921\"]]}, \"colorway\": [\"#636efa\", \"#EF553B\", \"#00cc96\", \"#ab63fa\", \"#FFA15A\", \"#19d3f3\", \"#FF6692\", \"#B6E880\", \"#FF97FF\", \"#FECB52\"], \"font\": {\"color\": \"#2a3f5f\"}, \"geo\": {\"bgcolor\": \"white\", \"lakecolor\": \"white\", \"landcolor\": \"#E5ECF6\", \"showlakes\": true, \"showland\": true, \"subunitcolor\": \"white\"}, \"hoverlabel\": {\"align\": \"left\"}, \"hovermode\": \"closest\", \"mapbox\": {\"style\": \"light\"}, \"paper_bgcolor\": \"white\", \"plot_bgcolor\": \"#E5ECF6\", \"polar\": {\"angularaxis\": {\"gridcolor\": \"white\", \"linecolor\": \"white\", \"ticks\": \"\"}, \"bgcolor\": \"#E5ECF6\", \"radialaxis\": {\"gridcolor\": \"white\", \"linecolor\": \"white\", \"ticks\": \"\"}}, \"scene\": {\"xaxis\": {\"backgroundcolor\": \"#E5ECF6\", \"gridcolor\": \"white\", \"gridwidth\": 2, \"linecolor\": \"white\", \"showbackground\": true, \"ticks\": \"\", \"zerolinecolor\": \"white\"}, \"yaxis\": {\"backgroundcolor\": \"#E5ECF6\", \"gridcolor\": \"white\", \"gridwidth\": 2, \"linecolor\": \"white\", \"showbackground\": true, \"ticks\": \"\", \"zerolinecolor\": \"white\"}, \"zaxis\": {\"backgroundcolor\": \"#E5ECF6\", \"gridcolor\": \"white\", \"gridwidth\": 2, \"linecolor\": \"white\", \"showbackground\": true, \"ticks\": \"\", \"zerolinecolor\": \"white\"}}, \"shapedefaults\": {\"line\": {\"color\": \"#2a3f5f\"}}, \"ternary\": {\"aaxis\": {\"gridcolor\": \"white\", \"linecolor\": \"white\", \"ticks\": \"\"}, \"baxis\": {\"gridcolor\": \"white\", \"linecolor\": \"white\", \"ticks\": \"\"}, \"bgcolor\": \"#E5ECF6\", \"caxis\": {\"gridcolor\": \"white\", \"linecolor\": \"white\", \"ticks\": \"\"}}, \"title\": {\"x\": 0.05}, \"xaxis\": {\"automargin\": true, \"gridcolor\": \"white\", \"linecolor\": \"white\", \"ticks\": \"\", \"title\": {\"standoff\": 15}, \"zerolinecolor\": \"white\", \"zerolinewidth\": 2}, \"yaxis\": {\"automargin\": true, \"gridcolor\": \"white\", \"linecolor\": \"white\", \"ticks\": \"\", \"title\": {\"standoff\": 15}, \"zerolinecolor\": \"white\", \"zerolinewidth\": 2}}}, \"xaxis\": {\"anchor\": \"y\", \"constrain\": \"domain\", \"domain\": [0.0, 1.0], \"scaleanchor\": \"y\", \"title\": {\"text\": \"Actual\"}}, \"yaxis\": {\"anchor\": \"x\", \"autorange\": \"reversed\", \"constrain\": \"domain\", \"domain\": [0.0, 1.0], \"title\": {\"text\": \"Predicted\"}}},                        {\"responsive\": true}                    ).then(function(){\n",
       "                            \n",
       "var gd = document.getElementById('a078bdac-534f-4cb7-9e20-a2e4de77ffcc');\n",
       "var x = new MutationObserver(function (mutations, observer) {{\n",
       "        var display = window.getComputedStyle(gd).display;\n",
       "        if (!display || display === 'none') {{\n",
       "            console.log([gd, 'removed!']);\n",
       "            Plotly.purge(gd);\n",
       "            observer.disconnect();\n",
       "        }}\n",
       "}});\n",
       "\n",
       "// Listen for the removal of the full notebook cells\n",
       "var notebookContainer = gd.closest('#notebook-container');\n",
       "if (notebookContainer) {{\n",
       "    x.observe(notebookContainer, {childList: true});\n",
       "}}\n",
       "\n",
       "// Listen for the clearing of the current output cell\n",
       "var outputEl = gd.closest('.output');\n",
       "if (outputEl) {{\n",
       "    x.observe(outputEl, {childList: true});\n",
       "}}\n",
       "\n",
       "                        })                };                });            </script>        </div>"
      ]
     },
     "metadata": {},
     "output_type": "display_data"
    }
   ],
   "source": [
    "#A heat map to help visualize results. Bright spots should appear along diagonals, with dark spots everywhere else. This would indicate Perfect categorization. \n",
    "#Issue with this is that places with higher raw number of values show up brighter , even if they may have lower percentage of accuracy. I'll scale it to account for this.\n",
    "px.imshow(conf_mat)"
   ]
  },
  {
   "cell_type": "code",
   "execution_count": 36,
   "metadata": {
    "execution": {
     "iopub.execute_input": "2021-01-09T19:03:55.908998Z",
     "iopub.status.busy": "2021-01-09T19:03:55.908248Z",
     "iopub.status.idle": "2021-01-09T19:03:55.911588Z",
     "shell.execute_reply": "2021-01-09T19:03:55.912175Z"
    },
    "papermill": {
     "duration": 0.069464,
     "end_time": "2021-01-09T19:03:55.912364",
     "exception": false,
     "start_time": "2021-01-09T19:03:55.842900",
     "status": "completed"
    },
    "tags": []
   },
   "outputs": [],
   "source": [
    "#Doing previously mentioned scaling\n",
    "scaled_conf_mat = pd.DataFrame(preprocessing.StandardScaler().fit_transform(conf_mat))"
   ]
  },
  {
   "cell_type": "code",
   "execution_count": 37,
   "metadata": {
    "execution": {
     "iopub.execute_input": "2021-01-09T19:03:56.058504Z",
     "iopub.status.busy": "2021-01-09T19:03:56.047198Z",
     "iopub.status.idle": "2021-01-09T19:03:56.084390Z",
     "shell.execute_reply": "2021-01-09T19:03:56.083761Z"
    },
    "papermill": {
     "duration": 0.114056,
     "end_time": "2021-01-09T19:03:56.084520",
     "exception": false,
     "start_time": "2021-01-09T19:03:55.970464",
     "status": "completed"
    },
    "tags": []
   },
   "outputs": [],
   "source": [
    "#Scaled heat map. Bright spots indicate the most frequent classified thing in each column\n",
    "#It's now clear that the most easily classified are class 8 and up. Class 1 is also fairly easily classified, but a lot of things between 0 and 6 are falsely classified as class 7. \n",
    "#7 is mostly classified truly positively as well.\n",
    "scale_log_map = px.imshow(scaled_conf_mat)"
   ]
  },
  {
   "cell_type": "code",
   "execution_count": 38,
   "metadata": {
    "execution": {
     "iopub.execute_input": "2021-01-09T19:03:56.204616Z",
     "iopub.status.busy": "2021-01-09T19:03:56.203790Z",
     "iopub.status.idle": "2021-01-09T19:03:56.210317Z",
     "shell.execute_reply": "2021-01-09T19:03:56.209651Z"
    },
    "papermill": {
     "duration": 0.070067,
     "end_time": "2021-01-09T19:03:56.210446",
     "exception": false,
     "start_time": "2021-01-09T19:03:56.140379",
     "status": "completed"
    },
    "tags": []
   },
   "outputs": [
    {
     "data": {
      "text/html": [
       "<div>                            <div id=\"7005404e-32ce-4001-817c-4566524bcac7\" class=\"plotly-graph-div\" style=\"height:525px; width:100%;\"></div>            <script type=\"text/javascript\">                require([\"plotly\"], function(Plotly) {                    window.PLOTLYENV=window.PLOTLYENV || {};                                    if (document.getElementById(\"7005404e-32ce-4001-817c-4566524bcac7\")) {                    Plotly.newPlot(                        \"7005404e-32ce-4001-817c-4566524bcac7\",                        [{\"coloraxis\": \"coloraxis\", \"hovertemplate\": \"x: %{x}<br>y: %{y}<br>color: %{z}<extra></extra>\", \"name\": \"0\", \"type\": \"heatmap\", \"x\": [0, 1, 2, 3, 4, 5, 6, 7, 8, 9, 10, 11, 12, 13, 14], \"xaxis\": \"x\", \"y\": [0, 1, 2, 3, 4, 5, 6, 7, 8, 9, 10, 11, 12, 13, 14], \"yaxis\": \"y\", \"z\": [[2.8683393179907286, -0.22430773304728935, 0.2764217180405611, -0.5213861001404244, -0.11343353388527859, 0.14211289075898104, 1.0446140965398436, 0.166162216715557, -0.023560184825662862, -0.17504230916243618, -0.0017963215227989465, -0.2907806180406383, -0.12847342343905752, -0.040309635387036476, -0.14056794574708548], [-0.42243239752345146, 3.4094775423187986, -0.25515850896051784, 1.475411730184605, -0.3899277727306452, 0.012131588235522732, -0.23840495931484237, -0.33457493749498163, -0.2746621546781225, 0.19860569693430255, -0.3610606260825831, -0.34553010679305973, -0.3562217649901141, -0.2980269763861219, -0.2622132834128325], [-0.4341018007699557, -0.3858093008413377, 1.1877021071852678, 0.4770128150220903, -0.30485262231668625, 0.5580530588340477, -0.3475980704514114, 0.12115213543820523, -0.33046259242311354, -0.38711279910923385, -0.3610606260825831, -0.35465502158513, -0.3562217649901141, -0.3971490306165394, -0.41426995549501633], [-0.6908286721930477, -0.6280616525324102, -0.6044826581326554, -0.8541857385279293, -0.5175404983515837, -0.7157637058958438, -0.7570722372135452, -0.44147388052869213, -0.35836281129560904, -0.39721139386860516, -0.3610606260825831, -0.35465502158513, -0.3562217649901141, -0.3971490306165394, -0.4041328440228707], [-0.58580404297451, -0.46656008473836186, -0.14884246356030206, -0.18858646175291952, 1.5880694743939008, -0.03986093277386059, -0.511387737156265, -0.08701949046954681, -0.35836281129560904, -0.39721139386860516, -0.3610606260825831, -0.35465502158513, -0.3562217649901141, -0.3773246197704559, -0.41426995549501633], [-0.329077171551418, 0.2871138983005304, 0.26123371155481595, 1.9746111877658625, -0.1772398966957478, 1.8578660840686307, -0.48408945937212267, -0.1939184335032573, -0.33046259242311354, -0.39721139386860516, -0.3610606260825831, -0.3364051920009895, -0.3562217649901141, -0.38723682519349767, -0.4041328440228707], [-0.6091428494675184, -0.6011447245667355, -0.5285426257039298, -0.8541857385279293, -0.4324653479376247, -0.6377749243817687, 0.034577818526580165, -0.3289486773353127, -0.339762665380612, -0.3467184200717486, -0.3610606260825831, -0.35465502158513, -0.3562217649901141, -0.3475880035013307, -0.3534472866621428], [2.074819897228444, -0.2781415889786388, 3.298835008703838, 1.9746111877658625, 3.22576611986261, 2.7937314622375307, 3.255774597055366, 3.6769485563489965, -0.29326230059311953, -0.3770142043498625, -0.3341158032405993, -0.0809075778230228, -0.32118355859764386, -0.3475880035013307, -0.07974527691421195], [-0.014003283895805053, 0.7716186016826755, -0.3462865478749885, 0.31061299582833785, -0.5175404983515837, -0.2218347563067022, -0.020018737041704343, -0.261433555419285, 3.7150691440887362, -0.25583106723740673, -0.34309741085459394, -0.35465502158513, -0.3562217649901141, -0.3971490306165394, -0.28248750635712366], [-0.23572194557938456, 0.3678646821975546, -0.5741066451611652, -0.6877859193341769, -0.5175404983515837, -0.6377749243817687, -0.26570323709898463, -0.40209005941100934, 0.013640107004331157, 3.682620888917407, -0.3161525880126101, -0.3364051920009895, -0.3562217649901141, -0.06013404623311997, 0.40683607374877623], [-0.37575478453743477, -0.6280616525324102, -0.6044826581326554, -0.8541857385279293, -0.5175404983515837, -0.7157637058958438, -0.7297739594294029, -0.44147388052869213, -0.15376120623064193, -0.14474652488432224, 3.707607623056973, -0.3272802772089193, -0.09343521704658729, 0.009251391728172265, -0.19125350310781342], [-0.5274570267419891, -0.5742277966010607, -0.30072252841775315, -0.022186642559167063, -0.11343353388527859, -0.35181605883016054, -0.6205808482928339, -0.31769615701597476, -0.35836281129560904, -0.39721139386860516, -0.25328133471464787, 3.687682231301986, 0.18687043409317464, -0.2980269763861219, -0.4041328440228707], [-0.42243239752345146, -0.6280616525324102, -0.5892946516469103, -0.8541857385279293, -0.4750029231446042, -0.7157637058958438, -0.6751774038611185, -0.4358476203690232, -0.35836281129560904, -0.39721139386860516, -0.10059400527673959, 0.3023388434439273, 3.699450624938316, -0.13943168961745395, -0.41426995549501633], [0.07935194207622842, 0.017944618643783182, -0.5741066451611652, -0.5213861001404244, -0.2835838347131965, -0.7157637058958438, -0.3748963482355536, -0.39646379925134034, -0.35836281129560904, -0.27602825675614934, 0.06107493177516329, -0.1721567257437252, -0.16351162983152775, 3.706504014522744, -0.3027617293014149], [-0.37575478453743477, -0.4396431567726871, -0.4981666127324396, -0.8541857385279293, -0.4537341355411144, -0.6117786638770771, 0.6897364853459942, -0.3233224171756437, -0.19096149806063595, 0.06732396506247543, -0.25328133471464787, -0.3272802772089193, -0.3299431101957614, -0.22864153842482968, 3.6608488563075094]]}],                        {\"coloraxis\": {\"colorscale\": [[0.0, \"#0d0887\"], [0.1111111111111111, \"#46039f\"], [0.2222222222222222, \"#7201a8\"], [0.3333333333333333, \"#9c179e\"], [0.4444444444444444, \"#bd3786\"], [0.5555555555555556, \"#d8576b\"], [0.6666666666666666, \"#ed7953\"], [0.7777777777777778, \"#fb9f3a\"], [0.8888888888888888, \"#fdca26\"], [1.0, \"#f0f921\"]]}, \"margin\": {\"t\": 60}, \"template\": {\"data\": {\"bar\": [{\"error_x\": {\"color\": \"#2a3f5f\"}, \"error_y\": {\"color\": \"#2a3f5f\"}, \"marker\": {\"line\": {\"color\": \"#E5ECF6\", \"width\": 0.5}}, \"type\": \"bar\"}], \"barpolar\": [{\"marker\": {\"line\": {\"color\": \"#E5ECF6\", \"width\": 0.5}}, \"type\": \"barpolar\"}], \"carpet\": [{\"aaxis\": {\"endlinecolor\": \"#2a3f5f\", \"gridcolor\": \"white\", \"linecolor\": \"white\", \"minorgridcolor\": \"white\", \"startlinecolor\": \"#2a3f5f\"}, \"baxis\": {\"endlinecolor\": \"#2a3f5f\", \"gridcolor\": \"white\", \"linecolor\": \"white\", \"minorgridcolor\": \"white\", \"startlinecolor\": \"#2a3f5f\"}, \"type\": \"carpet\"}], \"choropleth\": [{\"colorbar\": {\"outlinewidth\": 0, \"ticks\": \"\"}, \"type\": \"choropleth\"}], \"contour\": [{\"colorbar\": {\"outlinewidth\": 0, \"ticks\": \"\"}, \"colorscale\": [[0.0, \"#0d0887\"], [0.1111111111111111, \"#46039f\"], [0.2222222222222222, \"#7201a8\"], [0.3333333333333333, \"#9c179e\"], [0.4444444444444444, \"#bd3786\"], [0.5555555555555556, \"#d8576b\"], [0.6666666666666666, \"#ed7953\"], [0.7777777777777778, \"#fb9f3a\"], [0.8888888888888888, \"#fdca26\"], [1.0, \"#f0f921\"]], \"type\": \"contour\"}], \"contourcarpet\": [{\"colorbar\": {\"outlinewidth\": 0, \"ticks\": \"\"}, \"type\": \"contourcarpet\"}], \"heatmap\": [{\"colorbar\": {\"outlinewidth\": 0, \"ticks\": \"\"}, \"colorscale\": [[0.0, \"#0d0887\"], [0.1111111111111111, \"#46039f\"], [0.2222222222222222, \"#7201a8\"], [0.3333333333333333, \"#9c179e\"], [0.4444444444444444, \"#bd3786\"], [0.5555555555555556, \"#d8576b\"], [0.6666666666666666, \"#ed7953\"], [0.7777777777777778, \"#fb9f3a\"], [0.8888888888888888, \"#fdca26\"], [1.0, \"#f0f921\"]], \"type\": \"heatmap\"}], \"heatmapgl\": [{\"colorbar\": {\"outlinewidth\": 0, \"ticks\": \"\"}, \"colorscale\": [[0.0, \"#0d0887\"], [0.1111111111111111, \"#46039f\"], [0.2222222222222222, \"#7201a8\"], [0.3333333333333333, \"#9c179e\"], [0.4444444444444444, \"#bd3786\"], [0.5555555555555556, \"#d8576b\"], [0.6666666666666666, \"#ed7953\"], [0.7777777777777778, \"#fb9f3a\"], [0.8888888888888888, \"#fdca26\"], [1.0, \"#f0f921\"]], \"type\": \"heatmapgl\"}], \"histogram\": [{\"marker\": {\"colorbar\": {\"outlinewidth\": 0, \"ticks\": \"\"}}, \"type\": \"histogram\"}], \"histogram2d\": [{\"colorbar\": {\"outlinewidth\": 0, \"ticks\": \"\"}, \"colorscale\": [[0.0, \"#0d0887\"], [0.1111111111111111, \"#46039f\"], [0.2222222222222222, \"#7201a8\"], [0.3333333333333333, \"#9c179e\"], [0.4444444444444444, \"#bd3786\"], [0.5555555555555556, \"#d8576b\"], [0.6666666666666666, \"#ed7953\"], [0.7777777777777778, \"#fb9f3a\"], [0.8888888888888888, \"#fdca26\"], [1.0, \"#f0f921\"]], \"type\": \"histogram2d\"}], \"histogram2dcontour\": [{\"colorbar\": {\"outlinewidth\": 0, \"ticks\": \"\"}, \"colorscale\": [[0.0, \"#0d0887\"], [0.1111111111111111, \"#46039f\"], [0.2222222222222222, \"#7201a8\"], [0.3333333333333333, \"#9c179e\"], [0.4444444444444444, \"#bd3786\"], [0.5555555555555556, \"#d8576b\"], [0.6666666666666666, \"#ed7953\"], [0.7777777777777778, \"#fb9f3a\"], [0.8888888888888888, \"#fdca26\"], [1.0, \"#f0f921\"]], \"type\": \"histogram2dcontour\"}], \"mesh3d\": [{\"colorbar\": {\"outlinewidth\": 0, \"ticks\": \"\"}, \"type\": \"mesh3d\"}], \"parcoords\": [{\"line\": {\"colorbar\": {\"outlinewidth\": 0, \"ticks\": \"\"}}, \"type\": \"parcoords\"}], \"pie\": [{\"automargin\": true, \"type\": \"pie\"}], \"scatter\": [{\"marker\": {\"colorbar\": {\"outlinewidth\": 0, \"ticks\": \"\"}}, \"type\": \"scatter\"}], \"scatter3d\": [{\"line\": {\"colorbar\": {\"outlinewidth\": 0, \"ticks\": \"\"}}, \"marker\": {\"colorbar\": {\"outlinewidth\": 0, \"ticks\": \"\"}}, \"type\": \"scatter3d\"}], \"scattercarpet\": [{\"marker\": {\"colorbar\": {\"outlinewidth\": 0, \"ticks\": \"\"}}, \"type\": \"scattercarpet\"}], \"scattergeo\": [{\"marker\": {\"colorbar\": {\"outlinewidth\": 0, \"ticks\": \"\"}}, \"type\": \"scattergeo\"}], \"scattergl\": [{\"marker\": {\"colorbar\": {\"outlinewidth\": 0, \"ticks\": \"\"}}, \"type\": \"scattergl\"}], \"scattermapbox\": [{\"marker\": {\"colorbar\": {\"outlinewidth\": 0, \"ticks\": \"\"}}, \"type\": \"scattermapbox\"}], \"scatterpolar\": [{\"marker\": {\"colorbar\": {\"outlinewidth\": 0, \"ticks\": \"\"}}, \"type\": \"scatterpolar\"}], \"scatterpolargl\": [{\"marker\": {\"colorbar\": {\"outlinewidth\": 0, \"ticks\": \"\"}}, \"type\": \"scatterpolargl\"}], \"scatterternary\": [{\"marker\": {\"colorbar\": {\"outlinewidth\": 0, \"ticks\": \"\"}}, \"type\": \"scatterternary\"}], \"surface\": [{\"colorbar\": {\"outlinewidth\": 0, \"ticks\": \"\"}, \"colorscale\": [[0.0, \"#0d0887\"], [0.1111111111111111, \"#46039f\"], [0.2222222222222222, \"#7201a8\"], [0.3333333333333333, \"#9c179e\"], [0.4444444444444444, \"#bd3786\"], [0.5555555555555556, \"#d8576b\"], [0.6666666666666666, \"#ed7953\"], [0.7777777777777778, \"#fb9f3a\"], [0.8888888888888888, \"#fdca26\"], [1.0, \"#f0f921\"]], \"type\": \"surface\"}], \"table\": [{\"cells\": {\"fill\": {\"color\": \"#EBF0F8\"}, \"line\": {\"color\": \"white\"}}, \"header\": {\"fill\": {\"color\": \"#C8D4E3\"}, \"line\": {\"color\": \"white\"}}, \"type\": \"table\"}]}, \"layout\": {\"annotationdefaults\": {\"arrowcolor\": \"#2a3f5f\", \"arrowhead\": 0, \"arrowwidth\": 1}, \"autotypenumbers\": \"strict\", \"coloraxis\": {\"colorbar\": {\"outlinewidth\": 0, \"ticks\": \"\"}}, \"colorscale\": {\"diverging\": [[0, \"#8e0152\"], [0.1, \"#c51b7d\"], [0.2, \"#de77ae\"], [0.3, \"#f1b6da\"], [0.4, \"#fde0ef\"], [0.5, \"#f7f7f7\"], [0.6, \"#e6f5d0\"], [0.7, \"#b8e186\"], [0.8, \"#7fbc41\"], [0.9, \"#4d9221\"], [1, \"#276419\"]], \"sequential\": [[0.0, \"#0d0887\"], [0.1111111111111111, \"#46039f\"], [0.2222222222222222, \"#7201a8\"], [0.3333333333333333, \"#9c179e\"], [0.4444444444444444, \"#bd3786\"], [0.5555555555555556, \"#d8576b\"], [0.6666666666666666, \"#ed7953\"], [0.7777777777777778, \"#fb9f3a\"], [0.8888888888888888, \"#fdca26\"], [1.0, \"#f0f921\"]], \"sequentialminus\": [[0.0, \"#0d0887\"], [0.1111111111111111, \"#46039f\"], [0.2222222222222222, \"#7201a8\"], [0.3333333333333333, \"#9c179e\"], [0.4444444444444444, \"#bd3786\"], [0.5555555555555556, \"#d8576b\"], [0.6666666666666666, \"#ed7953\"], [0.7777777777777778, \"#fb9f3a\"], [0.8888888888888888, \"#fdca26\"], [1.0, \"#f0f921\"]]}, \"colorway\": [\"#636efa\", \"#EF553B\", \"#00cc96\", \"#ab63fa\", \"#FFA15A\", \"#19d3f3\", \"#FF6692\", \"#B6E880\", \"#FF97FF\", \"#FECB52\"], \"font\": {\"color\": \"#2a3f5f\"}, \"geo\": {\"bgcolor\": \"white\", \"lakecolor\": \"white\", \"landcolor\": \"#E5ECF6\", \"showlakes\": true, \"showland\": true, \"subunitcolor\": \"white\"}, \"hoverlabel\": {\"align\": \"left\"}, \"hovermode\": \"closest\", \"mapbox\": {\"style\": \"light\"}, \"paper_bgcolor\": \"white\", \"plot_bgcolor\": \"#E5ECF6\", \"polar\": {\"angularaxis\": {\"gridcolor\": \"white\", \"linecolor\": \"white\", \"ticks\": \"\"}, \"bgcolor\": \"#E5ECF6\", \"radialaxis\": {\"gridcolor\": \"white\", \"linecolor\": \"white\", \"ticks\": \"\"}}, \"scene\": {\"xaxis\": {\"backgroundcolor\": \"#E5ECF6\", \"gridcolor\": \"white\", \"gridwidth\": 2, \"linecolor\": \"white\", \"showbackground\": true, \"ticks\": \"\", \"zerolinecolor\": \"white\"}, \"yaxis\": {\"backgroundcolor\": \"#E5ECF6\", \"gridcolor\": \"white\", \"gridwidth\": 2, \"linecolor\": \"white\", \"showbackground\": true, \"ticks\": \"\", \"zerolinecolor\": \"white\"}, \"zaxis\": {\"backgroundcolor\": \"#E5ECF6\", \"gridcolor\": \"white\", \"gridwidth\": 2, \"linecolor\": \"white\", \"showbackground\": true, \"ticks\": \"\", \"zerolinecolor\": \"white\"}}, \"shapedefaults\": {\"line\": {\"color\": \"#2a3f5f\"}}, \"ternary\": {\"aaxis\": {\"gridcolor\": \"white\", \"linecolor\": \"white\", \"ticks\": \"\"}, \"baxis\": {\"gridcolor\": \"white\", \"linecolor\": \"white\", \"ticks\": \"\"}, \"bgcolor\": \"#E5ECF6\", \"caxis\": {\"gridcolor\": \"white\", \"linecolor\": \"white\", \"ticks\": \"\"}}, \"title\": {\"x\": 0.05}, \"xaxis\": {\"automargin\": true, \"gridcolor\": \"white\", \"linecolor\": \"white\", \"ticks\": \"\", \"title\": {\"standoff\": 15}, \"zerolinecolor\": \"white\", \"zerolinewidth\": 2}, \"yaxis\": {\"automargin\": true, \"gridcolor\": \"white\", \"linecolor\": \"white\", \"ticks\": \"\", \"title\": {\"standoff\": 15}, \"zerolinecolor\": \"white\", \"zerolinewidth\": 2}}}, \"xaxis\": {\"anchor\": \"y\", \"constrain\": \"domain\", \"domain\": [0.0, 1.0], \"scaleanchor\": \"y\"}, \"yaxis\": {\"anchor\": \"x\", \"autorange\": \"reversed\", \"constrain\": \"domain\", \"domain\": [0.0, 1.0]}},                        {\"responsive\": true}                    ).then(function(){\n",
       "                            \n",
       "var gd = document.getElementById('7005404e-32ce-4001-817c-4566524bcac7');\n",
       "var x = new MutationObserver(function (mutations, observer) {{\n",
       "        var display = window.getComputedStyle(gd).display;\n",
       "        if (!display || display === 'none') {{\n",
       "            console.log([gd, 'removed!']);\n",
       "            Plotly.purge(gd);\n",
       "            observer.disconnect();\n",
       "        }}\n",
       "}});\n",
       "\n",
       "// Listen for the removal of the full notebook cells\n",
       "var notebookContainer = gd.closest('#notebook-container');\n",
       "if (notebookContainer) {{\n",
       "    x.observe(notebookContainer, {childList: true});\n",
       "}}\n",
       "\n",
       "// Listen for the clearing of the current output cell\n",
       "var outputEl = gd.closest('.output');\n",
       "if (outputEl) {{\n",
       "    x.observe(outputEl, {childList: true});\n",
       "}}\n",
       "\n",
       "                        })                };                });            </script>        </div>"
      ]
     },
     "metadata": {},
     "output_type": "display_data"
    }
   ],
   "source": [
    "scale_log_map"
   ]
  },
  {
   "cell_type": "code",
   "execution_count": 39,
   "metadata": {
    "execution": {
     "iopub.execute_input": "2021-01-09T19:03:56.336959Z",
     "iopub.status.busy": "2021-01-09T19:03:56.335951Z",
     "iopub.status.idle": "2021-01-09T19:03:56.340388Z",
     "shell.execute_reply": "2021-01-09T19:03:56.339736Z"
    },
    "papermill": {
     "duration": 0.073428,
     "end_time": "2021-01-09T19:03:56.340508",
     "exception": false,
     "start_time": "2021-01-09T19:03:56.267080",
     "status": "completed"
    },
    "tags": []
   },
   "outputs": [
    {
     "data": {
      "text/html": [
       "<div>\n",
       "<style scoped>\n",
       "    .dataframe tbody tr th:only-of-type {\n",
       "        vertical-align: middle;\n",
       "    }\n",
       "\n",
       "    .dataframe tbody tr th {\n",
       "        vertical-align: top;\n",
       "    }\n",
       "\n",
       "    .dataframe thead th {\n",
       "        text-align: right;\n",
       "    }\n",
       "</style>\n",
       "<table border=\"1\" class=\"dataframe\">\n",
       "  <thead>\n",
       "    <tr style=\"text-align: right;\">\n",
       "      <th></th>\n",
       "      <th>0</th>\n",
       "    </tr>\n",
       "  </thead>\n",
       "  <tbody>\n",
       "    <tr>\n",
       "      <th>0</th>\n",
       "      <td>Dark Trap</td>\n",
       "    </tr>\n",
       "    <tr>\n",
       "      <th>1</th>\n",
       "      <td>Emo</td>\n",
       "    </tr>\n",
       "    <tr>\n",
       "      <th>2</th>\n",
       "      <td>Hiphop</td>\n",
       "    </tr>\n",
       "    <tr>\n",
       "      <th>3</th>\n",
       "      <td>Pop</td>\n",
       "    </tr>\n",
       "    <tr>\n",
       "      <th>4</th>\n",
       "      <td>Rap</td>\n",
       "    </tr>\n",
       "    <tr>\n",
       "      <th>5</th>\n",
       "      <td>RnB</td>\n",
       "    </tr>\n",
       "    <tr>\n",
       "      <th>6</th>\n",
       "      <td>Trap Metal</td>\n",
       "    </tr>\n",
       "    <tr>\n",
       "      <th>7</th>\n",
       "      <td>Underground Rap</td>\n",
       "    </tr>\n",
       "    <tr>\n",
       "      <th>8</th>\n",
       "      <td>dnb</td>\n",
       "    </tr>\n",
       "    <tr>\n",
       "      <th>9</th>\n",
       "      <td>hardstyle</td>\n",
       "    </tr>\n",
       "    <tr>\n",
       "      <th>10</th>\n",
       "      <td>psytrance</td>\n",
       "    </tr>\n",
       "    <tr>\n",
       "      <th>11</th>\n",
       "      <td>techhouse</td>\n",
       "    </tr>\n",
       "    <tr>\n",
       "      <th>12</th>\n",
       "      <td>techno</td>\n",
       "    </tr>\n",
       "    <tr>\n",
       "      <th>13</th>\n",
       "      <td>trance</td>\n",
       "    </tr>\n",
       "    <tr>\n",
       "      <th>14</th>\n",
       "      <td>trap</td>\n",
       "    </tr>\n",
       "  </tbody>\n",
       "</table>\n",
       "</div>"
      ],
      "text/plain": [
       "                  0\n",
       "0         Dark Trap\n",
       "1               Emo\n",
       "2            Hiphop\n",
       "3               Pop\n",
       "4               Rap\n",
       "5               RnB\n",
       "6        Trap Metal\n",
       "7   Underground Rap\n",
       "8               dnb\n",
       "9         hardstyle\n",
       "10        psytrance\n",
       "11        techhouse\n",
       "12           techno\n",
       "13           trance\n",
       "14             trap"
      ]
     },
     "execution_count": 39,
     "metadata": {},
     "output_type": "execute_result"
    }
   ],
   "source": [
    "#A list of the class labels corresponding to their encoded numbers\n",
    "pd.DataFrame(gen_trans.inverse_transform(pd.DataFrame(range(15))))"
   ]
  },
  {
   "cell_type": "code",
   "execution_count": 40,
   "metadata": {
    "execution": {
     "iopub.execute_input": "2021-01-09T19:03:56.463964Z",
     "iopub.status.busy": "2021-01-09T19:03:56.462949Z",
     "iopub.status.idle": "2021-01-09T19:03:56.466255Z",
     "shell.execute_reply": "2021-01-09T19:03:56.465693Z"
    },
    "papermill": {
     "duration": 0.068149,
     "end_time": "2021-01-09T19:03:56.466387",
     "exception": false,
     "start_time": "2021-01-09T19:03:56.398238",
     "status": "completed"
    },
    "tags": []
   },
   "outputs": [],
   "source": [
    "#Calculate percentages that were predicted accurately for every class\n",
    "correct_class = list(np.diag(conf_mat))\n",
    "actual_sums = list(conf_mat.sum(axis=0))\n",
    "corr_per = pd.DataFrame(np.divide(correct_class,actual_sums)).transpose()"
   ]
  },
  {
   "cell_type": "code",
   "execution_count": 41,
   "metadata": {
    "execution": {
     "iopub.execute_input": "2021-01-09T19:03:56.596451Z",
     "iopub.status.busy": "2021-01-09T19:03:56.595701Z",
     "iopub.status.idle": "2021-01-09T19:03:56.616068Z",
     "shell.execute_reply": "2021-01-09T19:03:56.615415Z"
    },
    "papermill": {
     "duration": 0.092482,
     "end_time": "2021-01-09T19:03:56.616180",
     "exception": false,
     "start_time": "2021-01-09T19:03:56.523698",
     "status": "completed"
    },
    "tags": []
   },
   "outputs": [
    {
     "data": {
      "text/html": [
       "<div>\n",
       "<style scoped>\n",
       "    .dataframe tbody tr th:only-of-type {\n",
       "        vertical-align: middle;\n",
       "    }\n",
       "\n",
       "    .dataframe tbody tr th {\n",
       "        vertical-align: top;\n",
       "    }\n",
       "\n",
       "    .dataframe thead th {\n",
       "        text-align: right;\n",
       "    }\n",
       "</style>\n",
       "<table border=\"1\" class=\"dataframe\">\n",
       "  <thead>\n",
       "    <tr style=\"text-align: right;\">\n",
       "      <th></th>\n",
       "      <th>0.0</th>\n",
       "      <th>1.0</th>\n",
       "      <th>2.0</th>\n",
       "      <th>3.0</th>\n",
       "      <th>4.0</th>\n",
       "      <th>5.0</th>\n",
       "      <th>6.0</th>\n",
       "      <th>7.0</th>\n",
       "      <th>8.0</th>\n",
       "      <th>9.0</th>\n",
       "      <th>10.0</th>\n",
       "      <th>11.0</th>\n",
       "      <th>12.0</th>\n",
       "      <th>13.0</th>\n",
       "      <th>14.0</th>\n",
       "    </tr>\n",
       "  </thead>\n",
       "  <tbody>\n",
       "    <tr>\n",
       "      <th>0.0</th>\n",
       "      <td>305.000000</td>\n",
       "      <td>15.000000</td>\n",
       "      <td>58.000000</td>\n",
       "      <td>2.0</td>\n",
       "      <td>19.000000</td>\n",
       "      <td>33.000000</td>\n",
       "      <td>66.000000</td>\n",
       "      <td>108.00000</td>\n",
       "      <td>36.000000</td>\n",
       "      <td>22.000000</td>\n",
       "      <td>40.000000</td>\n",
       "      <td>7.000000</td>\n",
       "      <td>26.000000</td>\n",
       "      <td>36.000000</td>\n",
       "      <td>27.000000</td>\n",
       "    </tr>\n",
       "    <tr>\n",
       "      <th>1.0</th>\n",
       "      <td>23.000000</td>\n",
       "      <td>150.000000</td>\n",
       "      <td>23.000000</td>\n",
       "      <td>14.0</td>\n",
       "      <td>6.000000</td>\n",
       "      <td>28.000000</td>\n",
       "      <td>19.000000</td>\n",
       "      <td>19.00000</td>\n",
       "      <td>9.000000</td>\n",
       "      <td>59.000000</td>\n",
       "      <td>0.000000</td>\n",
       "      <td>1.000000</td>\n",
       "      <td>0.000000</td>\n",
       "      <td>10.000000</td>\n",
       "      <td>15.000000</td>\n",
       "    </tr>\n",
       "    <tr>\n",
       "      <th>2.0</th>\n",
       "      <td>22.000000</td>\n",
       "      <td>9.000000</td>\n",
       "      <td>118.000000</td>\n",
       "      <td>8.0</td>\n",
       "      <td>10.000000</td>\n",
       "      <td>49.000000</td>\n",
       "      <td>15.000000</td>\n",
       "      <td>100.00000</td>\n",
       "      <td>3.000000</td>\n",
       "      <td>1.000000</td>\n",
       "      <td>0.000000</td>\n",
       "      <td>0.000000</td>\n",
       "      <td>0.000000</td>\n",
       "      <td>0.000000</td>\n",
       "      <td>0.000000</td>\n",
       "    </tr>\n",
       "    <tr>\n",
       "      <th>3.0</th>\n",
       "      <td>0.000000</td>\n",
       "      <td>0.000000</td>\n",
       "      <td>0.000000</td>\n",
       "      <td>0.0</td>\n",
       "      <td>0.000000</td>\n",
       "      <td>0.000000</td>\n",
       "      <td>0.000000</td>\n",
       "      <td>0.00000</td>\n",
       "      <td>0.000000</td>\n",
       "      <td>0.000000</td>\n",
       "      <td>0.000000</td>\n",
       "      <td>0.000000</td>\n",
       "      <td>0.000000</td>\n",
       "      <td>0.000000</td>\n",
       "      <td>1.000000</td>\n",
       "    </tr>\n",
       "    <tr>\n",
       "      <th>4.0</th>\n",
       "      <td>9.000000</td>\n",
       "      <td>6.000000</td>\n",
       "      <td>30.000000</td>\n",
       "      <td>4.0</td>\n",
       "      <td>99.000000</td>\n",
       "      <td>26.000000</td>\n",
       "      <td>9.000000</td>\n",
       "      <td>63.00000</td>\n",
       "      <td>0.000000</td>\n",
       "      <td>0.000000</td>\n",
       "      <td>0.000000</td>\n",
       "      <td>0.000000</td>\n",
       "      <td>0.000000</td>\n",
       "      <td>2.000000</td>\n",
       "      <td>0.000000</td>\n",
       "    </tr>\n",
       "    <tr>\n",
       "      <th>5.0</th>\n",
       "      <td>31.000000</td>\n",
       "      <td>34.000000</td>\n",
       "      <td>57.000000</td>\n",
       "      <td>17.0</td>\n",
       "      <td>16.000000</td>\n",
       "      <td>99.000000</td>\n",
       "      <td>10.000000</td>\n",
       "      <td>44.00000</td>\n",
       "      <td>3.000000</td>\n",
       "      <td>0.000000</td>\n",
       "      <td>0.000000</td>\n",
       "      <td>2.000000</td>\n",
       "      <td>0.000000</td>\n",
       "      <td>1.000000</td>\n",
       "      <td>1.000000</td>\n",
       "    </tr>\n",
       "    <tr>\n",
       "      <th>6.0</th>\n",
       "      <td>7.000000</td>\n",
       "      <td>1.000000</td>\n",
       "      <td>5.000000</td>\n",
       "      <td>0.0</td>\n",
       "      <td>4.000000</td>\n",
       "      <td>3.000000</td>\n",
       "      <td>29.000000</td>\n",
       "      <td>20.00000</td>\n",
       "      <td>2.000000</td>\n",
       "      <td>5.000000</td>\n",
       "      <td>0.000000</td>\n",
       "      <td>0.000000</td>\n",
       "      <td>0.000000</td>\n",
       "      <td>5.000000</td>\n",
       "      <td>6.000000</td>\n",
       "    </tr>\n",
       "    <tr>\n",
       "      <th>7.0</th>\n",
       "      <td>237.000000</td>\n",
       "      <td>13.000000</td>\n",
       "      <td>257.000000</td>\n",
       "      <td>17.0</td>\n",
       "      <td>176.000000</td>\n",
       "      <td>135.000000</td>\n",
       "      <td>147.000000</td>\n",
       "      <td>732.00000</td>\n",
       "      <td>7.000000</td>\n",
       "      <td>2.000000</td>\n",
       "      <td>3.000000</td>\n",
       "      <td>30.000000</td>\n",
       "      <td>4.000000</td>\n",
       "      <td>5.000000</td>\n",
       "      <td>33.000000</td>\n",
       "    </tr>\n",
       "    <tr>\n",
       "      <th>8.0</th>\n",
       "      <td>58.000000</td>\n",
       "      <td>52.000000</td>\n",
       "      <td>17.000000</td>\n",
       "      <td>7.0</td>\n",
       "      <td>0.000000</td>\n",
       "      <td>19.000000</td>\n",
       "      <td>27.000000</td>\n",
       "      <td>32.00000</td>\n",
       "      <td>438.000000</td>\n",
       "      <td>14.000000</td>\n",
       "      <td>2.000000</td>\n",
       "      <td>0.000000</td>\n",
       "      <td>0.000000</td>\n",
       "      <td>0.000000</td>\n",
       "      <td>13.000000</td>\n",
       "    </tr>\n",
       "    <tr>\n",
       "      <th>9.0</th>\n",
       "      <td>39.000000</td>\n",
       "      <td>37.000000</td>\n",
       "      <td>2.000000</td>\n",
       "      <td>1.0</td>\n",
       "      <td>0.000000</td>\n",
       "      <td>3.000000</td>\n",
       "      <td>18.000000</td>\n",
       "      <td>7.00000</td>\n",
       "      <td>40.000000</td>\n",
       "      <td>404.000000</td>\n",
       "      <td>5.000000</td>\n",
       "      <td>2.000000</td>\n",
       "      <td>0.000000</td>\n",
       "      <td>34.000000</td>\n",
       "      <td>81.000000</td>\n",
       "    </tr>\n",
       "    <tr>\n",
       "      <th>10.0</th>\n",
       "      <td>27.000000</td>\n",
       "      <td>0.000000</td>\n",
       "      <td>0.000000</td>\n",
       "      <td>0.0</td>\n",
       "      <td>0.000000</td>\n",
       "      <td>0.000000</td>\n",
       "      <td>1.000000</td>\n",
       "      <td>0.00000</td>\n",
       "      <td>22.000000</td>\n",
       "      <td>25.000000</td>\n",
       "      <td>453.000000</td>\n",
       "      <td>3.000000</td>\n",
       "      <td>30.000000</td>\n",
       "      <td>41.000000</td>\n",
       "      <td>22.000000</td>\n",
       "    </tr>\n",
       "    <tr>\n",
       "      <th>11.0</th>\n",
       "      <td>14.000000</td>\n",
       "      <td>2.000000</td>\n",
       "      <td>20.000000</td>\n",
       "      <td>5.0</td>\n",
       "      <td>19.000000</td>\n",
       "      <td>14.000000</td>\n",
       "      <td>5.000000</td>\n",
       "      <td>22.00000</td>\n",
       "      <td>0.000000</td>\n",
       "      <td>0.000000</td>\n",
       "      <td>12.000000</td>\n",
       "      <td>443.000000</td>\n",
       "      <td>62.000000</td>\n",
       "      <td>10.000000</td>\n",
       "      <td>1.000000</td>\n",
       "    </tr>\n",
       "    <tr>\n",
       "      <th>12.0</th>\n",
       "      <td>23.000000</td>\n",
       "      <td>0.000000</td>\n",
       "      <td>1.000000</td>\n",
       "      <td>0.0</td>\n",
       "      <td>2.000000</td>\n",
       "      <td>0.000000</td>\n",
       "      <td>3.000000</td>\n",
       "      <td>1.00000</td>\n",
       "      <td>0.000000</td>\n",
       "      <td>0.000000</td>\n",
       "      <td>29.000000</td>\n",
       "      <td>72.000000</td>\n",
       "      <td>463.000000</td>\n",
       "      <td>26.000000</td>\n",
       "      <td>0.000000</td>\n",
       "    </tr>\n",
       "    <tr>\n",
       "      <th>13.0</th>\n",
       "      <td>66.000000</td>\n",
       "      <td>24.000000</td>\n",
       "      <td>2.000000</td>\n",
       "      <td>2.0</td>\n",
       "      <td>11.000000</td>\n",
       "      <td>0.000000</td>\n",
       "      <td>14.000000</td>\n",
       "      <td>8.00000</td>\n",
       "      <td>0.000000</td>\n",
       "      <td>12.000000</td>\n",
       "      <td>47.000000</td>\n",
       "      <td>20.000000</td>\n",
       "      <td>22.000000</td>\n",
       "      <td>414.000000</td>\n",
       "      <td>11.000000</td>\n",
       "    </tr>\n",
       "    <tr>\n",
       "      <th>14.0</th>\n",
       "      <td>27.000000</td>\n",
       "      <td>7.000000</td>\n",
       "      <td>7.000000</td>\n",
       "      <td>0.0</td>\n",
       "      <td>3.000000</td>\n",
       "      <td>4.000000</td>\n",
       "      <td>53.000000</td>\n",
       "      <td>21.00000</td>\n",
       "      <td>18.000000</td>\n",
       "      <td>46.000000</td>\n",
       "      <td>12.000000</td>\n",
       "      <td>3.000000</td>\n",
       "      <td>3.000000</td>\n",
       "      <td>17.000000</td>\n",
       "      <td>402.000000</td>\n",
       "    </tr>\n",
       "    <tr>\n",
       "      <th>0.0</th>\n",
       "      <td>0.343468</td>\n",
       "      <td>0.428571</td>\n",
       "      <td>0.197655</td>\n",
       "      <td>0.0</td>\n",
       "      <td>0.271233</td>\n",
       "      <td>0.239709</td>\n",
       "      <td>0.069712</td>\n",
       "      <td>0.62192</td>\n",
       "      <td>0.757785</td>\n",
       "      <td>0.684746</td>\n",
       "      <td>0.751244</td>\n",
       "      <td>0.759863</td>\n",
       "      <td>0.759016</td>\n",
       "      <td>0.688852</td>\n",
       "      <td>0.655791</td>\n",
       "    </tr>\n",
       "  </tbody>\n",
       "</table>\n",
       "</div>"
      ],
      "text/plain": [
       "            0.0         1.0         2.0   3.0         4.0         5.0   \\\n",
       "0.0   305.000000   15.000000   58.000000   2.0   19.000000   33.000000   \n",
       "1.0    23.000000  150.000000   23.000000  14.0    6.000000   28.000000   \n",
       "2.0    22.000000    9.000000  118.000000   8.0   10.000000   49.000000   \n",
       "3.0     0.000000    0.000000    0.000000   0.0    0.000000    0.000000   \n",
       "4.0     9.000000    6.000000   30.000000   4.0   99.000000   26.000000   \n",
       "5.0    31.000000   34.000000   57.000000  17.0   16.000000   99.000000   \n",
       "6.0     7.000000    1.000000    5.000000   0.0    4.000000    3.000000   \n",
       "7.0   237.000000   13.000000  257.000000  17.0  176.000000  135.000000   \n",
       "8.0    58.000000   52.000000   17.000000   7.0    0.000000   19.000000   \n",
       "9.0    39.000000   37.000000    2.000000   1.0    0.000000    3.000000   \n",
       "10.0   27.000000    0.000000    0.000000   0.0    0.000000    0.000000   \n",
       "11.0   14.000000    2.000000   20.000000   5.0   19.000000   14.000000   \n",
       "12.0   23.000000    0.000000    1.000000   0.0    2.000000    0.000000   \n",
       "13.0   66.000000   24.000000    2.000000   2.0   11.000000    0.000000   \n",
       "14.0   27.000000    7.000000    7.000000   0.0    3.000000    4.000000   \n",
       "0.0     0.343468    0.428571    0.197655   0.0    0.271233    0.239709   \n",
       "\n",
       "            6.0        7.0         8.0         9.0         10.0        11.0  \\\n",
       "0.0    66.000000  108.00000   36.000000   22.000000   40.000000    7.000000   \n",
       "1.0    19.000000   19.00000    9.000000   59.000000    0.000000    1.000000   \n",
       "2.0    15.000000  100.00000    3.000000    1.000000    0.000000    0.000000   \n",
       "3.0     0.000000    0.00000    0.000000    0.000000    0.000000    0.000000   \n",
       "4.0     9.000000   63.00000    0.000000    0.000000    0.000000    0.000000   \n",
       "5.0    10.000000   44.00000    3.000000    0.000000    0.000000    2.000000   \n",
       "6.0    29.000000   20.00000    2.000000    5.000000    0.000000    0.000000   \n",
       "7.0   147.000000  732.00000    7.000000    2.000000    3.000000   30.000000   \n",
       "8.0    27.000000   32.00000  438.000000   14.000000    2.000000    0.000000   \n",
       "9.0    18.000000    7.00000   40.000000  404.000000    5.000000    2.000000   \n",
       "10.0    1.000000    0.00000   22.000000   25.000000  453.000000    3.000000   \n",
       "11.0    5.000000   22.00000    0.000000    0.000000   12.000000  443.000000   \n",
       "12.0    3.000000    1.00000    0.000000    0.000000   29.000000   72.000000   \n",
       "13.0   14.000000    8.00000    0.000000   12.000000   47.000000   20.000000   \n",
       "14.0   53.000000   21.00000   18.000000   46.000000   12.000000    3.000000   \n",
       "0.0     0.069712    0.62192    0.757785    0.684746    0.751244    0.759863   \n",
       "\n",
       "            12.0        13.0        14.0  \n",
       "0.0    26.000000   36.000000   27.000000  \n",
       "1.0     0.000000   10.000000   15.000000  \n",
       "2.0     0.000000    0.000000    0.000000  \n",
       "3.0     0.000000    0.000000    1.000000  \n",
       "4.0     0.000000    2.000000    0.000000  \n",
       "5.0     0.000000    1.000000    1.000000  \n",
       "6.0     0.000000    5.000000    6.000000  \n",
       "7.0     4.000000    5.000000   33.000000  \n",
       "8.0     0.000000    0.000000   13.000000  \n",
       "9.0     0.000000   34.000000   81.000000  \n",
       "10.0   30.000000   41.000000   22.000000  \n",
       "11.0   62.000000   10.000000    1.000000  \n",
       "12.0  463.000000   26.000000    0.000000  \n",
       "13.0   22.000000  414.000000   11.000000  \n",
       "14.0    3.000000   17.000000  402.000000  \n",
       "0.0     0.759016    0.688852    0.655791  "
      ]
     },
     "execution_count": 41,
     "metadata": {},
     "output_type": "execute_result"
    }
   ],
   "source": [
    "#View confusion matrix with fraction correct tacked onto the bottom\n",
    "pd.concat([conf_mat,corr_per],axis=0)"
   ]
  },
  {
   "cell_type": "markdown",
   "metadata": {
    "papermill": {
     "duration": 0.05917,
     "end_time": "2021-01-09T19:03:56.735968",
     "exception": false,
     "start_time": "2021-01-09T19:03:56.676798",
     "status": "completed"
    },
    "tags": []
   },
   "source": [
    "Categories 6 through 14 are most easily classifiable. Corresponding to:\n",
    "6\tTrap Metal\n",
    "7\tUnderground Rap\n",
    "8\tdnb\n",
    "9\thardstyle\n",
    "10\tpsytrance\n",
    "11\ttechhouse\n",
    "12\ttechno\n",
    "13\ttrance\n",
    "14\ttrap\n"
   ]
  },
  {
   "cell_type": "code",
   "execution_count": 42,
   "metadata": {
    "execution": {
     "iopub.execute_input": "2021-01-09T19:03:56.857526Z",
     "iopub.status.busy": "2021-01-09T19:03:56.856737Z",
     "iopub.status.idle": "2021-01-09T19:03:56.860065Z",
     "shell.execute_reply": "2021-01-09T19:03:56.859543Z"
    },
    "papermill": {
     "duration": 0.066453,
     "end_time": "2021-01-09T19:03:56.860182",
     "exception": false,
     "start_time": "2021-01-09T19:03:56.793729",
     "status": "completed"
    },
    "tags": []
   },
   "outputs": [],
   "source": [
    "from sklearn.metrics import confusion_matrix"
   ]
  },
  {
   "cell_type": "code",
   "execution_count": 43,
   "metadata": {
    "execution": {
     "iopub.execute_input": "2021-01-09T19:03:57.021424Z",
     "iopub.status.busy": "2021-01-09T19:03:57.010383Z",
     "iopub.status.idle": "2021-01-09T19:03:57.083930Z",
     "shell.execute_reply": "2021-01-09T19:03:57.084495Z"
    },
    "papermill": {
     "duration": 0.165234,
     "end_time": "2021-01-09T19:03:57.084640",
     "exception": false,
     "start_time": "2021-01-09T19:03:56.919406",
     "status": "completed"
    },
    "tags": []
   },
   "outputs": [
    {
     "data": {
      "text/html": [
       "<div>\n",
       "<style scoped>\n",
       "    .dataframe tbody tr th:only-of-type {\n",
       "        vertical-align: middle;\n",
       "    }\n",
       "\n",
       "    .dataframe tbody tr th {\n",
       "        vertical-align: top;\n",
       "    }\n",
       "\n",
       "    .dataframe thead th {\n",
       "        text-align: right;\n",
       "    }\n",
       "</style>\n",
       "<table border=\"1\" class=\"dataframe\">\n",
       "  <thead>\n",
       "    <tr style=\"text-align: right;\">\n",
       "      <th></th>\n",
       "      <th>0</th>\n",
       "      <th>1</th>\n",
       "      <th>2</th>\n",
       "      <th>3</th>\n",
       "      <th>4</th>\n",
       "      <th>5</th>\n",
       "      <th>6</th>\n",
       "      <th>7</th>\n",
       "      <th>8</th>\n",
       "      <th>9</th>\n",
       "      <th>10</th>\n",
       "      <th>11</th>\n",
       "      <th>12</th>\n",
       "      <th>13</th>\n",
       "      <th>14</th>\n",
       "    </tr>\n",
       "  </thead>\n",
       "  <tbody>\n",
       "    <tr>\n",
       "      <th>0</th>\n",
       "      <td>305</td>\n",
       "      <td>15</td>\n",
       "      <td>58</td>\n",
       "      <td>2</td>\n",
       "      <td>19</td>\n",
       "      <td>33</td>\n",
       "      <td>66</td>\n",
       "      <td>108</td>\n",
       "      <td>36</td>\n",
       "      <td>22</td>\n",
       "      <td>40</td>\n",
       "      <td>7</td>\n",
       "      <td>26</td>\n",
       "      <td>36</td>\n",
       "      <td>27</td>\n",
       "    </tr>\n",
       "    <tr>\n",
       "      <th>1</th>\n",
       "      <td>23</td>\n",
       "      <td>150</td>\n",
       "      <td>23</td>\n",
       "      <td>14</td>\n",
       "      <td>6</td>\n",
       "      <td>28</td>\n",
       "      <td>19</td>\n",
       "      <td>19</td>\n",
       "      <td>9</td>\n",
       "      <td>59</td>\n",
       "      <td>0</td>\n",
       "      <td>1</td>\n",
       "      <td>0</td>\n",
       "      <td>10</td>\n",
       "      <td>15</td>\n",
       "    </tr>\n",
       "    <tr>\n",
       "      <th>2</th>\n",
       "      <td>22</td>\n",
       "      <td>9</td>\n",
       "      <td>118</td>\n",
       "      <td>8</td>\n",
       "      <td>10</td>\n",
       "      <td>49</td>\n",
       "      <td>15</td>\n",
       "      <td>100</td>\n",
       "      <td>3</td>\n",
       "      <td>1</td>\n",
       "      <td>0</td>\n",
       "      <td>0</td>\n",
       "      <td>0</td>\n",
       "      <td>0</td>\n",
       "      <td>0</td>\n",
       "    </tr>\n",
       "    <tr>\n",
       "      <th>3</th>\n",
       "      <td>0</td>\n",
       "      <td>0</td>\n",
       "      <td>0</td>\n",
       "      <td>0</td>\n",
       "      <td>0</td>\n",
       "      <td>0</td>\n",
       "      <td>0</td>\n",
       "      <td>0</td>\n",
       "      <td>0</td>\n",
       "      <td>0</td>\n",
       "      <td>0</td>\n",
       "      <td>0</td>\n",
       "      <td>0</td>\n",
       "      <td>0</td>\n",
       "      <td>1</td>\n",
       "    </tr>\n",
       "    <tr>\n",
       "      <th>4</th>\n",
       "      <td>9</td>\n",
       "      <td>6</td>\n",
       "      <td>30</td>\n",
       "      <td>4</td>\n",
       "      <td>99</td>\n",
       "      <td>26</td>\n",
       "      <td>9</td>\n",
       "      <td>63</td>\n",
       "      <td>0</td>\n",
       "      <td>0</td>\n",
       "      <td>0</td>\n",
       "      <td>0</td>\n",
       "      <td>0</td>\n",
       "      <td>2</td>\n",
       "      <td>0</td>\n",
       "    </tr>\n",
       "    <tr>\n",
       "      <th>5</th>\n",
       "      <td>31</td>\n",
       "      <td>34</td>\n",
       "      <td>57</td>\n",
       "      <td>17</td>\n",
       "      <td>16</td>\n",
       "      <td>99</td>\n",
       "      <td>10</td>\n",
       "      <td>44</td>\n",
       "      <td>3</td>\n",
       "      <td>0</td>\n",
       "      <td>0</td>\n",
       "      <td>2</td>\n",
       "      <td>0</td>\n",
       "      <td>1</td>\n",
       "      <td>1</td>\n",
       "    </tr>\n",
       "    <tr>\n",
       "      <th>6</th>\n",
       "      <td>7</td>\n",
       "      <td>1</td>\n",
       "      <td>5</td>\n",
       "      <td>0</td>\n",
       "      <td>4</td>\n",
       "      <td>3</td>\n",
       "      <td>29</td>\n",
       "      <td>20</td>\n",
       "      <td>2</td>\n",
       "      <td>5</td>\n",
       "      <td>0</td>\n",
       "      <td>0</td>\n",
       "      <td>0</td>\n",
       "      <td>5</td>\n",
       "      <td>6</td>\n",
       "    </tr>\n",
       "    <tr>\n",
       "      <th>7</th>\n",
       "      <td>237</td>\n",
       "      <td>13</td>\n",
       "      <td>257</td>\n",
       "      <td>17</td>\n",
       "      <td>176</td>\n",
       "      <td>135</td>\n",
       "      <td>147</td>\n",
       "      <td>732</td>\n",
       "      <td>7</td>\n",
       "      <td>2</td>\n",
       "      <td>3</td>\n",
       "      <td>30</td>\n",
       "      <td>4</td>\n",
       "      <td>5</td>\n",
       "      <td>33</td>\n",
       "    </tr>\n",
       "    <tr>\n",
       "      <th>8</th>\n",
       "      <td>58</td>\n",
       "      <td>52</td>\n",
       "      <td>17</td>\n",
       "      <td>7</td>\n",
       "      <td>0</td>\n",
       "      <td>19</td>\n",
       "      <td>27</td>\n",
       "      <td>32</td>\n",
       "      <td>438</td>\n",
       "      <td>14</td>\n",
       "      <td>2</td>\n",
       "      <td>0</td>\n",
       "      <td>0</td>\n",
       "      <td>0</td>\n",
       "      <td>13</td>\n",
       "    </tr>\n",
       "    <tr>\n",
       "      <th>9</th>\n",
       "      <td>39</td>\n",
       "      <td>37</td>\n",
       "      <td>2</td>\n",
       "      <td>1</td>\n",
       "      <td>0</td>\n",
       "      <td>3</td>\n",
       "      <td>18</td>\n",
       "      <td>7</td>\n",
       "      <td>40</td>\n",
       "      <td>404</td>\n",
       "      <td>5</td>\n",
       "      <td>2</td>\n",
       "      <td>0</td>\n",
       "      <td>34</td>\n",
       "      <td>81</td>\n",
       "    </tr>\n",
       "    <tr>\n",
       "      <th>10</th>\n",
       "      <td>27</td>\n",
       "      <td>0</td>\n",
       "      <td>0</td>\n",
       "      <td>0</td>\n",
       "      <td>0</td>\n",
       "      <td>0</td>\n",
       "      <td>1</td>\n",
       "      <td>0</td>\n",
       "      <td>22</td>\n",
       "      <td>25</td>\n",
       "      <td>453</td>\n",
       "      <td>3</td>\n",
       "      <td>30</td>\n",
       "      <td>41</td>\n",
       "      <td>22</td>\n",
       "    </tr>\n",
       "    <tr>\n",
       "      <th>11</th>\n",
       "      <td>14</td>\n",
       "      <td>2</td>\n",
       "      <td>20</td>\n",
       "      <td>5</td>\n",
       "      <td>19</td>\n",
       "      <td>14</td>\n",
       "      <td>5</td>\n",
       "      <td>22</td>\n",
       "      <td>0</td>\n",
       "      <td>0</td>\n",
       "      <td>12</td>\n",
       "      <td>443</td>\n",
       "      <td>62</td>\n",
       "      <td>10</td>\n",
       "      <td>1</td>\n",
       "    </tr>\n",
       "    <tr>\n",
       "      <th>12</th>\n",
       "      <td>23</td>\n",
       "      <td>0</td>\n",
       "      <td>1</td>\n",
       "      <td>0</td>\n",
       "      <td>2</td>\n",
       "      <td>0</td>\n",
       "      <td>3</td>\n",
       "      <td>1</td>\n",
       "      <td>0</td>\n",
       "      <td>0</td>\n",
       "      <td>29</td>\n",
       "      <td>72</td>\n",
       "      <td>463</td>\n",
       "      <td>26</td>\n",
       "      <td>0</td>\n",
       "    </tr>\n",
       "    <tr>\n",
       "      <th>13</th>\n",
       "      <td>66</td>\n",
       "      <td>24</td>\n",
       "      <td>2</td>\n",
       "      <td>2</td>\n",
       "      <td>11</td>\n",
       "      <td>0</td>\n",
       "      <td>14</td>\n",
       "      <td>8</td>\n",
       "      <td>0</td>\n",
       "      <td>12</td>\n",
       "      <td>47</td>\n",
       "      <td>20</td>\n",
       "      <td>22</td>\n",
       "      <td>414</td>\n",
       "      <td>11</td>\n",
       "    </tr>\n",
       "    <tr>\n",
       "      <th>14</th>\n",
       "      <td>27</td>\n",
       "      <td>7</td>\n",
       "      <td>7</td>\n",
       "      <td>0</td>\n",
       "      <td>3</td>\n",
       "      <td>4</td>\n",
       "      <td>53</td>\n",
       "      <td>21</td>\n",
       "      <td>18</td>\n",
       "      <td>46</td>\n",
       "      <td>12</td>\n",
       "      <td>3</td>\n",
       "      <td>3</td>\n",
       "      <td>17</td>\n",
       "      <td>402</td>\n",
       "    </tr>\n",
       "  </tbody>\n",
       "</table>\n",
       "</div>"
      ],
      "text/plain": [
       "     0    1    2   3    4    5    6    7    8    9    10   11   12   13   14\n",
       "0   305   15   58   2   19   33   66  108   36   22   40    7   26   36   27\n",
       "1    23  150   23  14    6   28   19   19    9   59    0    1    0   10   15\n",
       "2    22    9  118   8   10   49   15  100    3    1    0    0    0    0    0\n",
       "3     0    0    0   0    0    0    0    0    0    0    0    0    0    0    1\n",
       "4     9    6   30   4   99   26    9   63    0    0    0    0    0    2    0\n",
       "5    31   34   57  17   16   99   10   44    3    0    0    2    0    1    1\n",
       "6     7    1    5   0    4    3   29   20    2    5    0    0    0    5    6\n",
       "7   237   13  257  17  176  135  147  732    7    2    3   30    4    5   33\n",
       "8    58   52   17   7    0   19   27   32  438   14    2    0    0    0   13\n",
       "9    39   37    2   1    0    3   18    7   40  404    5    2    0   34   81\n",
       "10   27    0    0   0    0    0    1    0   22   25  453    3   30   41   22\n",
       "11   14    2   20   5   19   14    5   22    0    0   12  443   62   10    1\n",
       "12   23    0    1   0    2    0    3    1    0    0   29   72  463   26    0\n",
       "13   66   24    2   2   11    0   14    8    0   12   47   20   22  414   11\n",
       "14   27    7    7   0    3    4   53   21   18   46   12    3    3   17  402"
      ]
     },
     "execution_count": 43,
     "metadata": {},
     "output_type": "execute_result"
    }
   ],
   "source": [
    "#Just seeing that I can also do confusion matrix with sklearn metrics, but I already named the axes on the other one\n",
    "pd.DataFrame(confusion_matrix(y_clf,y_act))"
   ]
  },
  {
   "cell_type": "code",
   "execution_count": 44,
   "metadata": {
    "execution": {
     "iopub.execute_input": "2021-01-09T19:03:57.209472Z",
     "iopub.status.busy": "2021-01-09T19:03:57.208501Z",
     "iopub.status.idle": "2021-01-09T19:03:57.211424Z",
     "shell.execute_reply": "2021-01-09T19:03:57.210878Z"
    },
    "papermill": {
     "duration": 0.067369,
     "end_time": "2021-01-09T19:03:57.211548",
     "exception": false,
     "start_time": "2021-01-09T19:03:57.144179",
     "status": "completed"
    },
    "tags": []
   },
   "outputs": [],
   "source": [
    "from sklearn.metrics import roc_auc_score \n",
    "from sklearn.metrics import balanced_accuracy_score"
   ]
  },
  {
   "cell_type": "code",
   "execution_count": 45,
   "metadata": {
    "execution": {
     "iopub.execute_input": "2021-01-09T19:03:57.337639Z",
     "iopub.status.busy": "2021-01-09T19:03:57.336822Z",
     "iopub.status.idle": "2021-01-09T19:03:57.344522Z",
     "shell.execute_reply": "2021-01-09T19:03:57.343825Z"
    },
    "papermill": {
     "duration": 0.073673,
     "end_time": "2021-01-09T19:03:57.344660",
     "exception": false,
     "start_time": "2021-01-09T19:03:57.270987",
     "status": "completed"
    },
    "tags": []
   },
   "outputs": [],
   "source": [
    "#Calculated for use in ROC score\n",
    "y_score = clf.predict_proba(X_test)"
   ]
  },
  {
   "cell_type": "code",
   "execution_count": 46,
   "metadata": {
    "execution": {
     "iopub.execute_input": "2021-01-09T19:03:57.476509Z",
     "iopub.status.busy": "2021-01-09T19:03:57.475661Z",
     "iopub.status.idle": "2021-01-09T19:03:57.497170Z",
     "shell.execute_reply": "2021-01-09T19:03:57.497945Z"
    },
    "papermill": {
     "duration": 0.090748,
     "end_time": "2021-01-09T19:03:57.498125",
     "exception": false,
     "start_time": "2021-01-09T19:03:57.407377",
     "status": "completed"
    },
    "tags": []
   },
   "outputs": [
    {
     "data": {
      "text/plain": [
       "0.48197107467168554"
      ]
     },
     "execution_count": 46,
     "metadata": {},
     "output_type": "execute_result"
    }
   ],
   "source": [
    "#Balanced accuracy calculated for comparison\n",
    "balanced_accuracy_score(y_test,y_hat_clf)"
   ]
  },
  {
   "cell_type": "code",
   "execution_count": 47,
   "metadata": {
    "execution": {
     "iopub.execute_input": "2021-01-09T19:03:57.626383Z",
     "iopub.status.busy": "2021-01-09T19:03:57.625673Z",
     "iopub.status.idle": "2021-01-09T19:03:57.673693Z",
     "shell.execute_reply": "2021-01-09T19:03:57.674230Z"
    },
    "papermill": {
     "duration": 0.113465,
     "end_time": "2021-01-09T19:03:57.674395",
     "exception": false,
     "start_time": "2021-01-09T19:03:57.560930",
     "status": "completed"
    },
    "tags": []
   },
   "outputs": [
    {
     "data": {
      "text/plain": [
       "0.9068306514411864"
      ]
     },
     "execution_count": 47,
     "metadata": {},
     "output_type": "execute_result"
    }
   ],
   "source": [
    "#ROC_AUC score calculated. This is a great score, well classified\n",
    "roc_auc_score(y_test,y_score,multi_class = 'ovr')"
   ]
  },
  {
   "cell_type": "code",
   "execution_count": 48,
   "metadata": {
    "execution": {
     "iopub.execute_input": "2021-01-09T19:03:57.801360Z",
     "iopub.status.busy": "2021-01-09T19:03:57.800596Z",
     "iopub.status.idle": "2021-01-09T19:03:57.844776Z",
     "shell.execute_reply": "2021-01-09T19:03:57.843944Z"
    },
    "papermill": {
     "duration": 0.109406,
     "end_time": "2021-01-09T19:03:57.844936",
     "exception": false,
     "start_time": "2021-01-09T19:03:57.735530",
     "status": "completed"
    },
    "tags": []
   },
   "outputs": [],
   "source": [
    "from sklearn.decomposition import PCA"
   ]
  },
  {
   "cell_type": "code",
   "execution_count": 49,
   "metadata": {
    "execution": {
     "iopub.execute_input": "2021-01-09T19:03:57.971108Z",
     "iopub.status.busy": "2021-01-09T19:03:57.970039Z",
     "iopub.status.idle": "2021-01-09T19:03:58.084769Z",
     "shell.execute_reply": "2021-01-09T19:03:58.083947Z"
    },
    "papermill": {
     "duration": 0.178646,
     "end_time": "2021-01-09T19:03:58.084896",
     "exception": false,
     "start_time": "2021-01-09T19:03:57.906250",
     "status": "completed"
    },
    "tags": []
   },
   "outputs": [],
   "source": [
    "#PCA analysis is attempted to see if it'll be possible to visually display the categories on a scatterplot\n",
    "pca = PCA().fit(X_clean_tran)"
   ]
  },
  {
   "cell_type": "code",
   "execution_count": 50,
   "metadata": {
    "execution": {
     "iopub.execute_input": "2021-01-09T19:03:58.214606Z",
     "iopub.status.busy": "2021-01-09T19:03:58.213782Z",
     "iopub.status.idle": "2021-01-09T19:03:58.216672Z",
     "shell.execute_reply": "2021-01-09T19:03:58.217184Z"
    },
    "papermill": {
     "duration": 0.069729,
     "end_time": "2021-01-09T19:03:58.217355",
     "exception": false,
     "start_time": "2021-01-09T19:03:58.147626",
     "status": "completed"
    },
    "tags": []
   },
   "outputs": [],
   "source": [
    "#Seeing how much variance is explained by each principal component\n",
    "pca_rat = list(pca.explained_variance_ratio_)"
   ]
  },
  {
   "cell_type": "code",
   "execution_count": 51,
   "metadata": {
    "execution": {
     "iopub.execute_input": "2021-01-09T19:03:58.344650Z",
     "iopub.status.busy": "2021-01-09T19:03:58.343741Z",
     "iopub.status.idle": "2021-01-09T19:03:58.348949Z",
     "shell.execute_reply": "2021-01-09T19:03:58.348281Z"
    },
    "papermill": {
     "duration": 0.070595,
     "end_time": "2021-01-09T19:03:58.349060",
     "exception": false,
     "start_time": "2021-01-09T19:03:58.278465",
     "status": "completed"
    },
    "tags": []
   },
   "outputs": [],
   "source": [
    "import itertools"
   ]
  },
  {
   "cell_type": "code",
   "execution_count": 52,
   "metadata": {
    "execution": {
     "iopub.execute_input": "2021-01-09T19:03:58.475958Z",
     "iopub.status.busy": "2021-01-09T19:03:58.475199Z",
     "iopub.status.idle": "2021-01-09T19:03:58.479819Z",
     "shell.execute_reply": "2021-01-09T19:03:58.480499Z"
    },
    "papermill": {
     "duration": 0.069898,
     "end_time": "2021-01-09T19:03:58.480651",
     "exception": false,
     "start_time": "2021-01-09T19:03:58.410753",
     "status": "completed"
    },
    "tags": []
   },
   "outputs": [],
   "source": [
    "#Getting a cumiulative version of the previous variance explainability\n",
    "cum_rat = list(itertools.accumulate(pca_rat))"
   ]
  },
  {
   "cell_type": "code",
   "execution_count": 53,
   "metadata": {
    "execution": {
     "iopub.execute_input": "2021-01-09T19:03:58.610189Z",
     "iopub.status.busy": "2021-01-09T19:03:58.608591Z",
     "iopub.status.idle": "2021-01-09T19:03:58.731073Z",
     "shell.execute_reply": "2021-01-09T19:03:58.731565Z"
    },
    "papermill": {
     "duration": 0.189113,
     "end_time": "2021-01-09T19:03:58.731718",
     "exception": false,
     "start_time": "2021-01-09T19:03:58.542605",
     "status": "completed"
    },
    "tags": []
   },
   "outputs": [
    {
     "data": {
      "text/html": [
       "<div>                            <div id=\"726a13ac-db9b-4e5d-bcb0-29b18eb459d9\" class=\"plotly-graph-div\" style=\"height:525px; width:100%;\"></div>            <script type=\"text/javascript\">                require([\"plotly\"], function(Plotly) {                    window.PLOTLYENV=window.PLOTLYENV || {};                                    if (document.getElementById(\"726a13ac-db9b-4e5d-bcb0-29b18eb459d9\")) {                    Plotly.newPlot(                        \"726a13ac-db9b-4e5d-bcb0-29b18eb459d9\",                        [{\"alignmentgroup\": \"True\", \"hovertemplate\": \"variable=0<br>index=%{x}<br>value=%{y}<extra></extra>\", \"legendgroup\": \"0\", \"marker\": {\"color\": \"#636efa\"}, \"name\": \"0\", \"offsetgroup\": \"0\", \"orientation\": \"v\", \"showlegend\": true, \"textposition\": \"auto\", \"type\": \"bar\", \"x\": [0, 1, 2, 3, 4, 5, 6, 7, 8, 9, 10, 11, 12, 13, 14, 15, 16, 17, 18, 19, 20, 21, 22, 23, 24, 25, 26], \"xaxis\": \"x\", \"y\": [0.09094008307156831, 0.17487123934871518, 0.24956922561066225, 0.31462373947942956, 0.36235791610060303, 0.4055890541046655, 0.4465483745415543, 0.4872968435455383, 0.527696471893066, 0.5679722742167276, 0.6081096136348558, 0.6482077038224711, 0.6876932372227959, 0.7264206863354192, 0.7644609739849361, 0.8019917623095126, 0.838895985013162, 0.8727687164103448, 0.9019234814449668, 0.9288957244222475, 0.954560209057519, 0.975759169178068, 0.9923637876991999, 1.0, 1.0, 1.0, 1.0], \"yaxis\": \"y\"}],                        {\"barmode\": \"relative\", \"legend\": {\"title\": {\"text\": \"variable\"}, \"tracegroupgap\": 0}, \"margin\": {\"t\": 60}, \"template\": {\"data\": {\"bar\": [{\"error_x\": {\"color\": \"#2a3f5f\"}, \"error_y\": {\"color\": \"#2a3f5f\"}, \"marker\": {\"line\": {\"color\": \"#E5ECF6\", \"width\": 0.5}}, \"type\": \"bar\"}], \"barpolar\": [{\"marker\": {\"line\": {\"color\": \"#E5ECF6\", \"width\": 0.5}}, \"type\": \"barpolar\"}], \"carpet\": [{\"aaxis\": {\"endlinecolor\": \"#2a3f5f\", \"gridcolor\": \"white\", \"linecolor\": \"white\", \"minorgridcolor\": \"white\", \"startlinecolor\": \"#2a3f5f\"}, \"baxis\": {\"endlinecolor\": \"#2a3f5f\", \"gridcolor\": \"white\", \"linecolor\": \"white\", \"minorgridcolor\": \"white\", \"startlinecolor\": \"#2a3f5f\"}, \"type\": \"carpet\"}], \"choropleth\": [{\"colorbar\": {\"outlinewidth\": 0, \"ticks\": \"\"}, \"type\": \"choropleth\"}], \"contour\": [{\"colorbar\": {\"outlinewidth\": 0, \"ticks\": \"\"}, \"colorscale\": [[0.0, \"#0d0887\"], [0.1111111111111111, \"#46039f\"], [0.2222222222222222, \"#7201a8\"], [0.3333333333333333, \"#9c179e\"], [0.4444444444444444, \"#bd3786\"], [0.5555555555555556, \"#d8576b\"], [0.6666666666666666, \"#ed7953\"], [0.7777777777777778, \"#fb9f3a\"], [0.8888888888888888, \"#fdca26\"], [1.0, \"#f0f921\"]], \"type\": \"contour\"}], \"contourcarpet\": [{\"colorbar\": {\"outlinewidth\": 0, \"ticks\": \"\"}, \"type\": \"contourcarpet\"}], \"heatmap\": [{\"colorbar\": {\"outlinewidth\": 0, \"ticks\": \"\"}, \"colorscale\": [[0.0, \"#0d0887\"], [0.1111111111111111, \"#46039f\"], [0.2222222222222222, \"#7201a8\"], [0.3333333333333333, \"#9c179e\"], [0.4444444444444444, \"#bd3786\"], [0.5555555555555556, \"#d8576b\"], [0.6666666666666666, \"#ed7953\"], [0.7777777777777778, \"#fb9f3a\"], [0.8888888888888888, \"#fdca26\"], [1.0, \"#f0f921\"]], \"type\": \"heatmap\"}], \"heatmapgl\": [{\"colorbar\": {\"outlinewidth\": 0, \"ticks\": \"\"}, \"colorscale\": [[0.0, \"#0d0887\"], [0.1111111111111111, \"#46039f\"], [0.2222222222222222, \"#7201a8\"], [0.3333333333333333, \"#9c179e\"], [0.4444444444444444, \"#bd3786\"], [0.5555555555555556, \"#d8576b\"], [0.6666666666666666, \"#ed7953\"], [0.7777777777777778, \"#fb9f3a\"], [0.8888888888888888, \"#fdca26\"], [1.0, \"#f0f921\"]], \"type\": \"heatmapgl\"}], \"histogram\": [{\"marker\": {\"colorbar\": {\"outlinewidth\": 0, \"ticks\": \"\"}}, \"type\": \"histogram\"}], \"histogram2d\": [{\"colorbar\": {\"outlinewidth\": 0, \"ticks\": \"\"}, \"colorscale\": [[0.0, \"#0d0887\"], [0.1111111111111111, \"#46039f\"], [0.2222222222222222, \"#7201a8\"], [0.3333333333333333, \"#9c179e\"], [0.4444444444444444, \"#bd3786\"], [0.5555555555555556, \"#d8576b\"], [0.6666666666666666, \"#ed7953\"], [0.7777777777777778, \"#fb9f3a\"], [0.8888888888888888, \"#fdca26\"], [1.0, \"#f0f921\"]], \"type\": \"histogram2d\"}], \"histogram2dcontour\": [{\"colorbar\": {\"outlinewidth\": 0, \"ticks\": \"\"}, \"colorscale\": [[0.0, \"#0d0887\"], [0.1111111111111111, \"#46039f\"], [0.2222222222222222, \"#7201a8\"], [0.3333333333333333, \"#9c179e\"], [0.4444444444444444, \"#bd3786\"], [0.5555555555555556, \"#d8576b\"], [0.6666666666666666, \"#ed7953\"], [0.7777777777777778, \"#fb9f3a\"], [0.8888888888888888, \"#fdca26\"], [1.0, \"#f0f921\"]], \"type\": \"histogram2dcontour\"}], \"mesh3d\": [{\"colorbar\": {\"outlinewidth\": 0, \"ticks\": \"\"}, \"type\": \"mesh3d\"}], \"parcoords\": [{\"line\": {\"colorbar\": {\"outlinewidth\": 0, \"ticks\": \"\"}}, \"type\": \"parcoords\"}], \"pie\": [{\"automargin\": true, \"type\": \"pie\"}], \"scatter\": [{\"marker\": {\"colorbar\": {\"outlinewidth\": 0, \"ticks\": \"\"}}, \"type\": \"scatter\"}], \"scatter3d\": [{\"line\": {\"colorbar\": {\"outlinewidth\": 0, \"ticks\": \"\"}}, \"marker\": {\"colorbar\": {\"outlinewidth\": 0, \"ticks\": \"\"}}, \"type\": \"scatter3d\"}], \"scattercarpet\": [{\"marker\": {\"colorbar\": {\"outlinewidth\": 0, \"ticks\": \"\"}}, \"type\": \"scattercarpet\"}], \"scattergeo\": [{\"marker\": {\"colorbar\": {\"outlinewidth\": 0, \"ticks\": \"\"}}, \"type\": \"scattergeo\"}], \"scattergl\": [{\"marker\": {\"colorbar\": {\"outlinewidth\": 0, \"ticks\": \"\"}}, \"type\": \"scattergl\"}], \"scattermapbox\": [{\"marker\": {\"colorbar\": {\"outlinewidth\": 0, \"ticks\": \"\"}}, \"type\": \"scattermapbox\"}], \"scatterpolar\": [{\"marker\": {\"colorbar\": {\"outlinewidth\": 0, \"ticks\": \"\"}}, \"type\": \"scatterpolar\"}], \"scatterpolargl\": [{\"marker\": {\"colorbar\": {\"outlinewidth\": 0, \"ticks\": \"\"}}, \"type\": \"scatterpolargl\"}], \"scatterternary\": [{\"marker\": {\"colorbar\": {\"outlinewidth\": 0, \"ticks\": \"\"}}, \"type\": \"scatterternary\"}], \"surface\": [{\"colorbar\": {\"outlinewidth\": 0, \"ticks\": \"\"}, \"colorscale\": [[0.0, \"#0d0887\"], [0.1111111111111111, \"#46039f\"], [0.2222222222222222, \"#7201a8\"], [0.3333333333333333, \"#9c179e\"], [0.4444444444444444, \"#bd3786\"], [0.5555555555555556, \"#d8576b\"], [0.6666666666666666, \"#ed7953\"], [0.7777777777777778, \"#fb9f3a\"], [0.8888888888888888, \"#fdca26\"], [1.0, \"#f0f921\"]], \"type\": \"surface\"}], \"table\": [{\"cells\": {\"fill\": {\"color\": \"#EBF0F8\"}, \"line\": {\"color\": \"white\"}}, \"header\": {\"fill\": {\"color\": \"#C8D4E3\"}, \"line\": {\"color\": \"white\"}}, \"type\": \"table\"}]}, \"layout\": {\"annotationdefaults\": {\"arrowcolor\": \"#2a3f5f\", \"arrowhead\": 0, \"arrowwidth\": 1}, \"autotypenumbers\": \"strict\", \"coloraxis\": {\"colorbar\": {\"outlinewidth\": 0, \"ticks\": \"\"}}, \"colorscale\": {\"diverging\": [[0, \"#8e0152\"], [0.1, \"#c51b7d\"], [0.2, \"#de77ae\"], [0.3, \"#f1b6da\"], [0.4, \"#fde0ef\"], [0.5, \"#f7f7f7\"], [0.6, \"#e6f5d0\"], [0.7, \"#b8e186\"], [0.8, \"#7fbc41\"], [0.9, \"#4d9221\"], [1, \"#276419\"]], \"sequential\": [[0.0, \"#0d0887\"], [0.1111111111111111, \"#46039f\"], [0.2222222222222222, \"#7201a8\"], [0.3333333333333333, \"#9c179e\"], [0.4444444444444444, \"#bd3786\"], [0.5555555555555556, \"#d8576b\"], [0.6666666666666666, \"#ed7953\"], [0.7777777777777778, \"#fb9f3a\"], [0.8888888888888888, \"#fdca26\"], [1.0, \"#f0f921\"]], \"sequentialminus\": [[0.0, \"#0d0887\"], [0.1111111111111111, \"#46039f\"], [0.2222222222222222, \"#7201a8\"], [0.3333333333333333, \"#9c179e\"], [0.4444444444444444, \"#bd3786\"], [0.5555555555555556, \"#d8576b\"], [0.6666666666666666, \"#ed7953\"], [0.7777777777777778, \"#fb9f3a\"], [0.8888888888888888, \"#fdca26\"], [1.0, \"#f0f921\"]]}, \"colorway\": [\"#636efa\", \"#EF553B\", \"#00cc96\", \"#ab63fa\", \"#FFA15A\", \"#19d3f3\", \"#FF6692\", \"#B6E880\", \"#FF97FF\", \"#FECB52\"], \"font\": {\"color\": \"#2a3f5f\"}, \"geo\": {\"bgcolor\": \"white\", \"lakecolor\": \"white\", \"landcolor\": \"#E5ECF6\", \"showlakes\": true, \"showland\": true, \"subunitcolor\": \"white\"}, \"hoverlabel\": {\"align\": \"left\"}, \"hovermode\": \"closest\", \"mapbox\": {\"style\": \"light\"}, \"paper_bgcolor\": \"white\", \"plot_bgcolor\": \"#E5ECF6\", \"polar\": {\"angularaxis\": {\"gridcolor\": \"white\", \"linecolor\": \"white\", \"ticks\": \"\"}, \"bgcolor\": \"#E5ECF6\", \"radialaxis\": {\"gridcolor\": \"white\", \"linecolor\": \"white\", \"ticks\": \"\"}}, \"scene\": {\"xaxis\": {\"backgroundcolor\": \"#E5ECF6\", \"gridcolor\": \"white\", \"gridwidth\": 2, \"linecolor\": \"white\", \"showbackground\": true, \"ticks\": \"\", \"zerolinecolor\": \"white\"}, \"yaxis\": {\"backgroundcolor\": \"#E5ECF6\", \"gridcolor\": \"white\", \"gridwidth\": 2, \"linecolor\": \"white\", \"showbackground\": true, \"ticks\": \"\", \"zerolinecolor\": \"white\"}, \"zaxis\": {\"backgroundcolor\": \"#E5ECF6\", \"gridcolor\": \"white\", \"gridwidth\": 2, \"linecolor\": \"white\", \"showbackground\": true, \"ticks\": \"\", \"zerolinecolor\": \"white\"}}, \"shapedefaults\": {\"line\": {\"color\": \"#2a3f5f\"}}, \"ternary\": {\"aaxis\": {\"gridcolor\": \"white\", \"linecolor\": \"white\", \"ticks\": \"\"}, \"baxis\": {\"gridcolor\": \"white\", \"linecolor\": \"white\", \"ticks\": \"\"}, \"bgcolor\": \"#E5ECF6\", \"caxis\": {\"gridcolor\": \"white\", \"linecolor\": \"white\", \"ticks\": \"\"}}, \"title\": {\"x\": 0.05}, \"xaxis\": {\"automargin\": true, \"gridcolor\": \"white\", \"linecolor\": \"white\", \"ticks\": \"\", \"title\": {\"standoff\": 15}, \"zerolinecolor\": \"white\", \"zerolinewidth\": 2}, \"yaxis\": {\"automargin\": true, \"gridcolor\": \"white\", \"linecolor\": \"white\", \"ticks\": \"\", \"title\": {\"standoff\": 15}, \"zerolinecolor\": \"white\", \"zerolinewidth\": 2}}}, \"xaxis\": {\"anchor\": \"y\", \"domain\": [0.0, 1.0], \"title\": {\"text\": \"index\"}}, \"yaxis\": {\"anchor\": \"x\", \"domain\": [0.0, 1.0], \"title\": {\"text\": \"value\"}}},                        {\"responsive\": true}                    ).then(function(){\n",
       "                            \n",
       "var gd = document.getElementById('726a13ac-db9b-4e5d-bcb0-29b18eb459d9');\n",
       "var x = new MutationObserver(function (mutations, observer) {{\n",
       "        var display = window.getComputedStyle(gd).display;\n",
       "        if (!display || display === 'none') {{\n",
       "            console.log([gd, 'removed!']);\n",
       "            Plotly.purge(gd);\n",
       "            observer.disconnect();\n",
       "        }}\n",
       "}});\n",
       "\n",
       "// Listen for the removal of the full notebook cells\n",
       "var notebookContainer = gd.closest('#notebook-container');\n",
       "if (notebookContainer) {{\n",
       "    x.observe(notebookContainer, {childList: true});\n",
       "}}\n",
       "\n",
       "// Listen for the clearing of the current output cell\n",
       "var outputEl = gd.closest('.output');\n",
       "if (outputEl) {{\n",
       "    x.observe(outputEl, {childList: true});\n",
       "}}\n",
       "\n",
       "                        })                };                });            </script>        </div>"
      ]
     },
     "metadata": {},
     "output_type": "display_data"
    }
   ],
   "source": [
    "#Visualizing that the first couple of principal components will not be enough to scatterplot easily distinguishable classes. Not enough variability will be captured in them. First 3 principal components\n",
    "#only account for 22% of variability. Things will still be jumbled together. It would require 15 values to show comfortably and there's no easy way to show a 15 dimensional graph\n",
    "px.bar(cum_rat)"
   ]
  },
  {
   "cell_type": "markdown",
   "metadata": {
    "papermill": {
     "duration": 0.063173,
     "end_time": "2021-01-09T19:03:58.857032",
     "exception": false,
     "start_time": "2021-01-09T19:03:58.793859",
     "status": "completed"
    },
    "tags": []
   },
   "source": [
    "This shows that it requires 15 of the PCA components to explain 80% of the variance, so I won't be able to clearly visualize the distinction by plotting a few PCA values"
   ]
  },
  {
   "cell_type": "code",
   "execution_count": 54,
   "metadata": {
    "execution": {
     "iopub.execute_input": "2021-01-09T19:03:58.989450Z",
     "iopub.status.busy": "2021-01-09T19:03:58.988771Z",
     "iopub.status.idle": "2021-01-09T19:03:59.193860Z",
     "shell.execute_reply": "2021-01-09T19:03:59.194482Z"
    },
    "papermill": {
     "duration": 0.27331,
     "end_time": "2021-01-09T19:03:59.194648",
     "exception": false,
     "start_time": "2021-01-09T19:03:58.921338",
     "status": "completed"
    },
    "tags": []
   },
   "outputs": [],
   "source": [
    "#Boosting\n",
    "from sklearn.ensemble import GradientBoostingClassifier"
   ]
  },
  {
   "cell_type": "code",
   "execution_count": 55,
   "metadata": {
    "execution": {
     "iopub.execute_input": "2021-01-09T19:03:59.328850Z",
     "iopub.status.busy": "2021-01-09T19:03:59.328042Z",
     "iopub.status.idle": "2021-01-09T19:09:55.603715Z",
     "shell.execute_reply": "2021-01-09T19:09:55.604386Z"
    },
    "papermill": {
     "duration": 356.346174,
     "end_time": "2021-01-09T19:09:55.604584",
     "exception": false,
     "start_time": "2021-01-09T19:03:59.258410",
     "status": "completed"
    },
    "tags": []
   },
   "outputs": [],
   "source": [
    "#Running a boosing fit for comparison with logistic regression. Chose boosting over random forest, because maybe the better models will be able to differentiate pop somehow.\n",
    "boost_fit = GradientBoostingClassifier(max_depth=4,max_features = 'sqrt',n_estimators = 500).fit(X_train,np.ravel(y_train))"
   ]
  },
  {
   "cell_type": "code",
   "execution_count": 56,
   "metadata": {
    "execution": {
     "iopub.execute_input": "2021-01-09T19:09:55.736502Z",
     "iopub.status.busy": "2021-01-09T19:09:55.735784Z",
     "iopub.status.idle": "2021-01-09T19:09:57.172251Z",
     "shell.execute_reply": "2021-01-09T19:09:57.172854Z"
    },
    "papermill": {
     "duration": 1.50323,
     "end_time": "2021-01-09T19:09:57.173001",
     "exception": false,
     "start_time": "2021-01-09T19:09:55.669771",
     "status": "completed"
    },
    "tags": []
   },
   "outputs": [],
   "source": [
    "#For use in roc auc score\n",
    "boost_score=boost_fit.predict_proba(X_test)"
   ]
  },
  {
   "cell_type": "code",
   "execution_count": 57,
   "metadata": {
    "execution": {
     "iopub.execute_input": "2021-01-09T19:09:57.302119Z",
     "iopub.status.busy": "2021-01-09T19:09:57.301310Z",
     "iopub.status.idle": "2021-01-09T19:09:58.742487Z",
     "shell.execute_reply": "2021-01-09T19:09:58.743036Z"
    },
    "papermill": {
     "duration": 1.507397,
     "end_time": "2021-01-09T19:09:58.743209",
     "exception": false,
     "start_time": "2021-01-09T19:09:57.235812",
     "status": "completed"
    },
    "tags": []
   },
   "outputs": [],
   "source": [
    "#Predicting scores, to show using confusion matrix and heat map\n",
    "y_hat_boost = pd.DataFrame(boost_fit.predict(X_test))"
   ]
  },
  {
   "cell_type": "code",
   "execution_count": 58,
   "metadata": {
    "execution": {
     "iopub.execute_input": "2021-01-09T19:09:58.876173Z",
     "iopub.status.busy": "2021-01-09T19:09:58.875357Z",
     "iopub.status.idle": "2021-01-09T19:09:58.920819Z",
     "shell.execute_reply": "2021-01-09T19:09:58.920141Z"
    },
    "papermill": {
     "duration": 0.114099,
     "end_time": "2021-01-09T19:09:58.920929",
     "exception": false,
     "start_time": "2021-01-09T19:09:58.806830",
     "status": "completed"
    },
    "tags": []
   },
   "outputs": [
    {
     "data": {
      "text/plain": [
       "0.9440257242606923"
      ]
     },
     "execution_count": 58,
     "metadata": {},
     "output_type": "execute_result"
    }
   ],
   "source": [
    "#This roc score is even better than the logistic regression one.\n",
    "roc_auc_score(y_test,boost_score,multi_class='ovr')"
   ]
  },
  {
   "cell_type": "code",
   "execution_count": 59,
   "metadata": {
    "execution": {
     "iopub.execute_input": "2021-01-09T19:09:59.056977Z",
     "iopub.status.busy": "2021-01-09T19:09:59.056230Z",
     "iopub.status.idle": "2021-01-09T19:09:59.059621Z",
     "shell.execute_reply": "2021-01-09T19:09:59.060314Z"
    },
    "papermill": {
     "duration": 0.072487,
     "end_time": "2021-01-09T19:09:59.060500",
     "exception": false,
     "start_time": "2021-01-09T19:09:58.988013",
     "status": "completed"
    },
    "tags": []
   },
   "outputs": [],
   "source": [
    "#Adding to results dataframe for comparison of models\n",
    "results_df = pd.concat([y_hat_boost,results_df],axis=1)\n"
   ]
  },
  {
   "cell_type": "code",
   "execution_count": 60,
   "metadata": {
    "execution": {
     "iopub.execute_input": "2021-01-09T19:09:59.196307Z",
     "iopub.status.busy": "2021-01-09T19:09:59.195515Z",
     "iopub.status.idle": "2021-01-09T19:09:59.200288Z",
     "shell.execute_reply": "2021-01-09T19:09:59.200810Z"
    },
    "papermill": {
     "duration": 0.074898,
     "end_time": "2021-01-09T19:09:59.200953",
     "exception": false,
     "start_time": "2021-01-09T19:09:59.126055",
     "status": "completed"
    },
    "tags": []
   },
   "outputs": [],
   "source": [
    "#Name column appropriately\n",
    "results_df.rename(columns={0:'boost'},inplace=True)"
   ]
  },
  {
   "cell_type": "code",
   "execution_count": 61,
   "metadata": {
    "execution": {
     "iopub.execute_input": "2021-01-09T19:09:59.336058Z",
     "iopub.status.busy": "2021-01-09T19:09:59.335285Z",
     "iopub.status.idle": "2021-01-09T19:09:59.361181Z",
     "shell.execute_reply": "2021-01-09T19:09:59.360549Z"
    },
    "papermill": {
     "duration": 0.09435,
     "end_time": "2021-01-09T19:09:59.361318",
     "exception": false,
     "start_time": "2021-01-09T19:09:59.266968",
     "status": "completed"
    },
    "tags": []
   },
   "outputs": [],
   "source": [
    "#Make confusion matrix for boosting model\n",
    "boost_conf_mat = pd.crosstab(results_df['boost'],results_df['actual'],rownames=['Predicted'],colnames=['Actual'])"
   ]
  },
  {
   "cell_type": "code",
   "execution_count": 62,
   "metadata": {
    "execution": {
     "iopub.execute_input": "2021-01-09T19:09:59.510251Z",
     "iopub.status.busy": "2021-01-09T19:09:59.504745Z",
     "iopub.status.idle": "2021-01-09T19:09:59.528933Z",
     "shell.execute_reply": "2021-01-09T19:09:59.529630Z"
    },
    "papermill": {
     "duration": 0.102016,
     "end_time": "2021-01-09T19:09:59.530026",
     "exception": false,
     "start_time": "2021-01-09T19:09:59.428010",
     "status": "completed"
    },
    "tags": []
   },
   "outputs": [
    {
     "data": {
      "text/html": [
       "<div>\n",
       "<style scoped>\n",
       "    .dataframe tbody tr th:only-of-type {\n",
       "        vertical-align: middle;\n",
       "    }\n",
       "\n",
       "    .dataframe tbody tr th {\n",
       "        vertical-align: top;\n",
       "    }\n",
       "\n",
       "    .dataframe thead th {\n",
       "        text-align: right;\n",
       "    }\n",
       "</style>\n",
       "<table border=\"1\" class=\"dataframe\">\n",
       "  <thead>\n",
       "    <tr style=\"text-align: right;\">\n",
       "      <th>Actual</th>\n",
       "      <th>0.0</th>\n",
       "      <th>1.0</th>\n",
       "      <th>2.0</th>\n",
       "      <th>3.0</th>\n",
       "      <th>4.0</th>\n",
       "      <th>5.0</th>\n",
       "      <th>6.0</th>\n",
       "      <th>7.0</th>\n",
       "      <th>8.0</th>\n",
       "      <th>9.0</th>\n",
       "      <th>10.0</th>\n",
       "      <th>11.0</th>\n",
       "      <th>12.0</th>\n",
       "      <th>13.0</th>\n",
       "      <th>14.0</th>\n",
       "    </tr>\n",
       "    <tr>\n",
       "      <th>Predicted</th>\n",
       "      <th></th>\n",
       "      <th></th>\n",
       "      <th></th>\n",
       "      <th></th>\n",
       "      <th></th>\n",
       "      <th></th>\n",
       "      <th></th>\n",
       "      <th></th>\n",
       "      <th></th>\n",
       "      <th></th>\n",
       "      <th></th>\n",
       "      <th></th>\n",
       "      <th></th>\n",
       "      <th></th>\n",
       "      <th></th>\n",
       "    </tr>\n",
       "  </thead>\n",
       "  <tbody>\n",
       "    <tr>\n",
       "      <th>0.0</th>\n",
       "      <td>419</td>\n",
       "      <td>17</td>\n",
       "      <td>50</td>\n",
       "      <td>4</td>\n",
       "      <td>13</td>\n",
       "      <td>31</td>\n",
       "      <td>69</td>\n",
       "      <td>137</td>\n",
       "      <td>1</td>\n",
       "      <td>6</td>\n",
       "      <td>19</td>\n",
       "      <td>10</td>\n",
       "      <td>12</td>\n",
       "      <td>23</td>\n",
       "      <td>23</td>\n",
       "    </tr>\n",
       "    <tr>\n",
       "      <th>1.0</th>\n",
       "      <td>14</td>\n",
       "      <td>241</td>\n",
       "      <td>15</td>\n",
       "      <td>12</td>\n",
       "      <td>2</td>\n",
       "      <td>24</td>\n",
       "      <td>18</td>\n",
       "      <td>19</td>\n",
       "      <td>0</td>\n",
       "      <td>2</td>\n",
       "      <td>0</td>\n",
       "      <td>0</td>\n",
       "      <td>0</td>\n",
       "      <td>4</td>\n",
       "      <td>5</td>\n",
       "    </tr>\n",
       "    <tr>\n",
       "      <th>2.0</th>\n",
       "      <td>23</td>\n",
       "      <td>8</td>\n",
       "      <td>192</td>\n",
       "      <td>6</td>\n",
       "      <td>16</td>\n",
       "      <td>61</td>\n",
       "      <td>12</td>\n",
       "      <td>152</td>\n",
       "      <td>2</td>\n",
       "      <td>0</td>\n",
       "      <td>0</td>\n",
       "      <td>0</td>\n",
       "      <td>0</td>\n",
       "      <td>0</td>\n",
       "      <td>1</td>\n",
       "    </tr>\n",
       "    <tr>\n",
       "      <th>3.0</th>\n",
       "      <td>1</td>\n",
       "      <td>14</td>\n",
       "      <td>6</td>\n",
       "      <td>7</td>\n",
       "      <td>1</td>\n",
       "      <td>10</td>\n",
       "      <td>3</td>\n",
       "      <td>1</td>\n",
       "      <td>0</td>\n",
       "      <td>0</td>\n",
       "      <td>1</td>\n",
       "      <td>2</td>\n",
       "      <td>0</td>\n",
       "      <td>0</td>\n",
       "      <td>0</td>\n",
       "    </tr>\n",
       "    <tr>\n",
       "      <th>4.0</th>\n",
       "      <td>12</td>\n",
       "      <td>2</td>\n",
       "      <td>14</td>\n",
       "      <td>0</td>\n",
       "      <td>130</td>\n",
       "      <td>13</td>\n",
       "      <td>6</td>\n",
       "      <td>59</td>\n",
       "      <td>0</td>\n",
       "      <td>0</td>\n",
       "      <td>0</td>\n",
       "      <td>0</td>\n",
       "      <td>0</td>\n",
       "      <td>0</td>\n",
       "      <td>0</td>\n",
       "    </tr>\n",
       "    <tr>\n",
       "      <th>5.0</th>\n",
       "      <td>32</td>\n",
       "      <td>31</td>\n",
       "      <td>71</td>\n",
       "      <td>25</td>\n",
       "      <td>21</td>\n",
       "      <td>148</td>\n",
       "      <td>12</td>\n",
       "      <td>43</td>\n",
       "      <td>1</td>\n",
       "      <td>0</td>\n",
       "      <td>0</td>\n",
       "      <td>0</td>\n",
       "      <td>0</td>\n",
       "      <td>0</td>\n",
       "      <td>0</td>\n",
       "    </tr>\n",
       "    <tr>\n",
       "      <th>6.0</th>\n",
       "      <td>48</td>\n",
       "      <td>6</td>\n",
       "      <td>3</td>\n",
       "      <td>1</td>\n",
       "      <td>3</td>\n",
       "      <td>4</td>\n",
       "      <td>82</td>\n",
       "      <td>93</td>\n",
       "      <td>1</td>\n",
       "      <td>4</td>\n",
       "      <td>0</td>\n",
       "      <td>0</td>\n",
       "      <td>0</td>\n",
       "      <td>5</td>\n",
       "      <td>6</td>\n",
       "    </tr>\n",
       "    <tr>\n",
       "      <th>7.0</th>\n",
       "      <td>229</td>\n",
       "      <td>11</td>\n",
       "      <td>236</td>\n",
       "      <td>17</td>\n",
       "      <td>176</td>\n",
       "      <td>117</td>\n",
       "      <td>180</td>\n",
       "      <td>648</td>\n",
       "      <td>2</td>\n",
       "      <td>1</td>\n",
       "      <td>1</td>\n",
       "      <td>4</td>\n",
       "      <td>1</td>\n",
       "      <td>2</td>\n",
       "      <td>13</td>\n",
       "    </tr>\n",
       "    <tr>\n",
       "      <th>8.0</th>\n",
       "      <td>6</td>\n",
       "      <td>3</td>\n",
       "      <td>2</td>\n",
       "      <td>0</td>\n",
       "      <td>0</td>\n",
       "      <td>0</td>\n",
       "      <td>3</td>\n",
       "      <td>5</td>\n",
       "      <td>571</td>\n",
       "      <td>0</td>\n",
       "      <td>0</td>\n",
       "      <td>0</td>\n",
       "      <td>0</td>\n",
       "      <td>0</td>\n",
       "      <td>0</td>\n",
       "    </tr>\n",
       "    <tr>\n",
       "      <th>9.0</th>\n",
       "      <td>16</td>\n",
       "      <td>7</td>\n",
       "      <td>1</td>\n",
       "      <td>1</td>\n",
       "      <td>0</td>\n",
       "      <td>2</td>\n",
       "      <td>8</td>\n",
       "      <td>4</td>\n",
       "      <td>0</td>\n",
       "      <td>550</td>\n",
       "      <td>2</td>\n",
       "      <td>0</td>\n",
       "      <td>0</td>\n",
       "      <td>0</td>\n",
       "      <td>48</td>\n",
       "    </tr>\n",
       "    <tr>\n",
       "      <th>10.0</th>\n",
       "      <td>14</td>\n",
       "      <td>0</td>\n",
       "      <td>0</td>\n",
       "      <td>0</td>\n",
       "      <td>0</td>\n",
       "      <td>0</td>\n",
       "      <td>1</td>\n",
       "      <td>1</td>\n",
       "      <td>0</td>\n",
       "      <td>1</td>\n",
       "      <td>536</td>\n",
       "      <td>0</td>\n",
       "      <td>14</td>\n",
       "      <td>16</td>\n",
       "      <td>8</td>\n",
       "    </tr>\n",
       "    <tr>\n",
       "      <th>11.0</th>\n",
       "      <td>8</td>\n",
       "      <td>1</td>\n",
       "      <td>3</td>\n",
       "      <td>4</td>\n",
       "      <td>0</td>\n",
       "      <td>2</td>\n",
       "      <td>2</td>\n",
       "      <td>3</td>\n",
       "      <td>0</td>\n",
       "      <td>0</td>\n",
       "      <td>0</td>\n",
       "      <td>524</td>\n",
       "      <td>50</td>\n",
       "      <td>6</td>\n",
       "      <td>0</td>\n",
       "    </tr>\n",
       "    <tr>\n",
       "      <th>12.0</th>\n",
       "      <td>12</td>\n",
       "      <td>0</td>\n",
       "      <td>1</td>\n",
       "      <td>0</td>\n",
       "      <td>0</td>\n",
       "      <td>0</td>\n",
       "      <td>0</td>\n",
       "      <td>1</td>\n",
       "      <td>0</td>\n",
       "      <td>0</td>\n",
       "      <td>12</td>\n",
       "      <td>38</td>\n",
       "      <td>510</td>\n",
       "      <td>19</td>\n",
       "      <td>0</td>\n",
       "    </tr>\n",
       "    <tr>\n",
       "      <th>13.0</th>\n",
       "      <td>29</td>\n",
       "      <td>4</td>\n",
       "      <td>2</td>\n",
       "      <td>0</td>\n",
       "      <td>1</td>\n",
       "      <td>1</td>\n",
       "      <td>6</td>\n",
       "      <td>3</td>\n",
       "      <td>0</td>\n",
       "      <td>0</td>\n",
       "      <td>23</td>\n",
       "      <td>5</td>\n",
       "      <td>23</td>\n",
       "      <td>526</td>\n",
       "      <td>1</td>\n",
       "    </tr>\n",
       "    <tr>\n",
       "      <th>14.0</th>\n",
       "      <td>25</td>\n",
       "      <td>5</td>\n",
       "      <td>1</td>\n",
       "      <td>0</td>\n",
       "      <td>2</td>\n",
       "      <td>0</td>\n",
       "      <td>14</td>\n",
       "      <td>8</td>\n",
       "      <td>0</td>\n",
       "      <td>26</td>\n",
       "      <td>9</td>\n",
       "      <td>0</td>\n",
       "      <td>0</td>\n",
       "      <td>0</td>\n",
       "      <td>508</td>\n",
       "    </tr>\n",
       "  </tbody>\n",
       "</table>\n",
       "</div>"
      ],
      "text/plain": [
       "Actual     0.0   1.0   2.0   3.0   4.0   5.0   6.0   7.0   8.0   9.0   10.0  \\\n",
       "Predicted                                                                     \n",
       "0.0         419    17    50     4    13    31    69   137     1     6    19   \n",
       "1.0          14   241    15    12     2    24    18    19     0     2     0   \n",
       "2.0          23     8   192     6    16    61    12   152     2     0     0   \n",
       "3.0           1    14     6     7     1    10     3     1     0     0     1   \n",
       "4.0          12     2    14     0   130    13     6    59     0     0     0   \n",
       "5.0          32    31    71    25    21   148    12    43     1     0     0   \n",
       "6.0          48     6     3     1     3     4    82    93     1     4     0   \n",
       "7.0         229    11   236    17   176   117   180   648     2     1     1   \n",
       "8.0           6     3     2     0     0     0     3     5   571     0     0   \n",
       "9.0          16     7     1     1     0     2     8     4     0   550     2   \n",
       "10.0         14     0     0     0     0     0     1     1     0     1   536   \n",
       "11.0          8     1     3     4     0     2     2     3     0     0     0   \n",
       "12.0         12     0     1     0     0     0     0     1     0     0    12   \n",
       "13.0         29     4     2     0     1     1     6     3     0     0    23   \n",
       "14.0         25     5     1     0     2     0    14     8     0    26     9   \n",
       "\n",
       "Actual     11.0  12.0  13.0  14.0  \n",
       "Predicted                          \n",
       "0.0          10    12    23    23  \n",
       "1.0           0     0     4     5  \n",
       "2.0           0     0     0     1  \n",
       "3.0           2     0     0     0  \n",
       "4.0           0     0     0     0  \n",
       "5.0           0     0     0     0  \n",
       "6.0           0     0     5     6  \n",
       "7.0           4     1     2    13  \n",
       "8.0           0     0     0     0  \n",
       "9.0           0     0     0    48  \n",
       "10.0          0    14    16     8  \n",
       "11.0        524    50     6     0  \n",
       "12.0         38   510    19     0  \n",
       "13.0          5    23   526     1  \n",
       "14.0          0     0     0   508  "
      ]
     },
     "execution_count": 62,
     "metadata": {},
     "output_type": "execute_result"
    }
   ],
   "source": [
    "#Look at confusion matrix\n",
    "boost_conf_mat"
   ]
  },
  {
   "cell_type": "code",
   "execution_count": 63,
   "metadata": {
    "execution": {
     "iopub.execute_input": "2021-01-09T19:09:59.678594Z",
     "iopub.status.busy": "2021-01-09T19:09:59.677857Z",
     "iopub.status.idle": "2021-01-09T19:09:59.695503Z",
     "shell.execute_reply": "2021-01-09T19:09:59.694826Z"
    },
    "papermill": {
     "duration": 0.089281,
     "end_time": "2021-01-09T19:09:59.695656",
     "exception": false,
     "start_time": "2021-01-09T19:09:59.606375",
     "status": "completed"
    },
    "tags": []
   },
   "outputs": [],
   "source": [
    "correct_class = list(np.diag(boost_conf_mat))\n",
    "actual_sums = list(boost_conf_mat.sum(axis=0))\n",
    "boost_corr_per = pd.DataFrame(np.divide(correct_class,actual_sums)).transpose()"
   ]
  },
  {
   "cell_type": "code",
   "execution_count": 64,
   "metadata": {
    "execution": {
     "iopub.execute_input": "2021-01-09T19:09:59.843774Z",
     "iopub.status.busy": "2021-01-09T19:09:59.842714Z",
     "iopub.status.idle": "2021-01-09T19:09:59.872988Z",
     "shell.execute_reply": "2021-01-09T19:09:59.873627Z"
    },
    "papermill": {
     "duration": 0.107009,
     "end_time": "2021-01-09T19:09:59.873776",
     "exception": false,
     "start_time": "2021-01-09T19:09:59.766767",
     "status": "completed"
    },
    "tags": []
   },
   "outputs": [
    {
     "data": {
      "text/html": [
       "<div>\n",
       "<style scoped>\n",
       "    .dataframe tbody tr th:only-of-type {\n",
       "        vertical-align: middle;\n",
       "    }\n",
       "\n",
       "    .dataframe tbody tr th {\n",
       "        vertical-align: top;\n",
       "    }\n",
       "\n",
       "    .dataframe thead th {\n",
       "        text-align: right;\n",
       "    }\n",
       "</style>\n",
       "<table border=\"1\" class=\"dataframe\">\n",
       "  <thead>\n",
       "    <tr style=\"text-align: right;\">\n",
       "      <th></th>\n",
       "      <th>0.0</th>\n",
       "      <th>1.0</th>\n",
       "      <th>2.0</th>\n",
       "      <th>3.0</th>\n",
       "      <th>4.0</th>\n",
       "      <th>5.0</th>\n",
       "      <th>6.0</th>\n",
       "      <th>7.0</th>\n",
       "      <th>8.0</th>\n",
       "      <th>9.0</th>\n",
       "      <th>10.0</th>\n",
       "      <th>11.0</th>\n",
       "      <th>12.0</th>\n",
       "      <th>13.0</th>\n",
       "      <th>14.0</th>\n",
       "    </tr>\n",
       "  </thead>\n",
       "  <tbody>\n",
       "    <tr>\n",
       "      <th>0.0</th>\n",
       "      <td>419.000000</td>\n",
       "      <td>17.000000</td>\n",
       "      <td>50.000000</td>\n",
       "      <td>4.000000</td>\n",
       "      <td>13.000000</td>\n",
       "      <td>31.000000</td>\n",
       "      <td>69.000000</td>\n",
       "      <td>137.000000</td>\n",
       "      <td>1.000000</td>\n",
       "      <td>6.000000</td>\n",
       "      <td>19.000000</td>\n",
       "      <td>10.000000</td>\n",
       "      <td>12.000000</td>\n",
       "      <td>23.000000</td>\n",
       "      <td>23.000000</td>\n",
       "    </tr>\n",
       "    <tr>\n",
       "      <th>1.0</th>\n",
       "      <td>14.000000</td>\n",
       "      <td>241.000000</td>\n",
       "      <td>15.000000</td>\n",
       "      <td>12.000000</td>\n",
       "      <td>2.000000</td>\n",
       "      <td>24.000000</td>\n",
       "      <td>18.000000</td>\n",
       "      <td>19.000000</td>\n",
       "      <td>0.000000</td>\n",
       "      <td>2.000000</td>\n",
       "      <td>0.000000</td>\n",
       "      <td>0.000000</td>\n",
       "      <td>0.000000</td>\n",
       "      <td>4.000000</td>\n",
       "      <td>5.000000</td>\n",
       "    </tr>\n",
       "    <tr>\n",
       "      <th>2.0</th>\n",
       "      <td>23.000000</td>\n",
       "      <td>8.000000</td>\n",
       "      <td>192.000000</td>\n",
       "      <td>6.000000</td>\n",
       "      <td>16.000000</td>\n",
       "      <td>61.000000</td>\n",
       "      <td>12.000000</td>\n",
       "      <td>152.000000</td>\n",
       "      <td>2.000000</td>\n",
       "      <td>0.000000</td>\n",
       "      <td>0.000000</td>\n",
       "      <td>0.000000</td>\n",
       "      <td>0.000000</td>\n",
       "      <td>0.000000</td>\n",
       "      <td>1.000000</td>\n",
       "    </tr>\n",
       "    <tr>\n",
       "      <th>3.0</th>\n",
       "      <td>1.000000</td>\n",
       "      <td>14.000000</td>\n",
       "      <td>6.000000</td>\n",
       "      <td>7.000000</td>\n",
       "      <td>1.000000</td>\n",
       "      <td>10.000000</td>\n",
       "      <td>3.000000</td>\n",
       "      <td>1.000000</td>\n",
       "      <td>0.000000</td>\n",
       "      <td>0.000000</td>\n",
       "      <td>1.000000</td>\n",
       "      <td>2.000000</td>\n",
       "      <td>0.000000</td>\n",
       "      <td>0.000000</td>\n",
       "      <td>0.000000</td>\n",
       "    </tr>\n",
       "    <tr>\n",
       "      <th>4.0</th>\n",
       "      <td>12.000000</td>\n",
       "      <td>2.000000</td>\n",
       "      <td>14.000000</td>\n",
       "      <td>0.000000</td>\n",
       "      <td>130.000000</td>\n",
       "      <td>13.000000</td>\n",
       "      <td>6.000000</td>\n",
       "      <td>59.000000</td>\n",
       "      <td>0.000000</td>\n",
       "      <td>0.000000</td>\n",
       "      <td>0.000000</td>\n",
       "      <td>0.000000</td>\n",
       "      <td>0.000000</td>\n",
       "      <td>0.000000</td>\n",
       "      <td>0.000000</td>\n",
       "    </tr>\n",
       "    <tr>\n",
       "      <th>5.0</th>\n",
       "      <td>32.000000</td>\n",
       "      <td>31.000000</td>\n",
       "      <td>71.000000</td>\n",
       "      <td>25.000000</td>\n",
       "      <td>21.000000</td>\n",
       "      <td>148.000000</td>\n",
       "      <td>12.000000</td>\n",
       "      <td>43.000000</td>\n",
       "      <td>1.000000</td>\n",
       "      <td>0.000000</td>\n",
       "      <td>0.000000</td>\n",
       "      <td>0.000000</td>\n",
       "      <td>0.000000</td>\n",
       "      <td>0.000000</td>\n",
       "      <td>0.000000</td>\n",
       "    </tr>\n",
       "    <tr>\n",
       "      <th>6.0</th>\n",
       "      <td>48.000000</td>\n",
       "      <td>6.000000</td>\n",
       "      <td>3.000000</td>\n",
       "      <td>1.000000</td>\n",
       "      <td>3.000000</td>\n",
       "      <td>4.000000</td>\n",
       "      <td>82.000000</td>\n",
       "      <td>93.000000</td>\n",
       "      <td>1.000000</td>\n",
       "      <td>4.000000</td>\n",
       "      <td>0.000000</td>\n",
       "      <td>0.000000</td>\n",
       "      <td>0.000000</td>\n",
       "      <td>5.000000</td>\n",
       "      <td>6.000000</td>\n",
       "    </tr>\n",
       "    <tr>\n",
       "      <th>7.0</th>\n",
       "      <td>229.000000</td>\n",
       "      <td>11.000000</td>\n",
       "      <td>236.000000</td>\n",
       "      <td>17.000000</td>\n",
       "      <td>176.000000</td>\n",
       "      <td>117.000000</td>\n",
       "      <td>180.000000</td>\n",
       "      <td>648.000000</td>\n",
       "      <td>2.000000</td>\n",
       "      <td>1.000000</td>\n",
       "      <td>1.000000</td>\n",
       "      <td>4.000000</td>\n",
       "      <td>1.000000</td>\n",
       "      <td>2.000000</td>\n",
       "      <td>13.000000</td>\n",
       "    </tr>\n",
       "    <tr>\n",
       "      <th>8.0</th>\n",
       "      <td>6.000000</td>\n",
       "      <td>3.000000</td>\n",
       "      <td>2.000000</td>\n",
       "      <td>0.000000</td>\n",
       "      <td>0.000000</td>\n",
       "      <td>0.000000</td>\n",
       "      <td>3.000000</td>\n",
       "      <td>5.000000</td>\n",
       "      <td>571.000000</td>\n",
       "      <td>0.000000</td>\n",
       "      <td>0.000000</td>\n",
       "      <td>0.000000</td>\n",
       "      <td>0.000000</td>\n",
       "      <td>0.000000</td>\n",
       "      <td>0.000000</td>\n",
       "    </tr>\n",
       "    <tr>\n",
       "      <th>9.0</th>\n",
       "      <td>16.000000</td>\n",
       "      <td>7.000000</td>\n",
       "      <td>1.000000</td>\n",
       "      <td>1.000000</td>\n",
       "      <td>0.000000</td>\n",
       "      <td>2.000000</td>\n",
       "      <td>8.000000</td>\n",
       "      <td>4.000000</td>\n",
       "      <td>0.000000</td>\n",
       "      <td>550.000000</td>\n",
       "      <td>2.000000</td>\n",
       "      <td>0.000000</td>\n",
       "      <td>0.000000</td>\n",
       "      <td>0.000000</td>\n",
       "      <td>48.000000</td>\n",
       "    </tr>\n",
       "    <tr>\n",
       "      <th>10.0</th>\n",
       "      <td>14.000000</td>\n",
       "      <td>0.000000</td>\n",
       "      <td>0.000000</td>\n",
       "      <td>0.000000</td>\n",
       "      <td>0.000000</td>\n",
       "      <td>0.000000</td>\n",
       "      <td>1.000000</td>\n",
       "      <td>1.000000</td>\n",
       "      <td>0.000000</td>\n",
       "      <td>1.000000</td>\n",
       "      <td>536.000000</td>\n",
       "      <td>0.000000</td>\n",
       "      <td>14.000000</td>\n",
       "      <td>16.000000</td>\n",
       "      <td>8.000000</td>\n",
       "    </tr>\n",
       "    <tr>\n",
       "      <th>11.0</th>\n",
       "      <td>8.000000</td>\n",
       "      <td>1.000000</td>\n",
       "      <td>3.000000</td>\n",
       "      <td>4.000000</td>\n",
       "      <td>0.000000</td>\n",
       "      <td>2.000000</td>\n",
       "      <td>2.000000</td>\n",
       "      <td>3.000000</td>\n",
       "      <td>0.000000</td>\n",
       "      <td>0.000000</td>\n",
       "      <td>0.000000</td>\n",
       "      <td>524.000000</td>\n",
       "      <td>50.000000</td>\n",
       "      <td>6.000000</td>\n",
       "      <td>0.000000</td>\n",
       "    </tr>\n",
       "    <tr>\n",
       "      <th>12.0</th>\n",
       "      <td>12.000000</td>\n",
       "      <td>0.000000</td>\n",
       "      <td>1.000000</td>\n",
       "      <td>0.000000</td>\n",
       "      <td>0.000000</td>\n",
       "      <td>0.000000</td>\n",
       "      <td>0.000000</td>\n",
       "      <td>1.000000</td>\n",
       "      <td>0.000000</td>\n",
       "      <td>0.000000</td>\n",
       "      <td>12.000000</td>\n",
       "      <td>38.000000</td>\n",
       "      <td>510.000000</td>\n",
       "      <td>19.000000</td>\n",
       "      <td>0.000000</td>\n",
       "    </tr>\n",
       "    <tr>\n",
       "      <th>13.0</th>\n",
       "      <td>29.000000</td>\n",
       "      <td>4.000000</td>\n",
       "      <td>2.000000</td>\n",
       "      <td>0.000000</td>\n",
       "      <td>1.000000</td>\n",
       "      <td>1.000000</td>\n",
       "      <td>6.000000</td>\n",
       "      <td>3.000000</td>\n",
       "      <td>0.000000</td>\n",
       "      <td>0.000000</td>\n",
       "      <td>23.000000</td>\n",
       "      <td>5.000000</td>\n",
       "      <td>23.000000</td>\n",
       "      <td>526.000000</td>\n",
       "      <td>1.000000</td>\n",
       "    </tr>\n",
       "    <tr>\n",
       "      <th>14.0</th>\n",
       "      <td>25.000000</td>\n",
       "      <td>5.000000</td>\n",
       "      <td>1.000000</td>\n",
       "      <td>0.000000</td>\n",
       "      <td>2.000000</td>\n",
       "      <td>0.000000</td>\n",
       "      <td>14.000000</td>\n",
       "      <td>8.000000</td>\n",
       "      <td>0.000000</td>\n",
       "      <td>26.000000</td>\n",
       "      <td>9.000000</td>\n",
       "      <td>0.000000</td>\n",
       "      <td>0.000000</td>\n",
       "      <td>0.000000</td>\n",
       "      <td>508.000000</td>\n",
       "    </tr>\n",
       "    <tr>\n",
       "      <th>0.0</th>\n",
       "      <td>0.471847</td>\n",
       "      <td>0.688571</td>\n",
       "      <td>0.321608</td>\n",
       "      <td>0.090909</td>\n",
       "      <td>0.356164</td>\n",
       "      <td>0.358354</td>\n",
       "      <td>0.197115</td>\n",
       "      <td>0.550552</td>\n",
       "      <td>0.987889</td>\n",
       "      <td>0.932203</td>\n",
       "      <td>0.888889</td>\n",
       "      <td>0.898799</td>\n",
       "      <td>0.836066</td>\n",
       "      <td>0.875208</td>\n",
       "      <td>0.828711</td>\n",
       "    </tr>\n",
       "  </tbody>\n",
       "</table>\n",
       "</div>"
      ],
      "text/plain": [
       "            0.0         1.0         2.0        3.0         4.0         5.0   \\\n",
       "0.0   419.000000   17.000000   50.000000   4.000000   13.000000   31.000000   \n",
       "1.0    14.000000  241.000000   15.000000  12.000000    2.000000   24.000000   \n",
       "2.0    23.000000    8.000000  192.000000   6.000000   16.000000   61.000000   \n",
       "3.0     1.000000   14.000000    6.000000   7.000000    1.000000   10.000000   \n",
       "4.0    12.000000    2.000000   14.000000   0.000000  130.000000   13.000000   \n",
       "5.0    32.000000   31.000000   71.000000  25.000000   21.000000  148.000000   \n",
       "6.0    48.000000    6.000000    3.000000   1.000000    3.000000    4.000000   \n",
       "7.0   229.000000   11.000000  236.000000  17.000000  176.000000  117.000000   \n",
       "8.0     6.000000    3.000000    2.000000   0.000000    0.000000    0.000000   \n",
       "9.0    16.000000    7.000000    1.000000   1.000000    0.000000    2.000000   \n",
       "10.0   14.000000    0.000000    0.000000   0.000000    0.000000    0.000000   \n",
       "11.0    8.000000    1.000000    3.000000   4.000000    0.000000    2.000000   \n",
       "12.0   12.000000    0.000000    1.000000   0.000000    0.000000    0.000000   \n",
       "13.0   29.000000    4.000000    2.000000   0.000000    1.000000    1.000000   \n",
       "14.0   25.000000    5.000000    1.000000   0.000000    2.000000    0.000000   \n",
       "0.0     0.471847    0.688571    0.321608   0.090909    0.356164    0.358354   \n",
       "\n",
       "            6.0         7.0         8.0         9.0         10.0        11.0  \\\n",
       "0.0    69.000000  137.000000    1.000000    6.000000   19.000000   10.000000   \n",
       "1.0    18.000000   19.000000    0.000000    2.000000    0.000000    0.000000   \n",
       "2.0    12.000000  152.000000    2.000000    0.000000    0.000000    0.000000   \n",
       "3.0     3.000000    1.000000    0.000000    0.000000    1.000000    2.000000   \n",
       "4.0     6.000000   59.000000    0.000000    0.000000    0.000000    0.000000   \n",
       "5.0    12.000000   43.000000    1.000000    0.000000    0.000000    0.000000   \n",
       "6.0    82.000000   93.000000    1.000000    4.000000    0.000000    0.000000   \n",
       "7.0   180.000000  648.000000    2.000000    1.000000    1.000000    4.000000   \n",
       "8.0     3.000000    5.000000  571.000000    0.000000    0.000000    0.000000   \n",
       "9.0     8.000000    4.000000    0.000000  550.000000    2.000000    0.000000   \n",
       "10.0    1.000000    1.000000    0.000000    1.000000  536.000000    0.000000   \n",
       "11.0    2.000000    3.000000    0.000000    0.000000    0.000000  524.000000   \n",
       "12.0    0.000000    1.000000    0.000000    0.000000   12.000000   38.000000   \n",
       "13.0    6.000000    3.000000    0.000000    0.000000   23.000000    5.000000   \n",
       "14.0   14.000000    8.000000    0.000000   26.000000    9.000000    0.000000   \n",
       "0.0     0.197115    0.550552    0.987889    0.932203    0.888889    0.898799   \n",
       "\n",
       "            12.0        13.0        14.0  \n",
       "0.0    12.000000   23.000000   23.000000  \n",
       "1.0     0.000000    4.000000    5.000000  \n",
       "2.0     0.000000    0.000000    1.000000  \n",
       "3.0     0.000000    0.000000    0.000000  \n",
       "4.0     0.000000    0.000000    0.000000  \n",
       "5.0     0.000000    0.000000    0.000000  \n",
       "6.0     0.000000    5.000000    6.000000  \n",
       "7.0     1.000000    2.000000   13.000000  \n",
       "8.0     0.000000    0.000000    0.000000  \n",
       "9.0     0.000000    0.000000   48.000000  \n",
       "10.0   14.000000   16.000000    8.000000  \n",
       "11.0   50.000000    6.000000    0.000000  \n",
       "12.0  510.000000   19.000000    0.000000  \n",
       "13.0   23.000000  526.000000    1.000000  \n",
       "14.0    0.000000    0.000000  508.000000  \n",
       "0.0     0.836066    0.875208    0.828711  "
      ]
     },
     "execution_count": 64,
     "metadata": {},
     "output_type": "execute_result"
    }
   ],
   "source": [
    "#A confusion matrox for the boosting with percent correct for each column tacked onto bottom\n",
    "pd.concat([boost_conf_mat,boost_corr_per],axis=0)"
   ]
  },
  {
   "cell_type": "code",
   "execution_count": 65,
   "metadata": {
    "execution": {
     "iopub.execute_input": "2021-01-09T19:10:00.053401Z",
     "iopub.status.busy": "2021-01-09T19:10:00.052200Z",
     "iopub.status.idle": "2021-01-09T19:10:00.069056Z",
     "shell.execute_reply": "2021-01-09T19:10:00.069776Z"
    },
    "papermill": {
     "duration": 0.117261,
     "end_time": "2021-01-09T19:10:00.069962",
     "exception": false,
     "start_time": "2021-01-09T19:09:59.952701",
     "status": "completed"
    },
    "tags": []
   },
   "outputs": [
    {
     "data": {
      "text/html": [
       "<div>\n",
       "<style scoped>\n",
       "    .dataframe tbody tr th:only-of-type {\n",
       "        vertical-align: middle;\n",
       "    }\n",
       "\n",
       "    .dataframe tbody tr th {\n",
       "        vertical-align: top;\n",
       "    }\n",
       "\n",
       "    .dataframe thead th {\n",
       "        text-align: right;\n",
       "    }\n",
       "</style>\n",
       "<table border=\"1\" class=\"dataframe\">\n",
       "  <thead>\n",
       "    <tr style=\"text-align: right;\">\n",
       "      <th></th>\n",
       "      <th>0</th>\n",
       "      <th>1</th>\n",
       "      <th>2</th>\n",
       "      <th>3</th>\n",
       "      <th>4</th>\n",
       "      <th>5</th>\n",
       "      <th>6</th>\n",
       "      <th>7</th>\n",
       "      <th>8</th>\n",
       "      <th>9</th>\n",
       "      <th>10</th>\n",
       "      <th>11</th>\n",
       "      <th>12</th>\n",
       "      <th>13</th>\n",
       "      <th>14</th>\n",
       "    </tr>\n",
       "  </thead>\n",
       "  <tbody>\n",
       "    <tr>\n",
       "      <th>0</th>\n",
       "      <td>0.343468</td>\n",
       "      <td>0.428571</td>\n",
       "      <td>0.197655</td>\n",
       "      <td>0.0</td>\n",
       "      <td>0.271233</td>\n",
       "      <td>0.239709</td>\n",
       "      <td>0.069712</td>\n",
       "      <td>0.62192</td>\n",
       "      <td>0.757785</td>\n",
       "      <td>0.684746</td>\n",
       "      <td>0.751244</td>\n",
       "      <td>0.759863</td>\n",
       "      <td>0.759016</td>\n",
       "      <td>0.688852</td>\n",
       "      <td>0.655791</td>\n",
       "    </tr>\n",
       "  </tbody>\n",
       "</table>\n",
       "</div>"
      ],
      "text/plain": [
       "         0         1         2    3         4         5         6        7   \\\n",
       "0  0.343468  0.428571  0.197655  0.0  0.271233  0.239709  0.069712  0.62192   \n",
       "\n",
       "         8         9         10        11        12        13        14  \n",
       "0  0.757785  0.684746  0.751244  0.759863  0.759016  0.688852  0.655791  "
      ]
     },
     "execution_count": 65,
     "metadata": {},
     "output_type": "execute_result"
    }
   ],
   "source": [
    "#The percent correct from each column from the logistic regression, for comparison.\n",
    "#It can be seen that almost universally the boosting scores are better. The only thing thats' worse is the class 7 score.\n",
    "#The class 8 on the boosting is almost perfect\n",
    "corr_per"
   ]
  },
  {
   "cell_type": "code",
   "execution_count": 66,
   "metadata": {
    "execution": {
     "iopub.execute_input": "2021-01-09T19:10:00.226392Z",
     "iopub.status.busy": "2021-01-09T19:10:00.225311Z",
     "iopub.status.idle": "2021-01-09T19:10:00.288572Z",
     "shell.execute_reply": "2021-01-09T19:10:00.289201Z"
    },
    "papermill": {
     "duration": 0.13859,
     "end_time": "2021-01-09T19:10:00.289377",
     "exception": false,
     "start_time": "2021-01-09T19:10:00.150787",
     "status": "completed"
    },
    "tags": []
   },
   "outputs": [
    {
     "data": {
      "text/html": [
       "<div>                            <div id=\"38f00388-7807-410e-8042-2b454f0a5aea\" class=\"plotly-graph-div\" style=\"height:525px; width:100%;\"></div>            <script type=\"text/javascript\">                require([\"plotly\"], function(Plotly) {                    window.PLOTLYENV=window.PLOTLYENV || {};                                    if (document.getElementById(\"38f00388-7807-410e-8042-2b454f0a5aea\")) {                    Plotly.newPlot(                        \"38f00388-7807-410e-8042-2b454f0a5aea\",                        [{\"coloraxis\": \"coloraxis\", \"hovertemplate\": \"Actual: %{x}<br>Predicted: %{y}<br>color: %{z}<extra></extra>\", \"name\": \"0\", \"type\": \"heatmap\", \"x\": [0.0, 1.0, 2.0, 3.0, 4.0, 5.0, 6.0, 7.0, 8.0, 9.0, 10.0, 11.0, 12.0, 13.0, 14.0], \"xaxis\": \"x\", \"y\": [0.0, 1.0, 2.0, 3.0, 4.0, 5.0, 6.0, 7.0, 8.0, 9.0, 10.0, 11.0, 12.0, 13.0, 14.0], \"yaxis\": \"y\", \"z\": [[419, 17, 50, 4, 13, 31, 69, 137, 1, 6, 19, 10, 12, 23, 23], [14, 241, 15, 12, 2, 24, 18, 19, 0, 2, 0, 0, 0, 4, 5], [23, 8, 192, 6, 16, 61, 12, 152, 2, 0, 0, 0, 0, 0, 1], [1, 14, 6, 7, 1, 10, 3, 1, 0, 0, 1, 2, 0, 0, 0], [12, 2, 14, 0, 130, 13, 6, 59, 0, 0, 0, 0, 0, 0, 0], [32, 31, 71, 25, 21, 148, 12, 43, 1, 0, 0, 0, 0, 0, 0], [48, 6, 3, 1, 3, 4, 82, 93, 1, 4, 0, 0, 0, 5, 6], [229, 11, 236, 17, 176, 117, 180, 648, 2, 1, 1, 4, 1, 2, 13], [6, 3, 2, 0, 0, 0, 3, 5, 571, 0, 0, 0, 0, 0, 0], [16, 7, 1, 1, 0, 2, 8, 4, 0, 550, 2, 0, 0, 0, 48], [14, 0, 0, 0, 0, 0, 1, 1, 0, 1, 536, 0, 14, 16, 8], [8, 1, 3, 4, 0, 2, 2, 3, 0, 0, 0, 524, 50, 6, 0], [12, 0, 1, 0, 0, 0, 0, 1, 0, 0, 12, 38, 510, 19, 0], [29, 4, 2, 0, 1, 1, 6, 3, 0, 0, 23, 5, 23, 526, 1], [25, 5, 1, 0, 2, 0, 14, 8, 0, 26, 9, 0, 0, 0, 508]]}],                        {\"coloraxis\": {\"colorscale\": [[0.0, \"#0d0887\"], [0.1111111111111111, \"#46039f\"], [0.2222222222222222, \"#7201a8\"], [0.3333333333333333, \"#9c179e\"], [0.4444444444444444, \"#bd3786\"], [0.5555555555555556, \"#d8576b\"], [0.6666666666666666, \"#ed7953\"], [0.7777777777777778, \"#fb9f3a\"], [0.8888888888888888, \"#fdca26\"], [1.0, \"#f0f921\"]]}, \"margin\": {\"t\": 60}, \"template\": {\"data\": {\"bar\": [{\"error_x\": {\"color\": \"#2a3f5f\"}, \"error_y\": {\"color\": \"#2a3f5f\"}, \"marker\": {\"line\": {\"color\": \"#E5ECF6\", \"width\": 0.5}}, \"type\": \"bar\"}], \"barpolar\": [{\"marker\": {\"line\": {\"color\": \"#E5ECF6\", \"width\": 0.5}}, \"type\": \"barpolar\"}], \"carpet\": [{\"aaxis\": {\"endlinecolor\": \"#2a3f5f\", \"gridcolor\": \"white\", \"linecolor\": \"white\", \"minorgridcolor\": \"white\", \"startlinecolor\": \"#2a3f5f\"}, \"baxis\": {\"endlinecolor\": \"#2a3f5f\", \"gridcolor\": \"white\", \"linecolor\": \"white\", \"minorgridcolor\": \"white\", \"startlinecolor\": \"#2a3f5f\"}, \"type\": \"carpet\"}], \"choropleth\": [{\"colorbar\": {\"outlinewidth\": 0, \"ticks\": \"\"}, \"type\": \"choropleth\"}], \"contour\": [{\"colorbar\": {\"outlinewidth\": 0, \"ticks\": \"\"}, \"colorscale\": [[0.0, \"#0d0887\"], [0.1111111111111111, \"#46039f\"], [0.2222222222222222, \"#7201a8\"], [0.3333333333333333, \"#9c179e\"], [0.4444444444444444, \"#bd3786\"], [0.5555555555555556, \"#d8576b\"], [0.6666666666666666, \"#ed7953\"], [0.7777777777777778, \"#fb9f3a\"], [0.8888888888888888, \"#fdca26\"], [1.0, \"#f0f921\"]], \"type\": \"contour\"}], \"contourcarpet\": [{\"colorbar\": {\"outlinewidth\": 0, \"ticks\": \"\"}, \"type\": \"contourcarpet\"}], \"heatmap\": [{\"colorbar\": {\"outlinewidth\": 0, \"ticks\": \"\"}, \"colorscale\": [[0.0, \"#0d0887\"], [0.1111111111111111, \"#46039f\"], [0.2222222222222222, \"#7201a8\"], [0.3333333333333333, \"#9c179e\"], [0.4444444444444444, \"#bd3786\"], [0.5555555555555556, \"#d8576b\"], [0.6666666666666666, \"#ed7953\"], [0.7777777777777778, \"#fb9f3a\"], [0.8888888888888888, \"#fdca26\"], [1.0, \"#f0f921\"]], \"type\": \"heatmap\"}], \"heatmapgl\": [{\"colorbar\": {\"outlinewidth\": 0, \"ticks\": \"\"}, \"colorscale\": [[0.0, \"#0d0887\"], [0.1111111111111111, \"#46039f\"], [0.2222222222222222, \"#7201a8\"], [0.3333333333333333, \"#9c179e\"], [0.4444444444444444, \"#bd3786\"], [0.5555555555555556, \"#d8576b\"], [0.6666666666666666, \"#ed7953\"], [0.7777777777777778, \"#fb9f3a\"], [0.8888888888888888, \"#fdca26\"], [1.0, \"#f0f921\"]], \"type\": \"heatmapgl\"}], \"histogram\": [{\"marker\": {\"colorbar\": {\"outlinewidth\": 0, \"ticks\": \"\"}}, \"type\": \"histogram\"}], \"histogram2d\": [{\"colorbar\": {\"outlinewidth\": 0, \"ticks\": \"\"}, \"colorscale\": [[0.0, \"#0d0887\"], [0.1111111111111111, \"#46039f\"], [0.2222222222222222, \"#7201a8\"], [0.3333333333333333, \"#9c179e\"], [0.4444444444444444, \"#bd3786\"], [0.5555555555555556, \"#d8576b\"], [0.6666666666666666, \"#ed7953\"], [0.7777777777777778, \"#fb9f3a\"], [0.8888888888888888, \"#fdca26\"], [1.0, \"#f0f921\"]], \"type\": \"histogram2d\"}], \"histogram2dcontour\": [{\"colorbar\": {\"outlinewidth\": 0, \"ticks\": \"\"}, \"colorscale\": [[0.0, \"#0d0887\"], [0.1111111111111111, \"#46039f\"], [0.2222222222222222, \"#7201a8\"], [0.3333333333333333, \"#9c179e\"], [0.4444444444444444, \"#bd3786\"], [0.5555555555555556, \"#d8576b\"], [0.6666666666666666, \"#ed7953\"], [0.7777777777777778, \"#fb9f3a\"], [0.8888888888888888, \"#fdca26\"], [1.0, \"#f0f921\"]], \"type\": \"histogram2dcontour\"}], \"mesh3d\": [{\"colorbar\": {\"outlinewidth\": 0, \"ticks\": \"\"}, \"type\": \"mesh3d\"}], \"parcoords\": [{\"line\": {\"colorbar\": {\"outlinewidth\": 0, \"ticks\": \"\"}}, \"type\": \"parcoords\"}], \"pie\": [{\"automargin\": true, \"type\": \"pie\"}], \"scatter\": [{\"marker\": {\"colorbar\": {\"outlinewidth\": 0, \"ticks\": \"\"}}, \"type\": \"scatter\"}], \"scatter3d\": [{\"line\": {\"colorbar\": {\"outlinewidth\": 0, \"ticks\": \"\"}}, \"marker\": {\"colorbar\": {\"outlinewidth\": 0, \"ticks\": \"\"}}, \"type\": \"scatter3d\"}], \"scattercarpet\": [{\"marker\": {\"colorbar\": {\"outlinewidth\": 0, \"ticks\": \"\"}}, \"type\": \"scattercarpet\"}], \"scattergeo\": [{\"marker\": {\"colorbar\": {\"outlinewidth\": 0, \"ticks\": \"\"}}, \"type\": \"scattergeo\"}], \"scattergl\": [{\"marker\": {\"colorbar\": {\"outlinewidth\": 0, \"ticks\": \"\"}}, \"type\": \"scattergl\"}], \"scattermapbox\": [{\"marker\": {\"colorbar\": {\"outlinewidth\": 0, \"ticks\": \"\"}}, \"type\": \"scattermapbox\"}], \"scatterpolar\": [{\"marker\": {\"colorbar\": {\"outlinewidth\": 0, \"ticks\": \"\"}}, \"type\": \"scatterpolar\"}], \"scatterpolargl\": [{\"marker\": {\"colorbar\": {\"outlinewidth\": 0, \"ticks\": \"\"}}, \"type\": \"scatterpolargl\"}], \"scatterternary\": [{\"marker\": {\"colorbar\": {\"outlinewidth\": 0, \"ticks\": \"\"}}, \"type\": \"scatterternary\"}], \"surface\": [{\"colorbar\": {\"outlinewidth\": 0, \"ticks\": \"\"}, \"colorscale\": [[0.0, \"#0d0887\"], [0.1111111111111111, \"#46039f\"], [0.2222222222222222, \"#7201a8\"], [0.3333333333333333, \"#9c179e\"], [0.4444444444444444, \"#bd3786\"], [0.5555555555555556, \"#d8576b\"], [0.6666666666666666, \"#ed7953\"], [0.7777777777777778, \"#fb9f3a\"], [0.8888888888888888, \"#fdca26\"], [1.0, \"#f0f921\"]], \"type\": \"surface\"}], \"table\": [{\"cells\": {\"fill\": {\"color\": \"#EBF0F8\"}, \"line\": {\"color\": \"white\"}}, \"header\": {\"fill\": {\"color\": \"#C8D4E3\"}, \"line\": {\"color\": \"white\"}}, \"type\": \"table\"}]}, \"layout\": {\"annotationdefaults\": {\"arrowcolor\": \"#2a3f5f\", \"arrowhead\": 0, \"arrowwidth\": 1}, \"autotypenumbers\": \"strict\", \"coloraxis\": {\"colorbar\": {\"outlinewidth\": 0, \"ticks\": \"\"}}, \"colorscale\": {\"diverging\": [[0, \"#8e0152\"], [0.1, \"#c51b7d\"], [0.2, \"#de77ae\"], [0.3, \"#f1b6da\"], [0.4, \"#fde0ef\"], [0.5, \"#f7f7f7\"], [0.6, \"#e6f5d0\"], [0.7, \"#b8e186\"], [0.8, \"#7fbc41\"], [0.9, \"#4d9221\"], [1, \"#276419\"]], \"sequential\": [[0.0, \"#0d0887\"], [0.1111111111111111, \"#46039f\"], [0.2222222222222222, \"#7201a8\"], [0.3333333333333333, \"#9c179e\"], [0.4444444444444444, \"#bd3786\"], [0.5555555555555556, \"#d8576b\"], [0.6666666666666666, \"#ed7953\"], [0.7777777777777778, \"#fb9f3a\"], [0.8888888888888888, \"#fdca26\"], [1.0, \"#f0f921\"]], \"sequentialminus\": [[0.0, \"#0d0887\"], [0.1111111111111111, \"#46039f\"], [0.2222222222222222, \"#7201a8\"], [0.3333333333333333, \"#9c179e\"], [0.4444444444444444, \"#bd3786\"], [0.5555555555555556, \"#d8576b\"], [0.6666666666666666, \"#ed7953\"], [0.7777777777777778, \"#fb9f3a\"], [0.8888888888888888, \"#fdca26\"], [1.0, \"#f0f921\"]]}, \"colorway\": [\"#636efa\", \"#EF553B\", \"#00cc96\", \"#ab63fa\", \"#FFA15A\", \"#19d3f3\", \"#FF6692\", \"#B6E880\", \"#FF97FF\", \"#FECB52\"], \"font\": {\"color\": \"#2a3f5f\"}, \"geo\": {\"bgcolor\": \"white\", \"lakecolor\": \"white\", \"landcolor\": \"#E5ECF6\", \"showlakes\": true, \"showland\": true, \"subunitcolor\": \"white\"}, \"hoverlabel\": {\"align\": \"left\"}, \"hovermode\": \"closest\", \"mapbox\": {\"style\": \"light\"}, \"paper_bgcolor\": \"white\", \"plot_bgcolor\": \"#E5ECF6\", \"polar\": {\"angularaxis\": {\"gridcolor\": \"white\", \"linecolor\": \"white\", \"ticks\": \"\"}, \"bgcolor\": \"#E5ECF6\", \"radialaxis\": {\"gridcolor\": \"white\", \"linecolor\": \"white\", \"ticks\": \"\"}}, \"scene\": {\"xaxis\": {\"backgroundcolor\": \"#E5ECF6\", \"gridcolor\": \"white\", \"gridwidth\": 2, \"linecolor\": \"white\", \"showbackground\": true, \"ticks\": \"\", \"zerolinecolor\": \"white\"}, \"yaxis\": {\"backgroundcolor\": \"#E5ECF6\", \"gridcolor\": \"white\", \"gridwidth\": 2, \"linecolor\": \"white\", \"showbackground\": true, \"ticks\": \"\", \"zerolinecolor\": \"white\"}, \"zaxis\": {\"backgroundcolor\": \"#E5ECF6\", \"gridcolor\": \"white\", \"gridwidth\": 2, \"linecolor\": \"white\", \"showbackground\": true, \"ticks\": \"\", \"zerolinecolor\": \"white\"}}, \"shapedefaults\": {\"line\": {\"color\": \"#2a3f5f\"}}, \"ternary\": {\"aaxis\": {\"gridcolor\": \"white\", \"linecolor\": \"white\", \"ticks\": \"\"}, \"baxis\": {\"gridcolor\": \"white\", \"linecolor\": \"white\", \"ticks\": \"\"}, \"bgcolor\": \"#E5ECF6\", \"caxis\": {\"gridcolor\": \"white\", \"linecolor\": \"white\", \"ticks\": \"\"}}, \"title\": {\"x\": 0.05}, \"xaxis\": {\"automargin\": true, \"gridcolor\": \"white\", \"linecolor\": \"white\", \"ticks\": \"\", \"title\": {\"standoff\": 15}, \"zerolinecolor\": \"white\", \"zerolinewidth\": 2}, \"yaxis\": {\"automargin\": true, \"gridcolor\": \"white\", \"linecolor\": \"white\", \"ticks\": \"\", \"title\": {\"standoff\": 15}, \"zerolinecolor\": \"white\", \"zerolinewidth\": 2}}}, \"xaxis\": {\"anchor\": \"y\", \"constrain\": \"domain\", \"domain\": [0.0, 1.0], \"scaleanchor\": \"y\", \"title\": {\"text\": \"Actual\"}}, \"yaxis\": {\"anchor\": \"x\", \"autorange\": \"reversed\", \"constrain\": \"domain\", \"domain\": [0.0, 1.0], \"title\": {\"text\": \"Predicted\"}}},                        {\"responsive\": true}                    ).then(function(){\n",
       "                            \n",
       "var gd = document.getElementById('38f00388-7807-410e-8042-2b454f0a5aea');\n",
       "var x = new MutationObserver(function (mutations, observer) {{\n",
       "        var display = window.getComputedStyle(gd).display;\n",
       "        if (!display || display === 'none') {{\n",
       "            console.log([gd, 'removed!']);\n",
       "            Plotly.purge(gd);\n",
       "            observer.disconnect();\n",
       "        }}\n",
       "}});\n",
       "\n",
       "// Listen for the removal of the full notebook cells\n",
       "var notebookContainer = gd.closest('#notebook-container');\n",
       "if (notebookContainer) {{\n",
       "    x.observe(notebookContainer, {childList: true});\n",
       "}}\n",
       "\n",
       "// Listen for the clearing of the current output cell\n",
       "var outputEl = gd.closest('.output');\n",
       "if (outputEl) {{\n",
       "    x.observe(outputEl, {childList: true});\n",
       "}}\n",
       "\n",
       "                        })                };                });            </script>        </div>"
      ]
     },
     "metadata": {},
     "output_type": "display_data"
    }
   ],
   "source": [
    "#Unscaled heat map.\n",
    "px.imshow(boost_conf_mat)"
   ]
  },
  {
   "cell_type": "code",
   "execution_count": 67,
   "metadata": {
    "execution": {
     "iopub.execute_input": "2021-01-09T19:10:00.438940Z",
     "iopub.status.busy": "2021-01-09T19:10:00.437918Z",
     "iopub.status.idle": "2021-01-09T19:10:00.447262Z",
     "shell.execute_reply": "2021-01-09T19:10:00.447837Z"
    },
    "papermill": {
     "duration": 0.082189,
     "end_time": "2021-01-09T19:10:00.447978",
     "exception": false,
     "start_time": "2021-01-09T19:10:00.365789",
     "status": "completed"
    },
    "tags": []
   },
   "outputs": [],
   "source": [
    "#Scale heat map\n",
    "scaled_boost_con =pd.DataFrame(preprocessing.StandardScaler().fit_transform(boost_conf_mat))"
   ]
  },
  {
   "cell_type": "code",
   "execution_count": 68,
   "metadata": {
    "execution": {
     "iopub.execute_input": "2021-01-09T19:10:00.600635Z",
     "iopub.status.busy": "2021-01-09T19:10:00.599655Z",
     "iopub.status.idle": "2021-01-09T19:10:00.648030Z",
     "shell.execute_reply": "2021-01-09T19:10:00.648589Z"
    },
    "papermill": {
     "duration": 0.119937,
     "end_time": "2021-01-09T19:10:00.648737",
     "exception": false,
     "start_time": "2021-01-09T19:10:00.528800",
     "status": "completed"
    },
    "tags": []
   },
   "outputs": [],
   "source": [
    "#Scaled heat map. Like before bright spots should be along diagonal\n",
    "scale_boost_map = px.imshow(scaled_boost_con)"
   ]
  },
  {
   "cell_type": "code",
   "execution_count": 69,
   "metadata": {
    "execution": {
     "iopub.execute_input": "2021-01-09T19:10:00.794971Z",
     "iopub.status.busy": "2021-01-09T19:10:00.793974Z",
     "iopub.status.idle": "2021-01-09T19:10:00.803767Z",
     "shell.execute_reply": "2021-01-09T19:10:00.804356Z"
    },
    "papermill": {
     "duration": 0.085411,
     "end_time": "2021-01-09T19:10:00.804500",
     "exception": false,
     "start_time": "2021-01-09T19:10:00.719089",
     "status": "completed"
    },
    "tags": []
   },
   "outputs": [
    {
     "data": {
      "text/html": [
       "<div>                            <div id=\"4d15b251-de30-45d9-8663-091b7de0251c\" class=\"plotly-graph-div\" style=\"height:525px; width:100%;\"></div>            <script type=\"text/javascript\">                require([\"plotly\"], function(Plotly) {                    window.PLOTLYENV=window.PLOTLYENV || {};                                    if (document.getElementById(\"4d15b251-de30-45d9-8663-091b7de0251c\")) {                    Plotly.newPlot(                        \"4d15b251-de30-45d9-8663-091b7de0251c\",                        [{\"coloraxis\": \"coloraxis\", \"hovertemplate\": \"x: %{x}<br>y: %{y}<br>color: %{z}<extra></extra>\", \"name\": \"0\", \"type\": \"heatmap\", \"x\": [0, 1, 2, 3, 4, 5, 6, 7, 8, 9, 10, 11, 12, 13, 14], \"xaxis\": \"x\", \"y\": [0, 1, 2, 3, 4, 5, 6, 7, 8, 9, 10, 11, 12, 13, 14], \"yaxis\": \"y\", \"z\": [[3.26827752130418, -0.10789325987171548, 0.14252483921367431, -0.15699071826606628, -0.21980083962712102, 0.07781101257653789, 0.8756399050833297, 0.3658868227822026, -0.2637444728070882, -0.2439631108044588, -0.15974765130044502, -0.22204877106031046, -0.22726364875232136, -0.1311985110693462, -0.14239763982610287], [-0.4105784990632267, 3.708120984012117, -0.3465309816175609, 0.9511790577296952, -0.4331369486769738, -0.07930737820300984, -0.20653219085971916, -0.3717210090224655, -0.27077141257992354, -0.27323868410099383, -0.3029177161451835, -0.2989709781250831, -0.32239726916026984, -0.2772593534707668, -0.28585794860613184], [-0.3288261430550621, -0.26121526074204804, 2.1266941694432573, 0.1200517257328741, -0.16161826443170663, 0.7511755444888853, -0.3338465550883131, 0.45965053021499935, -0.25671753303425277, -0.28787647074926137, -0.3029177161451835, -0.2989709781250831, -0.32239726916026984, -0.3080090045026448, -0.3177380172239161], [-0.5286652355194644, -0.1590005934951597, -0.47228819268845, 0.2585729477323443, -0.4525311404087786, -0.3935441597621053, -0.5248181014312041, -0.48423745794182166, -0.27077141257992354, -0.28787647074926137, -0.29538244957440773, -0.2835865367121286, -0.32239726916026984, -0.3080090045026448, -0.32570803437836215], [-0.42874568928726325, -0.3634299279889364, -0.36050400506988195, -0.7110756062639471, 2.04931959299404, -0.32620770657087056, -0.4611609193169071, -0.12168445586834073, -0.27077141257992354, -0.28787647074926137, -0.3029177161451835, -0.2989709781250831, -0.32239726916026984, -0.3080090045026448, -0.32570803437836215], [-0.24707378704689748, 0.13060763037102405, 0.43595833171241544, 2.751954943722808, -0.06464730577268264, 2.7039326870346927, -0.3338465550883131, -0.22169907712999065, -0.2637444728070882, -0.28787647074926137, -0.3029177161451835, -0.2989709781250831, -0.32239726916026984, -0.3080090045026448, -0.32570803437836215], [-0.10173626525460486, -0.29528681649101085, -0.514207263045413, -0.5725543842644768, -0.413742756945169, -0.5282170661445748, 1.1514876942452834, 0.09084661431266532, -0.2637444728070882, -0.2586008974527263, -0.3029177161451835, -0.2989709781250831, -0.32239726916026984, -0.2695719407127973, -0.27788793145168583], [1.5423944500207054, -0.21010792711860388, 2.741507201345381, 1.6437851677270463, 2.941452412657061, 2.008122670725267, 3.2309556433123183, 3.5601037893261465, -0.25671753303425277, -0.2805575774251276, -0.29538244957440773, -0.26820209529917405, -0.31446946745960747, -0.2926341789867058, -0.22209781137056342], [-0.48324725995937295, -0.346394150114455, -0.528180286497734, -0.7110756062639471, -0.4719253321405834, -0.6179990037328877, -0.5248181014312041, -0.45923380262640917, 3.7416111977090827, -0.28787647074926137, -0.3029177161451835, -0.2989709781250831, -0.32239726916026984, -0.3080090045026448, -0.32570803437836215], [-0.3924113088391901, -0.27825103861652944, -0.5421533099500551, -0.5725543842644768, -0.4719253321405834, -0.5731080349387313, -0.4187227979073758, -0.4654847164552623, -0.27077141257992354, 3.7375148575243085, -0.28784718300363205, -0.2989709781250831, -0.32239726916026984, -0.3080090045026448, 0.05685278903504853], [-0.4105784990632267, -0.39750148373789923, -0.556126333402376, -0.7110756062639471, -0.4719253321405834, -0.6179990037328877, -0.5672562228407354, -0.48423745794182166, -0.27077141257992354, -0.2805575774251276, 3.735985165790596, -0.2989709781250831, -0.2114080453509966, -0.18501040037513275, -0.2619478971427937], [-0.4650800697353364, -0.3804657058634178, -0.514207263045413, -0.15699071826606628, -0.4719253321405834, -0.5731080349387313, -0.5460371621359698, -0.4717356302841154, -0.27077141257992354, -0.28787647074926137, -0.3029177161451835, 3.731752672069005, 0.07399281587284884, -0.26188452795482775, -0.32570803437836215], [-0.42874568928726325, -0.39750148373789923, -0.5421533099500551, -0.7110756062639471, -0.4719253321405834, -0.6179990037328877, -0.5884752835455012, -0.48423745794182166, -0.27077141257992354, -0.28787647074926137, -0.21249451729587499, -0.006666591278946968, 3.7207815981775405, -0.16194816210122423, -0.32570803437836215], [-0.2743245723829523, -0.32935837223997366, -0.528180286497734, -0.7110756062639471, -0.4525311404087786, -0.5955535193358095, -0.4611609193169071, -0.4717356302841154, -0.27077141257992354, -0.28787647074926137, -0.12960658501734218, -0.2605098745926968, -0.14005783004503525, 3.735570106189314, -0.3177380172239161], [-0.3106589528310255, -0.31232259436549226, -0.5421533099500551, -0.7110756062639471, -0.4331369486769738, -0.6179990037328877, -0.29140843367878183, -0.4404810611398498, -0.27077141257992354, -0.09758524432178352, -0.2351003170082021, -0.2989709781250831, -0.32239726916026984, -0.3080090045026448, 3.723060680080234]]}],                        {\"coloraxis\": {\"colorscale\": [[0.0, \"#0d0887\"], [0.1111111111111111, \"#46039f\"], [0.2222222222222222, \"#7201a8\"], [0.3333333333333333, \"#9c179e\"], [0.4444444444444444, \"#bd3786\"], [0.5555555555555556, \"#d8576b\"], [0.6666666666666666, \"#ed7953\"], [0.7777777777777778, \"#fb9f3a\"], [0.8888888888888888, \"#fdca26\"], [1.0, \"#f0f921\"]]}, \"margin\": {\"t\": 60}, \"template\": {\"data\": {\"bar\": [{\"error_x\": {\"color\": \"#2a3f5f\"}, \"error_y\": {\"color\": \"#2a3f5f\"}, \"marker\": {\"line\": {\"color\": \"#E5ECF6\", \"width\": 0.5}}, \"type\": \"bar\"}], \"barpolar\": [{\"marker\": {\"line\": {\"color\": \"#E5ECF6\", \"width\": 0.5}}, \"type\": \"barpolar\"}], \"carpet\": [{\"aaxis\": {\"endlinecolor\": \"#2a3f5f\", \"gridcolor\": \"white\", \"linecolor\": \"white\", \"minorgridcolor\": \"white\", \"startlinecolor\": \"#2a3f5f\"}, \"baxis\": {\"endlinecolor\": \"#2a3f5f\", \"gridcolor\": \"white\", \"linecolor\": \"white\", \"minorgridcolor\": \"white\", \"startlinecolor\": \"#2a3f5f\"}, \"type\": \"carpet\"}], \"choropleth\": [{\"colorbar\": {\"outlinewidth\": 0, \"ticks\": \"\"}, \"type\": \"choropleth\"}], \"contour\": [{\"colorbar\": {\"outlinewidth\": 0, \"ticks\": \"\"}, \"colorscale\": [[0.0, \"#0d0887\"], [0.1111111111111111, \"#46039f\"], [0.2222222222222222, \"#7201a8\"], [0.3333333333333333, \"#9c179e\"], [0.4444444444444444, \"#bd3786\"], [0.5555555555555556, \"#d8576b\"], [0.6666666666666666, \"#ed7953\"], [0.7777777777777778, \"#fb9f3a\"], [0.8888888888888888, \"#fdca26\"], [1.0, \"#f0f921\"]], \"type\": \"contour\"}], \"contourcarpet\": [{\"colorbar\": {\"outlinewidth\": 0, \"ticks\": \"\"}, \"type\": \"contourcarpet\"}], \"heatmap\": [{\"colorbar\": {\"outlinewidth\": 0, \"ticks\": \"\"}, \"colorscale\": [[0.0, \"#0d0887\"], [0.1111111111111111, \"#46039f\"], [0.2222222222222222, \"#7201a8\"], [0.3333333333333333, \"#9c179e\"], [0.4444444444444444, \"#bd3786\"], [0.5555555555555556, \"#d8576b\"], [0.6666666666666666, \"#ed7953\"], [0.7777777777777778, \"#fb9f3a\"], [0.8888888888888888, \"#fdca26\"], [1.0, \"#f0f921\"]], \"type\": \"heatmap\"}], \"heatmapgl\": [{\"colorbar\": {\"outlinewidth\": 0, \"ticks\": \"\"}, \"colorscale\": [[0.0, \"#0d0887\"], [0.1111111111111111, \"#46039f\"], [0.2222222222222222, \"#7201a8\"], [0.3333333333333333, \"#9c179e\"], [0.4444444444444444, \"#bd3786\"], [0.5555555555555556, \"#d8576b\"], [0.6666666666666666, \"#ed7953\"], [0.7777777777777778, \"#fb9f3a\"], [0.8888888888888888, \"#fdca26\"], [1.0, \"#f0f921\"]], \"type\": \"heatmapgl\"}], \"histogram\": [{\"marker\": {\"colorbar\": {\"outlinewidth\": 0, \"ticks\": \"\"}}, \"type\": \"histogram\"}], \"histogram2d\": [{\"colorbar\": {\"outlinewidth\": 0, \"ticks\": \"\"}, \"colorscale\": [[0.0, \"#0d0887\"], [0.1111111111111111, \"#46039f\"], [0.2222222222222222, \"#7201a8\"], [0.3333333333333333, \"#9c179e\"], [0.4444444444444444, \"#bd3786\"], [0.5555555555555556, \"#d8576b\"], [0.6666666666666666, \"#ed7953\"], [0.7777777777777778, \"#fb9f3a\"], [0.8888888888888888, \"#fdca26\"], [1.0, \"#f0f921\"]], \"type\": \"histogram2d\"}], \"histogram2dcontour\": [{\"colorbar\": {\"outlinewidth\": 0, \"ticks\": \"\"}, \"colorscale\": [[0.0, \"#0d0887\"], [0.1111111111111111, \"#46039f\"], [0.2222222222222222, \"#7201a8\"], [0.3333333333333333, \"#9c179e\"], [0.4444444444444444, \"#bd3786\"], [0.5555555555555556, \"#d8576b\"], [0.6666666666666666, \"#ed7953\"], [0.7777777777777778, \"#fb9f3a\"], [0.8888888888888888, \"#fdca26\"], [1.0, \"#f0f921\"]], \"type\": \"histogram2dcontour\"}], \"mesh3d\": [{\"colorbar\": {\"outlinewidth\": 0, \"ticks\": \"\"}, \"type\": \"mesh3d\"}], \"parcoords\": [{\"line\": {\"colorbar\": {\"outlinewidth\": 0, \"ticks\": \"\"}}, \"type\": \"parcoords\"}], \"pie\": [{\"automargin\": true, \"type\": \"pie\"}], \"scatter\": [{\"marker\": {\"colorbar\": {\"outlinewidth\": 0, \"ticks\": \"\"}}, \"type\": \"scatter\"}], \"scatter3d\": [{\"line\": {\"colorbar\": {\"outlinewidth\": 0, \"ticks\": \"\"}}, \"marker\": {\"colorbar\": {\"outlinewidth\": 0, \"ticks\": \"\"}}, \"type\": \"scatter3d\"}], \"scattercarpet\": [{\"marker\": {\"colorbar\": {\"outlinewidth\": 0, \"ticks\": \"\"}}, \"type\": \"scattercarpet\"}], \"scattergeo\": [{\"marker\": {\"colorbar\": {\"outlinewidth\": 0, \"ticks\": \"\"}}, \"type\": \"scattergeo\"}], \"scattergl\": [{\"marker\": {\"colorbar\": {\"outlinewidth\": 0, \"ticks\": \"\"}}, \"type\": \"scattergl\"}], \"scattermapbox\": [{\"marker\": {\"colorbar\": {\"outlinewidth\": 0, \"ticks\": \"\"}}, \"type\": \"scattermapbox\"}], \"scatterpolar\": [{\"marker\": {\"colorbar\": {\"outlinewidth\": 0, \"ticks\": \"\"}}, \"type\": \"scatterpolar\"}], \"scatterpolargl\": [{\"marker\": {\"colorbar\": {\"outlinewidth\": 0, \"ticks\": \"\"}}, \"type\": \"scatterpolargl\"}], \"scatterternary\": [{\"marker\": {\"colorbar\": {\"outlinewidth\": 0, \"ticks\": \"\"}}, \"type\": \"scatterternary\"}], \"surface\": [{\"colorbar\": {\"outlinewidth\": 0, \"ticks\": \"\"}, \"colorscale\": [[0.0, \"#0d0887\"], [0.1111111111111111, \"#46039f\"], [0.2222222222222222, \"#7201a8\"], [0.3333333333333333, \"#9c179e\"], [0.4444444444444444, \"#bd3786\"], [0.5555555555555556, \"#d8576b\"], [0.6666666666666666, \"#ed7953\"], [0.7777777777777778, \"#fb9f3a\"], [0.8888888888888888, \"#fdca26\"], [1.0, \"#f0f921\"]], \"type\": \"surface\"}], \"table\": [{\"cells\": {\"fill\": {\"color\": \"#EBF0F8\"}, \"line\": {\"color\": \"white\"}}, \"header\": {\"fill\": {\"color\": \"#C8D4E3\"}, \"line\": {\"color\": \"white\"}}, \"type\": \"table\"}]}, \"layout\": {\"annotationdefaults\": {\"arrowcolor\": \"#2a3f5f\", \"arrowhead\": 0, \"arrowwidth\": 1}, \"autotypenumbers\": \"strict\", \"coloraxis\": {\"colorbar\": {\"outlinewidth\": 0, \"ticks\": \"\"}}, \"colorscale\": {\"diverging\": [[0, \"#8e0152\"], [0.1, \"#c51b7d\"], [0.2, \"#de77ae\"], [0.3, \"#f1b6da\"], [0.4, \"#fde0ef\"], [0.5, \"#f7f7f7\"], [0.6, \"#e6f5d0\"], [0.7, \"#b8e186\"], [0.8, \"#7fbc41\"], [0.9, \"#4d9221\"], [1, \"#276419\"]], \"sequential\": [[0.0, \"#0d0887\"], [0.1111111111111111, \"#46039f\"], [0.2222222222222222, \"#7201a8\"], [0.3333333333333333, \"#9c179e\"], [0.4444444444444444, \"#bd3786\"], [0.5555555555555556, \"#d8576b\"], [0.6666666666666666, \"#ed7953\"], [0.7777777777777778, \"#fb9f3a\"], [0.8888888888888888, \"#fdca26\"], [1.0, \"#f0f921\"]], \"sequentialminus\": [[0.0, \"#0d0887\"], [0.1111111111111111, \"#46039f\"], [0.2222222222222222, \"#7201a8\"], [0.3333333333333333, \"#9c179e\"], [0.4444444444444444, \"#bd3786\"], [0.5555555555555556, \"#d8576b\"], [0.6666666666666666, \"#ed7953\"], [0.7777777777777778, \"#fb9f3a\"], [0.8888888888888888, \"#fdca26\"], [1.0, \"#f0f921\"]]}, \"colorway\": [\"#636efa\", \"#EF553B\", \"#00cc96\", \"#ab63fa\", \"#FFA15A\", \"#19d3f3\", \"#FF6692\", \"#B6E880\", \"#FF97FF\", \"#FECB52\"], \"font\": {\"color\": \"#2a3f5f\"}, \"geo\": {\"bgcolor\": \"white\", \"lakecolor\": \"white\", \"landcolor\": \"#E5ECF6\", \"showlakes\": true, \"showland\": true, \"subunitcolor\": \"white\"}, \"hoverlabel\": {\"align\": \"left\"}, \"hovermode\": \"closest\", \"mapbox\": {\"style\": \"light\"}, \"paper_bgcolor\": \"white\", \"plot_bgcolor\": \"#E5ECF6\", \"polar\": {\"angularaxis\": {\"gridcolor\": \"white\", \"linecolor\": \"white\", \"ticks\": \"\"}, \"bgcolor\": \"#E5ECF6\", \"radialaxis\": {\"gridcolor\": \"white\", \"linecolor\": \"white\", \"ticks\": \"\"}}, \"scene\": {\"xaxis\": {\"backgroundcolor\": \"#E5ECF6\", \"gridcolor\": \"white\", \"gridwidth\": 2, \"linecolor\": \"white\", \"showbackground\": true, \"ticks\": \"\", \"zerolinecolor\": \"white\"}, \"yaxis\": {\"backgroundcolor\": \"#E5ECF6\", \"gridcolor\": \"white\", \"gridwidth\": 2, \"linecolor\": \"white\", \"showbackground\": true, \"ticks\": \"\", \"zerolinecolor\": \"white\"}, \"zaxis\": {\"backgroundcolor\": \"#E5ECF6\", \"gridcolor\": \"white\", \"gridwidth\": 2, \"linecolor\": \"white\", \"showbackground\": true, \"ticks\": \"\", \"zerolinecolor\": \"white\"}}, \"shapedefaults\": {\"line\": {\"color\": \"#2a3f5f\"}}, \"ternary\": {\"aaxis\": {\"gridcolor\": \"white\", \"linecolor\": \"white\", \"ticks\": \"\"}, \"baxis\": {\"gridcolor\": \"white\", \"linecolor\": \"white\", \"ticks\": \"\"}, \"bgcolor\": \"#E5ECF6\", \"caxis\": {\"gridcolor\": \"white\", \"linecolor\": \"white\", \"ticks\": \"\"}}, \"title\": {\"x\": 0.05}, \"xaxis\": {\"automargin\": true, \"gridcolor\": \"white\", \"linecolor\": \"white\", \"ticks\": \"\", \"title\": {\"standoff\": 15}, \"zerolinecolor\": \"white\", \"zerolinewidth\": 2}, \"yaxis\": {\"automargin\": true, \"gridcolor\": \"white\", \"linecolor\": \"white\", \"ticks\": \"\", \"title\": {\"standoff\": 15}, \"zerolinecolor\": \"white\", \"zerolinewidth\": 2}}}, \"xaxis\": {\"anchor\": \"y\", \"constrain\": \"domain\", \"domain\": [0.0, 1.0], \"scaleanchor\": \"y\"}, \"yaxis\": {\"anchor\": \"x\", \"autorange\": \"reversed\", \"constrain\": \"domain\", \"domain\": [0.0, 1.0]}},                        {\"responsive\": true}                    ).then(function(){\n",
       "                            \n",
       "var gd = document.getElementById('4d15b251-de30-45d9-8663-091b7de0251c');\n",
       "var x = new MutationObserver(function (mutations, observer) {{\n",
       "        var display = window.getComputedStyle(gd).display;\n",
       "        if (!display || display === 'none') {{\n",
       "            console.log([gd, 'removed!']);\n",
       "            Plotly.purge(gd);\n",
       "            observer.disconnect();\n",
       "        }}\n",
       "}});\n",
       "\n",
       "// Listen for the removal of the full notebook cells\n",
       "var notebookContainer = gd.closest('#notebook-container');\n",
       "if (notebookContainer) {{\n",
       "    x.observe(notebookContainer, {childList: true});\n",
       "}}\n",
       "\n",
       "// Listen for the clearing of the current output cell\n",
       "var outputEl = gd.closest('.output');\n",
       "if (outputEl) {{\n",
       "    x.observe(outputEl, {childList: true});\n",
       "}}\n",
       "\n",
       "                        })                };                });            </script>        </div>"
      ]
     },
     "metadata": {},
     "output_type": "display_data"
    }
   ],
   "source": [
    "#Showing scaled boosting heat map\n",
    "scale_boost_map"
   ]
  },
  {
   "cell_type": "code",
   "execution_count": 70,
   "metadata": {
    "execution": {
     "iopub.execute_input": "2021-01-09T19:10:00.994238Z",
     "iopub.status.busy": "2021-01-09T19:10:00.989191Z",
     "iopub.status.idle": "2021-01-09T19:10:01.010352Z",
     "shell.execute_reply": "2021-01-09T19:10:01.009576Z"
    },
    "papermill": {
     "duration": 0.134617,
     "end_time": "2021-01-09T19:10:01.010510",
     "exception": false,
     "start_time": "2021-01-09T19:10:00.875893",
     "status": "completed"
    },
    "tags": []
   },
   "outputs": [
    {
     "data": {
      "text/html": [
       "<div>                            <div id=\"7d723213-86c5-45a3-ba14-f9413662953d\" class=\"plotly-graph-div\" style=\"height:525px; width:100%;\"></div>            <script type=\"text/javascript\">                require([\"plotly\"], function(Plotly) {                    window.PLOTLYENV=window.PLOTLYENV || {};                                    if (document.getElementById(\"7d723213-86c5-45a3-ba14-f9413662953d\")) {                    Plotly.newPlot(                        \"7d723213-86c5-45a3-ba14-f9413662953d\",                        [{\"coloraxis\": \"coloraxis\", \"hovertemplate\": \"x: %{x}<br>y: %{y}<br>color: %{z}<extra></extra>\", \"name\": \"0\", \"type\": \"heatmap\", \"x\": [0, 1, 2, 3, 4, 5, 6, 7, 8, 9, 10, 11, 12, 13, 14], \"xaxis\": \"x\", \"y\": [0, 1, 2, 3, 4, 5, 6, 7, 8, 9, 10, 11, 12, 13, 14], \"yaxis\": \"y\", \"z\": [[2.8683393179907286, -0.22430773304728935, 0.2764217180405611, -0.5213861001404244, -0.11343353388527859, 0.14211289075898104, 1.0446140965398436, 0.166162216715557, -0.023560184825662862, -0.17504230916243618, -0.0017963215227989465, -0.2907806180406383, -0.12847342343905752, -0.040309635387036476, -0.14056794574708548], [-0.42243239752345146, 3.4094775423187986, -0.25515850896051784, 1.475411730184605, -0.3899277727306452, 0.012131588235522732, -0.23840495931484237, -0.33457493749498163, -0.2746621546781225, 0.19860569693430255, -0.3610606260825831, -0.34553010679305973, -0.3562217649901141, -0.2980269763861219, -0.2622132834128325], [-0.4341018007699557, -0.3858093008413377, 1.1877021071852678, 0.4770128150220903, -0.30485262231668625, 0.5580530588340477, -0.3475980704514114, 0.12115213543820523, -0.33046259242311354, -0.38711279910923385, -0.3610606260825831, -0.35465502158513, -0.3562217649901141, -0.3971490306165394, -0.41426995549501633], [-0.6908286721930477, -0.6280616525324102, -0.6044826581326554, -0.8541857385279293, -0.5175404983515837, -0.7157637058958438, -0.7570722372135452, -0.44147388052869213, -0.35836281129560904, -0.39721139386860516, -0.3610606260825831, -0.35465502158513, -0.3562217649901141, -0.3971490306165394, -0.4041328440228707], [-0.58580404297451, -0.46656008473836186, -0.14884246356030206, -0.18858646175291952, 1.5880694743939008, -0.03986093277386059, -0.511387737156265, -0.08701949046954681, -0.35836281129560904, -0.39721139386860516, -0.3610606260825831, -0.35465502158513, -0.3562217649901141, -0.3773246197704559, -0.41426995549501633], [-0.329077171551418, 0.2871138983005304, 0.26123371155481595, 1.9746111877658625, -0.1772398966957478, 1.8578660840686307, -0.48408945937212267, -0.1939184335032573, -0.33046259242311354, -0.39721139386860516, -0.3610606260825831, -0.3364051920009895, -0.3562217649901141, -0.38723682519349767, -0.4041328440228707], [-0.6091428494675184, -0.6011447245667355, -0.5285426257039298, -0.8541857385279293, -0.4324653479376247, -0.6377749243817687, 0.034577818526580165, -0.3289486773353127, -0.339762665380612, -0.3467184200717486, -0.3610606260825831, -0.35465502158513, -0.3562217649901141, -0.3475880035013307, -0.3534472866621428], [2.074819897228444, -0.2781415889786388, 3.298835008703838, 1.9746111877658625, 3.22576611986261, 2.7937314622375307, 3.255774597055366, 3.6769485563489965, -0.29326230059311953, -0.3770142043498625, -0.3341158032405993, -0.0809075778230228, -0.32118355859764386, -0.3475880035013307, -0.07974527691421195], [-0.014003283895805053, 0.7716186016826755, -0.3462865478749885, 0.31061299582833785, -0.5175404983515837, -0.2218347563067022, -0.020018737041704343, -0.261433555419285, 3.7150691440887362, -0.25583106723740673, -0.34309741085459394, -0.35465502158513, -0.3562217649901141, -0.3971490306165394, -0.28248750635712366], [-0.23572194557938456, 0.3678646821975546, -0.5741066451611652, -0.6877859193341769, -0.5175404983515837, -0.6377749243817687, -0.26570323709898463, -0.40209005941100934, 0.013640107004331157, 3.682620888917407, -0.3161525880126101, -0.3364051920009895, -0.3562217649901141, -0.06013404623311997, 0.40683607374877623], [-0.37575478453743477, -0.6280616525324102, -0.6044826581326554, -0.8541857385279293, -0.5175404983515837, -0.7157637058958438, -0.7297739594294029, -0.44147388052869213, -0.15376120623064193, -0.14474652488432224, 3.707607623056973, -0.3272802772089193, -0.09343521704658729, 0.009251391728172265, -0.19125350310781342], [-0.5274570267419891, -0.5742277966010607, -0.30072252841775315, -0.022186642559167063, -0.11343353388527859, -0.35181605883016054, -0.6205808482928339, -0.31769615701597476, -0.35836281129560904, -0.39721139386860516, -0.25328133471464787, 3.687682231301986, 0.18687043409317464, -0.2980269763861219, -0.4041328440228707], [-0.42243239752345146, -0.6280616525324102, -0.5892946516469103, -0.8541857385279293, -0.4750029231446042, -0.7157637058958438, -0.6751774038611185, -0.4358476203690232, -0.35836281129560904, -0.39721139386860516, -0.10059400527673959, 0.3023388434439273, 3.699450624938316, -0.13943168961745395, -0.41426995549501633], [0.07935194207622842, 0.017944618643783182, -0.5741066451611652, -0.5213861001404244, -0.2835838347131965, -0.7157637058958438, -0.3748963482355536, -0.39646379925134034, -0.35836281129560904, -0.27602825675614934, 0.06107493177516329, -0.1721567257437252, -0.16351162983152775, 3.706504014522744, -0.3027617293014149], [-0.37575478453743477, -0.4396431567726871, -0.4981666127324396, -0.8541857385279293, -0.4537341355411144, -0.6117786638770771, 0.6897364853459942, -0.3233224171756437, -0.19096149806063595, 0.06732396506247543, -0.25328133471464787, -0.3272802772089193, -0.3299431101957614, -0.22864153842482968, 3.6608488563075094]]}],                        {\"coloraxis\": {\"colorscale\": [[0.0, \"#0d0887\"], [0.1111111111111111, \"#46039f\"], [0.2222222222222222, \"#7201a8\"], [0.3333333333333333, \"#9c179e\"], [0.4444444444444444, \"#bd3786\"], [0.5555555555555556, \"#d8576b\"], [0.6666666666666666, \"#ed7953\"], [0.7777777777777778, \"#fb9f3a\"], [0.8888888888888888, \"#fdca26\"], [1.0, \"#f0f921\"]]}, \"margin\": {\"t\": 60}, \"template\": {\"data\": {\"bar\": [{\"error_x\": {\"color\": \"#2a3f5f\"}, \"error_y\": {\"color\": \"#2a3f5f\"}, \"marker\": {\"line\": {\"color\": \"#E5ECF6\", \"width\": 0.5}}, \"type\": \"bar\"}], \"barpolar\": [{\"marker\": {\"line\": {\"color\": \"#E5ECF6\", \"width\": 0.5}}, \"type\": \"barpolar\"}], \"carpet\": [{\"aaxis\": {\"endlinecolor\": \"#2a3f5f\", \"gridcolor\": \"white\", \"linecolor\": \"white\", \"minorgridcolor\": \"white\", \"startlinecolor\": \"#2a3f5f\"}, \"baxis\": {\"endlinecolor\": \"#2a3f5f\", \"gridcolor\": \"white\", \"linecolor\": \"white\", \"minorgridcolor\": \"white\", \"startlinecolor\": \"#2a3f5f\"}, \"type\": \"carpet\"}], \"choropleth\": [{\"colorbar\": {\"outlinewidth\": 0, \"ticks\": \"\"}, \"type\": \"choropleth\"}], \"contour\": [{\"colorbar\": {\"outlinewidth\": 0, \"ticks\": \"\"}, \"colorscale\": [[0.0, \"#0d0887\"], [0.1111111111111111, \"#46039f\"], [0.2222222222222222, \"#7201a8\"], [0.3333333333333333, \"#9c179e\"], [0.4444444444444444, \"#bd3786\"], [0.5555555555555556, \"#d8576b\"], [0.6666666666666666, \"#ed7953\"], [0.7777777777777778, \"#fb9f3a\"], [0.8888888888888888, \"#fdca26\"], [1.0, \"#f0f921\"]], \"type\": \"contour\"}], \"contourcarpet\": [{\"colorbar\": {\"outlinewidth\": 0, \"ticks\": \"\"}, \"type\": \"contourcarpet\"}], \"heatmap\": [{\"colorbar\": {\"outlinewidth\": 0, \"ticks\": \"\"}, \"colorscale\": [[0.0, \"#0d0887\"], [0.1111111111111111, \"#46039f\"], [0.2222222222222222, \"#7201a8\"], [0.3333333333333333, \"#9c179e\"], [0.4444444444444444, \"#bd3786\"], [0.5555555555555556, \"#d8576b\"], [0.6666666666666666, \"#ed7953\"], [0.7777777777777778, \"#fb9f3a\"], [0.8888888888888888, \"#fdca26\"], [1.0, \"#f0f921\"]], \"type\": \"heatmap\"}], \"heatmapgl\": [{\"colorbar\": {\"outlinewidth\": 0, \"ticks\": \"\"}, \"colorscale\": [[0.0, \"#0d0887\"], [0.1111111111111111, \"#46039f\"], [0.2222222222222222, \"#7201a8\"], [0.3333333333333333, \"#9c179e\"], [0.4444444444444444, \"#bd3786\"], [0.5555555555555556, \"#d8576b\"], [0.6666666666666666, \"#ed7953\"], [0.7777777777777778, \"#fb9f3a\"], [0.8888888888888888, \"#fdca26\"], [1.0, \"#f0f921\"]], \"type\": \"heatmapgl\"}], \"histogram\": [{\"marker\": {\"colorbar\": {\"outlinewidth\": 0, \"ticks\": \"\"}}, \"type\": \"histogram\"}], \"histogram2d\": [{\"colorbar\": {\"outlinewidth\": 0, \"ticks\": \"\"}, \"colorscale\": [[0.0, \"#0d0887\"], [0.1111111111111111, \"#46039f\"], [0.2222222222222222, \"#7201a8\"], [0.3333333333333333, \"#9c179e\"], [0.4444444444444444, \"#bd3786\"], [0.5555555555555556, \"#d8576b\"], [0.6666666666666666, \"#ed7953\"], [0.7777777777777778, \"#fb9f3a\"], [0.8888888888888888, \"#fdca26\"], [1.0, \"#f0f921\"]], \"type\": \"histogram2d\"}], \"histogram2dcontour\": [{\"colorbar\": {\"outlinewidth\": 0, \"ticks\": \"\"}, \"colorscale\": [[0.0, \"#0d0887\"], [0.1111111111111111, \"#46039f\"], [0.2222222222222222, \"#7201a8\"], [0.3333333333333333, \"#9c179e\"], [0.4444444444444444, \"#bd3786\"], [0.5555555555555556, \"#d8576b\"], [0.6666666666666666, \"#ed7953\"], [0.7777777777777778, \"#fb9f3a\"], [0.8888888888888888, \"#fdca26\"], [1.0, \"#f0f921\"]], \"type\": \"histogram2dcontour\"}], \"mesh3d\": [{\"colorbar\": {\"outlinewidth\": 0, \"ticks\": \"\"}, \"type\": \"mesh3d\"}], \"parcoords\": [{\"line\": {\"colorbar\": {\"outlinewidth\": 0, \"ticks\": \"\"}}, \"type\": \"parcoords\"}], \"pie\": [{\"automargin\": true, \"type\": \"pie\"}], \"scatter\": [{\"marker\": {\"colorbar\": {\"outlinewidth\": 0, \"ticks\": \"\"}}, \"type\": \"scatter\"}], \"scatter3d\": [{\"line\": {\"colorbar\": {\"outlinewidth\": 0, \"ticks\": \"\"}}, \"marker\": {\"colorbar\": {\"outlinewidth\": 0, \"ticks\": \"\"}}, \"type\": \"scatter3d\"}], \"scattercarpet\": [{\"marker\": {\"colorbar\": {\"outlinewidth\": 0, \"ticks\": \"\"}}, \"type\": \"scattercarpet\"}], \"scattergeo\": [{\"marker\": {\"colorbar\": {\"outlinewidth\": 0, \"ticks\": \"\"}}, \"type\": \"scattergeo\"}], \"scattergl\": [{\"marker\": {\"colorbar\": {\"outlinewidth\": 0, \"ticks\": \"\"}}, \"type\": \"scattergl\"}], \"scattermapbox\": [{\"marker\": {\"colorbar\": {\"outlinewidth\": 0, \"ticks\": \"\"}}, \"type\": \"scattermapbox\"}], \"scatterpolar\": [{\"marker\": {\"colorbar\": {\"outlinewidth\": 0, \"ticks\": \"\"}}, \"type\": \"scatterpolar\"}], \"scatterpolargl\": [{\"marker\": {\"colorbar\": {\"outlinewidth\": 0, \"ticks\": \"\"}}, \"type\": \"scatterpolargl\"}], \"scatterternary\": [{\"marker\": {\"colorbar\": {\"outlinewidth\": 0, \"ticks\": \"\"}}, \"type\": \"scatterternary\"}], \"surface\": [{\"colorbar\": {\"outlinewidth\": 0, \"ticks\": \"\"}, \"colorscale\": [[0.0, \"#0d0887\"], [0.1111111111111111, \"#46039f\"], [0.2222222222222222, \"#7201a8\"], [0.3333333333333333, \"#9c179e\"], [0.4444444444444444, \"#bd3786\"], [0.5555555555555556, \"#d8576b\"], [0.6666666666666666, \"#ed7953\"], [0.7777777777777778, \"#fb9f3a\"], [0.8888888888888888, \"#fdca26\"], [1.0, \"#f0f921\"]], \"type\": \"surface\"}], \"table\": [{\"cells\": {\"fill\": {\"color\": \"#EBF0F8\"}, \"line\": {\"color\": \"white\"}}, \"header\": {\"fill\": {\"color\": \"#C8D4E3\"}, \"line\": {\"color\": \"white\"}}, \"type\": \"table\"}]}, \"layout\": {\"annotationdefaults\": {\"arrowcolor\": \"#2a3f5f\", \"arrowhead\": 0, \"arrowwidth\": 1}, \"autotypenumbers\": \"strict\", \"coloraxis\": {\"colorbar\": {\"outlinewidth\": 0, \"ticks\": \"\"}}, \"colorscale\": {\"diverging\": [[0, \"#8e0152\"], [0.1, \"#c51b7d\"], [0.2, \"#de77ae\"], [0.3, \"#f1b6da\"], [0.4, \"#fde0ef\"], [0.5, \"#f7f7f7\"], [0.6, \"#e6f5d0\"], [0.7, \"#b8e186\"], [0.8, \"#7fbc41\"], [0.9, \"#4d9221\"], [1, \"#276419\"]], \"sequential\": [[0.0, \"#0d0887\"], [0.1111111111111111, \"#46039f\"], [0.2222222222222222, \"#7201a8\"], [0.3333333333333333, \"#9c179e\"], [0.4444444444444444, \"#bd3786\"], [0.5555555555555556, \"#d8576b\"], [0.6666666666666666, \"#ed7953\"], [0.7777777777777778, \"#fb9f3a\"], [0.8888888888888888, \"#fdca26\"], [1.0, \"#f0f921\"]], \"sequentialminus\": [[0.0, \"#0d0887\"], [0.1111111111111111, \"#46039f\"], [0.2222222222222222, \"#7201a8\"], [0.3333333333333333, \"#9c179e\"], [0.4444444444444444, \"#bd3786\"], [0.5555555555555556, \"#d8576b\"], [0.6666666666666666, \"#ed7953\"], [0.7777777777777778, \"#fb9f3a\"], [0.8888888888888888, \"#fdca26\"], [1.0, \"#f0f921\"]]}, \"colorway\": [\"#636efa\", \"#EF553B\", \"#00cc96\", \"#ab63fa\", \"#FFA15A\", \"#19d3f3\", \"#FF6692\", \"#B6E880\", \"#FF97FF\", \"#FECB52\"], \"font\": {\"color\": \"#2a3f5f\"}, \"geo\": {\"bgcolor\": \"white\", \"lakecolor\": \"white\", \"landcolor\": \"#E5ECF6\", \"showlakes\": true, \"showland\": true, \"subunitcolor\": \"white\"}, \"hoverlabel\": {\"align\": \"left\"}, \"hovermode\": \"closest\", \"mapbox\": {\"style\": \"light\"}, \"paper_bgcolor\": \"white\", \"plot_bgcolor\": \"#E5ECF6\", \"polar\": {\"angularaxis\": {\"gridcolor\": \"white\", \"linecolor\": \"white\", \"ticks\": \"\"}, \"bgcolor\": \"#E5ECF6\", \"radialaxis\": {\"gridcolor\": \"white\", \"linecolor\": \"white\", \"ticks\": \"\"}}, \"scene\": {\"xaxis\": {\"backgroundcolor\": \"#E5ECF6\", \"gridcolor\": \"white\", \"gridwidth\": 2, \"linecolor\": \"white\", \"showbackground\": true, \"ticks\": \"\", \"zerolinecolor\": \"white\"}, \"yaxis\": {\"backgroundcolor\": \"#E5ECF6\", \"gridcolor\": \"white\", \"gridwidth\": 2, \"linecolor\": \"white\", \"showbackground\": true, \"ticks\": \"\", \"zerolinecolor\": \"white\"}, \"zaxis\": {\"backgroundcolor\": \"#E5ECF6\", \"gridcolor\": \"white\", \"gridwidth\": 2, \"linecolor\": \"white\", \"showbackground\": true, \"ticks\": \"\", \"zerolinecolor\": \"white\"}}, \"shapedefaults\": {\"line\": {\"color\": \"#2a3f5f\"}}, \"ternary\": {\"aaxis\": {\"gridcolor\": \"white\", \"linecolor\": \"white\", \"ticks\": \"\"}, \"baxis\": {\"gridcolor\": \"white\", \"linecolor\": \"white\", \"ticks\": \"\"}, \"bgcolor\": \"#E5ECF6\", \"caxis\": {\"gridcolor\": \"white\", \"linecolor\": \"white\", \"ticks\": \"\"}}, \"title\": {\"x\": 0.05}, \"xaxis\": {\"automargin\": true, \"gridcolor\": \"white\", \"linecolor\": \"white\", \"ticks\": \"\", \"title\": {\"standoff\": 15}, \"zerolinecolor\": \"white\", \"zerolinewidth\": 2}, \"yaxis\": {\"automargin\": true, \"gridcolor\": \"white\", \"linecolor\": \"white\", \"ticks\": \"\", \"title\": {\"standoff\": 15}, \"zerolinecolor\": \"white\", \"zerolinewidth\": 2}}}, \"xaxis\": {\"anchor\": \"y\", \"constrain\": \"domain\", \"domain\": [0.0, 1.0], \"scaleanchor\": \"y\"}, \"yaxis\": {\"anchor\": \"x\", \"autorange\": \"reversed\", \"constrain\": \"domain\", \"domain\": [0.0, 1.0]}},                        {\"responsive\": true}                    ).then(function(){\n",
       "                            \n",
       "var gd = document.getElementById('7d723213-86c5-45a3-ba14-f9413662953d');\n",
       "var x = new MutationObserver(function (mutations, observer) {{\n",
       "        var display = window.getComputedStyle(gd).display;\n",
       "        if (!display || display === 'none') {{\n",
       "            console.log([gd, 'removed!']);\n",
       "            Plotly.purge(gd);\n",
       "            observer.disconnect();\n",
       "        }}\n",
       "}});\n",
       "\n",
       "// Listen for the removal of the full notebook cells\n",
       "var notebookContainer = gd.closest('#notebook-container');\n",
       "if (notebookContainer) {{\n",
       "    x.observe(notebookContainer, {childList: true});\n",
       "}}\n",
       "\n",
       "// Listen for the clearing of the current output cell\n",
       "var outputEl = gd.closest('.output');\n",
       "if (outputEl) {{\n",
       "    x.observe(outputEl, {childList: true});\n",
       "}}\n",
       "\n",
       "                        })                };                });            </script>        </div>"
      ]
     },
     "metadata": {},
     "output_type": "display_data"
    }
   ],
   "source": [
    "#Reshowing the heatmap from the logistic regression. While it's somewhat hard to see,the diagonals are a bit brigther, and the upper and lower triangles are a bit darker on the\n",
    "#boosting heat map. There is more contrast. This is indicative of the higher accuracy of the boosting model\n",
    "px.imshow(scaled_conf_mat)"
   ]
  },
  {
   "cell_type": "code",
   "execution_count": 71,
   "metadata": {
    "execution": {
     "iopub.execute_input": "2021-01-09T19:10:01.175908Z",
     "iopub.status.busy": "2021-01-09T19:10:01.175158Z",
     "iopub.status.idle": "2021-01-09T19:10:01.554516Z",
     "shell.execute_reply": "2021-01-09T19:10:01.553717Z"
    },
    "papermill": {
     "duration": 0.465461,
     "end_time": "2021-01-09T19:10:01.554662",
     "exception": false,
     "start_time": "2021-01-09T19:10:01.089201",
     "status": "completed"
    },
    "tags": []
   },
   "outputs": [],
   "source": [
    "results_df.to_csv('genre_predictions.csv')"
   ]
  },
  {
   "cell_type": "code",
   "execution_count": null,
   "metadata": {
    "papermill": {
     "duration": 0.071898,
     "end_time": "2021-01-09T19:10:01.700840",
     "exception": false,
     "start_time": "2021-01-09T19:10:01.628942",
     "status": "completed"
    },
    "tags": []
   },
   "outputs": [],
   "source": []
  }
 ],
 "metadata": {
  "kernelspec": {
   "display_name": "Python 3",
   "language": "python",
   "name": "python3"
  },
  "language_info": {
   "codemirror_mode": {
    "name": "ipython",
    "version": 3
   },
   "file_extension": ".py",
   "mimetype": "text/x-python",
   "name": "python",
   "nbconvert_exporter": "python",
   "pygments_lexer": "ipython3",
   "version": "3.7.6"
  },
  "papermill": {
   "duration": 383.999032,
   "end_time": "2021-01-09T19:10:01.879449",
   "environment_variables": {},
   "exception": null,
   "input_path": "__notebook__.ipynb",
   "output_path": "__notebook__.ipynb",
   "parameters": {},
   "start_time": "2021-01-09T19:03:37.880417",
   "version": "2.1.0"
  }
 },
 "nbformat": 4,
 "nbformat_minor": 4
}
